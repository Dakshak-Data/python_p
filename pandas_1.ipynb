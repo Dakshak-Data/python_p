{
  "nbformat": 4,
  "nbformat_minor": 0,
  "metadata": {
    "colab": {
      "provenance": [],
      "authorship_tag": "ABX9TyM1/n/MLsuoNdLeZaKfE6Wo",
      "include_colab_link": true
    },
    "kernelspec": {
      "name": "python3",
      "display_name": "Python 3"
    },
    "language_info": {
      "name": "python"
    }
  },
  "cells": [
    {
      "cell_type": "markdown",
      "metadata": {
        "id": "view-in-github",
        "colab_type": "text"
      },
      "source": [
        "<a href=\"https://colab.research.google.com/github/Dakshak-Data/python_p/blob/main/pandas_1.ipynb\" target=\"_parent\"><img src=\"https://colab.research.google.com/assets/colab-badge.svg\" alt=\"Open In Colab\"/></a>"
      ]
    },
    {
      "cell_type": "code",
      "execution_count": null,
      "metadata": {
        "id": "Ld6VIAuyfZZO"
      },
      "outputs": [],
      "source": [
        "#What is Pandas\n",
        "#Pandas is a fast, powerful, flexible and easy to use open source data analysis and manipulation tool, built on top of the Python programming language.\n",
        "\n",
        "#https://pandas.pydata.org/about/index.html\n",
        "\n",
        "#Pandas Series\n",
        "#A Pandas Series is like a column in a table. It is a 1-D array holding data of any type.#"
      ]
    },
    {
      "cell_type": "code",
      "source": [
        "#Importing Pandas\n",
        "#using list array series"
      ],
      "metadata": {
        "id": "dLZ9lXZohdOq"
      },
      "execution_count": null,
      "outputs": []
    },
    {
      "cell_type": "code",
      "source": [
        "import numpy as np\n",
        "import pandas as pd"
      ],
      "metadata": {
        "id": "_iMrXiS5hdRP"
      },
      "execution_count": null,
      "outputs": []
    },
    {
      "cell_type": "code",
      "source": [
        "# string\n",
        "country = ['India','Pakistan','USA','Nepal','Srilanka']\n",
        "\n",
        "pd.Series(country)\n",
        "#index value string is object 99 times"
      ],
      "metadata": {
        "colab": {
          "base_uri": "https://localhost:8080/",
          "height": 241
        },
        "id": "19zHRuRFhdT7",
        "outputId": "8fa7b169-3f36-4eb7-db21-3cc5c440e3b3"
      },
      "execution_count": null,
      "outputs": [
        {
          "output_type": "execute_result",
          "data": {
            "text/plain": [
              "0       India\n",
              "1    Pakistan\n",
              "2         USA\n",
              "3       Nepal\n",
              "4    Srilanka\n",
              "dtype: object"
            ],
            "text/html": [
              "<div>\n",
              "<style scoped>\n",
              "    .dataframe tbody tr th:only-of-type {\n",
              "        vertical-align: middle;\n",
              "    }\n",
              "\n",
              "    .dataframe tbody tr th {\n",
              "        vertical-align: top;\n",
              "    }\n",
              "\n",
              "    .dataframe thead th {\n",
              "        text-align: right;\n",
              "    }\n",
              "</style>\n",
              "<table border=\"1\" class=\"dataframe\">\n",
              "  <thead>\n",
              "    <tr style=\"text-align: right;\">\n",
              "      <th></th>\n",
              "      <th>0</th>\n",
              "    </tr>\n",
              "  </thead>\n",
              "  <tbody>\n",
              "    <tr>\n",
              "      <th>0</th>\n",
              "      <td>India</td>\n",
              "    </tr>\n",
              "    <tr>\n",
              "      <th>1</th>\n",
              "      <td>Pakistan</td>\n",
              "    </tr>\n",
              "    <tr>\n",
              "      <th>2</th>\n",
              "      <td>USA</td>\n",
              "    </tr>\n",
              "    <tr>\n",
              "      <th>3</th>\n",
              "      <td>Nepal</td>\n",
              "    </tr>\n",
              "    <tr>\n",
              "      <th>4</th>\n",
              "      <td>Srilanka</td>\n",
              "    </tr>\n",
              "  </tbody>\n",
              "</table>\n",
              "</div><br><label><b>dtype:</b> object</label>"
            ]
          },
          "metadata": {},
          "execution_count": 2
        }
      ]
    },
    {
      "cell_type": "code",
      "source": [
        "# integers\n",
        "runs = [13,24,56,78,100]\n",
        "pd.Series(runs)"
      ],
      "metadata": {
        "colab": {
          "base_uri": "https://localhost:8080/",
          "height": 241
        },
        "id": "6rBT3IjChdWZ",
        "outputId": "9402ec93-3fed-40a6-9854-a5fccc12cd92"
      },
      "execution_count": null,
      "outputs": [
        {
          "output_type": "execute_result",
          "data": {
            "text/plain": [
              "0     13\n",
              "1     24\n",
              "2     56\n",
              "3     78\n",
              "4    100\n",
              "dtype: int64"
            ],
            "text/html": [
              "<div>\n",
              "<style scoped>\n",
              "    .dataframe tbody tr th:only-of-type {\n",
              "        vertical-align: middle;\n",
              "    }\n",
              "\n",
              "    .dataframe tbody tr th {\n",
              "        vertical-align: top;\n",
              "    }\n",
              "\n",
              "    .dataframe thead th {\n",
              "        text-align: right;\n",
              "    }\n",
              "</style>\n",
              "<table border=\"1\" class=\"dataframe\">\n",
              "  <thead>\n",
              "    <tr style=\"text-align: right;\">\n",
              "      <th></th>\n",
              "      <th>0</th>\n",
              "    </tr>\n",
              "  </thead>\n",
              "  <tbody>\n",
              "    <tr>\n",
              "      <th>0</th>\n",
              "      <td>13</td>\n",
              "    </tr>\n",
              "    <tr>\n",
              "      <th>1</th>\n",
              "      <td>24</td>\n",
              "    </tr>\n",
              "    <tr>\n",
              "      <th>2</th>\n",
              "      <td>56</td>\n",
              "    </tr>\n",
              "    <tr>\n",
              "      <th>3</th>\n",
              "      <td>78</td>\n",
              "    </tr>\n",
              "    <tr>\n",
              "      <th>4</th>\n",
              "      <td>100</td>\n",
              "    </tr>\n",
              "  </tbody>\n",
              "</table>\n",
              "</div><br><label><b>dtype:</b> int64</label>"
            ]
          },
          "metadata": {},
          "execution_count": 7
        }
      ]
    },
    {
      "cell_type": "code",
      "source": [
        "# integers\n",
        "runs = [13,24,56,78,100]\n",
        "\n",
        "runs_ser = pd.Series(runs)"
      ],
      "metadata": {
        "id": "Nf10bBuMiOeh"
      },
      "execution_count": null,
      "outputs": []
    },
    {
      "cell_type": "code",
      "source": [
        "# custom index # marks to index\n",
        "marks = [67,57,89,100]\n",
        "subjects = ['maths','english','science','hindi']\n",
        "\n",
        "pd.Series(marks,index=subjects)"
      ],
      "metadata": {
        "colab": {
          "base_uri": "https://localhost:8080/",
          "height": 209
        },
        "id": "KrJXWZN0hdZK",
        "outputId": "c0207c09-f06e-4c18-ef86-4740275b17b5"
      },
      "execution_count": null,
      "outputs": [
        {
          "output_type": "execute_result",
          "data": {
            "text/plain": [
              "maths       67\n",
              "english     57\n",
              "science     89\n",
              "hindi      100\n",
              "dtype: int64"
            ],
            "text/html": [
              "<div>\n",
              "<style scoped>\n",
              "    .dataframe tbody tr th:only-of-type {\n",
              "        vertical-align: middle;\n",
              "    }\n",
              "\n",
              "    .dataframe tbody tr th {\n",
              "        vertical-align: top;\n",
              "    }\n",
              "\n",
              "    .dataframe thead th {\n",
              "        text-align: right;\n",
              "    }\n",
              "</style>\n",
              "<table border=\"1\" class=\"dataframe\">\n",
              "  <thead>\n",
              "    <tr style=\"text-align: right;\">\n",
              "      <th></th>\n",
              "      <th>0</th>\n",
              "    </tr>\n",
              "  </thead>\n",
              "  <tbody>\n",
              "    <tr>\n",
              "      <th>maths</th>\n",
              "      <td>67</td>\n",
              "    </tr>\n",
              "    <tr>\n",
              "      <th>english</th>\n",
              "      <td>57</td>\n",
              "    </tr>\n",
              "    <tr>\n",
              "      <th>science</th>\n",
              "      <td>89</td>\n",
              "    </tr>\n",
              "    <tr>\n",
              "      <th>hindi</th>\n",
              "      <td>100</td>\n",
              "    </tr>\n",
              "  </tbody>\n",
              "</table>\n",
              "</div><br><label><b>dtype:</b> int64</label>"
            ]
          },
          "metadata": {},
          "execution_count": 8
        }
      ]
    },
    {
      "cell_type": "code",
      "source": [
        "# setting a name\n",
        "marks = pd.Series(marks,index=subjects,name='Nitish ke marks')\n",
        "marks"
      ],
      "metadata": {
        "colab": {
          "base_uri": "https://localhost:8080/",
          "height": 209
        },
        "id": "QkyRDz5zhdbx",
        "outputId": "1782ec12-18fa-4d09-a8bc-70e178ee6c74"
      },
      "execution_count": null,
      "outputs": [
        {
          "output_type": "execute_result",
          "data": {
            "text/plain": [
              "maths       67\n",
              "english     57\n",
              "science     89\n",
              "hindi      100\n",
              "Name: Nitish ke marks, dtype: int64"
            ],
            "text/html": [
              "<div>\n",
              "<style scoped>\n",
              "    .dataframe tbody tr th:only-of-type {\n",
              "        vertical-align: middle;\n",
              "    }\n",
              "\n",
              "    .dataframe tbody tr th {\n",
              "        vertical-align: top;\n",
              "    }\n",
              "\n",
              "    .dataframe thead th {\n",
              "        text-align: right;\n",
              "    }\n",
              "</style>\n",
              "<table border=\"1\" class=\"dataframe\">\n",
              "  <thead>\n",
              "    <tr style=\"text-align: right;\">\n",
              "      <th></th>\n",
              "      <th>Nitish ke marks</th>\n",
              "    </tr>\n",
              "  </thead>\n",
              "  <tbody>\n",
              "    <tr>\n",
              "      <th>maths</th>\n",
              "      <td>67</td>\n",
              "    </tr>\n",
              "    <tr>\n",
              "      <th>english</th>\n",
              "      <td>57</td>\n",
              "    </tr>\n",
              "    <tr>\n",
              "      <th>science</th>\n",
              "      <td>89</td>\n",
              "    </tr>\n",
              "    <tr>\n",
              "      <th>hindi</th>\n",
              "      <td>100</td>\n",
              "    </tr>\n",
              "  </tbody>\n",
              "</table>\n",
              "</div><br><label><b>dtype:</b> int64</label>"
            ]
          },
          "metadata": {},
          "execution_count": 9
        }
      ]
    },
    {
      "cell_type": "code",
      "source": [
        "#Series from dict"
      ],
      "metadata": {
        "id": "v-FHf6rphdeZ"
      },
      "execution_count": null,
      "outputs": []
    },
    {
      "cell_type": "code",
      "source": [
        "marks = {\n",
        "    'maths':67,\n",
        "    'english':57,\n",
        "    'science':89,\n",
        "    'hindi':100\n",
        "}\n",
        "\n",
        "marks_series = pd.Series(marks,name='nitish ke marks')\n",
        "marks_series"
      ],
      "metadata": {
        "colab": {
          "base_uri": "https://localhost:8080/",
          "height": 209
        },
        "id": "_ESlwGzOhdgw",
        "outputId": "51b55860-115d-4d23-ea03-65e9355051b8"
      },
      "execution_count": null,
      "outputs": [
        {
          "output_type": "execute_result",
          "data": {
            "text/plain": [
              "maths       67\n",
              "english     57\n",
              "science     89\n",
              "hindi      100\n",
              "Name: nitish ke marks, dtype: int64"
            ],
            "text/html": [
              "<div>\n",
              "<style scoped>\n",
              "    .dataframe tbody tr th:only-of-type {\n",
              "        vertical-align: middle;\n",
              "    }\n",
              "\n",
              "    .dataframe tbody tr th {\n",
              "        vertical-align: top;\n",
              "    }\n",
              "\n",
              "    .dataframe thead th {\n",
              "        text-align: right;\n",
              "    }\n",
              "</style>\n",
              "<table border=\"1\" class=\"dataframe\">\n",
              "  <thead>\n",
              "    <tr style=\"text-align: right;\">\n",
              "      <th></th>\n",
              "      <th>nitish ke marks</th>\n",
              "    </tr>\n",
              "  </thead>\n",
              "  <tbody>\n",
              "    <tr>\n",
              "      <th>maths</th>\n",
              "      <td>67</td>\n",
              "    </tr>\n",
              "    <tr>\n",
              "      <th>english</th>\n",
              "      <td>57</td>\n",
              "    </tr>\n",
              "    <tr>\n",
              "      <th>science</th>\n",
              "      <td>89</td>\n",
              "    </tr>\n",
              "    <tr>\n",
              "      <th>hindi</th>\n",
              "      <td>100</td>\n",
              "    </tr>\n",
              "  </tbody>\n",
              "</table>\n",
              "</div><br><label><b>dtype:</b> int64</label>"
            ]
          },
          "metadata": {},
          "execution_count": 10
        }
      ]
    },
    {
      "cell_type": "code",
      "source": [
        "#Series Attributes##################"
      ],
      "metadata": {
        "id": "9Q4R2ZuRhdjN"
      },
      "execution_count": null,
      "outputs": []
    },
    {
      "cell_type": "code",
      "source": [
        "# size\n",
        "marks_series.size"
      ],
      "metadata": {
        "id": "nh2jqOeahdmL",
        "outputId": "79ec8174-9ca4-4c7c-f332-a7e3b516a1e8",
        "colab": {
          "base_uri": "https://localhost:8080/",
          "height": 158
        }
      },
      "execution_count": null,
      "outputs": [
        {
          "output_type": "error",
          "ename": "NameError",
          "evalue": "name 'marks_series' is not defined",
          "traceback": [
            "\u001b[0;31m---------------------------------------------------------------------------\u001b[0m",
            "\u001b[0;31mNameError\u001b[0m                                 Traceback (most recent call last)",
            "\u001b[0;32m<ipython-input-2-62c2620b010b>\u001b[0m in \u001b[0;36m<cell line: 0>\u001b[0;34m()\u001b[0m\n\u001b[1;32m      1\u001b[0m \u001b[0;31m# size\u001b[0m\u001b[0;34m\u001b[0m\u001b[0;34m\u001b[0m\u001b[0m\n\u001b[0;32m----> 2\u001b[0;31m \u001b[0mmarks_series\u001b[0m\u001b[0;34m.\u001b[0m\u001b[0msize\u001b[0m\u001b[0;34m\u001b[0m\u001b[0;34m\u001b[0m\u001b[0m\n\u001b[0m",
            "\u001b[0;31mNameError\u001b[0m: name 'marks_series' is not defined"
          ]
        }
      ]
    },
    {
      "cell_type": "code",
      "source": [
        "# dtype\n",
        "marks_series.dtype"
      ],
      "metadata": {
        "id": "7UfYDka-jGNn"
      },
      "execution_count": null,
      "outputs": []
    },
    {
      "cell_type": "code",
      "source": [
        "# name\n",
        "marks_series.name"
      ],
      "metadata": {
        "id": "mp9VzFsLjGP8"
      },
      "execution_count": null,
      "outputs": []
    },
    {
      "cell_type": "code",
      "source": [
        "# is_unique\n",
        "marks_series.is_unique\n",
        "\n",
        "pd.Series([1,1,2,3,4,5]).is_unique"
      ],
      "metadata": {
        "id": "74HX8Bu8jGSf"
      },
      "execution_count": null,
      "outputs": []
    },
    {
      "cell_type": "code",
      "source": [
        "# index\n",
        "marks_series.index"
      ],
      "metadata": {
        "id": "nE71ilpHjGU2"
      },
      "execution_count": null,
      "outputs": []
    },
    {
      "cell_type": "code",
      "source": [
        "runs_ser.index"
      ],
      "metadata": {
        "id": "Uslt6qbqjGX-"
      },
      "execution_count": null,
      "outputs": []
    },
    {
      "cell_type": "code",
      "source": [
        "# values\n",
        "marks_series.values"
      ],
      "metadata": {
        "id": "HHi_S3hZjGab"
      },
      "execution_count": null,
      "outputs": []
    },
    {
      "cell_type": "code",
      "source": [
        "#Series using read_csv#"
      ],
      "metadata": {
        "id": "kz7PFJwojGdr"
      },
      "execution_count": null,
      "outputs": []
    },
    {
      "cell_type": "code",
      "source": [
        "# with one col\n",
        "#subs = pd.read_csv('/content/subs.csv',squeeze=True)\n",
        "#subs\n",
        "\n",
        "\n",
        "\n",
        "\n",
        "####dataframe to series convert##########"
      ],
      "metadata": {
        "id": "OY_01ob0jGgZ"
      },
      "execution_count": null,
      "outputs": []
    },
    {
      "cell_type": "code",
      "source": [
        "import pandas as pd\n",
        "\n",
        "# Read the CSV and extract the first column as a Series\n",
        "subs = pd.read_csv('/content/subs.csv').iloc[:, 0]\n",
        "\n",
        "# Display the Series\n",
        "print(subs)\n"
      ],
      "metadata": {
        "colab": {
          "base_uri": "https://localhost:8080/"
        },
        "id": "_sXUATEBpkUX",
        "outputId": "a984e349-159a-4904-cfc3-eec727c2d314"
      },
      "execution_count": null,
      "outputs": [
        {
          "output_type": "stream",
          "name": "stdout",
          "text": [
            "0       48\n",
            "1       57\n",
            "2       40\n",
            "3       43\n",
            "4       44\n",
            "      ... \n",
            "360    231\n",
            "361    226\n",
            "362    155\n",
            "363    144\n",
            "364    172\n",
            "Name: Subscribers gained, Length: 365, dtype: int64\n"
          ]
        }
      ]
    },
    {
      "cell_type": "code",
      "source": [
        "# with 2 cols\n",
        "vk = pd.read_csv('/content/kohli_ipl.csv', index_col='match_no').iloc[:, 0]\n",
        "vk"
      ],
      "metadata": {
        "colab": {
          "base_uri": "https://localhost:8080/",
          "height": 489
        },
        "id": "L96Gv4fmjGjR",
        "outputId": "8eb16a78-8f28-4660-8fe8-06959ec553fc"
      },
      "execution_count": null,
      "outputs": [
        {
          "output_type": "execute_result",
          "data": {
            "text/plain": [
              "match_no\n",
              "1       1\n",
              "2      23\n",
              "3      13\n",
              "4      12\n",
              "5       1\n",
              "       ..\n",
              "211     0\n",
              "212    20\n",
              "213    73\n",
              "214    25\n",
              "215     7\n",
              "Name: runs, Length: 215, dtype: int64"
            ],
            "text/html": [
              "<div>\n",
              "<style scoped>\n",
              "    .dataframe tbody tr th:only-of-type {\n",
              "        vertical-align: middle;\n",
              "    }\n",
              "\n",
              "    .dataframe tbody tr th {\n",
              "        vertical-align: top;\n",
              "    }\n",
              "\n",
              "    .dataframe thead th {\n",
              "        text-align: right;\n",
              "    }\n",
              "</style>\n",
              "<table border=\"1\" class=\"dataframe\">\n",
              "  <thead>\n",
              "    <tr style=\"text-align: right;\">\n",
              "      <th></th>\n",
              "      <th>runs</th>\n",
              "    </tr>\n",
              "    <tr>\n",
              "      <th>match_no</th>\n",
              "      <th></th>\n",
              "    </tr>\n",
              "  </thead>\n",
              "  <tbody>\n",
              "    <tr>\n",
              "      <th>1</th>\n",
              "      <td>1</td>\n",
              "    </tr>\n",
              "    <tr>\n",
              "      <th>2</th>\n",
              "      <td>23</td>\n",
              "    </tr>\n",
              "    <tr>\n",
              "      <th>3</th>\n",
              "      <td>13</td>\n",
              "    </tr>\n",
              "    <tr>\n",
              "      <th>4</th>\n",
              "      <td>12</td>\n",
              "    </tr>\n",
              "    <tr>\n",
              "      <th>5</th>\n",
              "      <td>1</td>\n",
              "    </tr>\n",
              "    <tr>\n",
              "      <th>...</th>\n",
              "      <td>...</td>\n",
              "    </tr>\n",
              "    <tr>\n",
              "      <th>211</th>\n",
              "      <td>0</td>\n",
              "    </tr>\n",
              "    <tr>\n",
              "      <th>212</th>\n",
              "      <td>20</td>\n",
              "    </tr>\n",
              "    <tr>\n",
              "      <th>213</th>\n",
              "      <td>73</td>\n",
              "    </tr>\n",
              "    <tr>\n",
              "      <th>214</th>\n",
              "      <td>25</td>\n",
              "    </tr>\n",
              "    <tr>\n",
              "      <th>215</th>\n",
              "      <td>7</td>\n",
              "    </tr>\n",
              "  </tbody>\n",
              "</table>\n",
              "<p>215 rows × 1 columns</p>\n",
              "</div><br><label><b>dtype:</b> int64</label>"
            ]
          },
          "metadata": {},
          "execution_count": 34
        }
      ]
    },
    {
      "cell_type": "code",
      "source": [
        "movies = pd.read_csv('/content/bollywood.csv', index_col='movie').iloc[:, 0]\n",
        "movies"
      ],
      "metadata": {
        "colab": {
          "base_uri": "https://localhost:8080/",
          "height": 489
        },
        "id": "247nxYfYjGmE",
        "outputId": "1d1b4976-fa36-4334-d5ab-6f69e0deb87a"
      },
      "execution_count": null,
      "outputs": [
        {
          "output_type": "execute_result",
          "data": {
            "text/plain": [
              "movie\n",
              "Uri: The Surgical Strike                   Vicky Kaushal\n",
              "Battalion 609                                Vicky Ahuja\n",
              "The Accidental Prime Minister (film)         Anupam Kher\n",
              "Why Cheat India                            Emraan Hashmi\n",
              "Evening Shadows                         Mona Ambegaonkar\n",
              "                                              ...       \n",
              "Hum Tumhare Hain Sanam                    Shah Rukh Khan\n",
              "Aankhen (2002 film)                     Amitabh Bachchan\n",
              "Saathiya (film)                             Vivek Oberoi\n",
              "Company (film)                                Ajay Devgn\n",
              "Awara Paagal Deewana                        Akshay Kumar\n",
              "Name: lead, Length: 1500, dtype: object"
            ],
            "text/html": [
              "<div>\n",
              "<style scoped>\n",
              "    .dataframe tbody tr th:only-of-type {\n",
              "        vertical-align: middle;\n",
              "    }\n",
              "\n",
              "    .dataframe tbody tr th {\n",
              "        vertical-align: top;\n",
              "    }\n",
              "\n",
              "    .dataframe thead th {\n",
              "        text-align: right;\n",
              "    }\n",
              "</style>\n",
              "<table border=\"1\" class=\"dataframe\">\n",
              "  <thead>\n",
              "    <tr style=\"text-align: right;\">\n",
              "      <th></th>\n",
              "      <th>lead</th>\n",
              "    </tr>\n",
              "    <tr>\n",
              "      <th>movie</th>\n",
              "      <th></th>\n",
              "    </tr>\n",
              "  </thead>\n",
              "  <tbody>\n",
              "    <tr>\n",
              "      <th>Uri: The Surgical Strike</th>\n",
              "      <td>Vicky Kaushal</td>\n",
              "    </tr>\n",
              "    <tr>\n",
              "      <th>Battalion 609</th>\n",
              "      <td>Vicky Ahuja</td>\n",
              "    </tr>\n",
              "    <tr>\n",
              "      <th>The Accidental Prime Minister (film)</th>\n",
              "      <td>Anupam Kher</td>\n",
              "    </tr>\n",
              "    <tr>\n",
              "      <th>Why Cheat India</th>\n",
              "      <td>Emraan Hashmi</td>\n",
              "    </tr>\n",
              "    <tr>\n",
              "      <th>Evening Shadows</th>\n",
              "      <td>Mona Ambegaonkar</td>\n",
              "    </tr>\n",
              "    <tr>\n",
              "      <th>...</th>\n",
              "      <td>...</td>\n",
              "    </tr>\n",
              "    <tr>\n",
              "      <th>Hum Tumhare Hain Sanam</th>\n",
              "      <td>Shah Rukh Khan</td>\n",
              "    </tr>\n",
              "    <tr>\n",
              "      <th>Aankhen (2002 film)</th>\n",
              "      <td>Amitabh Bachchan</td>\n",
              "    </tr>\n",
              "    <tr>\n",
              "      <th>Saathiya (film)</th>\n",
              "      <td>Vivek Oberoi</td>\n",
              "    </tr>\n",
              "    <tr>\n",
              "      <th>Company (film)</th>\n",
              "      <td>Ajay Devgn</td>\n",
              "    </tr>\n",
              "    <tr>\n",
              "      <th>Awara Paagal Deewana</th>\n",
              "      <td>Akshay Kumar</td>\n",
              "    </tr>\n",
              "  </tbody>\n",
              "</table>\n",
              "<p>1500 rows × 1 columns</p>\n",
              "</div><br><label><b>dtype:</b> object</label>"
            ]
          },
          "metadata": {},
          "execution_count": 35
        }
      ]
    },
    {
      "cell_type": "code",
      "source": [
        "#Series methods######3"
      ],
      "metadata": {
        "id": "L4lCrXyhjGpg"
      },
      "execution_count": null,
      "outputs": []
    },
    {
      "cell_type": "code",
      "source": [
        "# head and tail\n",
        "subs.head()"
      ],
      "metadata": {
        "colab": {
          "base_uri": "https://localhost:8080/",
          "height": 241
        },
        "id": "zQQVE0ZfjGsA",
        "outputId": "5cea44ea-e7c0-40df-f389-3caaacad9d9f"
      },
      "execution_count": null,
      "outputs": [
        {
          "output_type": "execute_result",
          "data": {
            "text/plain": [
              "0    48\n",
              "1    57\n",
              "2    40\n",
              "3    43\n",
              "4    44\n",
              "Name: Subscribers gained, dtype: int64"
            ],
            "text/html": [
              "<div>\n",
              "<style scoped>\n",
              "    .dataframe tbody tr th:only-of-type {\n",
              "        vertical-align: middle;\n",
              "    }\n",
              "\n",
              "    .dataframe tbody tr th {\n",
              "        vertical-align: top;\n",
              "    }\n",
              "\n",
              "    .dataframe thead th {\n",
              "        text-align: right;\n",
              "    }\n",
              "</style>\n",
              "<table border=\"1\" class=\"dataframe\">\n",
              "  <thead>\n",
              "    <tr style=\"text-align: right;\">\n",
              "      <th></th>\n",
              "      <th>Subscribers gained</th>\n",
              "    </tr>\n",
              "  </thead>\n",
              "  <tbody>\n",
              "    <tr>\n",
              "      <th>0</th>\n",
              "      <td>48</td>\n",
              "    </tr>\n",
              "    <tr>\n",
              "      <th>1</th>\n",
              "      <td>57</td>\n",
              "    </tr>\n",
              "    <tr>\n",
              "      <th>2</th>\n",
              "      <td>40</td>\n",
              "    </tr>\n",
              "    <tr>\n",
              "      <th>3</th>\n",
              "      <td>43</td>\n",
              "    </tr>\n",
              "    <tr>\n",
              "      <th>4</th>\n",
              "      <td>44</td>\n",
              "    </tr>\n",
              "  </tbody>\n",
              "</table>\n",
              "</div><br><label><b>dtype:</b> int64</label>"
            ]
          },
          "metadata": {},
          "execution_count": 36
        }
      ]
    },
    {
      "cell_type": "code",
      "source": [
        "vk.head(3)"
      ],
      "metadata": {
        "colab": {
          "base_uri": "https://localhost:8080/",
          "height": 209
        },
        "id": "eJxrR1RtjGvH",
        "outputId": "109465ff-4193-4d0b-a5e4-da5f63bb33bb"
      },
      "execution_count": null,
      "outputs": [
        {
          "output_type": "execute_result",
          "data": {
            "text/plain": [
              "match_no\n",
              "1     1\n",
              "2    23\n",
              "3    13\n",
              "Name: runs, dtype: int64"
            ],
            "text/html": [
              "<div>\n",
              "<style scoped>\n",
              "    .dataframe tbody tr th:only-of-type {\n",
              "        vertical-align: middle;\n",
              "    }\n",
              "\n",
              "    .dataframe tbody tr th {\n",
              "        vertical-align: top;\n",
              "    }\n",
              "\n",
              "    .dataframe thead th {\n",
              "        text-align: right;\n",
              "    }\n",
              "</style>\n",
              "<table border=\"1\" class=\"dataframe\">\n",
              "  <thead>\n",
              "    <tr style=\"text-align: right;\">\n",
              "      <th></th>\n",
              "      <th>runs</th>\n",
              "    </tr>\n",
              "    <tr>\n",
              "      <th>match_no</th>\n",
              "      <th></th>\n",
              "    </tr>\n",
              "  </thead>\n",
              "  <tbody>\n",
              "    <tr>\n",
              "      <th>1</th>\n",
              "      <td>1</td>\n",
              "    </tr>\n",
              "    <tr>\n",
              "      <th>2</th>\n",
              "      <td>23</td>\n",
              "    </tr>\n",
              "    <tr>\n",
              "      <th>3</th>\n",
              "      <td>13</td>\n",
              "    </tr>\n",
              "  </tbody>\n",
              "</table>\n",
              "</div><br><label><b>dtype:</b> int64</label>"
            ]
          },
          "metadata": {},
          "execution_count": 37
        }
      ]
    },
    {
      "cell_type": "code",
      "source": [
        "vk.tail(10)"
      ],
      "metadata": {
        "colab": {
          "base_uri": "https://localhost:8080/",
          "height": 429
        },
        "id": "iaFzQi2hjGx4",
        "outputId": "ca1aa3d8-4c11-4eb3-f9d8-7009d548f72a"
      },
      "execution_count": null,
      "outputs": [
        {
          "output_type": "execute_result",
          "data": {
            "text/plain": [
              "match_no\n",
              "206     0\n",
              "207     0\n",
              "208     9\n",
              "209    58\n",
              "210    30\n",
              "211     0\n",
              "212    20\n",
              "213    73\n",
              "214    25\n",
              "215     7\n",
              "Name: runs, dtype: int64"
            ],
            "text/html": [
              "<div>\n",
              "<style scoped>\n",
              "    .dataframe tbody tr th:only-of-type {\n",
              "        vertical-align: middle;\n",
              "    }\n",
              "\n",
              "    .dataframe tbody tr th {\n",
              "        vertical-align: top;\n",
              "    }\n",
              "\n",
              "    .dataframe thead th {\n",
              "        text-align: right;\n",
              "    }\n",
              "</style>\n",
              "<table border=\"1\" class=\"dataframe\">\n",
              "  <thead>\n",
              "    <tr style=\"text-align: right;\">\n",
              "      <th></th>\n",
              "      <th>runs</th>\n",
              "    </tr>\n",
              "    <tr>\n",
              "      <th>match_no</th>\n",
              "      <th></th>\n",
              "    </tr>\n",
              "  </thead>\n",
              "  <tbody>\n",
              "    <tr>\n",
              "      <th>206</th>\n",
              "      <td>0</td>\n",
              "    </tr>\n",
              "    <tr>\n",
              "      <th>207</th>\n",
              "      <td>0</td>\n",
              "    </tr>\n",
              "    <tr>\n",
              "      <th>208</th>\n",
              "      <td>9</td>\n",
              "    </tr>\n",
              "    <tr>\n",
              "      <th>209</th>\n",
              "      <td>58</td>\n",
              "    </tr>\n",
              "    <tr>\n",
              "      <th>210</th>\n",
              "      <td>30</td>\n",
              "    </tr>\n",
              "    <tr>\n",
              "      <th>211</th>\n",
              "      <td>0</td>\n",
              "    </tr>\n",
              "    <tr>\n",
              "      <th>212</th>\n",
              "      <td>20</td>\n",
              "    </tr>\n",
              "    <tr>\n",
              "      <th>213</th>\n",
              "      <td>73</td>\n",
              "    </tr>\n",
              "    <tr>\n",
              "      <th>214</th>\n",
              "      <td>25</td>\n",
              "    </tr>\n",
              "    <tr>\n",
              "      <th>215</th>\n",
              "      <td>7</td>\n",
              "    </tr>\n",
              "  </tbody>\n",
              "</table>\n",
              "</div><br><label><b>dtype:</b> int64</label>"
            ]
          },
          "metadata": {},
          "execution_count": 38
        }
      ]
    },
    {
      "cell_type": "code",
      "source": [
        "# sample random 5 movies\n",
        "movies.sample(5) # to find bias not topper not low random middle or any"
      ],
      "metadata": {
        "colab": {
          "base_uri": "https://localhost:8080/",
          "height": 272
        },
        "id": "DjBkcSEtjG08",
        "outputId": "7180bba3-34a1-4b19-df08-8bf3458e1377"
      },
      "execution_count": null,
      "outputs": [
        {
          "output_type": "execute_result",
          "data": {
            "text/plain": [
              "movie\n",
              "Aisa Yeh Jahaan                Yashpal Sharma\n",
              "Humpty Sharma Ki Dulhania        Varun Dhawan\n",
              "Shootout at Lokhandwala      Amitabh Bachchan\n",
              "Ghost (2019 film)                Sanaya Irani\n",
              "Oh My God (2008 film)            Vinay Pathak\n",
              "Name: lead, dtype: object"
            ],
            "text/html": [
              "<div>\n",
              "<style scoped>\n",
              "    .dataframe tbody tr th:only-of-type {\n",
              "        vertical-align: middle;\n",
              "    }\n",
              "\n",
              "    .dataframe tbody tr th {\n",
              "        vertical-align: top;\n",
              "    }\n",
              "\n",
              "    .dataframe thead th {\n",
              "        text-align: right;\n",
              "    }\n",
              "</style>\n",
              "<table border=\"1\" class=\"dataframe\">\n",
              "  <thead>\n",
              "    <tr style=\"text-align: right;\">\n",
              "      <th></th>\n",
              "      <th>lead</th>\n",
              "    </tr>\n",
              "    <tr>\n",
              "      <th>movie</th>\n",
              "      <th></th>\n",
              "    </tr>\n",
              "  </thead>\n",
              "  <tbody>\n",
              "    <tr>\n",
              "      <th>Aisa Yeh Jahaan</th>\n",
              "      <td>Yashpal Sharma</td>\n",
              "    </tr>\n",
              "    <tr>\n",
              "      <th>Humpty Sharma Ki Dulhania</th>\n",
              "      <td>Varun Dhawan</td>\n",
              "    </tr>\n",
              "    <tr>\n",
              "      <th>Shootout at Lokhandwala</th>\n",
              "      <td>Amitabh Bachchan</td>\n",
              "    </tr>\n",
              "    <tr>\n",
              "      <th>Ghost (2019 film)</th>\n",
              "      <td>Sanaya Irani</td>\n",
              "    </tr>\n",
              "    <tr>\n",
              "      <th>Oh My God (2008 film)</th>\n",
              "      <td>Vinay Pathak</td>\n",
              "    </tr>\n",
              "  </tbody>\n",
              "</table>\n",
              "</div><br><label><b>dtype:</b> object</label>"
            ]
          },
          "metadata": {},
          "execution_count": 39
        }
      ]
    },
    {
      "cell_type": "code",
      "source": [
        "# value_counts -> movies\n",
        "movies.value_counts()"
      ],
      "metadata": {
        "colab": {
          "base_uri": "https://localhost:8080/",
          "height": 489
        },
        "id": "AczjILnOjG33",
        "outputId": "b43ed3fc-93fe-4e25-9684-ec2198ada282"
      },
      "execution_count": null,
      "outputs": [
        {
          "output_type": "execute_result",
          "data": {
            "text/plain": [
              "lead\n",
              "Akshay Kumar         48\n",
              "Amitabh Bachchan     45\n",
              "Ajay Devgn           38\n",
              "Salman Khan          31\n",
              "Sanjay Dutt          26\n",
              "                     ..\n",
              "Seema Azmi            1\n",
              "Akanksha Puri         1\n",
              "Charanpreet Insan     1\n",
              "Jaideep Ahlawat       1\n",
              "Monali Thakur         1\n",
              "Name: count, Length: 566, dtype: int64"
            ],
            "text/html": [
              "<div>\n",
              "<style scoped>\n",
              "    .dataframe tbody tr th:only-of-type {\n",
              "        vertical-align: middle;\n",
              "    }\n",
              "\n",
              "    .dataframe tbody tr th {\n",
              "        vertical-align: top;\n",
              "    }\n",
              "\n",
              "    .dataframe thead th {\n",
              "        text-align: right;\n",
              "    }\n",
              "</style>\n",
              "<table border=\"1\" class=\"dataframe\">\n",
              "  <thead>\n",
              "    <tr style=\"text-align: right;\">\n",
              "      <th></th>\n",
              "      <th>count</th>\n",
              "    </tr>\n",
              "    <tr>\n",
              "      <th>lead</th>\n",
              "      <th></th>\n",
              "    </tr>\n",
              "  </thead>\n",
              "  <tbody>\n",
              "    <tr>\n",
              "      <th>Akshay Kumar</th>\n",
              "      <td>48</td>\n",
              "    </tr>\n",
              "    <tr>\n",
              "      <th>Amitabh Bachchan</th>\n",
              "      <td>45</td>\n",
              "    </tr>\n",
              "    <tr>\n",
              "      <th>Ajay Devgn</th>\n",
              "      <td>38</td>\n",
              "    </tr>\n",
              "    <tr>\n",
              "      <th>Salman Khan</th>\n",
              "      <td>31</td>\n",
              "    </tr>\n",
              "    <tr>\n",
              "      <th>Sanjay Dutt</th>\n",
              "      <td>26</td>\n",
              "    </tr>\n",
              "    <tr>\n",
              "      <th>...</th>\n",
              "      <td>...</td>\n",
              "    </tr>\n",
              "    <tr>\n",
              "      <th>Seema Azmi</th>\n",
              "      <td>1</td>\n",
              "    </tr>\n",
              "    <tr>\n",
              "      <th>Akanksha Puri</th>\n",
              "      <td>1</td>\n",
              "    </tr>\n",
              "    <tr>\n",
              "      <th>Charanpreet Insan</th>\n",
              "      <td>1</td>\n",
              "    </tr>\n",
              "    <tr>\n",
              "      <th>Jaideep Ahlawat</th>\n",
              "      <td>1</td>\n",
              "    </tr>\n",
              "    <tr>\n",
              "      <th>Monali Thakur</th>\n",
              "      <td>1</td>\n",
              "    </tr>\n",
              "  </tbody>\n",
              "</table>\n",
              "<p>566 rows × 1 columns</p>\n",
              "</div><br><label><b>dtype:</b> int64</label>"
            ]
          },
          "metadata": {},
          "execution_count": 40
        }
      ]
    },
    {
      "cell_type": "code",
      "source": [
        "# sort_values -> inplace\n",
        "vk.sort_values(ascending=False).head(1).values[0]"
      ],
      "metadata": {
        "colab": {
          "base_uri": "https://localhost:8080/"
        },
        "id": "Ew6o_rB6jG6e",
        "outputId": "140f49bc-9f17-47d1-9afa-06222569b390"
      },
      "execution_count": null,
      "outputs": [
        {
          "output_type": "execute_result",
          "data": {
            "text/plain": [
              "np.int64(113)"
            ]
          },
          "metadata": {},
          "execution_count": 41
        }
      ]
    },
    {
      "cell_type": "code",
      "source": [
        "vk.sort_values(ascending=True)"
      ],
      "metadata": {
        "colab": {
          "base_uri": "https://localhost:8080/",
          "height": 489
        },
        "id": "Y-Mp-uJWjG9W",
        "outputId": "d9a33228-d93e-4a4d-d69d-e1b5f21b5607"
      },
      "execution_count": null,
      "outputs": [
        {
          "output_type": "execute_result",
          "data": {
            "text/plain": [
              "match_no\n",
              "8        0\n",
              "87       0\n",
              "93       0\n",
              "91       0\n",
              "206      0\n",
              "      ... \n",
              "164    100\n",
              "120    100\n",
              "123    108\n",
              "126    109\n",
              "128    113\n",
              "Name: runs, Length: 215, dtype: int64"
            ],
            "text/html": [
              "<div>\n",
              "<style scoped>\n",
              "    .dataframe tbody tr th:only-of-type {\n",
              "        vertical-align: middle;\n",
              "    }\n",
              "\n",
              "    .dataframe tbody tr th {\n",
              "        vertical-align: top;\n",
              "    }\n",
              "\n",
              "    .dataframe thead th {\n",
              "        text-align: right;\n",
              "    }\n",
              "</style>\n",
              "<table border=\"1\" class=\"dataframe\">\n",
              "  <thead>\n",
              "    <tr style=\"text-align: right;\">\n",
              "      <th></th>\n",
              "      <th>runs</th>\n",
              "    </tr>\n",
              "    <tr>\n",
              "      <th>match_no</th>\n",
              "      <th></th>\n",
              "    </tr>\n",
              "  </thead>\n",
              "  <tbody>\n",
              "    <tr>\n",
              "      <th>8</th>\n",
              "      <td>0</td>\n",
              "    </tr>\n",
              "    <tr>\n",
              "      <th>87</th>\n",
              "      <td>0</td>\n",
              "    </tr>\n",
              "    <tr>\n",
              "      <th>93</th>\n",
              "      <td>0</td>\n",
              "    </tr>\n",
              "    <tr>\n",
              "      <th>91</th>\n",
              "      <td>0</td>\n",
              "    </tr>\n",
              "    <tr>\n",
              "      <th>206</th>\n",
              "      <td>0</td>\n",
              "    </tr>\n",
              "    <tr>\n",
              "      <th>...</th>\n",
              "      <td>...</td>\n",
              "    </tr>\n",
              "    <tr>\n",
              "      <th>164</th>\n",
              "      <td>100</td>\n",
              "    </tr>\n",
              "    <tr>\n",
              "      <th>120</th>\n",
              "      <td>100</td>\n",
              "    </tr>\n",
              "    <tr>\n",
              "      <th>123</th>\n",
              "      <td>108</td>\n",
              "    </tr>\n",
              "    <tr>\n",
              "      <th>126</th>\n",
              "      <td>109</td>\n",
              "    </tr>\n",
              "    <tr>\n",
              "      <th>128</th>\n",
              "      <td>113</td>\n",
              "    </tr>\n",
              "  </tbody>\n",
              "</table>\n",
              "<p>215 rows × 1 columns</p>\n",
              "</div><br><label><b>dtype:</b> int64</label>"
            ]
          },
          "metadata": {},
          "execution_count": 48
        }
      ]
    },
    {
      "cell_type": "code",
      "source": [
        "vk.sort_values(ascending=True)"
      ],
      "metadata": {
        "colab": {
          "base_uri": "https://localhost:8080/",
          "height": 489
        },
        "id": "h05eUqYAjHAM",
        "outputId": "72a0888e-dbbc-4245-af84-a6271e727f58"
      },
      "execution_count": null,
      "outputs": [
        {
          "output_type": "execute_result",
          "data": {
            "text/plain": [
              "match_no\n",
              "8        0\n",
              "87       0\n",
              "93       0\n",
              "91       0\n",
              "206      0\n",
              "      ... \n",
              "164    100\n",
              "120    100\n",
              "123    108\n",
              "126    109\n",
              "128    113\n",
              "Name: runs, Length: 215, dtype: int64"
            ],
            "text/html": [
              "<div>\n",
              "<style scoped>\n",
              "    .dataframe tbody tr th:only-of-type {\n",
              "        vertical-align: middle;\n",
              "    }\n",
              "\n",
              "    .dataframe tbody tr th {\n",
              "        vertical-align: top;\n",
              "    }\n",
              "\n",
              "    .dataframe thead th {\n",
              "        text-align: right;\n",
              "    }\n",
              "</style>\n",
              "<table border=\"1\" class=\"dataframe\">\n",
              "  <thead>\n",
              "    <tr style=\"text-align: right;\">\n",
              "      <th></th>\n",
              "      <th>runs</th>\n",
              "    </tr>\n",
              "    <tr>\n",
              "      <th>match_no</th>\n",
              "      <th></th>\n",
              "    </tr>\n",
              "  </thead>\n",
              "  <tbody>\n",
              "    <tr>\n",
              "      <th>8</th>\n",
              "      <td>0</td>\n",
              "    </tr>\n",
              "    <tr>\n",
              "      <th>87</th>\n",
              "      <td>0</td>\n",
              "    </tr>\n",
              "    <tr>\n",
              "      <th>93</th>\n",
              "      <td>0</td>\n",
              "    </tr>\n",
              "    <tr>\n",
              "      <th>91</th>\n",
              "      <td>0</td>\n",
              "    </tr>\n",
              "    <tr>\n",
              "      <th>206</th>\n",
              "      <td>0</td>\n",
              "    </tr>\n",
              "    <tr>\n",
              "      <th>...</th>\n",
              "      <td>...</td>\n",
              "    </tr>\n",
              "    <tr>\n",
              "      <th>164</th>\n",
              "      <td>100</td>\n",
              "    </tr>\n",
              "    <tr>\n",
              "      <th>120</th>\n",
              "      <td>100</td>\n",
              "    </tr>\n",
              "    <tr>\n",
              "      <th>123</th>\n",
              "      <td>108</td>\n",
              "    </tr>\n",
              "    <tr>\n",
              "      <th>126</th>\n",
              "      <td>109</td>\n",
              "    </tr>\n",
              "    <tr>\n",
              "      <th>128</th>\n",
              "      <td>113</td>\n",
              "    </tr>\n",
              "  </tbody>\n",
              "</table>\n",
              "<p>215 rows × 1 columns</p>\n",
              "</div><br><label><b>dtype:</b> int64</label>"
            ]
          },
          "metadata": {},
          "execution_count": 49
        }
      ]
    },
    {
      "cell_type": "code",
      "source": [
        "# sort_index -> inplace -> movies\n",
        "movies.sort_index(ascending=True,inplace=True)"
      ],
      "metadata": {
        "id": "cq7cv18ZjHDd"
      },
      "execution_count": null,
      "outputs": []
    },
    {
      "cell_type": "code",
      "source": [
        "movies"
      ],
      "metadata": {
        "colab": {
          "base_uri": "https://localhost:8080/",
          "height": 489
        },
        "id": "3pa00f3mjHGh",
        "outputId": "c07ae355-a787-47cb-ff86-b6c614db6ea4"
      },
      "execution_count": null,
      "outputs": [
        {
          "output_type": "execute_result",
          "data": {
            "text/plain": [
              "movie\n",
              "1920 (film)                   Rajniesh Duggall\n",
              "1920: London                     Sharman Joshi\n",
              "1920: The Evil Returns             Vicky Ahuja\n",
              "1971 (2007 film)                Manoj Bajpayee\n",
              "2 States (2014 film)              Arjun Kapoor\n",
              "                                   ...        \n",
              "Zindagi 50-50                      Veena Malik\n",
              "Zindagi Na Milegi Dobara        Hrithik Roshan\n",
              "Zindagi Tere Naam           Mithun Chakraborty\n",
              "Zokkomon                       Darsheel Safary\n",
              "Zor Lagaa Ke...Haiya!            Meghan Jadhav\n",
              "Name: lead, Length: 1500, dtype: object"
            ],
            "text/html": [
              "<div>\n",
              "<style scoped>\n",
              "    .dataframe tbody tr th:only-of-type {\n",
              "        vertical-align: middle;\n",
              "    }\n",
              "\n",
              "    .dataframe tbody tr th {\n",
              "        vertical-align: top;\n",
              "    }\n",
              "\n",
              "    .dataframe thead th {\n",
              "        text-align: right;\n",
              "    }\n",
              "</style>\n",
              "<table border=\"1\" class=\"dataframe\">\n",
              "  <thead>\n",
              "    <tr style=\"text-align: right;\">\n",
              "      <th></th>\n",
              "      <th>lead</th>\n",
              "    </tr>\n",
              "    <tr>\n",
              "      <th>movie</th>\n",
              "      <th></th>\n",
              "    </tr>\n",
              "  </thead>\n",
              "  <tbody>\n",
              "    <tr>\n",
              "      <th>1920 (film)</th>\n",
              "      <td>Rajniesh Duggall</td>\n",
              "    </tr>\n",
              "    <tr>\n",
              "      <th>1920: London</th>\n",
              "      <td>Sharman Joshi</td>\n",
              "    </tr>\n",
              "    <tr>\n",
              "      <th>1920: The Evil Returns</th>\n",
              "      <td>Vicky Ahuja</td>\n",
              "    </tr>\n",
              "    <tr>\n",
              "      <th>1971 (2007 film)</th>\n",
              "      <td>Manoj Bajpayee</td>\n",
              "    </tr>\n",
              "    <tr>\n",
              "      <th>2 States (2014 film)</th>\n",
              "      <td>Arjun Kapoor</td>\n",
              "    </tr>\n",
              "    <tr>\n",
              "      <th>...</th>\n",
              "      <td>...</td>\n",
              "    </tr>\n",
              "    <tr>\n",
              "      <th>Zindagi 50-50</th>\n",
              "      <td>Veena Malik</td>\n",
              "    </tr>\n",
              "    <tr>\n",
              "      <th>Zindagi Na Milegi Dobara</th>\n",
              "      <td>Hrithik Roshan</td>\n",
              "    </tr>\n",
              "    <tr>\n",
              "      <th>Zindagi Tere Naam</th>\n",
              "      <td>Mithun Chakraborty</td>\n",
              "    </tr>\n",
              "    <tr>\n",
              "      <th>Zokkomon</th>\n",
              "      <td>Darsheel Safary</td>\n",
              "    </tr>\n",
              "    <tr>\n",
              "      <th>Zor Lagaa Ke...Haiya!</th>\n",
              "      <td>Meghan Jadhav</td>\n",
              "    </tr>\n",
              "  </tbody>\n",
              "</table>\n",
              "<p>1500 rows × 1 columns</p>\n",
              "</div><br><label><b>dtype:</b> object</label>"
            ]
          },
          "metadata": {},
          "execution_count": 51
        }
      ]
    },
    {
      "cell_type": "code",
      "source": [
        "movies"
      ],
      "metadata": {
        "id": "cBAs87ajjHJk",
        "colab": {
          "base_uri": "https://localhost:8080/",
          "height": 489
        },
        "outputId": "8ce13ae5-84a6-4255-c952-f7174d1c1225"
      },
      "execution_count": null,
      "outputs": [
        {
          "output_type": "execute_result",
          "data": {
            "text/plain": [
              "movie\n",
              "1920 (film)                   Rajniesh Duggall\n",
              "1920: London                     Sharman Joshi\n",
              "1920: The Evil Returns             Vicky Ahuja\n",
              "1971 (2007 film)                Manoj Bajpayee\n",
              "2 States (2014 film)              Arjun Kapoor\n",
              "                                   ...        \n",
              "Zindagi 50-50                      Veena Malik\n",
              "Zindagi Na Milegi Dobara        Hrithik Roshan\n",
              "Zindagi Tere Naam           Mithun Chakraborty\n",
              "Zokkomon                       Darsheel Safary\n",
              "Zor Lagaa Ke...Haiya!            Meghan Jadhav\n",
              "Name: lead, Length: 1500, dtype: object"
            ],
            "text/html": [
              "<div>\n",
              "<style scoped>\n",
              "    .dataframe tbody tr th:only-of-type {\n",
              "        vertical-align: middle;\n",
              "    }\n",
              "\n",
              "    .dataframe tbody tr th {\n",
              "        vertical-align: top;\n",
              "    }\n",
              "\n",
              "    .dataframe thead th {\n",
              "        text-align: right;\n",
              "    }\n",
              "</style>\n",
              "<table border=\"1\" class=\"dataframe\">\n",
              "  <thead>\n",
              "    <tr style=\"text-align: right;\">\n",
              "      <th></th>\n",
              "      <th>lead</th>\n",
              "    </tr>\n",
              "    <tr>\n",
              "      <th>movie</th>\n",
              "      <th></th>\n",
              "    </tr>\n",
              "  </thead>\n",
              "  <tbody>\n",
              "    <tr>\n",
              "      <th>1920 (film)</th>\n",
              "      <td>Rajniesh Duggall</td>\n",
              "    </tr>\n",
              "    <tr>\n",
              "      <th>1920: London</th>\n",
              "      <td>Sharman Joshi</td>\n",
              "    </tr>\n",
              "    <tr>\n",
              "      <th>1920: The Evil Returns</th>\n",
              "      <td>Vicky Ahuja</td>\n",
              "    </tr>\n",
              "    <tr>\n",
              "      <th>1971 (2007 film)</th>\n",
              "      <td>Manoj Bajpayee</td>\n",
              "    </tr>\n",
              "    <tr>\n",
              "      <th>2 States (2014 film)</th>\n",
              "      <td>Arjun Kapoor</td>\n",
              "    </tr>\n",
              "    <tr>\n",
              "      <th>...</th>\n",
              "      <td>...</td>\n",
              "    </tr>\n",
              "    <tr>\n",
              "      <th>Zindagi 50-50</th>\n",
              "      <td>Veena Malik</td>\n",
              "    </tr>\n",
              "    <tr>\n",
              "      <th>Zindagi Na Milegi Dobara</th>\n",
              "      <td>Hrithik Roshan</td>\n",
              "    </tr>\n",
              "    <tr>\n",
              "      <th>Zindagi Tere Naam</th>\n",
              "      <td>Mithun Chakraborty</td>\n",
              "    </tr>\n",
              "    <tr>\n",
              "      <th>Zokkomon</th>\n",
              "      <td>Darsheel Safary</td>\n",
              "    </tr>\n",
              "    <tr>\n",
              "      <th>Zor Lagaa Ke...Haiya!</th>\n",
              "      <td>Meghan Jadhav</td>\n",
              "    </tr>\n",
              "  </tbody>\n",
              "</table>\n",
              "<p>1500 rows × 1 columns</p>\n",
              "</div><br><label><b>dtype:</b> object</label>"
            ]
          },
          "metadata": {},
          "execution_count": 52
        }
      ]
    },
    {
      "cell_type": "code",
      "source": [
        "#Series Maths Methods"
      ],
      "metadata": {
        "id": "ombTI_uUjHMp"
      },
      "execution_count": null,
      "outputs": []
    },
    {
      "cell_type": "code",
      "source": [
        "# count present in series only count missing value doesnt count but size missing value count\n",
        "vk.count()"
      ],
      "metadata": {
        "id": "vroLxpypjHPl",
        "colab": {
          "base_uri": "https://localhost:8080/"
        },
        "outputId": "8bf16a68-4a5e-4ff5-f247-68e17f1ccd30"
      },
      "execution_count": null,
      "outputs": [
        {
          "output_type": "execute_result",
          "data": {
            "text/plain": [
              "np.int64(215)"
            ]
          },
          "metadata": {},
          "execution_count": 55
        }
      ]
    },
    {
      "cell_type": "code",
      "source": [
        "# sum -> product\n",
        "subs.sum()"
      ],
      "metadata": {
        "id": "GAzPBPOVjHSo",
        "colab": {
          "base_uri": "https://localhost:8080/"
        },
        "outputId": "c227366b-b18b-4d2d-e41a-92fdf33049b1"
      },
      "execution_count": null,
      "outputs": [
        {
          "output_type": "execute_result",
          "data": {
            "text/plain": [
              "np.int64(49510)"
            ]
          },
          "metadata": {},
          "execution_count": 56
        }
      ]
    },
    {
      "cell_type": "code",
      "source": [
        "# mean -> median -> mode -> std -> var\n",
        "subs.mean()\n",
        "print(vk.median())\n",
        "print(movies.mode())\n",
        "print(subs.std())\n",
        "print(vk.var())"
      ],
      "metadata": {
        "id": "Tfhi9Zy-jHV5",
        "colab": {
          "base_uri": "https://localhost:8080/"
        },
        "outputId": "6d673fd9-0ee1-442a-f5af-f913ecced1f1"
      },
      "execution_count": null,
      "outputs": [
        {
          "output_type": "stream",
          "name": "stdout",
          "text": [
            "24.0\n",
            "0    Akshay Kumar\n",
            "Name: lead, dtype: object\n",
            "62.67502303725269\n",
            "688.0024777222344\n"
          ]
        }
      ]
    },
    {
      "cell_type": "code",
      "source": [
        "# min/max\n",
        "subs.max()"
      ],
      "metadata": {
        "id": "Ozwcw1zmjHZC",
        "colab": {
          "base_uri": "https://localhost:8080/"
        },
        "outputId": "b3ace0cd-07c1-43e0-d536-2b13f8b04f6f"
      },
      "execution_count": null,
      "outputs": [
        {
          "output_type": "execute_result",
          "data": {
            "text/plain": [
              "396"
            ]
          },
          "metadata": {},
          "execution_count": 58
        }
      ]
    },
    {
      "cell_type": "code",
      "source": [
        "# describe\n",
        "subs.describe()"
      ],
      "metadata": {
        "id": "FH7Fo5MgjHcP",
        "colab": {
          "base_uri": "https://localhost:8080/",
          "height": 335
        },
        "outputId": "fe51c280-07ae-4ee1-bc16-efac35cc4d9f"
      },
      "execution_count": null,
      "outputs": [
        {
          "output_type": "execute_result",
          "data": {
            "text/plain": [
              "count    365.000000\n",
              "mean     135.643836\n",
              "std       62.675023\n",
              "min       33.000000\n",
              "25%       88.000000\n",
              "50%      123.000000\n",
              "75%      177.000000\n",
              "max      396.000000\n",
              "Name: Subscribers gained, dtype: float64"
            ],
            "text/html": [
              "<div>\n",
              "<style scoped>\n",
              "    .dataframe tbody tr th:only-of-type {\n",
              "        vertical-align: middle;\n",
              "    }\n",
              "\n",
              "    .dataframe tbody tr th {\n",
              "        vertical-align: top;\n",
              "    }\n",
              "\n",
              "    .dataframe thead th {\n",
              "        text-align: right;\n",
              "    }\n",
              "</style>\n",
              "<table border=\"1\" class=\"dataframe\">\n",
              "  <thead>\n",
              "    <tr style=\"text-align: right;\">\n",
              "      <th></th>\n",
              "      <th>Subscribers gained</th>\n",
              "    </tr>\n",
              "  </thead>\n",
              "  <tbody>\n",
              "    <tr>\n",
              "      <th>count</th>\n",
              "      <td>365.000000</td>\n",
              "    </tr>\n",
              "    <tr>\n",
              "      <th>mean</th>\n",
              "      <td>135.643836</td>\n",
              "    </tr>\n",
              "    <tr>\n",
              "      <th>std</th>\n",
              "      <td>62.675023</td>\n",
              "    </tr>\n",
              "    <tr>\n",
              "      <th>min</th>\n",
              "      <td>33.000000</td>\n",
              "    </tr>\n",
              "    <tr>\n",
              "      <th>25%</th>\n",
              "      <td>88.000000</td>\n",
              "    </tr>\n",
              "    <tr>\n",
              "      <th>50%</th>\n",
              "      <td>123.000000</td>\n",
              "    </tr>\n",
              "    <tr>\n",
              "      <th>75%</th>\n",
              "      <td>177.000000</td>\n",
              "    </tr>\n",
              "    <tr>\n",
              "      <th>max</th>\n",
              "      <td>396.000000</td>\n",
              "    </tr>\n",
              "  </tbody>\n",
              "</table>\n",
              "</div><br><label><b>dtype:</b> float64</label>"
            ]
          },
          "metadata": {},
          "execution_count": 59
        }
      ]
    },
    {
      "cell_type": "code",
      "source": [
        "#Series Indexing"
      ],
      "metadata": {
        "id": "ECiFtqx1jHfH"
      },
      "execution_count": null,
      "outputs": []
    },
    {
      "cell_type": "code",
      "source": [
        "# integer indexing\n",
        "x = pd.Series([12,13,14,35,46,57,58,79,9])\n",
        "x"
      ],
      "metadata": {
        "id": "TuUdWpSWjHiQ",
        "colab": {
          "base_uri": "https://localhost:8080/",
          "height": 366
        },
        "outputId": "1c732644-d240-4432-d6f3-1f62b8ebde47"
      },
      "execution_count": null,
      "outputs": [
        {
          "output_type": "execute_result",
          "data": {
            "text/plain": [
              "0    12\n",
              "1    13\n",
              "2    14\n",
              "3    35\n",
              "4    46\n",
              "5    57\n",
              "6    58\n",
              "7    79\n",
              "8     9\n",
              "dtype: int64"
            ],
            "text/html": [
              "<div>\n",
              "<style scoped>\n",
              "    .dataframe tbody tr th:only-of-type {\n",
              "        vertical-align: middle;\n",
              "    }\n",
              "\n",
              "    .dataframe tbody tr th {\n",
              "        vertical-align: top;\n",
              "    }\n",
              "\n",
              "    .dataframe thead th {\n",
              "        text-align: right;\n",
              "    }\n",
              "</style>\n",
              "<table border=\"1\" class=\"dataframe\">\n",
              "  <thead>\n",
              "    <tr style=\"text-align: right;\">\n",
              "      <th></th>\n",
              "      <th>0</th>\n",
              "    </tr>\n",
              "  </thead>\n",
              "  <tbody>\n",
              "    <tr>\n",
              "      <th>0</th>\n",
              "      <td>12</td>\n",
              "    </tr>\n",
              "    <tr>\n",
              "      <th>1</th>\n",
              "      <td>13</td>\n",
              "    </tr>\n",
              "    <tr>\n",
              "      <th>2</th>\n",
              "      <td>14</td>\n",
              "    </tr>\n",
              "    <tr>\n",
              "      <th>3</th>\n",
              "      <td>35</td>\n",
              "    </tr>\n",
              "    <tr>\n",
              "      <th>4</th>\n",
              "      <td>46</td>\n",
              "    </tr>\n",
              "    <tr>\n",
              "      <th>5</th>\n",
              "      <td>57</td>\n",
              "    </tr>\n",
              "    <tr>\n",
              "      <th>6</th>\n",
              "      <td>58</td>\n",
              "    </tr>\n",
              "    <tr>\n",
              "      <th>7</th>\n",
              "      <td>79</td>\n",
              "    </tr>\n",
              "    <tr>\n",
              "      <th>8</th>\n",
              "      <td>9</td>\n",
              "    </tr>\n",
              "  </tbody>\n",
              "</table>\n",
              "</div><br><label><b>dtype:</b> int64</label>"
            ]
          },
          "metadata": {},
          "execution_count": 61
        }
      ]
    },
    {
      "cell_type": "code",
      "source": [
        "# negative indexing\n",
        "x[-1] ##series only work on positive indexing if value is numeric"
      ],
      "metadata": {
        "id": "KjRJC3xgjHlm",
        "colab": {
          "base_uri": "https://localhost:8080/",
          "height": 408
        },
        "outputId": "7fce8532-961c-49ba-fd0f-8ac9b155d40c"
      },
      "execution_count": null,
      "outputs": [
        {
          "output_type": "error",
          "ename": "KeyError",
          "evalue": "-1",
          "traceback": [
            "\u001b[0;31m---------------------------------------------------------------------------\u001b[0m",
            "\u001b[0;31mValueError\u001b[0m                                Traceback (most recent call last)",
            "\u001b[0;32m/usr/local/lib/python3.11/dist-packages/pandas/core/indexes/range.py\u001b[0m in \u001b[0;36mget_loc\u001b[0;34m(self, key)\u001b[0m\n\u001b[1;32m    412\u001b[0m             \u001b[0;32mtry\u001b[0m\u001b[0;34m:\u001b[0m\u001b[0;34m\u001b[0m\u001b[0;34m\u001b[0m\u001b[0m\n\u001b[0;32m--> 413\u001b[0;31m                 \u001b[0;32mreturn\u001b[0m \u001b[0mself\u001b[0m\u001b[0;34m.\u001b[0m\u001b[0m_range\u001b[0m\u001b[0;34m.\u001b[0m\u001b[0mindex\u001b[0m\u001b[0;34m(\u001b[0m\u001b[0mnew_key\u001b[0m\u001b[0;34m)\u001b[0m\u001b[0;34m\u001b[0m\u001b[0;34m\u001b[0m\u001b[0m\n\u001b[0m\u001b[1;32m    414\u001b[0m             \u001b[0;32mexcept\u001b[0m \u001b[0mValueError\u001b[0m \u001b[0;32mas\u001b[0m \u001b[0merr\u001b[0m\u001b[0;34m:\u001b[0m\u001b[0;34m\u001b[0m\u001b[0;34m\u001b[0m\u001b[0m\n",
            "\u001b[0;31mValueError\u001b[0m: -1 is not in range",
            "\nThe above exception was the direct cause of the following exception:\n",
            "\u001b[0;31mKeyError\u001b[0m                                  Traceback (most recent call last)",
            "\u001b[0;32m<ipython-input-62-60055cb99cf0>\u001b[0m in \u001b[0;36m<cell line: 0>\u001b[0;34m()\u001b[0m\n\u001b[1;32m      1\u001b[0m \u001b[0;31m# negative indexing\u001b[0m\u001b[0;34m\u001b[0m\u001b[0;34m\u001b[0m\u001b[0m\n\u001b[0;32m----> 2\u001b[0;31m \u001b[0mx\u001b[0m\u001b[0;34m[\u001b[0m\u001b[0;34m-\u001b[0m\u001b[0;36m1\u001b[0m\u001b[0;34m]\u001b[0m\u001b[0;34m\u001b[0m\u001b[0;34m\u001b[0m\u001b[0m\n\u001b[0m",
            "\u001b[0;32m/usr/local/lib/python3.11/dist-packages/pandas/core/series.py\u001b[0m in \u001b[0;36m__getitem__\u001b[0;34m(self, key)\u001b[0m\n\u001b[1;32m   1119\u001b[0m \u001b[0;34m\u001b[0m\u001b[0m\n\u001b[1;32m   1120\u001b[0m         \u001b[0;32melif\u001b[0m \u001b[0mkey_is_scalar\u001b[0m\u001b[0;34m:\u001b[0m\u001b[0;34m\u001b[0m\u001b[0;34m\u001b[0m\u001b[0m\n\u001b[0;32m-> 1121\u001b[0;31m             \u001b[0;32mreturn\u001b[0m \u001b[0mself\u001b[0m\u001b[0;34m.\u001b[0m\u001b[0m_get_value\u001b[0m\u001b[0;34m(\u001b[0m\u001b[0mkey\u001b[0m\u001b[0;34m)\u001b[0m\u001b[0;34m\u001b[0m\u001b[0;34m\u001b[0m\u001b[0m\n\u001b[0m\u001b[1;32m   1122\u001b[0m \u001b[0;34m\u001b[0m\u001b[0m\n\u001b[1;32m   1123\u001b[0m         \u001b[0;31m# Convert generator to list before going through hashable part\u001b[0m\u001b[0;34m\u001b[0m\u001b[0;34m\u001b[0m\u001b[0m\n",
            "\u001b[0;32m/usr/local/lib/python3.11/dist-packages/pandas/core/series.py\u001b[0m in \u001b[0;36m_get_value\u001b[0;34m(self, label, takeable)\u001b[0m\n\u001b[1;32m   1235\u001b[0m \u001b[0;34m\u001b[0m\u001b[0m\n\u001b[1;32m   1236\u001b[0m         \u001b[0;31m# Similar to Index.get_value, but we do not fall back to positional\u001b[0m\u001b[0;34m\u001b[0m\u001b[0;34m\u001b[0m\u001b[0m\n\u001b[0;32m-> 1237\u001b[0;31m         \u001b[0mloc\u001b[0m \u001b[0;34m=\u001b[0m \u001b[0mself\u001b[0m\u001b[0;34m.\u001b[0m\u001b[0mindex\u001b[0m\u001b[0;34m.\u001b[0m\u001b[0mget_loc\u001b[0m\u001b[0;34m(\u001b[0m\u001b[0mlabel\u001b[0m\u001b[0;34m)\u001b[0m\u001b[0;34m\u001b[0m\u001b[0;34m\u001b[0m\u001b[0m\n\u001b[0m\u001b[1;32m   1238\u001b[0m \u001b[0;34m\u001b[0m\u001b[0m\n\u001b[1;32m   1239\u001b[0m         \u001b[0;32mif\u001b[0m \u001b[0mis_integer\u001b[0m\u001b[0;34m(\u001b[0m\u001b[0mloc\u001b[0m\u001b[0;34m)\u001b[0m\u001b[0;34m:\u001b[0m\u001b[0;34m\u001b[0m\u001b[0;34m\u001b[0m\u001b[0m\n",
            "\u001b[0;32m/usr/local/lib/python3.11/dist-packages/pandas/core/indexes/range.py\u001b[0m in \u001b[0;36mget_loc\u001b[0;34m(self, key)\u001b[0m\n\u001b[1;32m    413\u001b[0m                 \u001b[0;32mreturn\u001b[0m \u001b[0mself\u001b[0m\u001b[0;34m.\u001b[0m\u001b[0m_range\u001b[0m\u001b[0;34m.\u001b[0m\u001b[0mindex\u001b[0m\u001b[0;34m(\u001b[0m\u001b[0mnew_key\u001b[0m\u001b[0;34m)\u001b[0m\u001b[0;34m\u001b[0m\u001b[0;34m\u001b[0m\u001b[0m\n\u001b[1;32m    414\u001b[0m             \u001b[0;32mexcept\u001b[0m \u001b[0mValueError\u001b[0m \u001b[0;32mas\u001b[0m \u001b[0merr\u001b[0m\u001b[0;34m:\u001b[0m\u001b[0;34m\u001b[0m\u001b[0;34m\u001b[0m\u001b[0m\n\u001b[0;32m--> 415\u001b[0;31m                 \u001b[0;32mraise\u001b[0m \u001b[0mKeyError\u001b[0m\u001b[0;34m(\u001b[0m\u001b[0mkey\u001b[0m\u001b[0;34m)\u001b[0m \u001b[0;32mfrom\u001b[0m \u001b[0merr\u001b[0m\u001b[0;34m\u001b[0m\u001b[0;34m\u001b[0m\u001b[0m\n\u001b[0m\u001b[1;32m    416\u001b[0m         \u001b[0;32mif\u001b[0m \u001b[0misinstance\u001b[0m\u001b[0;34m(\u001b[0m\u001b[0mkey\u001b[0m\u001b[0;34m,\u001b[0m \u001b[0mHashable\u001b[0m\u001b[0;34m)\u001b[0m\u001b[0;34m:\u001b[0m\u001b[0;34m\u001b[0m\u001b[0;34m\u001b[0m\u001b[0m\n\u001b[1;32m    417\u001b[0m             \u001b[0;32mraise\u001b[0m \u001b[0mKeyError\u001b[0m\u001b[0;34m(\u001b[0m\u001b[0mkey\u001b[0m\u001b[0;34m)\u001b[0m\u001b[0;34m\u001b[0m\u001b[0;34m\u001b[0m\u001b[0m\n",
            "\u001b[0;31mKeyError\u001b[0m: -1"
          ]
        }
      ]
    },
    {
      "cell_type": "code",
      "source": [
        "movies"
      ],
      "metadata": {
        "id": "rSPtzGgrjHpB",
        "colab": {
          "base_uri": "https://localhost:8080/",
          "height": 489
        },
        "outputId": "623b0391-2cfa-485c-9ba2-415ca6480867"
      },
      "execution_count": null,
      "outputs": [
        {
          "output_type": "execute_result",
          "data": {
            "text/plain": [
              "movie\n",
              "1920 (film)                   Rajniesh Duggall\n",
              "1920: London                     Sharman Joshi\n",
              "1920: The Evil Returns             Vicky Ahuja\n",
              "1971 (2007 film)                Manoj Bajpayee\n",
              "2 States (2014 film)              Arjun Kapoor\n",
              "                                   ...        \n",
              "Zindagi 50-50                      Veena Malik\n",
              "Zindagi Na Milegi Dobara        Hrithik Roshan\n",
              "Zindagi Tere Naam           Mithun Chakraborty\n",
              "Zokkomon                       Darsheel Safary\n",
              "Zor Lagaa Ke...Haiya!            Meghan Jadhav\n",
              "Name: lead, Length: 1500, dtype: object"
            ],
            "text/html": [
              "<div>\n",
              "<style scoped>\n",
              "    .dataframe tbody tr th:only-of-type {\n",
              "        vertical-align: middle;\n",
              "    }\n",
              "\n",
              "    .dataframe tbody tr th {\n",
              "        vertical-align: top;\n",
              "    }\n",
              "\n",
              "    .dataframe thead th {\n",
              "        text-align: right;\n",
              "    }\n",
              "</style>\n",
              "<table border=\"1\" class=\"dataframe\">\n",
              "  <thead>\n",
              "    <tr style=\"text-align: right;\">\n",
              "      <th></th>\n",
              "      <th>lead</th>\n",
              "    </tr>\n",
              "    <tr>\n",
              "      <th>movie</th>\n",
              "      <th></th>\n",
              "    </tr>\n",
              "  </thead>\n",
              "  <tbody>\n",
              "    <tr>\n",
              "      <th>1920 (film)</th>\n",
              "      <td>Rajniesh Duggall</td>\n",
              "    </tr>\n",
              "    <tr>\n",
              "      <th>1920: London</th>\n",
              "      <td>Sharman Joshi</td>\n",
              "    </tr>\n",
              "    <tr>\n",
              "      <th>1920: The Evil Returns</th>\n",
              "      <td>Vicky Ahuja</td>\n",
              "    </tr>\n",
              "    <tr>\n",
              "      <th>1971 (2007 film)</th>\n",
              "      <td>Manoj Bajpayee</td>\n",
              "    </tr>\n",
              "    <tr>\n",
              "      <th>2 States (2014 film)</th>\n",
              "      <td>Arjun Kapoor</td>\n",
              "    </tr>\n",
              "    <tr>\n",
              "      <th>...</th>\n",
              "      <td>...</td>\n",
              "    </tr>\n",
              "    <tr>\n",
              "      <th>Zindagi 50-50</th>\n",
              "      <td>Veena Malik</td>\n",
              "    </tr>\n",
              "    <tr>\n",
              "      <th>Zindagi Na Milegi Dobara</th>\n",
              "      <td>Hrithik Roshan</td>\n",
              "    </tr>\n",
              "    <tr>\n",
              "      <th>Zindagi Tere Naam</th>\n",
              "      <td>Mithun Chakraborty</td>\n",
              "    </tr>\n",
              "    <tr>\n",
              "      <th>Zokkomon</th>\n",
              "      <td>Darsheel Safary</td>\n",
              "    </tr>\n",
              "    <tr>\n",
              "      <th>Zor Lagaa Ke...Haiya!</th>\n",
              "      <td>Meghan Jadhav</td>\n",
              "    </tr>\n",
              "  </tbody>\n",
              "</table>\n",
              "<p>1500 rows × 1 columns</p>\n",
              "</div><br><label><b>dtype:</b> object</label>"
            ]
          },
          "metadata": {},
          "execution_count": 63
        }
      ]
    },
    {
      "cell_type": "code",
      "source": [
        "movies[-1] #negative indexing work on only string not numeric"
      ],
      "metadata": {
        "colab": {
          "base_uri": "https://localhost:8080/",
          "height": 90
        },
        "id": "rfEcDXeX92-N",
        "outputId": "dda04985-4675-4e67-8649-0d1510d4eb76"
      },
      "execution_count": null,
      "outputs": [
        {
          "output_type": "stream",
          "name": "stderr",
          "text": [
            "<ipython-input-64-981b45aae000>:1: FutureWarning: Series.__getitem__ treating keys as positions is deprecated. In a future version, integer keys will always be treated as labels (consistent with DataFrame behavior). To access a value by position, use `ser.iloc[pos]`\n",
            "  movies[-1]\n"
          ]
        },
        {
          "output_type": "execute_result",
          "data": {
            "text/plain": [
              "'Meghan Jadhav'"
            ],
            "application/vnd.google.colaboratory.intrinsic+json": {
              "type": "string"
            }
          },
          "metadata": {},
          "execution_count": 64
        }
      ]
    },
    {
      "cell_type": "code",
      "source": [
        "vk[-1]"
      ],
      "metadata": {
        "id": "bsx9_TbLjHr-",
        "colab": {
          "base_uri": "https://localhost:8080/",
          "height": 547
        },
        "outputId": "c0b6b404-0264-4638-af5e-c76c4e265149"
      },
      "execution_count": null,
      "outputs": [
        {
          "output_type": "error",
          "ename": "KeyError",
          "evalue": "-1",
          "traceback": [
            "\u001b[0;31m---------------------------------------------------------------------------\u001b[0m",
            "\u001b[0;31mKeyError\u001b[0m                                  Traceback (most recent call last)",
            "\u001b[0;32m/usr/local/lib/python3.11/dist-packages/pandas/core/indexes/base.py\u001b[0m in \u001b[0;36mget_loc\u001b[0;34m(self, key)\u001b[0m\n\u001b[1;32m   3804\u001b[0m         \u001b[0;32mtry\u001b[0m\u001b[0;34m:\u001b[0m\u001b[0;34m\u001b[0m\u001b[0;34m\u001b[0m\u001b[0m\n\u001b[0;32m-> 3805\u001b[0;31m             \u001b[0;32mreturn\u001b[0m \u001b[0mself\u001b[0m\u001b[0;34m.\u001b[0m\u001b[0m_engine\u001b[0m\u001b[0;34m.\u001b[0m\u001b[0mget_loc\u001b[0m\u001b[0;34m(\u001b[0m\u001b[0mcasted_key\u001b[0m\u001b[0;34m)\u001b[0m\u001b[0;34m\u001b[0m\u001b[0;34m\u001b[0m\u001b[0m\n\u001b[0m\u001b[1;32m   3806\u001b[0m         \u001b[0;32mexcept\u001b[0m \u001b[0mKeyError\u001b[0m \u001b[0;32mas\u001b[0m \u001b[0merr\u001b[0m\u001b[0;34m:\u001b[0m\u001b[0;34m\u001b[0m\u001b[0;34m\u001b[0m\u001b[0m\n",
            "\u001b[0;32mindex.pyx\u001b[0m in \u001b[0;36mpandas._libs.index.IndexEngine.get_loc\u001b[0;34m()\u001b[0m\n",
            "\u001b[0;32mindex.pyx\u001b[0m in \u001b[0;36mpandas._libs.index.IndexEngine.get_loc\u001b[0;34m()\u001b[0m\n",
            "\u001b[0;32mpandas/_libs/hashtable_class_helper.pxi\u001b[0m in \u001b[0;36mpandas._libs.hashtable.Int64HashTable.get_item\u001b[0;34m()\u001b[0m\n",
            "\u001b[0;32mpandas/_libs/hashtable_class_helper.pxi\u001b[0m in \u001b[0;36mpandas._libs.hashtable.Int64HashTable.get_item\u001b[0;34m()\u001b[0m\n",
            "\u001b[0;31mKeyError\u001b[0m: -1",
            "\nThe above exception was the direct cause of the following exception:\n",
            "\u001b[0;31mKeyError\u001b[0m                                  Traceback (most recent call last)",
            "\u001b[0;32m<ipython-input-66-8ecb27b68523>\u001b[0m in \u001b[0;36m<cell line: 0>\u001b[0;34m()\u001b[0m\n\u001b[0;32m----> 1\u001b[0;31m \u001b[0mvk\u001b[0m\u001b[0;34m[\u001b[0m\u001b[0;34m-\u001b[0m\u001b[0;36m1\u001b[0m\u001b[0;34m]\u001b[0m\u001b[0;34m\u001b[0m\u001b[0;34m\u001b[0m\u001b[0m\n\u001b[0m",
            "\u001b[0;32m/usr/local/lib/python3.11/dist-packages/pandas/core/series.py\u001b[0m in \u001b[0;36m__getitem__\u001b[0;34m(self, key)\u001b[0m\n\u001b[1;32m   1119\u001b[0m \u001b[0;34m\u001b[0m\u001b[0m\n\u001b[1;32m   1120\u001b[0m         \u001b[0;32melif\u001b[0m \u001b[0mkey_is_scalar\u001b[0m\u001b[0;34m:\u001b[0m\u001b[0;34m\u001b[0m\u001b[0;34m\u001b[0m\u001b[0m\n\u001b[0;32m-> 1121\u001b[0;31m             \u001b[0;32mreturn\u001b[0m \u001b[0mself\u001b[0m\u001b[0;34m.\u001b[0m\u001b[0m_get_value\u001b[0m\u001b[0;34m(\u001b[0m\u001b[0mkey\u001b[0m\u001b[0;34m)\u001b[0m\u001b[0;34m\u001b[0m\u001b[0;34m\u001b[0m\u001b[0m\n\u001b[0m\u001b[1;32m   1122\u001b[0m \u001b[0;34m\u001b[0m\u001b[0m\n\u001b[1;32m   1123\u001b[0m         \u001b[0;31m# Convert generator to list before going through hashable part\u001b[0m\u001b[0;34m\u001b[0m\u001b[0;34m\u001b[0m\u001b[0m\n",
            "\u001b[0;32m/usr/local/lib/python3.11/dist-packages/pandas/core/series.py\u001b[0m in \u001b[0;36m_get_value\u001b[0;34m(self, label, takeable)\u001b[0m\n\u001b[1;32m   1235\u001b[0m \u001b[0;34m\u001b[0m\u001b[0m\n\u001b[1;32m   1236\u001b[0m         \u001b[0;31m# Similar to Index.get_value, but we do not fall back to positional\u001b[0m\u001b[0;34m\u001b[0m\u001b[0;34m\u001b[0m\u001b[0m\n\u001b[0;32m-> 1237\u001b[0;31m         \u001b[0mloc\u001b[0m \u001b[0;34m=\u001b[0m \u001b[0mself\u001b[0m\u001b[0;34m.\u001b[0m\u001b[0mindex\u001b[0m\u001b[0;34m.\u001b[0m\u001b[0mget_loc\u001b[0m\u001b[0;34m(\u001b[0m\u001b[0mlabel\u001b[0m\u001b[0;34m)\u001b[0m\u001b[0;34m\u001b[0m\u001b[0;34m\u001b[0m\u001b[0m\n\u001b[0m\u001b[1;32m   1238\u001b[0m \u001b[0;34m\u001b[0m\u001b[0m\n\u001b[1;32m   1239\u001b[0m         \u001b[0;32mif\u001b[0m \u001b[0mis_integer\u001b[0m\u001b[0;34m(\u001b[0m\u001b[0mloc\u001b[0m\u001b[0;34m)\u001b[0m\u001b[0;34m:\u001b[0m\u001b[0;34m\u001b[0m\u001b[0;34m\u001b[0m\u001b[0m\n",
            "\u001b[0;32m/usr/local/lib/python3.11/dist-packages/pandas/core/indexes/base.py\u001b[0m in \u001b[0;36mget_loc\u001b[0;34m(self, key)\u001b[0m\n\u001b[1;32m   3810\u001b[0m             ):\n\u001b[1;32m   3811\u001b[0m                 \u001b[0;32mraise\u001b[0m \u001b[0mInvalidIndexError\u001b[0m\u001b[0;34m(\u001b[0m\u001b[0mkey\u001b[0m\u001b[0;34m)\u001b[0m\u001b[0;34m\u001b[0m\u001b[0;34m\u001b[0m\u001b[0m\n\u001b[0;32m-> 3812\u001b[0;31m             \u001b[0;32mraise\u001b[0m \u001b[0mKeyError\u001b[0m\u001b[0;34m(\u001b[0m\u001b[0mkey\u001b[0m\u001b[0;34m)\u001b[0m \u001b[0;32mfrom\u001b[0m \u001b[0merr\u001b[0m\u001b[0;34m\u001b[0m\u001b[0;34m\u001b[0m\u001b[0m\n\u001b[0m\u001b[1;32m   3813\u001b[0m         \u001b[0;32mexcept\u001b[0m \u001b[0mTypeError\u001b[0m\u001b[0;34m:\u001b[0m\u001b[0;34m\u001b[0m\u001b[0;34m\u001b[0m\u001b[0m\n\u001b[1;32m   3814\u001b[0m             \u001b[0;31m# If we have a listlike key, _check_indexing_error will raise\u001b[0m\u001b[0;34m\u001b[0m\u001b[0;34m\u001b[0m\u001b[0m\n",
            "\u001b[0;31mKeyError\u001b[0m: -1"
          ]
        }
      ]
    },
    {
      "cell_type": "code",
      "source": [
        "marks_series[-1]"
      ],
      "metadata": {
        "id": "JTPnPsXjjHve",
        "colab": {
          "base_uri": "https://localhost:8080/"
        },
        "outputId": "7daa670f-3418-4b7d-de62-b16b02412260"
      },
      "execution_count": null,
      "outputs": [
        {
          "output_type": "stream",
          "name": "stderr",
          "text": [
            "<ipython-input-65-14301c43e6a1>:1: FutureWarning: Series.__getitem__ treating keys as positions is deprecated. In a future version, integer keys will always be treated as labels (consistent with DataFrame behavior). To access a value by position, use `ser.iloc[pos]`\n",
            "  marks_series[-1]\n"
          ]
        },
        {
          "output_type": "execute_result",
          "data": {
            "text/plain": [
              "np.int64(100)"
            ]
          },
          "metadata": {},
          "execution_count": 65
        }
      ]
    },
    {
      "cell_type": "code",
      "source": [
        "# slicing\n",
        "vk[5:16]"
      ],
      "metadata": {
        "id": "dLgX2vp_jHyb",
        "colab": {
          "base_uri": "https://localhost:8080/",
          "height": 460
        },
        "outputId": "4b164eb7-23fc-4ff9-95d8-1a575f2c8548"
      },
      "execution_count": null,
      "outputs": [
        {
          "output_type": "execute_result",
          "data": {
            "text/plain": [
              "match_no\n",
              "6      9\n",
              "7     34\n",
              "8      0\n",
              "9     21\n",
              "10     3\n",
              "11    10\n",
              "12    38\n",
              "13     3\n",
              "14    11\n",
              "15    50\n",
              "16     2\n",
              "Name: runs, dtype: int64"
            ],
            "text/html": [
              "<div>\n",
              "<style scoped>\n",
              "    .dataframe tbody tr th:only-of-type {\n",
              "        vertical-align: middle;\n",
              "    }\n",
              "\n",
              "    .dataframe tbody tr th {\n",
              "        vertical-align: top;\n",
              "    }\n",
              "\n",
              "    .dataframe thead th {\n",
              "        text-align: right;\n",
              "    }\n",
              "</style>\n",
              "<table border=\"1\" class=\"dataframe\">\n",
              "  <thead>\n",
              "    <tr style=\"text-align: right;\">\n",
              "      <th></th>\n",
              "      <th>runs</th>\n",
              "    </tr>\n",
              "    <tr>\n",
              "      <th>match_no</th>\n",
              "      <th></th>\n",
              "    </tr>\n",
              "  </thead>\n",
              "  <tbody>\n",
              "    <tr>\n",
              "      <th>6</th>\n",
              "      <td>9</td>\n",
              "    </tr>\n",
              "    <tr>\n",
              "      <th>7</th>\n",
              "      <td>34</td>\n",
              "    </tr>\n",
              "    <tr>\n",
              "      <th>8</th>\n",
              "      <td>0</td>\n",
              "    </tr>\n",
              "    <tr>\n",
              "      <th>9</th>\n",
              "      <td>21</td>\n",
              "    </tr>\n",
              "    <tr>\n",
              "      <th>10</th>\n",
              "      <td>3</td>\n",
              "    </tr>\n",
              "    <tr>\n",
              "      <th>11</th>\n",
              "      <td>10</td>\n",
              "    </tr>\n",
              "    <tr>\n",
              "      <th>12</th>\n",
              "      <td>38</td>\n",
              "    </tr>\n",
              "    <tr>\n",
              "      <th>13</th>\n",
              "      <td>3</td>\n",
              "    </tr>\n",
              "    <tr>\n",
              "      <th>14</th>\n",
              "      <td>11</td>\n",
              "    </tr>\n",
              "    <tr>\n",
              "      <th>15</th>\n",
              "      <td>50</td>\n",
              "    </tr>\n",
              "    <tr>\n",
              "      <th>16</th>\n",
              "      <td>2</td>\n",
              "    </tr>\n",
              "  </tbody>\n",
              "</table>\n",
              "</div><br><label><b>dtype:</b> int64</label>"
            ]
          },
          "metadata": {},
          "execution_count": 67
        }
      ]
    },
    {
      "cell_type": "code",
      "source": [
        "# negative slicing\n",
        "vk[-5:]"
      ],
      "metadata": {
        "id": "LkAJVHQLjH1s",
        "colab": {
          "base_uri": "https://localhost:8080/",
          "height": 272
        },
        "outputId": "6647a99c-18cd-4cdf-c3e0-33e3f5237215"
      },
      "execution_count": null,
      "outputs": [
        {
          "output_type": "execute_result",
          "data": {
            "text/plain": [
              "match_no\n",
              "211     0\n",
              "212    20\n",
              "213    73\n",
              "214    25\n",
              "215     7\n",
              "Name: runs, dtype: int64"
            ],
            "text/html": [
              "<div>\n",
              "<style scoped>\n",
              "    .dataframe tbody tr th:only-of-type {\n",
              "        vertical-align: middle;\n",
              "    }\n",
              "\n",
              "    .dataframe tbody tr th {\n",
              "        vertical-align: top;\n",
              "    }\n",
              "\n",
              "    .dataframe thead th {\n",
              "        text-align: right;\n",
              "    }\n",
              "</style>\n",
              "<table border=\"1\" class=\"dataframe\">\n",
              "  <thead>\n",
              "    <tr style=\"text-align: right;\">\n",
              "      <th></th>\n",
              "      <th>runs</th>\n",
              "    </tr>\n",
              "    <tr>\n",
              "      <th>match_no</th>\n",
              "      <th></th>\n",
              "    </tr>\n",
              "  </thead>\n",
              "  <tbody>\n",
              "    <tr>\n",
              "      <th>211</th>\n",
              "      <td>0</td>\n",
              "    </tr>\n",
              "    <tr>\n",
              "      <th>212</th>\n",
              "      <td>20</td>\n",
              "    </tr>\n",
              "    <tr>\n",
              "      <th>213</th>\n",
              "      <td>73</td>\n",
              "    </tr>\n",
              "    <tr>\n",
              "      <th>214</th>\n",
              "      <td>25</td>\n",
              "    </tr>\n",
              "    <tr>\n",
              "      <th>215</th>\n",
              "      <td>7</td>\n",
              "    </tr>\n",
              "  </tbody>\n",
              "</table>\n",
              "</div><br><label><b>dtype:</b> int64</label>"
            ]
          },
          "metadata": {},
          "execution_count": 68
        }
      ]
    },
    {
      "cell_type": "code",
      "source": [
        "movies[::2]"
      ],
      "metadata": {
        "id": "M6QEt2MhjH4p",
        "colab": {
          "base_uri": "https://localhost:8080/",
          "height": 489
        },
        "outputId": "249e05ee-8e4e-4bc7-fe6a-c930a566393b"
      },
      "execution_count": null,
      "outputs": [
        {
          "output_type": "execute_result",
          "data": {
            "text/plain": [
              "movie\n",
              "1920 (film)                 Rajniesh Duggall\n",
              "1920: The Evil Returns           Vicky Ahuja\n",
              "2 States (2014 film)            Arjun Kapoor\n",
              "3 A.M. (2014 film)             Salil Acharya\n",
              "3 Idiots                          Aamir Khan\n",
              "                                  ...       \n",
              "Zero (2018 film)              Shah Rukh Khan\n",
              "Zila Ghaziabad                  Vivek Oberoi\n",
              "Zindaggi Rocks                  Sushmita Sen\n",
              "Zindagi Na Milegi Dobara      Hrithik Roshan\n",
              "Zokkomon                     Darsheel Safary\n",
              "Name: lead, Length: 750, dtype: object"
            ],
            "text/html": [
              "<div>\n",
              "<style scoped>\n",
              "    .dataframe tbody tr th:only-of-type {\n",
              "        vertical-align: middle;\n",
              "    }\n",
              "\n",
              "    .dataframe tbody tr th {\n",
              "        vertical-align: top;\n",
              "    }\n",
              "\n",
              "    .dataframe thead th {\n",
              "        text-align: right;\n",
              "    }\n",
              "</style>\n",
              "<table border=\"1\" class=\"dataframe\">\n",
              "  <thead>\n",
              "    <tr style=\"text-align: right;\">\n",
              "      <th></th>\n",
              "      <th>lead</th>\n",
              "    </tr>\n",
              "    <tr>\n",
              "      <th>movie</th>\n",
              "      <th></th>\n",
              "    </tr>\n",
              "  </thead>\n",
              "  <tbody>\n",
              "    <tr>\n",
              "      <th>1920 (film)</th>\n",
              "      <td>Rajniesh Duggall</td>\n",
              "    </tr>\n",
              "    <tr>\n",
              "      <th>1920: The Evil Returns</th>\n",
              "      <td>Vicky Ahuja</td>\n",
              "    </tr>\n",
              "    <tr>\n",
              "      <th>2 States (2014 film)</th>\n",
              "      <td>Arjun Kapoor</td>\n",
              "    </tr>\n",
              "    <tr>\n",
              "      <th>3 A.M. (2014 film)</th>\n",
              "      <td>Salil Acharya</td>\n",
              "    </tr>\n",
              "    <tr>\n",
              "      <th>3 Idiots</th>\n",
              "      <td>Aamir Khan</td>\n",
              "    </tr>\n",
              "    <tr>\n",
              "      <th>...</th>\n",
              "      <td>...</td>\n",
              "    </tr>\n",
              "    <tr>\n",
              "      <th>Zero (2018 film)</th>\n",
              "      <td>Shah Rukh Khan</td>\n",
              "    </tr>\n",
              "    <tr>\n",
              "      <th>Zila Ghaziabad</th>\n",
              "      <td>Vivek Oberoi</td>\n",
              "    </tr>\n",
              "    <tr>\n",
              "      <th>Zindaggi Rocks</th>\n",
              "      <td>Sushmita Sen</td>\n",
              "    </tr>\n",
              "    <tr>\n",
              "      <th>Zindagi Na Milegi Dobara</th>\n",
              "      <td>Hrithik Roshan</td>\n",
              "    </tr>\n",
              "    <tr>\n",
              "      <th>Zokkomon</th>\n",
              "      <td>Darsheel Safary</td>\n",
              "    </tr>\n",
              "  </tbody>\n",
              "</table>\n",
              "<p>750 rows × 1 columns</p>\n",
              "</div><br><label><b>dtype:</b> object</label>"
            ]
          },
          "metadata": {},
          "execution_count": 69
        }
      ]
    },
    {
      "cell_type": "code",
      "source": [
        "# fancy indexing\n",
        "vk[[1,3,4,5]]"
      ],
      "metadata": {
        "id": "IH8tVpUZjH7W",
        "colab": {
          "base_uri": "https://localhost:8080/",
          "height": 241
        },
        "outputId": "4b2b2b1e-04fe-4a66-bc00-fefe1ad347af"
      },
      "execution_count": null,
      "outputs": [
        {
          "output_type": "execute_result",
          "data": {
            "text/plain": [
              "match_no\n",
              "1     1\n",
              "3    13\n",
              "4    12\n",
              "5     1\n",
              "Name: runs, dtype: int64"
            ],
            "text/html": [
              "<div>\n",
              "<style scoped>\n",
              "    .dataframe tbody tr th:only-of-type {\n",
              "        vertical-align: middle;\n",
              "    }\n",
              "\n",
              "    .dataframe tbody tr th {\n",
              "        vertical-align: top;\n",
              "    }\n",
              "\n",
              "    .dataframe thead th {\n",
              "        text-align: right;\n",
              "    }\n",
              "</style>\n",
              "<table border=\"1\" class=\"dataframe\">\n",
              "  <thead>\n",
              "    <tr style=\"text-align: right;\">\n",
              "      <th></th>\n",
              "      <th>runs</th>\n",
              "    </tr>\n",
              "    <tr>\n",
              "      <th>match_no</th>\n",
              "      <th></th>\n",
              "    </tr>\n",
              "  </thead>\n",
              "  <tbody>\n",
              "    <tr>\n",
              "      <th>1</th>\n",
              "      <td>1</td>\n",
              "    </tr>\n",
              "    <tr>\n",
              "      <th>3</th>\n",
              "      <td>13</td>\n",
              "    </tr>\n",
              "    <tr>\n",
              "      <th>4</th>\n",
              "      <td>12</td>\n",
              "    </tr>\n",
              "    <tr>\n",
              "      <th>5</th>\n",
              "      <td>1</td>\n",
              "    </tr>\n",
              "  </tbody>\n",
              "</table>\n",
              "</div><br><label><b>dtype:</b> int64</label>"
            ]
          },
          "metadata": {},
          "execution_count": 70
        }
      ]
    },
    {
      "cell_type": "code",
      "source": [
        "# indexing with labels -> fancy indexing\n",
        "movies['2 States (2014 film)']"
      ],
      "metadata": {
        "id": "vizLestdjH-n",
        "colab": {
          "base_uri": "https://localhost:8080/",
          "height": 36
        },
        "outputId": "4e956ace-3b2b-456a-d90c-d4c91990adbf"
      },
      "execution_count": null,
      "outputs": [
        {
          "output_type": "execute_result",
          "data": {
            "text/plain": [
              "'Arjun Kapoor'"
            ],
            "application/vnd.google.colaboratory.intrinsic+json": {
              "type": "string"
            }
          },
          "metadata": {},
          "execution_count": 71
        }
      ]
    },
    {
      "cell_type": "code",
      "source": [
        "#Editing Series"
      ],
      "metadata": {
        "id": "syNwyi6RjIBy"
      },
      "execution_count": null,
      "outputs": []
    },
    {
      "cell_type": "code",
      "source": [
        "# using indexing\n",
        "marks_series[1] = 100\n",
        "marks_series"
      ],
      "metadata": {
        "id": "SjxXNG_QjIEh",
        "colab": {
          "base_uri": "https://localhost:8080/",
          "height": 264
        },
        "outputId": "2fcf91b8-9147-4e77-bfc3-f1565ad13069"
      },
      "execution_count": null,
      "outputs": [
        {
          "output_type": "stream",
          "name": "stderr",
          "text": [
            "<ipython-input-72-5ecc88122c9f>:2: FutureWarning: Series.__setitem__ treating keys as positions is deprecated. In a future version, integer keys will always be treated as labels (consistent with DataFrame behavior). To set a value by position, use `ser.iloc[pos] = value`\n",
            "  marks_series[1] = 100\n"
          ]
        },
        {
          "output_type": "execute_result",
          "data": {
            "text/plain": [
              "maths       67\n",
              "english    100\n",
              "science     89\n",
              "hindi      100\n",
              "Name: nitish ke marks, dtype: int64"
            ],
            "text/html": [
              "<div>\n",
              "<style scoped>\n",
              "    .dataframe tbody tr th:only-of-type {\n",
              "        vertical-align: middle;\n",
              "    }\n",
              "\n",
              "    .dataframe tbody tr th {\n",
              "        vertical-align: top;\n",
              "    }\n",
              "\n",
              "    .dataframe thead th {\n",
              "        text-align: right;\n",
              "    }\n",
              "</style>\n",
              "<table border=\"1\" class=\"dataframe\">\n",
              "  <thead>\n",
              "    <tr style=\"text-align: right;\">\n",
              "      <th></th>\n",
              "      <th>nitish ke marks</th>\n",
              "    </tr>\n",
              "  </thead>\n",
              "  <tbody>\n",
              "    <tr>\n",
              "      <th>maths</th>\n",
              "      <td>67</td>\n",
              "    </tr>\n",
              "    <tr>\n",
              "      <th>english</th>\n",
              "      <td>100</td>\n",
              "    </tr>\n",
              "    <tr>\n",
              "      <th>science</th>\n",
              "      <td>89</td>\n",
              "    </tr>\n",
              "    <tr>\n",
              "      <th>hindi</th>\n",
              "      <td>100</td>\n",
              "    </tr>\n",
              "  </tbody>\n",
              "</table>\n",
              "</div><br><label><b>dtype:</b> int64</label>"
            ]
          },
          "metadata": {},
          "execution_count": 72
        }
      ]
    },
    {
      "cell_type": "code",
      "source": [
        "# what if an index does not exist\n",
        "marks_series['evs'] = 100"
      ],
      "metadata": {
        "id": "AuyzRcYqjIHl"
      },
      "execution_count": null,
      "outputs": []
    },
    {
      "cell_type": "code",
      "source": [
        "marks_series"
      ],
      "metadata": {
        "id": "sXWpPFVXjIKY",
        "colab": {
          "base_uri": "https://localhost:8080/",
          "height": 241
        },
        "outputId": "cd884300-b48a-4df8-a995-5162384834e6"
      },
      "execution_count": null,
      "outputs": [
        {
          "output_type": "execute_result",
          "data": {
            "text/plain": [
              "maths       67\n",
              "english    100\n",
              "science     89\n",
              "hindi      100\n",
              "evs        100\n",
              "Name: nitish ke marks, dtype: int64"
            ],
            "text/html": [
              "<div>\n",
              "<style scoped>\n",
              "    .dataframe tbody tr th:only-of-type {\n",
              "        vertical-align: middle;\n",
              "    }\n",
              "\n",
              "    .dataframe tbody tr th {\n",
              "        vertical-align: top;\n",
              "    }\n",
              "\n",
              "    .dataframe thead th {\n",
              "        text-align: right;\n",
              "    }\n",
              "</style>\n",
              "<table border=\"1\" class=\"dataframe\">\n",
              "  <thead>\n",
              "    <tr style=\"text-align: right;\">\n",
              "      <th></th>\n",
              "      <th>nitish ke marks</th>\n",
              "    </tr>\n",
              "  </thead>\n",
              "  <tbody>\n",
              "    <tr>\n",
              "      <th>maths</th>\n",
              "      <td>67</td>\n",
              "    </tr>\n",
              "    <tr>\n",
              "      <th>english</th>\n",
              "      <td>100</td>\n",
              "    </tr>\n",
              "    <tr>\n",
              "      <th>science</th>\n",
              "      <td>89</td>\n",
              "    </tr>\n",
              "    <tr>\n",
              "      <th>hindi</th>\n",
              "      <td>100</td>\n",
              "    </tr>\n",
              "    <tr>\n",
              "      <th>evs</th>\n",
              "      <td>100</td>\n",
              "    </tr>\n",
              "  </tbody>\n",
              "</table>\n",
              "</div><br><label><b>dtype:</b> int64</label>"
            ]
          },
          "metadata": {},
          "execution_count": 74
        }
      ]
    },
    {
      "cell_type": "code",
      "source": [
        "# slicing\n",
        "runs_ser[2:4] = [100,100]\n",
        "runs_ser"
      ],
      "metadata": {
        "id": "M8gORgrsjINC",
        "colab": {
          "base_uri": "https://localhost:8080/",
          "height": 241
        },
        "outputId": "3c7b46cc-f9a2-4c3a-c0d3-9325a9780236"
      },
      "execution_count": null,
      "outputs": [
        {
          "output_type": "execute_result",
          "data": {
            "text/plain": [
              "0      0\n",
              "1     24\n",
              "2    100\n",
              "3    100\n",
              "4      0\n",
              "dtype: int64"
            ],
            "text/html": [
              "<div>\n",
              "<style scoped>\n",
              "    .dataframe tbody tr th:only-of-type {\n",
              "        vertical-align: middle;\n",
              "    }\n",
              "\n",
              "    .dataframe tbody tr th {\n",
              "        vertical-align: top;\n",
              "    }\n",
              "\n",
              "    .dataframe thead th {\n",
              "        text-align: right;\n",
              "    }\n",
              "</style>\n",
              "<table border=\"1\" class=\"dataframe\">\n",
              "  <thead>\n",
              "    <tr style=\"text-align: right;\">\n",
              "      <th></th>\n",
              "      <th>0</th>\n",
              "    </tr>\n",
              "  </thead>\n",
              "  <tbody>\n",
              "    <tr>\n",
              "      <th>0</th>\n",
              "      <td>0</td>\n",
              "    </tr>\n",
              "    <tr>\n",
              "      <th>1</th>\n",
              "      <td>24</td>\n",
              "    </tr>\n",
              "    <tr>\n",
              "      <th>2</th>\n",
              "      <td>100</td>\n",
              "    </tr>\n",
              "    <tr>\n",
              "      <th>3</th>\n",
              "      <td>100</td>\n",
              "    </tr>\n",
              "    <tr>\n",
              "      <th>4</th>\n",
              "      <td>0</td>\n",
              "    </tr>\n",
              "  </tbody>\n",
              "</table>\n",
              "</div><br><label><b>dtype:</b> int64</label>"
            ]
          },
          "metadata": {},
          "execution_count": 76
        }
      ]
    },
    {
      "cell_type": "code",
      "source": [
        "# fancy indexing\n",
        "runs_ser[[0,3,4]] = [0,0,0]\n",
        "runs_ser"
      ],
      "metadata": {
        "id": "1wdX876mjIQL",
        "colab": {
          "base_uri": "https://localhost:8080/",
          "height": 241
        },
        "outputId": "1cb228cf-ee05-48ae-8047-206438b2eeb8"
      },
      "execution_count": null,
      "outputs": [
        {
          "output_type": "execute_result",
          "data": {
            "text/plain": [
              "0      0\n",
              "1     24\n",
              "2    100\n",
              "3      0\n",
              "4      0\n",
              "dtype: int64"
            ],
            "text/html": [
              "<div>\n",
              "<style scoped>\n",
              "    .dataframe tbody tr th:only-of-type {\n",
              "        vertical-align: middle;\n",
              "    }\n",
              "\n",
              "    .dataframe tbody tr th {\n",
              "        vertical-align: top;\n",
              "    }\n",
              "\n",
              "    .dataframe thead th {\n",
              "        text-align: right;\n",
              "    }\n",
              "</style>\n",
              "<table border=\"1\" class=\"dataframe\">\n",
              "  <thead>\n",
              "    <tr style=\"text-align: right;\">\n",
              "      <th></th>\n",
              "      <th>0</th>\n",
              "    </tr>\n",
              "  </thead>\n",
              "  <tbody>\n",
              "    <tr>\n",
              "      <th>0</th>\n",
              "      <td>0</td>\n",
              "    </tr>\n",
              "    <tr>\n",
              "      <th>1</th>\n",
              "      <td>24</td>\n",
              "    </tr>\n",
              "    <tr>\n",
              "      <th>2</th>\n",
              "      <td>100</td>\n",
              "    </tr>\n",
              "    <tr>\n",
              "      <th>3</th>\n",
              "      <td>0</td>\n",
              "    </tr>\n",
              "    <tr>\n",
              "      <th>4</th>\n",
              "      <td>0</td>\n",
              "    </tr>\n",
              "  </tbody>\n",
              "</table>\n",
              "</div><br><label><b>dtype:</b> int64</label>"
            ]
          },
          "metadata": {},
          "execution_count": 77
        }
      ]
    },
    {
      "cell_type": "code",
      "source": [
        "# using index label\n",
        "movies['2 States (2014 film)'] = 'Alia Bhatt'\n",
        "movies"
      ],
      "metadata": {
        "id": "2feOAhxMjISs",
        "colab": {
          "base_uri": "https://localhost:8080/",
          "height": 489
        },
        "outputId": "75d2fd21-6904-474a-9076-41bab9716e8a"
      },
      "execution_count": null,
      "outputs": [
        {
          "output_type": "execute_result",
          "data": {
            "text/plain": [
              "movie\n",
              "1920 (film)                   Rajniesh Duggall\n",
              "1920: London                     Sharman Joshi\n",
              "1920: The Evil Returns             Vicky Ahuja\n",
              "1971 (2007 film)                Manoj Bajpayee\n",
              "2 States (2014 film)                Alia Bhatt\n",
              "                                   ...        \n",
              "Zindagi 50-50                      Veena Malik\n",
              "Zindagi Na Milegi Dobara        Hrithik Roshan\n",
              "Zindagi Tere Naam           Mithun Chakraborty\n",
              "Zokkomon                       Darsheel Safary\n",
              "Zor Lagaa Ke...Haiya!            Meghan Jadhav\n",
              "Name: lead, Length: 1500, dtype: object"
            ],
            "text/html": [
              "<div>\n",
              "<style scoped>\n",
              "    .dataframe tbody tr th:only-of-type {\n",
              "        vertical-align: middle;\n",
              "    }\n",
              "\n",
              "    .dataframe tbody tr th {\n",
              "        vertical-align: top;\n",
              "    }\n",
              "\n",
              "    .dataframe thead th {\n",
              "        text-align: right;\n",
              "    }\n",
              "</style>\n",
              "<table border=\"1\" class=\"dataframe\">\n",
              "  <thead>\n",
              "    <tr style=\"text-align: right;\">\n",
              "      <th></th>\n",
              "      <th>lead</th>\n",
              "    </tr>\n",
              "    <tr>\n",
              "      <th>movie</th>\n",
              "      <th></th>\n",
              "    </tr>\n",
              "  </thead>\n",
              "  <tbody>\n",
              "    <tr>\n",
              "      <th>1920 (film)</th>\n",
              "      <td>Rajniesh Duggall</td>\n",
              "    </tr>\n",
              "    <tr>\n",
              "      <th>1920: London</th>\n",
              "      <td>Sharman Joshi</td>\n",
              "    </tr>\n",
              "    <tr>\n",
              "      <th>1920: The Evil Returns</th>\n",
              "      <td>Vicky Ahuja</td>\n",
              "    </tr>\n",
              "    <tr>\n",
              "      <th>1971 (2007 film)</th>\n",
              "      <td>Manoj Bajpayee</td>\n",
              "    </tr>\n",
              "    <tr>\n",
              "      <th>2 States (2014 film)</th>\n",
              "      <td>Alia Bhatt</td>\n",
              "    </tr>\n",
              "    <tr>\n",
              "      <th>...</th>\n",
              "      <td>...</td>\n",
              "    </tr>\n",
              "    <tr>\n",
              "      <th>Zindagi 50-50</th>\n",
              "      <td>Veena Malik</td>\n",
              "    </tr>\n",
              "    <tr>\n",
              "      <th>Zindagi Na Milegi Dobara</th>\n",
              "      <td>Hrithik Roshan</td>\n",
              "    </tr>\n",
              "    <tr>\n",
              "      <th>Zindagi Tere Naam</th>\n",
              "      <td>Mithun Chakraborty</td>\n",
              "    </tr>\n",
              "    <tr>\n",
              "      <th>Zokkomon</th>\n",
              "      <td>Darsheel Safary</td>\n",
              "    </tr>\n",
              "    <tr>\n",
              "      <th>Zor Lagaa Ke...Haiya!</th>\n",
              "      <td>Meghan Jadhav</td>\n",
              "    </tr>\n",
              "  </tbody>\n",
              "</table>\n",
              "<p>1500 rows × 1 columns</p>\n",
              "</div><br><label><b>dtype:</b> object</label>"
            ]
          },
          "metadata": {},
          "execution_count": 78
        }
      ]
    },
    {
      "cell_type": "code",
      "source": [
        "#Copy and Views"
      ],
      "metadata": {
        "id": "Jq-myb2VjIWH"
      },
      "execution_count": null,
      "outputs": []
    },
    {
      "cell_type": "code",
      "source": [
        "#Series with Python Functionalities"
      ],
      "metadata": {
        "id": "lCgyUvIb_Qrq"
      },
      "execution_count": null,
      "outputs": []
    },
    {
      "cell_type": "code",
      "source": [
        "# len/type/dir/sorted/max/min\n",
        "print(len(subs))\n",
        "print(type(subs))\n",
        "print(dir(subs)) #attribute methos show\n",
        "print(sorted(subs))\n",
        "print(min(subs))\n",
        "print(max(subs))"
      ],
      "metadata": {
        "colab": {
          "base_uri": "https://localhost:8080/"
        },
        "id": "wIFIpbgx_Qu-",
        "outputId": "eedb9689-5e62-4135-d649-ce44fa8bdf97"
      },
      "execution_count": null,
      "outputs": [
        {
          "output_type": "stream",
          "name": "stdout",
          "text": [
            "365\n",
            "<class 'pandas.core.series.Series'>\n",
            "['T', '_AXIS_LEN', '_AXIS_ORDERS', '_AXIS_TO_AXIS_NUMBER', '_HANDLED_TYPES', '__abs__', '__add__', '__and__', '__annotations__', '__array__', '__array_priority__', '__array_ufunc__', '__bool__', '__class__', '__column_consortium_standard__', '__contains__', '__copy__', '__deepcopy__', '__delattr__', '__delitem__', '__dict__', '__dir__', '__divmod__', '__doc__', '__eq__', '__finalize__', '__float__', '__floordiv__', '__format__', '__ge__', '__getattr__', '__getattribute__', '__getitem__', '__getstate__', '__gt__', '__hash__', '__iadd__', '__iand__', '__ifloordiv__', '__imod__', '__imul__', '__init__', '__init_subclass__', '__int__', '__invert__', '__ior__', '__ipow__', '__isub__', '__iter__', '__itruediv__', '__ixor__', '__le__', '__len__', '__lt__', '__matmul__', '__mod__', '__module__', '__mul__', '__ne__', '__neg__', '__new__', '__nonzero__', '__or__', '__pandas_priority__', '__pos__', '__pow__', '__radd__', '__rand__', '__rdivmod__', '__reduce__', '__reduce_ex__', '__repr__', '__rfloordiv__', '__rmatmul__', '__rmod__', '__rmul__', '__ror__', '__round__', '__rpow__', '__rsub__', '__rtruediv__', '__rxor__', '__setattr__', '__setitem__', '__setstate__', '__sizeof__', '__str__', '__sub__', '__subclasshook__', '__truediv__', '__weakref__', '__xor__', '_accessors', '_accum_func', '_agg_examples_doc', '_agg_see_also_doc', '_align_for_op', '_align_frame', '_align_series', '_append', '_arith_method', '_as_manager', '_attrs', '_binop', '_cacher', '_can_hold_na', '_check_inplace_and_allows_duplicate_labels', '_check_is_chained_assignment_possible', '_check_label_or_level_ambiguity', '_check_setitem_copy', '_clear_item_cache', '_clip_with_one_bound', '_clip_with_scalar', '_cmp_method', '_consolidate', '_consolidate_inplace', '_construct_axes_dict', '_construct_result', '_constructor', '_constructor_expanddim', '_constructor_expanddim_from_mgr', '_constructor_from_mgr', '_data', '_deprecate_downcast', '_dir_additions', '_dir_deletions', '_drop_axis', '_drop_labels_or_levels', '_duplicated', '_find_valid_index', '_flags', '_flex_method', '_from_mgr', '_get_axis', '_get_axis_name', '_get_axis_number', '_get_axis_resolvers', '_get_block_manager_axis', '_get_bool_data', '_get_cacher', '_get_cleaned_column_resolvers', '_get_index_resolvers', '_get_label_or_level_values', '_get_numeric_data', '_get_rows_with_mask', '_get_value', '_get_values_tuple', '_get_with', '_getitem_slice', '_gotitem', '_hidden_attrs', '_indexed_same', '_info_axis', '_info_axis_name', '_info_axis_number', '_init_dict', '_init_mgr', '_inplace_method', '_internal_names', '_internal_names_set', '_is_cached', '_is_copy', '_is_label_or_level_reference', '_is_label_reference', '_is_level_reference', '_is_mixed_type', '_is_view', '_is_view_after_cow_rules', '_item_cache', '_ixs', '_logical_func', '_logical_method', '_map_values', '_maybe_update_cacher', '_memory_usage', '_metadata', '_mgr', '_min_count_stat_function', '_name', '_needs_reindex_multi', '_pad_or_backfill', '_protect_consolidate', '_reduce', '_references', '_reindex_axes', '_reindex_indexer', '_reindex_multi', '_reindex_with_indexers', '_rename', '_replace_single', '_repr_data_resource_', '_repr_latex_', '_reset_cache', '_reset_cacher', '_set_as_cached', '_set_axis', '_set_axis_name', '_set_axis_nocheck', '_set_is_copy', '_set_labels', '_set_name', '_set_value', '_set_values', '_set_with', '_set_with_engine', '_shift_with_freq', '_slice', '_stat_function', '_stat_function_ddof', '_take_with_is_copy', '_to_latex_via_styler', '_typ', '_update_inplace', '_validate_dtype', '_values', '_where', 'abs', 'add', 'add_prefix', 'add_suffix', 'agg', 'aggregate', 'align', 'all', 'any', 'apply', 'argmax', 'argmin', 'argsort', 'array', 'asfreq', 'asof', 'astype', 'at', 'at_time', 'attrs', 'autocorr', 'axes', 'backfill', 'between', 'between_time', 'bfill', 'bool', 'case_when', 'clip', 'combine', 'combine_first', 'compare', 'convert_dtypes', 'copy', 'corr', 'count', 'cov', 'cummax', 'cummin', 'cumprod', 'cumsum', 'describe', 'diff', 'div', 'divide', 'divmod', 'dot', 'drop', 'drop_duplicates', 'droplevel', 'dropna', 'dtype', 'dtypes', 'duplicated', 'empty', 'eq', 'equals', 'ewm', 'expanding', 'explode', 'factorize', 'ffill', 'fillna', 'filter', 'first', 'first_valid_index', 'flags', 'floordiv', 'ge', 'get', 'groupby', 'gt', 'hasnans', 'head', 'hist', 'iat', 'idxmax', 'idxmin', 'iloc', 'index', 'infer_objects', 'info', 'interpolate', 'is_monotonic_decreasing', 'is_monotonic_increasing', 'is_unique', 'isin', 'isna', 'isnull', 'item', 'items', 'keys', 'kurt', 'kurtosis', 'last', 'last_valid_index', 'le', 'list', 'loc', 'lt', 'map', 'mask', 'max', 'mean', 'median', 'memory_usage', 'min', 'mod', 'mode', 'mul', 'multiply', 'name', 'nbytes', 'ndim', 'ne', 'nlargest', 'notna', 'notnull', 'nsmallest', 'nunique', 'pad', 'pct_change', 'pipe', 'plot', 'pop', 'pow', 'prod', 'product', 'quantile', 'radd', 'rank', 'ravel', 'rdiv', 'rdivmod', 'reindex', 'reindex_like', 'rename', 'rename_axis', 'reorder_levels', 'repeat', 'replace', 'resample', 'reset_index', 'rfloordiv', 'rmod', 'rmul', 'rolling', 'round', 'rpow', 'rsub', 'rtruediv', 'sample', 'searchsorted', 'sem', 'set_axis', 'set_flags', 'shape', 'shift', 'size', 'skew', 'sort_index', 'sort_values', 'squeeze', 'std', 'struct', 'sub', 'subtract', 'sum', 'swapaxes', 'swaplevel', 'tail', 'take', 'to_clipboard', 'to_csv', 'to_dict', 'to_excel', 'to_frame', 'to_hdf', 'to_json', 'to_latex', 'to_list', 'to_markdown', 'to_numpy', 'to_period', 'to_pickle', 'to_sql', 'to_string', 'to_timestamp', 'to_xarray', 'transform', 'transpose', 'truediv', 'truncate', 'tz_convert', 'tz_localize', 'unique', 'unstack', 'update', 'value_counts', 'values', 'var', 'view', 'where', 'xs']\n",
            "[33, 33, 35, 37, 39, 40, 40, 40, 40, 42, 42, 43, 44, 44, 44, 45, 46, 46, 48, 49, 49, 49, 49, 50, 50, 50, 51, 54, 56, 56, 56, 56, 57, 61, 62, 64, 65, 65, 66, 66, 66, 66, 67, 68, 70, 70, 70, 71, 71, 72, 72, 72, 72, 72, 73, 74, 74, 75, 76, 76, 76, 76, 77, 77, 78, 78, 78, 79, 79, 80, 80, 80, 81, 81, 82, 82, 83, 83, 83, 84, 84, 84, 85, 86, 86, 86, 87, 87, 87, 87, 88, 88, 88, 88, 88, 89, 89, 89, 90, 90, 90, 90, 91, 92, 92, 92, 93, 93, 93, 93, 95, 95, 96, 96, 96, 96, 97, 97, 98, 98, 99, 99, 100, 100, 100, 101, 101, 101, 102, 102, 103, 103, 104, 104, 104, 105, 105, 105, 105, 105, 105, 105, 105, 105, 108, 108, 108, 108, 108, 108, 109, 109, 110, 110, 110, 111, 111, 112, 113, 113, 113, 114, 114, 114, 114, 115, 115, 115, 115, 117, 117, 117, 118, 118, 119, 119, 119, 119, 120, 122, 123, 123, 123, 123, 123, 124, 125, 126, 127, 128, 128, 129, 130, 131, 131, 132, 132, 134, 134, 134, 135, 135, 136, 136, 136, 137, 138, 138, 138, 139, 140, 144, 145, 146, 146, 146, 146, 147, 149, 150, 150, 150, 150, 151, 152, 152, 152, 153, 153, 153, 154, 154, 154, 155, 155, 156, 156, 156, 156, 157, 157, 157, 157, 158, 158, 159, 159, 160, 160, 160, 160, 162, 164, 166, 167, 167, 168, 170, 170, 170, 170, 171, 172, 172, 173, 173, 173, 174, 174, 175, 175, 176, 176, 177, 178, 179, 179, 180, 180, 180, 182, 183, 183, 183, 184, 184, 184, 185, 185, 185, 185, 186, 186, 186, 188, 189, 190, 190, 192, 192, 192, 196, 196, 196, 197, 197, 202, 202, 202, 203, 204, 206, 207, 209, 210, 210, 211, 212, 213, 214, 216, 219, 220, 221, 221, 222, 222, 224, 225, 225, 226, 227, 228, 229, 230, 231, 233, 236, 236, 237, 241, 243, 244, 245, 247, 249, 254, 254, 258, 259, 259, 261, 261, 265, 267, 268, 269, 276, 276, 290, 295, 301, 306, 312, 396]\n",
            "33\n",
            "396\n"
          ]
        }
      ]
    },
    {
      "cell_type": "code",
      "source": [
        "# type conversion another datatype\n",
        "list(marks_series)"
      ],
      "metadata": {
        "colab": {
          "base_uri": "https://localhost:8080/"
        },
        "id": "bERC94c__Qxq",
        "outputId": "39852bbd-0956-438b-e828-f4cad59cb744"
      },
      "execution_count": null,
      "outputs": [
        {
          "output_type": "execute_result",
          "data": {
            "text/plain": [
              "[67, 100, 89, 100, 100]"
            ]
          },
          "metadata": {},
          "execution_count": 82
        }
      ]
    },
    {
      "cell_type": "code",
      "source": [
        "dict(marks_series)"
      ],
      "metadata": {
        "colab": {
          "base_uri": "https://localhost:8080/"
        },
        "id": "-dKQTzvQ_Q0W",
        "outputId": "34e0fbf3-18f0-4b15-9034-70a66d23479d"
      },
      "execution_count": null,
      "outputs": [
        {
          "output_type": "execute_result",
          "data": {
            "text/plain": [
              "{'maths': np.int64(67),\n",
              " 'english': np.int64(100),\n",
              " 'science': np.int64(89),\n",
              " 'hindi': np.int64(100),\n",
              " 'evs': np.int64(100)}"
            ]
          },
          "metadata": {},
          "execution_count": 81
        }
      ]
    },
    {
      "cell_type": "code",
      "source": [
        "# membership operator index search only on index value\n",
        "\n",
        "'2 States (2014 film)' in movies"
      ],
      "metadata": {
        "colab": {
          "base_uri": "https://localhost:8080/"
        },
        "id": "Lx9X04_n_Q3J",
        "outputId": "3511dfdf-1f46-4a17-df51-fd4fc345f73e"
      },
      "execution_count": null,
      "outputs": [
        {
          "output_type": "execute_result",
          "data": {
            "text/plain": [
              "True"
            ]
          },
          "metadata": {},
          "execution_count": 83
        }
      ]
    },
    {
      "cell_type": "code",
      "source": [
        "'Alia Bhatt' in movies.values #values"
      ],
      "metadata": {
        "id": "5y-BZ5Ry_Q5j"
      },
      "execution_count": null,
      "outputs": []
    },
    {
      "cell_type": "code",
      "source": [
        "movies"
      ],
      "metadata": {
        "colab": {
          "base_uri": "https://localhost:8080/",
          "height": 489
        },
        "id": "6yVvwKdA_Q8b",
        "outputId": "ce36a76c-6177-4433-e897-da6150ddc520"
      },
      "execution_count": null,
      "outputs": [
        {
          "output_type": "execute_result",
          "data": {
            "text/plain": [
              "movie\n",
              "1920 (film)                   Rajniesh Duggall\n",
              "1920: London                     Sharman Joshi\n",
              "1920: The Evil Returns             Vicky Ahuja\n",
              "1971 (2007 film)                Manoj Bajpayee\n",
              "2 States (2014 film)                Alia Bhatt\n",
              "                                   ...        \n",
              "Zindagi 50-50                      Veena Malik\n",
              "Zindagi Na Milegi Dobara        Hrithik Roshan\n",
              "Zindagi Tere Naam           Mithun Chakraborty\n",
              "Zokkomon                       Darsheel Safary\n",
              "Zor Lagaa Ke...Haiya!            Meghan Jadhav\n",
              "Name: lead, Length: 1500, dtype: object"
            ],
            "text/html": [
              "<div>\n",
              "<style scoped>\n",
              "    .dataframe tbody tr th:only-of-type {\n",
              "        vertical-align: middle;\n",
              "    }\n",
              "\n",
              "    .dataframe tbody tr th {\n",
              "        vertical-align: top;\n",
              "    }\n",
              "\n",
              "    .dataframe thead th {\n",
              "        text-align: right;\n",
              "    }\n",
              "</style>\n",
              "<table border=\"1\" class=\"dataframe\">\n",
              "  <thead>\n",
              "    <tr style=\"text-align: right;\">\n",
              "      <th></th>\n",
              "      <th>lead</th>\n",
              "    </tr>\n",
              "    <tr>\n",
              "      <th>movie</th>\n",
              "      <th></th>\n",
              "    </tr>\n",
              "  </thead>\n",
              "  <tbody>\n",
              "    <tr>\n",
              "      <th>1920 (film)</th>\n",
              "      <td>Rajniesh Duggall</td>\n",
              "    </tr>\n",
              "    <tr>\n",
              "      <th>1920: London</th>\n",
              "      <td>Sharman Joshi</td>\n",
              "    </tr>\n",
              "    <tr>\n",
              "      <th>1920: The Evil Returns</th>\n",
              "      <td>Vicky Ahuja</td>\n",
              "    </tr>\n",
              "    <tr>\n",
              "      <th>1971 (2007 film)</th>\n",
              "      <td>Manoj Bajpayee</td>\n",
              "    </tr>\n",
              "    <tr>\n",
              "      <th>2 States (2014 film)</th>\n",
              "      <td>Alia Bhatt</td>\n",
              "    </tr>\n",
              "    <tr>\n",
              "      <th>...</th>\n",
              "      <td>...</td>\n",
              "    </tr>\n",
              "    <tr>\n",
              "      <th>Zindagi 50-50</th>\n",
              "      <td>Veena Malik</td>\n",
              "    </tr>\n",
              "    <tr>\n",
              "      <th>Zindagi Na Milegi Dobara</th>\n",
              "      <td>Hrithik Roshan</td>\n",
              "    </tr>\n",
              "    <tr>\n",
              "      <th>Zindagi Tere Naam</th>\n",
              "      <td>Mithun Chakraborty</td>\n",
              "    </tr>\n",
              "    <tr>\n",
              "      <th>Zokkomon</th>\n",
              "      <td>Darsheel Safary</td>\n",
              "    </tr>\n",
              "    <tr>\n",
              "      <th>Zor Lagaa Ke...Haiya!</th>\n",
              "      <td>Meghan Jadhav</td>\n",
              "    </tr>\n",
              "  </tbody>\n",
              "</table>\n",
              "<p>1500 rows × 1 columns</p>\n",
              "</div><br><label><b>dtype:</b> object</label>"
            ]
          },
          "metadata": {},
          "execution_count": 84
        }
      ]
    },
    {
      "cell_type": "code",
      "source": [
        "# looping run on values###\n",
        "for i in movies.index:\n",
        "  print(i)"
      ],
      "metadata": {
        "colab": {
          "base_uri": "https://localhost:8080/"
        },
        "id": "l_VdmdvQ_Q_G",
        "outputId": "4addd648-8e08-46a4-d1bf-d5d44338132b"
      },
      "execution_count": null,
      "outputs": [
        {
          "output_type": "stream",
          "name": "stdout",
          "text": [
            "1920 (film)\n",
            "1920: London\n",
            "1920: The Evil Returns\n",
            "1971 (2007 film)\n",
            "2 States (2014 film)\n",
            "22 Yards\n",
            "3 A.M. (2014 film)\n",
            "3 Deewarein\n",
            "3 Idiots\n",
            "3 Storeys\n",
            "31st October (film)\n",
            "36 China Town\n",
            "3G (film)\n",
            "404 (film)\n",
            "5 Weddings\n",
            "68 Pages\n",
            "7 Hours to Go\n",
            "7 Khoon Maaf\n",
            "7½ Phere\n",
            "88 Antop Hill\n",
            "99 (2009 film)\n",
            "99.9 FM (film)\n",
            "?: A Question Mark\n",
            "A Decent Arrangement\n",
            "A Flat (film)\n",
            "A Flying Jatt\n",
            "A Gentleman\n",
            "ABCD 2\n",
            "Aa Dekhen Zara\n",
            "Aa Gaya Hero\n",
            "Aabra Ka Daabra\n",
            "Aag (2007 film)\n",
            "Aagey Se Right\n",
            "Aaj Ka Andha Kanoon\n",
            "Aaja Nachle\n",
            "Aakhari Decision\n",
            "Aakrosh (2010 film)\n",
            "Aalaap (film)\n",
            "Aan: Men at Work\n",
            "Aanch\n",
            "Aankhen (2002 film)\n",
            "Aap Kaa Surroor\n",
            "Aap Ki Khatir (2006 film)\n",
            "Aapko Pehle Bhi Kahin Dekha Hai\n",
            "Aarakshan\n",
            "Aashayein\n",
            "Aashiq Banaya Aapne\n",
            "Aashiqui 2\n",
            "Aashiqui.in\n",
            "Aasma: The Sky Is the Limit\n",
            "Aazaan\n",
            "Ab Tak Chhappan 2\n",
            "Ab Tumhare Hawale Watan Saathiyo\n",
            "Accident on Hill Road\n",
            "Acid Factory\n",
            "Action Jackson (2014 film)\n",
            "Action Replayy\n",
            "Adharm (2006 film)\n",
            "Ae Dil Hai Mushkil\n",
            "Aetbaar\n",
            "Agent Vinod (2012 film)\n",
            "Aggar (film)\n",
            "Agneepath (2012 film)\n",
            "Agnipankh\n",
            "Ahista Ahista (2006 film)\n",
            "Airlift (film)\n",
            "Aisa Kyon Hota Hai?\n",
            "Aisa Yeh Jahaan\n",
            "Aitraaz\n",
            "Aiyaary\n",
            "Aiyyaa\n",
            "Ajab Gazabb Love\n",
            "Ajab Prem Ki Ghazab Kahani\n",
            "Ajji\n",
            "Akaash Vani\n",
            "Aksar\n",
            "Aksar 2\n",
            "Aladin (film)\n",
            "Alag\n",
            "Albert Pinto Ko Gussa Kyun Aata Hai?\n",
            "Aligarh (film)\n",
            "All Is Well (2015 film)\n",
            "All the Best: Fun Begins\n",
            "Allah Ke Banday\n",
            "Alone (2015 Hindi film)\n",
            "Aloo Chaat (film)\n",
            "Always Kabhi Kabhi\n",
            "Amavas\n",
            "Amit Sahni Ki List\n",
            "Anaarkali of Aarah\n",
            "Anamika (2008 film)\n",
            "Andaaz\n",
            "Andaaz\n",
            "Andhadhun\n",
            "Angel (2011 film)\n",
            "Anjaana Anjaani\n",
            "Anjaane (2005 film)\n",
            "Ankahee (2006 film)\n",
            "Ankhon Dekhi\n",
            "Ankur Arora Murder Case\n",
            "Anna (2016 film)\n",
            "Antardwand\n",
            "Anthony Kaun Hai?\n",
            "Anuradha (2014 film)\n",
            "Anwar (2007 film)\n",
            "Apaharan\n",
            "Apartment (film)\n",
            "Apna Asmaan\n",
            "Apna Sapna Money Money\n",
            "Apne\n",
            "Arjun Patiala\n",
            "Arjun: The Warrior Prince\n",
            "Armaan (2003 film)\n",
            "Article 15 (film)\n",
            "Aryan: Unbreakable\n",
            "Asambhav\n",
            "Ata Pata Laapata\n",
            "Aur Pappu Paas Ho Gaya\n",
            "Aurangzeb (film)\n",
            "Aval (2017 film)\n",
            "Awara Paagal Deewana\n",
            "Awarapan\n",
            "Azhar (film)\n",
            "B.A. Pass\n",
            "Baabarr\n",
            "Baabul (2006 film)\n",
            "Baaghi (2016 film)\n",
            "Baaghi 2\n",
            "Baar Baar Dekho\n",
            "Baat Bann Gayi\n",
            "Baaz: A Bird in Danger\n",
            "Baazaar\n",
            "Babloo Happy Hai\n",
            "Babuji Ek Ticket Bambai\n",
            "Babumoshai Bandookbaaz\n",
            "Baby (2015 Hindi film)\n",
            "Bachche Kachche Sachche\n",
            "Bachke Rehna Re Baba\n",
            "Bachna Ae Haseeno\n",
            "Badhaai Ho\n",
            "Badla (2019 film)\n",
            "Badlapur (film)\n",
            "Badlapur Boys\n",
            "Badmashiyaan\n",
            "Badrinath Ki Dulhania\n",
            "Baghban (2003 film)\n",
            "Bajatey Raho\n",
            "Bajirao Mastani\n",
            "Bajrangi Bhaijaan\n",
            "Bala (2019 film)\n",
            "Balwinder Singh Famous Ho Gaya\n",
            "Banaras (2006 film)\n",
            "Band Baaja Baaraat\n",
            "Bandook\n",
            "Bang Bang!\n",
            "Bangistan\n",
            "Banjo (2016 film)\n",
            "Bank Chor\n",
            "Barah Aana\n",
            "Bardaasht\n",
            "Bareilly Ki Barfi\n",
            "Barfi!\n",
            "Barkhaa\n",
            "Barsaat (2005 film)\n",
            "Bas Ek Pal\n",
            "Basti (film)\n",
            "Batla House\n",
            "Battalion 609\n",
            "Batti Gul Meter Chalu\n",
            "Bazaar E Husn\n",
            "Bbuddah... Hoga Terra Baap\n",
            "Befikre\n",
            "Begum Jaan\n",
            "Behen Hogi Teri\n",
            "Beiimaan Love\n",
            "Being Cyrus\n",
            "Bewafaa (2005 film)\n",
            "Bewakoofiyaan\n",
            "Beyond the Clouds (2017 film)\n",
            "Bezubaan Ishq\n",
            "Bhaag Johnny\n",
            "Bhaag Milkha Bhaag\n",
            "Bhagam Bhag\n",
            "Bhagmati (2005 film)\n",
            "Bhaiaji Superhit\n",
            "Bhanwarey\n",
            "Bhavesh Joshi Superhero\n",
            "Bheja Fry (film)\n",
            "Bheja Fry 2\n",
            "Bhola in Bollywood\n",
            "Bhool Bhulaiyaa\n",
            "Bhoomi (film)\n",
            "Bhoot (film)\n",
            "Bhoot Returns\n",
            "Bhoot Unkle\n",
            "Bhoothnath\n",
            "Bhoothnath Returns\n",
            "Bhopal: A Prayer for Rain\n",
            "Bhram\n",
            "Big Brother (2007 film)\n",
            "Billu\n",
            "Bin Bulaye Baraati\n",
            "Bioscopewala\n",
            "Bittoo Boss\n",
            "Black (2005 film)\n",
            "Black Friday (2007 film)\n",
            "Blackmail (2005 film)\n",
            "Blood Brothers (2007 Indian film)\n",
            "Blood Money (2012 film)\n",
            "Bloody Isshq\n",
            "Blue (2009 film)\n",
            "Bluffmaster!\n",
            "Bobby Jasoos\n",
            "Bodyguard (2011 Hindi film)\n",
            "Bol Bachchan\n",
            "Bollywood Diaries\n",
            "Bombairiya\n",
            "Bombay Talkies (film)\n",
            "Bombay Velvet\n",
            "Bombay to Bangkok\n",
            "Bombay to Goa (2007 film)\n",
            "Boom (film)\n",
            "Border (1997 film)\n",
            "Boss (2013 Hindi film)\n",
            "Brahman Naman\n",
            "Break Ke Baad\n",
            "Breakaway (2011 film)\n",
            "Brij Mohan Amar Rahe\n",
            "Brothers (2015 film)\n",
            "Bubble Gum (film)\n",
            "Buddha Mar Gaya\n",
            "Buddha in a Traffic Jam\n",
            "Bullet: Ek Dhamaka\n",
            "Bullett Raja\n",
            "Bumboo\n",
            "Bumm Bumm Bole\n",
            "Bumper Draw\n",
            "Bunty Aur Babli\n",
            "Bypass Road (film)\n",
            "C Kkompany\n",
            "Calapor (film)\n",
            "Calcutta Mail\n",
            "Calendar Girls (2015 film)\n",
            "Cash (2007 film)\n",
            "Chaahat – Ek Nasha\n",
            "Chaalis Chauraasi\n",
            "Chaar Din Ki Chandni\n",
            "Chaarfutiya Chhokare\n",
            "Chak De! India\n",
            "Chakravyuh (2012 film)\n",
            "Chal Chala Chal\n",
            "Chal Pichchur Banate Hain\n",
            "Chalk n Duster\n",
            "Challo Driver\n",
            "Chalo Dilli\n",
            "Chalte Chalte (2003 film)\n",
            "Chameli (film)\n",
            "Chamku\n",
            "Chance Pe Dance\n",
            "Chand Ke Paar Chalo (film)\n",
            "Chand Sa Roshan Chehra\n",
            "Chandni Chowk to China\n",
            "Charas (2004 film)\n",
            "Chargesheet (film)\n",
            "Chase (2010 film)\n",
            "Chashme Baddoor (2013 film)\n",
            "Chatur Singh Two Star\n",
            "Cheeni Kum\n",
            "Chef (2017 film)\n",
            "Chehraa\n",
            "Chennai Express\n",
            "Chetna: The Excitement\n",
            "Chhodon Naa Yaar\n",
            "Chhota Bheem and the Throne of Bali\n",
            "Chicken Curry Law\n",
            "Children of Heaven\n",
            "Children of War (2014 film)\n",
            "Chillar Party\n",
            "Chinar Daastaan-E-Ishq\n",
            "Chingaari\n",
            "Chintu Ji\n",
            "Chittagong (film)\n",
            "Chocolate (2005 film)\n",
            "Chor Chor Super Chor\n",
            "Chori Chori (2003 film)\n",
            "Chup Chup Ke\n",
            "Chura Liyaa Hai Tumne\n",
            "Cigarette Ki Tarah\n",
            "City of Gold (2010 film)\n",
            "CityLights (2014 film)\n",
            "Classic – Dance of Love\n",
            "Click (2010 film)\n",
            "Cocktail (2012 film)\n",
            "Coffee Bloom\n",
            "Coffee with D\n",
            "Commando 3 (film)\n",
            "Commando: A One Man Army\n",
            "Company (film)\n",
            "Contract (2008 film)\n",
            "Corporate (2006 film)\n",
            "Court (film)\n",
            "Crazy Cukkad Family\n",
            "Creature 3D\n",
            "Crook (film)\n",
            "D (film)\n",
            "D-Day (2013 film)\n",
            "Daas Dev\n",
            "Daawat-e-Ishq\n",
            "Dabangg\n",
            "Dabangg 2\n",
            "Dabangg 3\n",
            "Daddy (2017 film)\n",
            "Daddy Cool (2009 Hindi film)\n",
            "Damadamm!\n",
            "Dangal (film)\n",
            "Dangerous Ishhq\n",
            "Darling (2007 Indian film)\n",
            "Darna Mana Hai\n",
            "Darna Zaroori Hai\n",
            "Darr @ the Mall\n",
            "Darwaaza Bandh Rakho\n",
            "Dassehra\n",
            "Dasvidaniya\n",
            "Days of Tafree\n",
            "De Dana Dan\n",
            "De De Pyaar De\n",
            "De Taali\n",
            "Deadline: Sirf 24 Ghante\n",
            "Dear Dad (film)\n",
            "Dear Friend Hitler\n",
            "Dear Maya\n",
            "Dear Zindagi\n",
            "Dedh Ishqiya\n",
            "Deewaar (2004 film)\n",
            "Deewane Huye Paagal\n",
            "Dehraadun Diary\n",
            "Dekh Tamasha Dekh\n",
            "Delhi Belly (film)\n",
            "Delhi Safari\n",
            "Delhi-6\n",
            "Department (film)\n",
            "Deshdrohi\n",
            "Desi Boyz\n",
            "Desi Kattey\n",
            "Detective Byomkesh Bakshy!\n",
            "Dev (2004 film)\n",
            "Devaki (2005 film)\n",
            "Devdas (2002 Hindi film)\n",
            "Devi (2016 film)\n",
            "Dhadak\n",
            "Dhamaal\n",
            "Dhanak\n",
            "Dharam Sankat Mein\n",
            "Dharm (film)\n",
            "Dharti Kahe Pukar Ke (2006 film)\n",
            "Dhobi Ghat (film)\n",
            "Dhokha\n",
            "Dhol (film)\n",
            "Dhoom\n",
            "Dhoom 2\n",
            "Dhoom 3\n",
            "Dhoondte Reh Jaaoge\n",
            "Dhoop\n",
            "Dhund (2003 film)\n",
            "Dil Bechara\n",
            "Dil Bechara Pyaar Ka Maara\n",
            "Dil Bole Hadippa!\n",
            "Dil Dhadakne Do\n",
            "Dil Diya Hai\n",
            "Dil Dosti Etc\n",
            "Dil Jo Bhi Kahey...\n",
            "Dil Jo Na Keh Saka\n",
            "Dil Juunglee\n",
            "Dil Ka Rishta\n",
            "Dil Kabaddi\n",
            "Dil Maange More\n",
            "Dil Ne Jise Apna Kahaa\n",
            "Dil Pardesi Ho Gayaa\n",
            "Dil Toh Baccha Hai Ji\n",
            "Dil Toh Deewana Hai\n",
            "Dilliwali Zaalim Girlfriend\n",
            "Dilwale (2015 film)\n",
            "Direct Ishq\n",
            "Dirty Politics (film)\n",
            "Dishkiyaoon\n",
            "Dishoom\n",
            "Do Dooni Chaar\n",
            "Do Lafzon Ki Kahani (film)\n",
            "Dobaara: See Your Evil\n",
            "Dobara\n",
            "Dolly Ki Doli\n",
            "Don (2006 Hindi film)\n",
            "Don 2\n",
            "Don Muthu Swami\n",
            "Don't Stop Dreaming\n",
            "Dongari Ka Raja\n",
            "Dor (film)\n",
            "Dostana (2008 film)\n",
            "Dosti: Friends Forever\n",
            "Double Cross (2005 film)\n",
            "Double Dhamaal\n",
            "Dream Girl (2019 film)\n",
            "Dreams (2006 film)\n",
            "Drishyam (2015 film)\n",
            "Drona (2008 film)\n",
            "Dude Where's the Party?\n",
            "Dulha Mil Gaya\n",
            "Dum (2003 Hindi film)\n",
            "Dum Laga Ke Haisha\n",
            "Dum Maaro Dum (film)\n",
            "Dunno Y... Na Jaane Kyon\n",
            "Dus\n",
            "Dus Kahaniyaan\n",
            "Eight: The Power of Shani\n",
            "Ek Ajnabee\n",
            "Ek Alag Mausam\n",
            "Ek Aur Ek Gyarah\n",
            "Ek Chalis Ki Last Local\n",
            "Ek Din 24 Ghante\n",
            "Ek Haseena Thi Ek Deewana Tha\n",
            "Ek Hasina Thi (film)\n",
            "Ek Kahani Julie Ki\n",
            "Ek Khiladi Ek Haseena (film)\n",
            "Ek Main Aur Ekk Tu\n",
            "Ek Paheli Leela\n",
            "Ek Se Badhkar Ek (2004 film)\n",
            "Ek Se Bure Do\n",
            "Ek Second... Jo Zindagi Badal De?\n",
            "Ek Tha Tiger\n",
            "Ek Thi Daayan\n",
            "Ek Thi Rani Aisi Bhi\n",
            "Ek Villain\n",
            "Ek Vivaah... Aisa Bhi\n",
            "Ek: The Power of One\n",
            "Ekk Deewana Tha\n",
            "Ekkees Toppon Ki Salaami\n",
            "Eklavya: The Royal Guard\n",
            "Elaan (2005 film)\n",
            "Enemmy\n",
            "English Vinglish\n",
            "Entertainment (2014 film)\n",
            "Escape from Taliban\n",
            "Evening Shadows\n",
            "F.A.L.T.U\n",
            "Family (2006 film)\n",
            "Family of Thakurganj\n",
            "Familywala\n",
            "Fan (film)\n",
            "Fanaa (2006 film)\n",
            "Fareb (2005 film)\n",
            "Fashion (2008 film)\n",
            "Fatso!\n",
            "Ferrari Ki Sawaari\n",
            "Fever (2016 film)\n",
            "Fida\n",
            "Fight Club – Members Only\n",
            "Filmistaan\n",
            "Finding Fanny\n",
            "Firaaq\n",
            "Firangi\n",
            "Fitoor\n",
            "Flat 211\n",
            "Flavors (film)\n",
            "Fool & Final\n",
            "Footpath (2003 film)\n",
            "Force (2011 film)\n",
            "Force 2\n",
            "Fox (film)\n",
            "Fraud Saiyaan\n",
            "Freaky Ali\n",
            "Fredrick (film)\n",
            "From Sydney with Love\n",
            "Fruit and Nut (film)\n",
            "FryDay\n",
            "Fuddu\n",
            "Fugly (film)\n",
            "Fukrey\n",
            "Fukrey Returns\n",
            "Fun – Can Be Dangerous Sometimes\n",
            "Fun2shh... Dudes in the 10th Century\n",
            "G Kutta Se\n",
            "Gabbar Is Back\n",
            "Gabbar Is Back\n",
            "Gali Guleiyan\n",
            "Game (2011 film)\n",
            "Gandhi My Father\n",
            "Gang of Ghosts\n",
            "Gangaajal\n",
            "Gangoobai\n",
            "Gangs of Wasseypur\n",
            "Gangs of Wasseypur – Part 2\n",
            "Gangster (2006 film)\n",
            "Garam Masala (2005 film)\n",
            "Garv: Pride & Honour\n",
            "Gattu\n",
            "Gauri: The Unborn\n",
            "Gayab\n",
            "Genius (2018 Hindi film)\n",
            "Ghajini (2008 film)\n",
            "Ghanchakkar (film)\n",
            "Ghayal: Once Again\n",
            "Ghost (2012 film)\n",
            "Ghost (2019 film)\n",
            "Gippi\n",
            "Girlfriend (2004 film)\n",
            "Global Baba\n",
            "Go (2007 film)\n",
            "Go Goa Gone\n",
            "Goal (2007 Hindi film)\n",
            "God Tussi Great Ho\n",
            "Gold (2018 film)\n",
            "Goliyon Ki Raasleela Ram-Leela\n",
            "Gollu Aur Pappu\n",
            "Golmaal Again\n",
            "Golmaal Returns\n",
            "Golmaal: Fun Unlimited\n",
            "Gone Kesh\n",
            "Good Boy Bad Boy\n",
            "Good Newwz\n",
            "Gori Tere Pyaar Mein\n",
            "Gour Hari Dastaan\n",
            "Grand Masti\n",
            "Great Grand Masti\n",
            "Green Card Fever\n",
            "Guddu Ki Gun\n",
            "Guddu Rangeela\n",
            "Guest iin London\n",
            "Gulaab Gang\n",
            "Gulaal (film)\n",
            "Gulabi Gang (film)\n",
            "Gully Boy\n",
            "Gumnaam – The Mystery\n",
            "Gunday\n",
            "Guru (2007 film)\n",
            "Guzaarish (film)\n",
            "Haal-e-Dil\n",
            "Haasil\n",
            "Hai Apna Dil Toh Awara\n",
            "Haider (film)\n",
            "Half Girlfriend (film)\n",
            "Halkaa\n",
            "Halla Bol\n",
            "Hamari Adhuri Kahani\n",
            "Hamid (film)\n",
            "Hanuman (2005 film)\n",
            "Happy Bhag Jayegi\n",
            "Happy Ending (film)\n",
            "Happy Husbands (2011 film)\n",
            "Happy New Year (2014 film)\n",
            "Happy Phirr Bhag Jayegi\n",
            "Haraamkhor\n",
            "Hari Puttar: A Comedy of Terrors\n",
            "Hasee Toh Phasee\n",
            "Haseena Parkar\n",
            "Hastey Hastey\n",
            "Hate Story\n",
            "Hate Story 2\n",
            "Hate Story 4\n",
            "Hattrick (film)\n",
            "Hatya (2004 film)\n",
            "Haunted – 3D\n",
            "Hava Aney Dey\n",
            "Hawa (film)\n",
            "Hawaa Hawaai\n",
            "Hawaizaada\n",
            "Hawas (2004 film)\n",
            "Hawayein\n",
            "Hazaaron Khwaishein Aisi\n",
            "Heartless (2014 film)\n",
            "Helicopter Eela\n",
            "Hello (2008 film)\n",
            "Hello Darling\n",
            "Help (film)\n",
            "Hero (2015 Hindi film)\n",
            "Heroes (2008 film)\n",
            "Heroine (2012 film)\n",
            "Heropanti\n",
            "Hey Bro\n",
            "Heyy Babyy\n",
            "Hichki\n",
            "High Jack (film)\n",
            "Highway (2014 Hindi film)\n",
            "Himmatwala (2013 film)\n",
            "Hind Ka Napak Ko Jawab: MSG Lion Heart 2\n",
            "Hindi Medium\n",
            "Hisss\n",
            "Holiday (2006 film)\n",
            "Holiday: A Soldier Is Never Off Duty\n",
            "Home Delivery\n",
            "Honeymoon Travels Pvt. Ltd.\n",
            "Honour Killing (film)\n",
            "Hope Aur Hum\n",
            "Horror Story (film)\n",
            "Hostel (2011 film)\n",
            "Hotel Salvation\n",
            "Housefull (2010 film)\n",
            "Housefull 2\n",
            "Housefull 4\n",
            "Hulchul (2004 film)\n",
            "Hum Chaar\n",
            "Hum Hai Raahi Car Ke\n",
            "Hum Tum\n",
            "Hum Tum Aur Ghost\n",
            "Hum Tum Shabana\n",
            "Hum Tumhare Hain Sanam\n",
            "Hume Tumse Pyaar Kitna\n",
            "Humko Deewana Kar Gaye\n",
            "Humko Tumse Pyaar Hai\n",
            "Humne Jeena Seekh Liya\n",
            "Humpty Sharma Ki Dulhania\n",
            "Humshakals\n",
            "Hungama (2003 film)\n",
            "Hunterrr\n",
            "Hyderabad Blues 2\n",
            "I Am (2010 Indian film)\n",
            "I Am Kalam\n",
            "I Hate Luv Storys\n",
            "I Love Desi\n",
            "I Love NY (2015 film)\n",
            "I Proud to Be an Indian\n",
            "I See You (2006 film)\n",
            "Impatient Vivek\n",
            "India's Most Wanted (film)\n",
            "Indian Babu\n",
            "Indu Sarkar\n",
            "Inkaar (2013 film)\n",
            "Insaaf: The Justice\n",
            "Insan\n",
            "Inteha (2003 film)\n",
            "Inteqam: The Perfect Game\n",
            "Iqbal (film)\n",
            "Iqraar by Chance\n",
            "Irada (2017 film)\n",
            "Irudhi Suttru\n",
            "Ishaqzaade\n",
            "Ishkq in Paris\n",
            "Ishq Click\n",
            "Ishq Forever\n",
            "Ishq Hai Tumse\n",
            "Ishq Ke Parindey\n",
            "Ishq Vishk\n",
            "Ishqedarriyaan\n",
            "Ishqeria\n",
            "Ishqiya\n",
            "Isi Life Mein\n",
            "Island City (2015 film)\n",
            "Issaq\n",
            "It's a Wonderful Afterlife\n",
            "JD (film)\n",
            "Jaal: The Trap\n",
            "Jaan-E-Mann\n",
            "Jaane Hoga Kya\n",
            "Jaane Kahan Se Aayi Hai\n",
            "Jaane Kyun De Yaaron\n",
            "Jab Harry Met Sejal\n",
            "Jab Tak Hai Jaan\n",
            "Jab We Met\n",
            "Jabariya Jodi\n",
            "Jack and Dil\n",
            "Jackpot (2013 film)\n",
            "Jagga Jasoos\n",
            "Jahan Jaaeyega Hamen Paaeyega\n",
            "Jai Chiranjeeva\n",
            "Jai Gangaajal\n",
            "Jai Ho (film)\n",
            "Jai Jawaan Jai Kisaan (film)\n",
            "Jai Veeru\n",
            "Jail (2009 film)\n",
            "Jajantaram Mamantaram\n",
            "Jal (film)\n",
            "Jalebi (film)\n",
            "Jalpari: The Desert Mermaid\n",
            "James (2005 film)\n",
            "Janasheen\n",
            "Jannat (film)\n",
            "Jattu Engineer\n",
            "Jawani Diwani: A Youthful Joyride\n",
            "Jayantabhai Ki Luv Story\n",
            "Jazbaa\n",
            "Jeena Hai Toh Thok Daal\n",
            "Jeena Isi Ka Naam Hai (film)\n",
            "Jhalki\n",
            "Jhankaar Beats\n",
            "Jhoom Barabar Jhoom\n",
            "Jhootha Hi Sahi\n",
            "Jhootha Kahin Ka\n",
            "Jia Aur Jia\n",
            "Jigariyaa\n",
            "Jigyaasa\n",
            "Jimmy (2008 film)\n",
            "Jism (2003 film)\n",
            "Jo Bole So Nihaal (film)\n",
            "Jo Hum Chahein\n",
            "Jodhaa Akbar\n",
            "Jodi Breakers\n",
            "Joggers' Park (film)\n",
            "John Day (film)\n",
            "Johnny Gaddaar\n",
            "Joker (2012 film)\n",
            "Jolly LLB\n",
            "Judgementall Hai Kya\n",
            "Judwaa 2\n",
            "Jugni (2016 film)\n",
            "Julie (2004 film)\n",
            "Julie 2\n",
            "Junglee (2019 film)\n",
            "Junooniyat\n",
            "Jurm (2005 film)\n",
            "Just Married (2007 film)\n",
            "Kaabil\n",
            "Kaagaz Ke Fools\n",
            "Kaal (2005 film)\n",
            "Kaalakaandi\n",
            "Kaalo\n",
            "Kaanchi: The Unbreakable\n",
            "Kaante\n",
            "Kaashi in Search of Ganga\n",
            "Kabhi Alvida Naa Kehna\n",
            "Kabir Singh\n",
            "Kabul Express\n",
            "Kadvi Hawa\n",
            "Kagaar: Life on the Edge\n",
            "Kahaani\n",
            "Kahin Hai Mera Pyar\n",
            "Kai Po Che!\n",
            "Kaise Kahoon Ke... Pyaar Hai\n",
            "Kal Ho Naa Ho\n",
            "Kalank\n",
            "Kalyug (2005 film)\n",
            "Kaminey\n",
            "Kapoor & Sons\n",
            "Karam (film)\n",
            "Karar: The Deal\n",
            "Karle Pyaar Karle\n",
            "Karma Aur Holi\n",
            "Karthik Calling Karthik\n",
            "Karwaan\n",
            "Karzzzz\n",
            "Kasak (2005 film)\n",
            "Kash Aap Hamare Hote\n",
            "Katti Batti\n",
            "Kaun Hai Jo Sapno Mein Aaya\n",
            "Kaun Kitne Paani Mein\n",
            "Keep Safe Distance (film)\n",
            "Kesari (film)\n",
            "Khajoor Pe Atke\n",
            "Khakee\n",
            "Khamosh Pani\n",
            "Khamoshh... Khauff Ki Raat\n",
            "Khamoshi (2019 film)\n",
            "Khamoshiyan\n",
            "Khap (film)\n",
            "Khatta Meetha (2010 film)\n",
            "Khel Toh Ab Shuru Hoga\n",
            "Khel – No Ordinary Game\n",
            "Khichdi: The Movie\n",
            "Khoobsurat (2014 film)\n",
            "Khosla Ka Ghosla\n",
            "Khoya Khoya Chand\n",
            "Khuda Kasam\n",
            "Khushi (2003 Hindi film)\n",
            "Khwaabb\n",
            "Khwahish\n",
            "Ki & Ka\n",
            "Kick (2014 film)\n",
            "Kill Dil\n",
            "Kis Kis Ki Kismat\n",
            "Kis Kisko Pyaar Karoon\n",
            "Kisaan\n",
            "Kismat (2004 film)\n",
            "Kismat Konnection\n",
            "Kismat Love Paisa Dilli\n",
            "Kisna: The Warrior Poet\n",
            "Kisse Pyaar Karoon\n",
            "Kites (film)\n",
            "Knock Out (2010 film)\n",
            "Koi Aap Sa\n",
            "Koi Mere Dil Mein Hai\n",
            "Koi... Mil Gaya\n",
            "Koyelaanchal\n",
            "Krazzy 4\n",
            "Krishna Aur Kans\n",
            "Krishna Cottage\n",
            "Krrish\n",
            "Kucch Luv Jaisaa\n",
            "Kucch To Hai\n",
            "Kuch Kuch Locha Hai\n",
            "Kuch Naa Kaho\n",
            "Kuchh Bheege Alfaaz\n",
            "Kuchh Meetha Ho Jaye\n",
            "Kudiyon Ka Hai Zamana\n",
            "Kuku Mathur Ki Jhand Ho Gayi\n",
            "Kurbaan (2009 film)\n",
            "Kushti (film)\n",
            "Kya Dilli Kya Lahore\n",
            "Kya Love Story Hai\n",
            "Kyaa Kool Hai Hum\n",
            "Kyaa Kool Hain Hum 3\n",
            "Kyaa Super Kool Hain Hum\n",
            "Kyon Ki\n",
            "Kyun! Ho Gaya Na...\n",
            "LOC Kargil\n",
            "Laaga Chunari Mein Daag\n",
            "Laal Rang\n",
            "Ladies vs Ricky Bahl\n",
            "Lafangey Parindey\n",
            "Lage Raho Munna Bhai\n",
            "Lahore (film)\n",
            "Laila Majnu (2018 film)\n",
            "Lakeer – Forbidden Lines\n",
            "Lakshmi (2014 film)\n",
            "Lakshya (film)\n",
            "Lamhaa\n",
            "Lekar Hum Deewana Dil\n",
            "Life Express (2010 film)\n",
            "Life Is Beautiful (2014 film)\n",
            "Life Ki Toh Lag Gayi\n",
            "Life Mein Kabhie Kabhiee\n",
            "Life Partner\n",
            "Life in a... Metro\n",
            "Lipstick Under My Burkha\n",
            "Listen... Amaya\n",
            "Little Zizou\n",
            "Login (film)\n",
            "Loins of Punjab Presents\n",
            "London Dreams\n",
            "Lootera\n",
            "Love Aaj Kal\n",
            "Love Breakups Zindagi\n",
            "Love Games (film)\n",
            "Love Ke Chakkar Mein\n",
            "Love Sex Aur Dhokha\n",
            "Love Shagun\n",
            "Love Sonia\n",
            "Love Story 2050\n",
            "Love U...Mr. Kalakaar!\n",
            "Love in Bombay\n",
            "Love per Square Foot\n",
            "Loveshhuda\n",
            "Luck (2009 film)\n",
            "Luck by Chance\n",
            "Luckhnowi Ishq\n",
            "Lucknow Central\n",
            "Lucky Kabootar\n",
            "Lucky: No Time for Love\n",
            "Luv U Alia\n",
            "Luv U Soniyo\n",
            "M Cream\n",
            "M.S. Dhoni: The Untold Story\n",
            "MP3: Mera Pehla Pehla Pyaar\n",
            "MSG-2 The Messenger\n",
            "MSG: The Messenger\n",
            "MSG: The Warrior Lion Heart\n",
            "Maan Gaye Mughal-e-Azam\n",
            "Maatr\n",
            "Maazii\n",
            "Machhli Jal Ki Rani Hai\n",
            "Machine (2017 film)\n",
            "Mad About Dance\n",
            "Madaari\n",
            "Made in China (2019 film)\n",
            "Madhoshi\n",
            "Madras Cafe\n",
            "Magic Magic 3D\n",
            "Mai (2013 film)\n",
            "Main Aisa Hi Hoon\n",
            "Main Aur Mr. Riight\n",
            "Main Aurr Mrs Khanna\n",
            "Main Hoon Na\n",
            "Main Hoon Part-Time Killer\n",
            "Main Krishna Hoon\n",
            "Main Madhuri Dixit Banna Chahti Hoon\n",
            "Main Meri Patni Aur Woh\n",
            "Main Prem Ki Diwani Hoon\n",
            "Main Tera Hero\n",
            "Maine Gandhi Ko Nahin Mara\n",
            "Maine Pyaar Kyun Kiya?\n",
            "Malamaal Weekly\n",
            "Malik Ek\n",
            "Mangal Pandey: The Rising\n",
            "Manikarnika: The Queen of Jhansi\n",
            "Manjhi – The Mountain Man\n",
            "Manjunath (film)\n",
            "Manmarziyaan\n",
            "Manorama Six Feet Under\n",
            "Manto (2018 film)\n",
            "Mantra (2016 film)\n",
            "Maqbool\n",
            "Mard Ko Dard Nahi Hota\n",
            "Mardaani\n",
            "Mardaani 2\n",
            "Margarita with a Straw\n",
            "Marigold (2007 film)\n",
            "Marjaavaan\n",
            "Market (2003 film)\n",
            "Married 2 America\n",
            "Mary Kom (film)\n",
            "Masaan\n",
            "Masti (2004 film)\n",
            "Mastizaade\n",
            "Mastram\n",
            "Matru Ki Bijlee Ka Mandola\n",
            "Matrubhoomi\n",
            "Mausam (2011 film)\n",
            "Maximum (film)\n",
            "Meenaxi: A Tale of Three Cities\n",
            "Meerabai Not Out\n",
            "Meeruthiya Gangsters\n",
            "Meinu Ek Ladki Chaahiye\n",
            "Memories in March\n",
            "Mercury (film)\n",
            "Mere Baap Pehle Aap\n",
            "Mere Brother Ki Dulhan\n",
            "Mere Dad Ki Maruti\n",
            "Mere Dost Picture Abhi Baki Hai\n",
            "Mere Genie Uncle\n",
            "Mere Jeevan Saathi (2006 film)\n",
            "Mere Pyare Prime Minister\n",
            "Meri Biwi Ka Jawaab Nahin\n",
            "Meri Pyaari Bindu\n",
            "Mickey Virus\n",
            "Milenge Milenge\n",
            "Miley Naa Miley Hum\n",
            "Mirch\n",
            "Mirzya (film)\n",
            "Miss Tanakpur Haazir Ho\n",
            "Missing (2018 film)\n",
            "Mission Istaanbul\n",
            "Mission Mangal\n",
            "Mitron\n",
            "Mittal v/s Mittal\n",
            "Moh Maya Money\n",
            "Mohalla Assi\n",
            "Mohenjo Daro (film)\n",
            "Mom (film)\n",
            "Money Hai Toh Honey Hai\n",
            "Monica (film)\n",
            "Monsoon Shootout\n",
            "Morning Raga\n",
            "Motichoor Chaknachoor\n",
            "Motu Patlu: King of Kings\n",
            "Mr Prime Minister\n",
            "Mr. Bhatti on Chutti\n",
            "Mr. Singh Mrs. Mehta\n",
            "Mr. X (2015 film)\n",
            "Mubarakan\n",
            "Mughal-e-Azam\n",
            "Mujhse Fraaandship Karoge\n",
            "Mujhse Shaadi Karogi\n",
            "Mukhbiir\n",
            "Mukkabaaz\n",
            "Mulk (film)\n",
            "Mumbai 125 KM\n",
            "Mumbai Can Dance Saala\n",
            "Mumbai Delhi Mumbai\n",
            "Mumbai Mast Kallander\n",
            "Mumbai Matinee\n",
            "Mumbai Meri Jaan\n",
            "Mumbai Salsa\n",
            "Mumbai Se Aaya Mera Dost\n",
            "Mumbhai Connection\n",
            "Mummy Punjabi\n",
            "Munna Bhai M.B.B.S.\n",
            "Munna Michael\n",
            "Murari the Mad Gentleman\n",
            "Murder (2004 film)\n",
            "Murder 2\n",
            "Murder 3\n",
            "Musafir (2004 film)\n",
            "Muskaan\n",
            "My Birthday Song\n",
            "My Bollywood Bride\n",
            "My Brother…Nikhil\n",
            "My Friend Pinto\n",
            "My Name Is Khan\n",
            "My Wife's Murder\n",
            "NH-8 Road to Nidhivan\n",
            "NH10 (film)\n",
            "Na Ghar Ke Na Ghaat Ke\n",
            "Naach (2004 film)\n",
            "Naam Shabana\n",
            "Naina (2005 film)\n",
            "Naksha\n",
            "Namaste England\n",
            "Namastey London\n",
            "Nanhe Jaisalmer\n",
            "Nanu Ki Jaanu\n",
            "Naqaab\n",
            "Nasha (film)\n",
            "Naughty @ 40\n",
            "Nautanki Saala!\n",
            "Nawabzaade\n",
            "Nayee Padosan\n",
            "Neal 'n' Nikki\n",
            "Neerja\n",
            "Nehlle Pe Dehlla\n",
            "Netaji Subhas Chandra Bose: The Forgotten Hero\n",
            "New York (2009 film)\n",
            "Newton (film)\n",
            "Nil Battey Sannata\n",
            "Nirdosh\n",
            "Nishabd\n",
            "No Entry\n",
            "No One Killed Jessica\n",
            "No Problem (2010 film)\n",
            "No Smoking (2007 film)\n",
            "Noor (film)\n",
            "Not a Love Story (2011 film)\n",
            "Notebook (2019 film)\n",
            "Nothing but Life\n",
            "O Teri\n",
            "OMG – Oh My God!\n",
            "October (2018 film)\n",
            "Oh My God (2008 film)\n",
            "Ok Jaanu\n",
            "Om (2003 film)\n",
            "Om Shanti Om\n",
            "Om-Dar-B-Dar\n",
            "Omerta (film)\n",
            "Omkara (2006 film)\n",
            "Once Upon a Time in Mumbaai\n",
            "Once Upon ay Time in Mumbai Dobaara!\n",
            "One Day: Justice Delivered\n",
            "One Two Three\n",
            "One by Two (2014 film)\n",
            "Out of Control (2003 film)\n",
            "Oye Lucky! Lucky Oye!\n",
            "P Se PM Tak\n",
            "P Se Pyaar F Se Faraar\n",
            "PK (film)\n",
            "PM Narendra Modi\n",
            "Paa (film)\n",
            "Paan Singh Tomar (film)\n",
            "Paanch Ghantey Mien Paanch Crore\n",
            "Paap\n",
            "Paathshaala\n",
            "Padmaavat\n",
            "Padmashree Laloo Prasad Yadav\n",
            "Pagalpanti (2019 film)\n",
            "Page 3 (film)\n",
            "Paheli\n",
            "Paisa Vasool\n",
            "Pal Pal Dil Ke Paas\n",
            "Paltan (film)\n",
            "Panchlait\n",
            "Pankh\n",
            "Paranthe Wali Gali\n",
            "Parched\n",
            "Parineeta (2005 film)\n",
            "Parmanu: The Story of Pokhran\n",
            "Partner (2007 film)\n",
            "Parwana (2003 film)\n",
            "Pataakha\n",
            "Patel Ki Punjabi Shaadi\n",
            "Pati Patni Aur Woh (2019 film)\n",
            "Patiala House (film)\n",
            "Paying Guests\n",
            "Peepli Live\n",
            "Pehchaan: The Face of Truth\n",
            "Phamous\n",
            "Phantom (2015 film)\n",
            "Phas Gaye Re Obama\n",
            "Phata Poster Nikhla Hero\n",
            "Phhir\n",
            "Phillauri (film)\n",
            "Phir Hera Pheri\n",
            "Phir Kabhi\n",
            "Phir Milenge\n",
            "Phobia (2016 film)\n",
            "Phoonk 2\n",
            "Photograph (film)\n",
            "Pihu\n",
            "Piku\n",
            "Pinjar (film)\n",
            "Pink (2016 film)\n",
            "Pizza (2014 film)\n",
            "Plan (film)\n",
            "Players (2012 film)\n",
            "Police Force: An Inside Story\n",
            "Policegiri\n",
            "Popcorn Khao! Mast Ho Jao\n",
            "Poster Boys\n",
            "Praan Jaye Par Shaan Na Jaye\n",
            "Prague (2013 film)\n",
            "Pranaam\n",
            "Prassthanam\n",
            "Prateeksha\n",
            "Prem Kaa Game\n",
            "Prem Ratan Dhan Payo\n",
            "Prince (2010 film)\n",
            "Purani Jeans\n",
            "Pyaar Impossible!\n",
            "Pyaar Ka Punchnama\n",
            "Pyaar Ka Punchnama 2\n",
            "Pyaar Ke Side Effects\n",
            "Pyaar Mein Twist\n",
            "Pyare Mohan\n",
            "Qaidi Band\n",
            "Qarib Qarib Singlle\n",
            "Qayamat: City Under Threat\n",
            "Qissa (film)\n",
            "Queen (2014 film)\n",
            "Quick Gun Murugun\n",
            "Ra.One\n",
            "Raabta (film)\n",
            "Raag Desh (film)\n",
            "Raanjhanaa\n",
            "Raat Gayi Baat Gayi?\n",
            "Raavan\n",
            "Raaz (2002 film)\n",
            "Raaz: Reboot\n",
            "Raaz: The Mystery Continues\n",
            "Raazi\n",
            "Rab Ne Bana Di Jodi\n",
            "Race (2008 film)\n",
            "Race 2\n",
            "Race 3\n",
            "Raees (film)\n",
            "Raghu Romeo\n",
            "Ragini MMS\n",
            "Ragini MMS 2\n",
            "Rahasya\n",
            "Raid (2018 film)\n",
            "Raincoat (film)\n",
            "Raja Bhaiya (film)\n",
            "Raja Natwarlal\n",
            "Rajjo\n",
            "Rajma Chawal\n",
            "Rakht\n",
            "Rakhtbeej\n",
            "Ramaa: The Saviour\n",
            "Ramaiya Vastavaiya\n",
            "Raman Raghav 2.0\n",
            "Ramayana: The Epic\n",
            "Ramji Londonwaley\n",
            "Ramprasad Ki Tehrvi\n",
            "Ranbanka\n",
            "Ranchi Diaries\n",
            "Rang De Basanti\n",
            "Rang Rasiya\n",
            "Rangoon (2017 Hindi film)\n",
            "Rangrezz\n",
            "Rann (film)\n",
            "Raqeeb\n",
            "Rascals (2011 film)\n",
            "Rebellious Flower\n",
            "Red Alert: The War Within\n",
            "Red Swastik\n",
            "Red: The Dark Side\n",
            "Revati (film)\n",
            "Revolver Rani\n",
            "Ribbon (film)\n",
            "Right Here Right Now (film)\n",
            "Right Yaaa Wrong\n",
            "Risk (2007 film)\n",
            "Risknamaa\n",
            "Riyasat (film)\n",
            "Road to Sangam\n",
            "Roadside Romeo\n",
            "Roar: Tigers of the Sundarbans\n",
            "Rock On 2\n",
            "Rock On!!\n",
            "Rocket Singh: Salesman of the Year\n",
            "Rockstar (2011 film)\n",
            "Rocky Handsome\n",
            "Rog\n",
            "Rok Sako To Rok Lo\n",
            "Rokkk\n",
            "Rough Book\n",
            "Roy (film)\n",
            "Rudraksh (film)\n",
            "Rukh (film)\n",
            "Rules: Pyaar Ka Superhit Formula\n",
            "Run (2004 film)\n",
            "Running Shaadi\n",
            "Rush (2012 film)\n",
            "Rustom (film)\n",
            "Saaho\n",
            "Saand Ki Aankh\n",
            "Saankal\n",
            "Saansein\n",
            "Saare Jahaan Se Mehnga\n",
            "Saas Bahu Aur Sensex\n",
            "Saat Uchakkey\n",
            "Saathiya (film)\n",
            "Saawan... The Love Season\n",
            "Saawariya\n",
            "Saaya (2003 film)\n",
            "Sabki Bajegi Band\n",
            "Sachin: A Billion Dreams\n",
            "Sacred Evil – A True Story\n",
            "Sadda Adda\n",
            "Sadiyaan\n",
            "Saheb Biwi Aur Gangster\n",
            "Saheb Biwi Aur Gangster 3\n",
            "Saheb Biwi Aur Gangster Returns\n",
            "Sahi Dhandhe Galat Bande\n",
            "Salaam Namaste\n",
            "Salaam-e-Ishq: A Tribute to Love\n",
            "Sallu Ki Shaadi\n",
            "Samay: When Time Strikes\n",
            "Samrat & Co.\n",
            "Sanam Re\n",
            "Sandwich (2006 film)\n",
            "Sanju\n",
            "Sankat City\n",
            "Santa Banta Pvt Ltd\n",
            "Sarbjit (film)\n",
            "Sarhad Paar\n",
            "Sarkar (2005 film)\n",
            "Sarkar 3\n",
            "Sarkar Raj\n",
            "Satellite Shankar\n",
            "Satrangee Parachute\n",
            "Satta (film)\n",
            "Satya 2\n",
            "Satyagraha (film)\n",
            "Satyameva Jayate (2018 film)\n",
            "Say Salaam India\n",
            "Second Hand Husband\n",
            "Secret Superstar\n",
            "Section 375\n",
            "Sehar\n",
            "Setters (film)\n",
            "Shaadi Ka Laddoo\n",
            "Shaadi Karke Phas Gaya Yaar\n",
            "Shaadi Ke Side Effects\n",
            "Shaadi Mein Zaroor Aana\n",
            "Shaadi No. 1\n",
            "Shaadi Se Pehle\n",
            "Shaandaar\n",
            "Shaapit\n",
            "Shab (film)\n",
            "Shabd (film)\n",
            "Shabnam Mausi\n",
            "Shabri\n",
            "Shagird (2011 film)\n",
            "Shahid (film)\n",
            "Shaitan (film)\n",
            "Shakalaka Boom Boom\n",
            "Shamitabh\n",
            "Shanghai (2012 film)\n",
            "Sharafat Gayi Tel Lene\n",
            "Shart: The Challenge\n",
            "Sheen (film)\n",
            "Sheesha (2005 film)\n",
            "Shikhar (film)\n",
            "Ship of Theseus (film)\n",
            "Shirin Farhad Ki Toh Nikal Padi\n",
            "Shiva (2006 film)\n",
            "Shivaay\n",
            "Sholay\n",
            "Shootout at Lokhandwala\n",
            "Shor in the City\n",
            "Shorgul\n",
            "Shortcut Romeo\n",
            "Shortcut Safari\n",
            "Shortkut\n",
            "Showbiz (film)\n",
            "Shubh Mangal Saavdhan\n",
            "Shuddh Desi Romance\n",
            "Shukriya: Till Death Do Us Apart\n",
            "Siddharth (2013 film)\n",
            "Sikandar (2009 film)\n",
            "Silsiilay\n",
            "Simmba\n",
            "Simran (film)\n",
            "Singh Is Bliing\n",
            "Singh Is Kinng\n",
            "Singh Saab the Great\n",
            "Singham\n",
            "Singham Returns\n",
            "Sirf (film)\n",
            "Sixteen (2013 Indian film)\n",
            "Soch Lo\n",
            "Socha Na Tha\n",
            "Son of Sardaar\n",
            "Sonali Cable\n",
            "Sonchiriya\n",
            "Soni (film)\n",
            "Sons of Ram\n",
            "Sonu Ke Titu Ki Sweety\n",
            "Sooper Se Ooper\n",
            "Sorry Bhai!\n",
            "Sorry Daddy\n",
            "Souten: The Other Woman\n",
            "Spark (2014 film)\n",
            "Special 26\n",
            "Speed (2007 film)\n",
            "Sssshhh...\n",
            "Ssukh\n",
            "Stanley Ka Dabba\n",
            "Station (2014 film)\n",
            "Staying Alive (2012 film)\n",
            "Strangers (2007 Hindi film)\n",
            "Stree (2018 film)\n",
            "Striker (2010 film)\n",
            "Strings of Passion\n",
            "Student of the Year\n",
            "Student of the Year 2\n",
            "Stumped (film)\n",
            "Sui Dhaaga\n",
            "Sukhmani: Hope for Life\n",
            "Sulemani Keeda\n",
            "Sultan (2016 film)\n",
            "Summer 2007\n",
            "Sunday (2008 film)\n",
            "Sunglass (film)\n",
            "Suno Sasurjee\n",
            "Super 30 (film)\n",
            "Super Model (film)\n",
            "Super Nani\n",
            "Swades\n",
            "Swami (2007 film)\n",
            "Sweetiee Weds NRI\n",
            "Ta Ra Rum Pum\n",
            "Taare Zameen Par\n",
            "Taarzan: The Wonder Car\n",
            "Table No. 21\n",
            "Tahaan\n",
            "Taj Mahal: An Eternal Love Story\n",
            "Take It Easy (2015 film)\n",
            "Talaash: The Answer Lies Within\n",
            "Talaash: The Hunt Begins...\n",
            "Talvar (film)\n",
            "Tamanchey\n",
            "Tango Charlie\n",
            "Tanu Weds Manu\n",
            "Tanu Weds Manu: Returns\n",
            "Tanu Weds Manu: Returns\n",
            "Tashan (film)\n",
            "Tathastu\n",
            "Taxi No. 9211\n",
            "Te3n\n",
            "Teen Patti (film)\n",
            "Teen Thay Bhai\n",
            "Tees Maar Khan (2010 film)\n",
            "Teesri Aankh: The Hidden Camera\n",
            "Tehzeeb (2003 film)\n",
            "Tell Me O Kkhuda\n",
            "Tera Kya Hoga Johnny\n",
            "Tere Bin Laden\n",
            "Tere Bin Laden: Dead or Alive\n",
            "Tere Mere Phere\n",
            "Tere Naal Love Ho Gaya\n",
            "Tere Naam\n",
            "Teri Meri Kahaani (film)\n",
            "Tevar\n",
            "Tezz\n",
            "Thackeray (film)\n",
            "Thank You (2011 film)\n",
            "Thanks Maa\n",
            "The Accidental Prime Minister (film)\n",
            "The Blue Umbrella (2005 film)\n",
            "The Blueberry Hunt\n",
            "The Bypass\n",
            "The Dirty Picture\n",
            "The Film\n",
            "The Film Emotional Atyachar\n",
            "The Final Exit\n",
            "The Ghazi Attack\n",
            "The Hero: Love Story of a Spy\n",
            "The Japanese Wife\n",
            "The Journey of Karma\n",
            "The Killer (2006 film)\n",
            "The Last Lear\n",
            "The Lunchbox\n",
            "The Namesake (film)\n",
            "The Pink Mirror\n",
            "The Shaukeens\n",
            "The Silent Heroes\n",
            "The Sky Is Pink\n",
            "The Stoneman Murders\n",
            "The Tashkent Files\n",
            "The Train (2007 film)\n",
            "The Xposé\n",
            "The Zoya Factor (film)\n",
            "Thoda Lutf Thoda Ishq\n",
            "Thoda Pyaar Thoda Magic\n",
            "Thoda Tum Badlo Thoda Hum\n",
            "Thodi Life Thoda Magic\n",
            "Thugs of Hindostan\n",
            "Tiger Zinda Hai\n",
            "Titli (2014 film)\n",
            "Titoo MBA\n",
            "Toh Baat Pakki!\n",
            "Toilet: Ek Prem Katha\n",
            "Tom Dick and Harry (2006 film)\n",
            "Toonpur Ka Super Hero\n",
            "Total Dhamaal\n",
            "Total Siyapaa\n",
            "Traffic (2016 film)\n",
            "Traffic Signal (film)\n",
            "Trapped (2016 Hindi film)\n",
            "Trump Card (film)\n",
            "Tubelight (2017 Hindi film)\n",
            "Tujhe Meri Kasam\n",
            "Tulsi (film)\n",
            "Tum Bin II\n",
            "Tum Mile\n",
            "Tum Milo Toh Sahi\n",
            "Tumbbad\n",
            "Tumhari Sulu\n",
            "Tumsa Nahin Dekha: A Love Story\n",
            "Turning 30\n",
            "U Me Aur Hum\n",
            "U R My Jaan\n",
            "Udaan (2010 film)\n",
            "Udta Punjab\n",
            "Ugly (film)\n",
            "Ujda Chaman\n",
            "Umar (film)\n",
            "Umrao Jaan (2006 film)\n",
            "Umrika\n",
            "Ungli\n",
            "Union Leader (film)\n",
            "United Six\n",
            "Uri: The Surgical Strike\n",
            "Utt Pataang\n",
            "Utthaan\n",
            "Uvaa\n",
            "Vaada (film)\n",
            "Vaada Raha\n",
            "Vaah! Life Ho Toh Aisi!\n",
            "Vaastu Shastra (film)\n",
            "Valentine's Night\n",
            "Veer (2010 film)\n",
            "Veer-Zaara\n",
            "Veerappan (2016 film)\n",
            "Veerey Ki Wedding\n",
            "Via Darjeeling\n",
            "Viceroy's House (film)\n",
            "Vicky Donor\n",
            "Victory (2009 film)\n",
            "Vidyaarthi\n",
            "Viruddh... Family Comes First\n",
            "Vishwaroopam\n",
            "Vivah\n",
            "Vodka Diaries\n",
            "W (2014 film)\n",
            "Waarrior Savitri\n",
            "Wafa: A Deadly Love Story\n",
            "Wah Taj\n",
            "Waisa Bhi Hota Hai Part II\n",
            "Waiting (2015 film)\n",
            "Wajah Tum Ho\n",
            "Wake Up India\n",
            "Wake Up Sid\n",
            "Wanted (2009 film)\n",
            "Waqt: The Race Against Time\n",
            "War Chhod Na Yaar\n",
            "Waris Shah: Ishq Daa Waaris\n",
            "Wedding Anniversary\n",
            "Wedding Pullav\n",
            "Welcome (2007 film)\n",
            "Welcome 2 Karachi\n",
            "Welcome Back (film)\n",
            "Welcome to Sajjanpur\n",
            "Well Done Abba\n",
            "What the Fish\n",
            "What's Your Raashee?\n",
            "Why Cheat India\n",
            "Woh Lamhe...\n",
            "Woodstock Villa\n",
            "Xcuse Me\n",
            "Ya Rab\n",
            "Yaaram (2019 film)\n",
            "Yadvi – The Dignified Princess\n",
            "Yakeen (2005 film)\n",
            "Yamla Pagla Deewana\n",
            "Yamla Pagla Deewana: Phir Se\n",
            "Yatra (2007 film)\n",
            "Yeh Dil\n",
            "Yeh Dooriyan\n",
            "Yeh Hai Bakrapur\n",
            "Yeh Hai India\n",
            "Yeh Jawaani Hai Deewani\n",
            "Yeh Khula Aasmaan\n",
            "Yeh Lamhe Judaai Ke\n",
            "Yeh Mera India\n",
            "Yeh Saali Aashiqui\n",
            "Youngistaan\n",
            "Yun Hota Toh Kya Hota\n",
            "Yuva\n",
            "Yuvvraaj\n",
            "Zamaanat\n",
            "Zameen (2003 film)\n",
            "Zameer: The Fire Within\n",
            "Zed Plus\n",
            "Zeher\n",
            "Zero (2018 film)\n",
            "Zid (2014 film)\n",
            "Zila Ghaziabad\n",
            "Zinda (film)\n",
            "Zindaggi Rocks\n",
            "Zindagi 50-50\n",
            "Zindagi Na Milegi Dobara\n",
            "Zindagi Tere Naam\n",
            "Zokkomon\n",
            "Zor Lagaa Ke...Haiya!\n"
          ]
        }
      ]
    },
    {
      "cell_type": "code",
      "source": [
        "# Arithmetic Operators(Broadcasting)\n",
        "100 + marks_series\n"
      ],
      "metadata": {
        "colab": {
          "base_uri": "https://localhost:8080/",
          "height": 241
        },
        "id": "l6vTIPoT_RB8",
        "outputId": "b8f38bf0-5dbb-437d-f237-9e85a2520e91"
      },
      "execution_count": null,
      "outputs": [
        {
          "output_type": "execute_result",
          "data": {
            "text/plain": [
              "maths      167\n",
              "english    200\n",
              "science    189\n",
              "hindi      200\n",
              "evs        200\n",
              "Name: nitish ke marks, dtype: int64"
            ],
            "text/html": [
              "<div>\n",
              "<style scoped>\n",
              "    .dataframe tbody tr th:only-of-type {\n",
              "        vertical-align: middle;\n",
              "    }\n",
              "\n",
              "    .dataframe tbody tr th {\n",
              "        vertical-align: top;\n",
              "    }\n",
              "\n",
              "    .dataframe thead th {\n",
              "        text-align: right;\n",
              "    }\n",
              "</style>\n",
              "<table border=\"1\" class=\"dataframe\">\n",
              "  <thead>\n",
              "    <tr style=\"text-align: right;\">\n",
              "      <th></th>\n",
              "      <th>nitish ke marks</th>\n",
              "    </tr>\n",
              "  </thead>\n",
              "  <tbody>\n",
              "    <tr>\n",
              "      <th>maths</th>\n",
              "      <td>167</td>\n",
              "    </tr>\n",
              "    <tr>\n",
              "      <th>english</th>\n",
              "      <td>200</td>\n",
              "    </tr>\n",
              "    <tr>\n",
              "      <th>science</th>\n",
              "      <td>189</td>\n",
              "    </tr>\n",
              "    <tr>\n",
              "      <th>hindi</th>\n",
              "      <td>200</td>\n",
              "    </tr>\n",
              "    <tr>\n",
              "      <th>evs</th>\n",
              "      <td>200</td>\n",
              "    </tr>\n",
              "  </tbody>\n",
              "</table>\n",
              "</div><br><label><b>dtype:</b> int64</label>"
            ]
          },
          "metadata": {},
          "execution_count": 88
        }
      ]
    },
    {
      "cell_type": "code",
      "source": [
        "100 - marks_series"
      ],
      "metadata": {
        "colab": {
          "base_uri": "https://localhost:8080/",
          "height": 241
        },
        "id": "Uv0PVhRqD019",
        "outputId": "14f37b07-bb74-45e0-ba03-20843c1a927a"
      },
      "execution_count": null,
      "outputs": [
        {
          "output_type": "execute_result",
          "data": {
            "text/plain": [
              "maths      33\n",
              "english     0\n",
              "science    11\n",
              "hindi       0\n",
              "evs         0\n",
              "Name: nitish ke marks, dtype: int64"
            ],
            "text/html": [
              "<div>\n",
              "<style scoped>\n",
              "    .dataframe tbody tr th:only-of-type {\n",
              "        vertical-align: middle;\n",
              "    }\n",
              "\n",
              "    .dataframe tbody tr th {\n",
              "        vertical-align: top;\n",
              "    }\n",
              "\n",
              "    .dataframe thead th {\n",
              "        text-align: right;\n",
              "    }\n",
              "</style>\n",
              "<table border=\"1\" class=\"dataframe\">\n",
              "  <thead>\n",
              "    <tr style=\"text-align: right;\">\n",
              "      <th></th>\n",
              "      <th>nitish ke marks</th>\n",
              "    </tr>\n",
              "  </thead>\n",
              "  <tbody>\n",
              "    <tr>\n",
              "      <th>maths</th>\n",
              "      <td>33</td>\n",
              "    </tr>\n",
              "    <tr>\n",
              "      <th>english</th>\n",
              "      <td>0</td>\n",
              "    </tr>\n",
              "    <tr>\n",
              "      <th>science</th>\n",
              "      <td>11</td>\n",
              "    </tr>\n",
              "    <tr>\n",
              "      <th>hindi</th>\n",
              "      <td>0</td>\n",
              "    </tr>\n",
              "    <tr>\n",
              "      <th>evs</th>\n",
              "      <td>0</td>\n",
              "    </tr>\n",
              "  </tbody>\n",
              "</table>\n",
              "</div><br><label><b>dtype:</b> int64</label>"
            ]
          },
          "metadata": {},
          "execution_count": 89
        }
      ]
    },
    {
      "cell_type": "code",
      "source": [
        "# Relational Operators\n",
        "\n",
        "vk >= 50"
      ],
      "metadata": {
        "colab": {
          "base_uri": "https://localhost:8080/",
          "height": 489
        },
        "id": "JGX-RL47_xC2",
        "outputId": "199522c4-e5df-4871-fab2-0cc0bda1d04a"
      },
      "execution_count": null,
      "outputs": [
        {
          "output_type": "execute_result",
          "data": {
            "text/plain": [
              "match_no\n",
              "1      False\n",
              "2      False\n",
              "3      False\n",
              "4      False\n",
              "5      False\n",
              "       ...  \n",
              "211    False\n",
              "212    False\n",
              "213     True\n",
              "214    False\n",
              "215    False\n",
              "Name: runs, Length: 215, dtype: bool"
            ],
            "text/html": [
              "<div>\n",
              "<style scoped>\n",
              "    .dataframe tbody tr th:only-of-type {\n",
              "        vertical-align: middle;\n",
              "    }\n",
              "\n",
              "    .dataframe tbody tr th {\n",
              "        vertical-align: top;\n",
              "    }\n",
              "\n",
              "    .dataframe thead th {\n",
              "        text-align: right;\n",
              "    }\n",
              "</style>\n",
              "<table border=\"1\" class=\"dataframe\">\n",
              "  <thead>\n",
              "    <tr style=\"text-align: right;\">\n",
              "      <th></th>\n",
              "      <th>runs</th>\n",
              "    </tr>\n",
              "    <tr>\n",
              "      <th>match_no</th>\n",
              "      <th></th>\n",
              "    </tr>\n",
              "  </thead>\n",
              "  <tbody>\n",
              "    <tr>\n",
              "      <th>1</th>\n",
              "      <td>False</td>\n",
              "    </tr>\n",
              "    <tr>\n",
              "      <th>2</th>\n",
              "      <td>False</td>\n",
              "    </tr>\n",
              "    <tr>\n",
              "      <th>3</th>\n",
              "      <td>False</td>\n",
              "    </tr>\n",
              "    <tr>\n",
              "      <th>4</th>\n",
              "      <td>False</td>\n",
              "    </tr>\n",
              "    <tr>\n",
              "      <th>5</th>\n",
              "      <td>False</td>\n",
              "    </tr>\n",
              "    <tr>\n",
              "      <th>...</th>\n",
              "      <td>...</td>\n",
              "    </tr>\n",
              "    <tr>\n",
              "      <th>211</th>\n",
              "      <td>False</td>\n",
              "    </tr>\n",
              "    <tr>\n",
              "      <th>212</th>\n",
              "      <td>False</td>\n",
              "    </tr>\n",
              "    <tr>\n",
              "      <th>213</th>\n",
              "      <td>True</td>\n",
              "    </tr>\n",
              "    <tr>\n",
              "      <th>214</th>\n",
              "      <td>False</td>\n",
              "    </tr>\n",
              "    <tr>\n",
              "      <th>215</th>\n",
              "      <td>False</td>\n",
              "    </tr>\n",
              "  </tbody>\n",
              "</table>\n",
              "<p>215 rows × 1 columns</p>\n",
              "</div><br><label><b>dtype:</b> bool</label>"
            ]
          },
          "metadata": {},
          "execution_count": 90
        }
      ]
    },
    {
      "cell_type": "code",
      "source": [
        "#Boolean Indexing on Series"
      ],
      "metadata": {
        "id": "XZ97Thop_xFc"
      },
      "execution_count": null,
      "outputs": []
    },
    {
      "cell_type": "code",
      "source": [
        "# Find no of 50's and 100's scored by kohli\n",
        "vk[vk >= 50].size"
      ],
      "metadata": {
        "colab": {
          "base_uri": "https://localhost:8080/"
        },
        "id": "EeAJg4ei_xH-",
        "outputId": "3b92a427-d222-49bb-b411-a7abe7633ca5"
      },
      "execution_count": null,
      "outputs": [
        {
          "output_type": "execute_result",
          "data": {
            "text/plain": [
              "50"
            ]
          },
          "metadata": {},
          "execution_count": 93
        }
      ]
    },
    {
      "cell_type": "code",
      "source": [
        "# find number of ducks\n",
        "vk[vk == 0].size"
      ],
      "metadata": {
        "colab": {
          "base_uri": "https://localhost:8080/"
        },
        "id": "sksQN28e_xKw",
        "outputId": "0f5e358f-108c-4a8f-f484-09624e7c9e39"
      },
      "execution_count": null,
      "outputs": [
        {
          "output_type": "execute_result",
          "data": {
            "text/plain": [
              "9"
            ]
          },
          "metadata": {},
          "execution_count": 92
        }
      ]
    },
    {
      "cell_type": "code",
      "source": [
        "vk[vk == 0]"
      ],
      "metadata": {
        "colab": {
          "base_uri": "https://localhost:8080/",
          "height": 397
        },
        "id": "zMejPSMkEzlp",
        "outputId": "e1d71014-5ca1-40d6-ef8f-acb9d9930191"
      },
      "execution_count": null,
      "outputs": [
        {
          "output_type": "execute_result",
          "data": {
            "text/plain": [
              "match_no\n",
              "8      0\n",
              "87     0\n",
              "91     0\n",
              "93     0\n",
              "130    0\n",
              "135    0\n",
              "206    0\n",
              "207    0\n",
              "211    0\n",
              "Name: runs, dtype: int64"
            ],
            "text/html": [
              "<div>\n",
              "<style scoped>\n",
              "    .dataframe tbody tr th:only-of-type {\n",
              "        vertical-align: middle;\n",
              "    }\n",
              "\n",
              "    .dataframe tbody tr th {\n",
              "        vertical-align: top;\n",
              "    }\n",
              "\n",
              "    .dataframe thead th {\n",
              "        text-align: right;\n",
              "    }\n",
              "</style>\n",
              "<table border=\"1\" class=\"dataframe\">\n",
              "  <thead>\n",
              "    <tr style=\"text-align: right;\">\n",
              "      <th></th>\n",
              "      <th>runs</th>\n",
              "    </tr>\n",
              "    <tr>\n",
              "      <th>match_no</th>\n",
              "      <th></th>\n",
              "    </tr>\n",
              "  </thead>\n",
              "  <tbody>\n",
              "    <tr>\n",
              "      <th>8</th>\n",
              "      <td>0</td>\n",
              "    </tr>\n",
              "    <tr>\n",
              "      <th>87</th>\n",
              "      <td>0</td>\n",
              "    </tr>\n",
              "    <tr>\n",
              "      <th>91</th>\n",
              "      <td>0</td>\n",
              "    </tr>\n",
              "    <tr>\n",
              "      <th>93</th>\n",
              "      <td>0</td>\n",
              "    </tr>\n",
              "    <tr>\n",
              "      <th>130</th>\n",
              "      <td>0</td>\n",
              "    </tr>\n",
              "    <tr>\n",
              "      <th>135</th>\n",
              "      <td>0</td>\n",
              "    </tr>\n",
              "    <tr>\n",
              "      <th>206</th>\n",
              "      <td>0</td>\n",
              "    </tr>\n",
              "    <tr>\n",
              "      <th>207</th>\n",
              "      <td>0</td>\n",
              "    </tr>\n",
              "    <tr>\n",
              "      <th>211</th>\n",
              "      <td>0</td>\n",
              "    </tr>\n",
              "  </tbody>\n",
              "</table>\n",
              "</div><br><label><b>dtype:</b> int64</label>"
            ]
          },
          "metadata": {},
          "execution_count": 101
        }
      ]
    },
    {
      "cell_type": "code",
      "source": [
        "# Count number of day when I had more than 200 subs a day\n",
        "subs[subs > 200].size"
      ],
      "metadata": {
        "colab": {
          "base_uri": "https://localhost:8080/"
        },
        "id": "UERDusmb_xNl",
        "outputId": "7c4030d3-2043-47e2-896d-da0b7d035db1"
      },
      "execution_count": null,
      "outputs": [
        {
          "output_type": "execute_result",
          "data": {
            "text/plain": [
              "59"
            ]
          },
          "metadata": {},
          "execution_count": 94
        }
      ]
    },
    {
      "cell_type": "code",
      "source": [
        "# find actors who have done more than 20 movies\n",
        "num_movies = movies.value_counts() #series\n",
        "num_movies[num_movies > 20]"
      ],
      "metadata": {
        "colab": {
          "base_uri": "https://localhost:8080/",
          "height": 335
        },
        "id": "Cj7GtSL__xQZ",
        "outputId": "fbe7305f-38d2-4c3a-c110-c06ed4168985"
      },
      "execution_count": null,
      "outputs": [
        {
          "output_type": "execute_result",
          "data": {
            "text/plain": [
              "lead\n",
              "Akshay Kumar        48\n",
              "Amitabh Bachchan    45\n",
              "Ajay Devgn          38\n",
              "Salman Khan         31\n",
              "Sanjay Dutt         26\n",
              "Shah Rukh Khan      22\n",
              "Emraan Hashmi       21\n",
              "Name: count, dtype: int64"
            ],
            "text/html": [
              "<div>\n",
              "<style scoped>\n",
              "    .dataframe tbody tr th:only-of-type {\n",
              "        vertical-align: middle;\n",
              "    }\n",
              "\n",
              "    .dataframe tbody tr th {\n",
              "        vertical-align: top;\n",
              "    }\n",
              "\n",
              "    .dataframe thead th {\n",
              "        text-align: right;\n",
              "    }\n",
              "</style>\n",
              "<table border=\"1\" class=\"dataframe\">\n",
              "  <thead>\n",
              "    <tr style=\"text-align: right;\">\n",
              "      <th></th>\n",
              "      <th>count</th>\n",
              "    </tr>\n",
              "    <tr>\n",
              "      <th>lead</th>\n",
              "      <th></th>\n",
              "    </tr>\n",
              "  </thead>\n",
              "  <tbody>\n",
              "    <tr>\n",
              "      <th>Akshay Kumar</th>\n",
              "      <td>48</td>\n",
              "    </tr>\n",
              "    <tr>\n",
              "      <th>Amitabh Bachchan</th>\n",
              "      <td>45</td>\n",
              "    </tr>\n",
              "    <tr>\n",
              "      <th>Ajay Devgn</th>\n",
              "      <td>38</td>\n",
              "    </tr>\n",
              "    <tr>\n",
              "      <th>Salman Khan</th>\n",
              "      <td>31</td>\n",
              "    </tr>\n",
              "    <tr>\n",
              "      <th>Sanjay Dutt</th>\n",
              "      <td>26</td>\n",
              "    </tr>\n",
              "    <tr>\n",
              "      <th>Shah Rukh Khan</th>\n",
              "      <td>22</td>\n",
              "    </tr>\n",
              "    <tr>\n",
              "      <th>Emraan Hashmi</th>\n",
              "      <td>21</td>\n",
              "    </tr>\n",
              "  </tbody>\n",
              "</table>\n",
              "</div><br><label><b>dtype:</b> int64</label>"
            ]
          },
          "metadata": {},
          "execution_count": 97
        }
      ]
    },
    {
      "cell_type": "code",
      "source": [
        "#Plotting Graphs on Series"
      ],
      "metadata": {
        "id": "VwEd7AUd_xTG"
      },
      "execution_count": null,
      "outputs": []
    },
    {
      "cell_type": "code",
      "source": [
        "subs.plot()"
      ],
      "metadata": {
        "colab": {
          "base_uri": "https://localhost:8080/",
          "height": 447
        },
        "id": "rSfNGBmp_xWC",
        "outputId": "5871939b-af12-41d5-b5eb-654252741e84"
      },
      "execution_count": null,
      "outputs": [
        {
          "output_type": "execute_result",
          "data": {
            "text/plain": [
              "<Axes: >"
            ]
          },
          "metadata": {},
          "execution_count": 96
        },
        {
          "output_type": "display_data",
          "data": {
            "text/plain": [
              "<Figure size 640x480 with 1 Axes>"
            ],
            "image/png": "[encoded data removed]"
          },
          "metadata": {}
        }
      ]
    },
    {
      "cell_type": "code",
      "source": [
        "movies.value_counts().head(20).plot(kind='pie')"
      ],
      "metadata": {
        "colab": {
          "base_uri": "https://localhost:8080/",
          "height": 423
        },
        "id": "r5Pr0sDm_xY3",
        "outputId": "d0224bd9-13ac-41e5-c499-3a8017daa867"
      },
      "execution_count": null,
      "outputs": [
        {
          "output_type": "execute_result",
          "data": {
            "text/plain": [
              "<Axes: ylabel='count'>"
            ]
          },
          "metadata": {},
          "execution_count": 98
        },
        {
          "output_type": "display_data",
          "data": {
            "text/plain": [
              "<Figure size 640x480 with 1 Axes>"
            ],
            "image/png": "[encoded data removed]"
          },
          "metadata": {}
        }
      ]
    },
    {
      "cell_type": "code",
      "source": [
        "movies.value_counts().head(20).plot(kind='bar')"
      ],
      "metadata": {
        "colab": {
          "base_uri": "https://localhost:8080/",
          "height": 604
        },
        "id": "6_PGqPw5Fy8h",
        "outputId": "e71bc1c6-6a37-4aab-d33c-6ccb8def7555"
      },
      "execution_count": null,
      "outputs": [
        {
          "output_type": "execute_result",
          "data": {
            "text/plain": [
              "<Axes: xlabel='lead'>"
            ]
          },
          "metadata": {},
          "execution_count": 102
        },
        {
          "output_type": "display_data",
          "data": {
            "text/plain": [
              "<Figure size 640x480 with 1 Axes>"
            ],
            "image/png": "[encoded data removed]"
          },
          "metadata": {}
        }
      ]
    },
    {
      "cell_type": "code",
      "source": [
        "#Some Important Series Methods"
      ],
      "metadata": {
        "id": "veAzpvy9_xb2"
      },
      "execution_count": null,
      "outputs": []
    },
    {
      "cell_type": "code",
      "source": [
        "# astype\n",
        "# between\n",
        "# clip\n",
        "# drop_duplicates\n",
        "# isnull\n",
        "# dropna\n",
        "# fillna\n",
        "# isin\n",
        "# apply\n",
        "# copy"
      ],
      "metadata": {
        "id": "ujI3j83x_xet"
      },
      "execution_count": null,
      "outputs": []
    },
    {
      "cell_type": "code",
      "source": [
        "import numpy as np\n",
        "import pandas as pd"
      ],
      "metadata": {
        "id": "9oeSshj1_xhs"
      },
      "execution_count": null,
      "outputs": []
    },
    {
      "cell_type": "code",
      "source": [
        "subs = pd.read_csv('/content/subs.csv,squeeze=True)\n",
        "subs"
      ],
      "metadata": {
        "colab": {
          "base_uri": "https://localhost:8080/",
          "height": 106
        },
        "id": "3xKvnVWF_xkG",
        "outputId": "75834109-f288-49ab-d4fe-a6b40b9f8f70"
      },
      "execution_count": null,
      "outputs": [
        {
          "output_type": "error",
          "ename": "SyntaxError",
          "evalue": "unterminated string literal (detected at line 1) (<ipython-input-104-59c11916efe3>, line 1)",
          "traceback": [
            "\u001b[0;36m  File \u001b[0;32m\"<ipython-input-104-59c11916efe3>\"\u001b[0;36m, line \u001b[0;32m1\u001b[0m\n\u001b[0;31m    subs = pd.read_csv('/content/subs.csv,squeeze=True)\u001b[0m\n\u001b[0m                       ^\u001b[0m\n\u001b[0;31mSyntaxError\u001b[0m\u001b[0;31m:\u001b[0m unterminated string literal (detected at line 1)\n"
          ]
        }
      ]
    },
    {
      "cell_type": "code",
      "source": [
        "vk = pd.read_csv('/content/kohli_ipl.csv',index_col='match_no',squeeze=True)\n",
        "vk"
      ],
      "metadata": {
        "id": "xO-TWytl_xnH"
      },
      "execution_count": null,
      "outputs": []
    },
    {
      "cell_type": "code",
      "source": [
        "movies = pd.read_csv('/content/bollywood.csv',index_col='movie',squeeze=True)\n",
        "movies"
      ],
      "metadata": {
        "id": "87_vhAaT_xp1"
      },
      "execution_count": null,
      "outputs": []
    },
    {
      "cell_type": "code",
      "source": [
        "# astype\n",
        "import sys\n",
        "sys.getsizeof(vk)"
      ],
      "metadata": {
        "id": "yEoVvjmq_xtI"
      },
      "execution_count": null,
      "outputs": []
    },
    {
      "cell_type": "code",
      "source": [
        "sys.getsizeof(vk.astype('int16'))"
      ],
      "metadata": {
        "id": "xMiLlN_F_xwE"
      },
      "execution_count": null,
      "outputs": []
    },
    {
      "cell_type": "code",
      "source": [
        "# between\n",
        "vk[vk.between(51,99)].size"
      ],
      "metadata": {
        "id": "XfFl2Kjt_xyu"
      },
      "execution_count": null,
      "outputs": []
    },
    {
      "cell_type": "code",
      "source": [
        "# clip\n",
        "subs"
      ],
      "metadata": {
        "id": "9N_4Pdx-_x1u"
      },
      "execution_count": null,
      "outputs": []
    },
    {
      "cell_type": "code",
      "source": [
        "subs.clip(100,200)"
      ],
      "metadata": {
        "id": "WFv7s2-n_x42"
      },
      "execution_count": null,
      "outputs": []
    },
    {
      "cell_type": "code",
      "source": [
        "# drop_duplicates\n",
        "temp = pd.Series([1,1,2,2,3,3,4,4])\n",
        "temp"
      ],
      "metadata": {
        "id": "YdFVWV6d_x7t"
      },
      "execution_count": null,
      "outputs": []
    },
    {
      "cell_type": "code",
      "source": [
        "temp.drop_duplicates(keep='last')"
      ],
      "metadata": {
        "id": "l7kuz6Rw_x-9"
      },
      "execution_count": null,
      "outputs": []
    },
    {
      "cell_type": "code",
      "source": [
        "temp.duplicated().sum()"
      ],
      "metadata": {
        "id": "NrsSoyKQ_yB5"
      },
      "execution_count": null,
      "outputs": []
    },
    {
      "cell_type": "code",
      "source": [
        "vk.duplicated().sum()"
      ],
      "metadata": {
        "id": "u60YponS_yJk"
      },
      "execution_count": null,
      "outputs": []
    },
    {
      "cell_type": "code",
      "source": [
        "movies.drop_duplicates()"
      ],
      "metadata": {
        "id": "7I2tSjiL_yNZ"
      },
      "execution_count": null,
      "outputs": []
    },
    {
      "cell_type": "code",
      "source": [
        "temp = pd.Series([1,2,3,np.nan,5,6,np.nan,8,np.nan,10])\n",
        "temp"
      ],
      "metadata": {
        "id": "v7aPjqEW_yQG"
      },
      "execution_count": null,
      "outputs": []
    },
    {
      "cell_type": "code",
      "source": [
        "temp.size"
      ],
      "metadata": {
        "id": "xAIN3xB__yS2"
      },
      "execution_count": null,
      "outputs": []
    },
    {
      "cell_type": "code",
      "source": [
        "temp.count()"
      ],
      "metadata": {
        "id": "kw5HLrPg_yVY"
      },
      "execution_count": null,
      "outputs": []
    },
    {
      "cell_type": "code",
      "source": [
        "# dropna\n",
        "temp.dropna()"
      ],
      "metadata": {
        "id": "ffFRCzqm_yYD"
      },
      "execution_count": null,
      "outputs": []
    },
    {
      "cell_type": "code",
      "source": [
        "# fillna\n",
        "temp.fillna(temp.mean())"
      ],
      "metadata": {
        "id": "VredMZKA_yar"
      },
      "execution_count": null,
      "outputs": []
    },
    {
      "cell_type": "code",
      "source": [
        "# isin\n",
        "vk[(vk == 49) | (vk == 99)]"
      ],
      "metadata": {
        "id": "MAOC_Sbk_ydg"
      },
      "execution_count": null,
      "outputs": []
    },
    {
      "cell_type": "code",
      "source": [
        "vk[vk.isin([49,99])]"
      ],
      "metadata": {
        "id": "ARhhN_oP_yiL"
      },
      "execution_count": null,
      "outputs": []
    },
    {
      "cell_type": "code",
      "source": [
        "# apply\n",
        "movies"
      ],
      "metadata": {
        "id": "8cB7snuf_ykn"
      },
      "execution_count": null,
      "outputs": []
    },
    {
      "cell_type": "code",
      "source": [
        "movies.apply(lambda x:x.split()[0].upper())"
      ],
      "metadata": {
        "id": "5_PNZWfW_ynE"
      },
      "execution_count": null,
      "outputs": []
    },
    {
      "cell_type": "code",
      "source": [
        "subs"
      ],
      "metadata": {
        "id": "CJDQUudt_yp_"
      },
      "execution_count": null,
      "outputs": []
    },
    {
      "cell_type": "code",
      "source": [
        "subs.apply(lambda x:'good day' if x > subs.mean() else 'bad day')"
      ],
      "metadata": {
        "id": "qKqCMohjA5Nv"
      },
      "execution_count": null,
      "outputs": []
    },
    {
      "cell_type": "code",
      "source": [
        "subs.mean()"
      ],
      "metadata": {
        "id": "qAk_x8EiA5QY"
      },
      "execution_count": null,
      "outputs": []
    },
    {
      "cell_type": "code",
      "source": [
        "# copy"
      ],
      "metadata": {
        "id": "9IFQ4XG3A5TE"
      },
      "execution_count": null,
      "outputs": []
    },
    {
      "cell_type": "code",
      "source": [
        "vk"
      ],
      "metadata": {
        "id": "B339nCCDA5V4"
      },
      "execution_count": null,
      "outputs": []
    },
    {
      "cell_type": "code",
      "source": [
        "new = vk.head()"
      ],
      "metadata": {
        "id": "4A7IGOayA5YD"
      },
      "execution_count": null,
      "outputs": []
    },
    {
      "cell_type": "code",
      "source": [
        "new"
      ],
      "metadata": {
        "id": "oCnrCO4NA5a6"
      },
      "execution_count": null,
      "outputs": []
    },
    {
      "cell_type": "code",
      "source": [
        "new = vk.head().copy()"
      ],
      "metadata": {
        "id": "C5B0V_jRBKiS"
      },
      "execution_count": null,
      "outputs": []
    },
    {
      "cell_type": "code",
      "source": [
        "new[1] = 100"
      ],
      "metadata": {
        "id": "0FLLHD1JBKlP"
      },
      "execution_count": null,
      "outputs": []
    },
    {
      "cell_type": "code",
      "source": [
        "new"
      ],
      "metadata": {
        "id": "ETeNkFP2BKoy"
      },
      "execution_count": null,
      "outputs": []
    },
    {
      "cell_type": "code",
      "source": [
        "vk"
      ],
      "metadata": {
        "id": "WmXgI9M5BKy8"
      },
      "execution_count": null,
      "outputs": []
    },
    {
      "cell_type": "code",
      "source": [],
      "metadata": {
        "id": "bzdj2qm3BK2G"
      },
      "execution_count": null,
      "outputs": []
    },
    {
      "cell_type": "code",
      "source": [],
      "metadata": {
        "id": "NY-3KmUeA5d9"
      },
      "execution_count": null,
      "outputs": []
    }
  ]
}