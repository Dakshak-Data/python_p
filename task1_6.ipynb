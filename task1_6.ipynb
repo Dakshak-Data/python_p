{
  "nbformat": 4,
  "nbformat_minor": 0,
  "metadata": {
    "colab": {
      "provenance": [],
      "authorship_tag": "ABX9TyPJTCXLAbgbNdt3ZTd2etnH",
      "include_colab_link": true
    },
    "kernelspec": {
      "name": "python3",
      "display_name": "Python 3"
    },
    "language_info": {
      "name": "python"
    }
  },
  "cells": [
    {
      "cell_type": "markdown",
      "metadata": {
        "id": "view-in-github",
        "colab_type": "text"
      },
      "source": [
        "<a href=\"https://colab.research.google.com/github/Dakshak-Data/python_p/blob/main/task1_6.ipynb\" target=\"_parent\"><img src=\"https://colab.research.google.com/assets/colab-badge.svg\" alt=\"Open In Colab\"/></a>"
      ]
    },
    {
      "cell_type": "code",
      "execution_count": 1,
      "metadata": {
        "colab": {
          "base_uri": "https://localhost:8080/"
        },
        "id": "JFoN3dDx9_wi",
        "outputId": "21988a75-0b67-47b3-e404-6e5aa9c22f08"
      },
      "outputs": [
        {
          "output_type": "stream",
          "name": "stdout",
          "text": [
            "Enter your anual CTC:500000\n",
            "You in hand monthly salary will be- 34166.67\n"
          ]
        }
      ],
      "source": [
        "# Write code here\n",
        "#write your code\n",
        "ctc = int(input('Enter your anual CTC:'))\n",
        "\n",
        "if ctc < 5000000:\n",
        "    salary=ctc*.82\n",
        "elif ctc<1000000:\n",
        "    salary=ctc*.72\n",
        "elif ctc<2000000:\n",
        "    salary=ctc*.62\n",
        "else:\n",
        "    salary=ctc*.52\n",
        "\n",
        "print(\"You in hand monthly salary will be-\", round(salary/12,2))"
      ]
    },
    {
      "cell_type": "code",
      "source": [
        "#Problem 2: Write a program that take a user input of three angles and will find out whether it can form a triangle or not.\n",
        "#Hint - Sum of all angles is 180 and all angles are positive"
      ],
      "metadata": {
        "id": "HJopr_f--95K"
      },
      "execution_count": null,
      "outputs": []
    },
    {
      "cell_type": "code",
      "source": [
        "#Problem 1: Write a program that will give you in hand monthly salary after deduction on CTC - HRA(10%), DA(5%), PF(3%) and taxes deduction as below:\n",
        "#Salary(Lakhs) : Tax(%)\n",
        "\n",
        "#Below 5 : 0%\n",
        "#5-10 : 10%\n",
        "#10-20 : 20%\n",
        "#boove 20 : 30%"
      ],
      "metadata": {
        "id": "MnI34GQ9-98b"
      },
      "execution_count": null,
      "outputs": []
    },
    {
      "cell_type": "code",
      "source": [
        "first = int(input(\"1st angle\"))\n",
        "second = int(input(\"2st angle\"))\n",
        "thirdt =int(input(\"3st angle\"))\n",
        "if(first+second+thirdt) == 180 and first > 0 and second>0 and thirdt>0:\n",
        "  print(\"\")\n",
        "else:\n",
        "\n",
        "  print(\"invalid\")"
      ],
      "metadata": {
        "colab": {
          "base_uri": "https://localhost:8080/"
        },
        "id": "uWrvm6f0-9_i",
        "outputId": "c9ca3799-d93c-40eb-b21b-18144c0d8e58"
      },
      "execution_count": 4,
      "outputs": [
        {
          "output_type": "stream",
          "name": "stdout",
          "text": [
            "1st angle54\n",
            "2st angle34\n",
            "3st angle43\n",
            "invalid\n"
          ]
        }
      ]
    },
    {
      "cell_type": "code",
      "source": [
        "#Problem 3: Write a program that will take user input of cost price and selling price and determines whether its a loss or a profit."
      ],
      "metadata": {
        "id": "mrDAB_8a--Ci"
      },
      "execution_count": null,
      "outputs": []
    },
    {
      "cell_type": "code",
      "source": [
        "# Write code here\n",
        "# write your code here\n",
        "cost_price = int(input('Enter cost price-'))\n",
        "selling_price = int(input('Enter selling price-'))\n",
        "\n",
        "if cost_price < selling_price:\n",
        "    print('Profit')\n",
        "elif cost_price > selling_price:\n",
        "    print('Loss')\n",
        "else:\n",
        "    print('No Loss No Gain')"
      ],
      "metadata": {
        "colab": {
          "base_uri": "https://localhost:8080/"
        },
        "id": "vDUw1PZg--FT",
        "outputId": "88b9a471-db3e-45da-ccba-7dd463c2b71c"
      },
      "execution_count": 5,
      "outputs": [
        {
          "output_type": "stream",
          "name": "stdout",
          "text": [
            "Enter cost price-4000\n",
            "Enter selling price-5000\n",
            "Profit\n"
          ]
        }
      ]
    },
    {
      "cell_type": "code",
      "source": [
        "#Problem 4: Write a menu-driven program -\n",
        "#cm to ft\n",
        "#km to miles\n",
        "#USD to INR\n",
        "#exit\n",
        "#Hint\n",
        "\n",
        "#1 cm = 0.032ft\n",
        "#1km = 0.62\n",
        "#1 USD = 80 INR"
      ],
      "metadata": {
        "id": "oeJCugdF--IK"
      },
      "execution_count": null,
      "outputs": []
    },
    {
      "cell_type": "code",
      "source": [
        "# Write code here\n",
        "menu = input(\"\"\"\n",
        "Hi select an option\n",
        "1. cms to ft\n",
        "2. km to miles\n",
        "3. USD to INR\n",
        "4. Exit\n",
        "\"\"\")\n",
        "\n",
        "if menu == '1':\n",
        "  cm = float(input('enter the cm value'))\n",
        "  print('ft value is',0.032*cm)\n",
        "elif menu == '2':\n",
        "  km = float(input('enter the km value'))\n",
        "  print('miles value is',km*0.62)\n",
        "elif menu == '3':\n",
        "  usd = float(input('enter usd'))\n",
        "  print('inr',usd*80)\n",
        "else:\n",
        "  exit()"
      ],
      "metadata": {
        "colab": {
          "base_uri": "https://localhost:8080/"
        },
        "id": "xsOP3BtH--Ko",
        "outputId": "00942aa5-0354-4fd9-84e8-e344a50c9f8a"
      },
      "execution_count": 1,
      "outputs": [
        {
          "output_type": "stream",
          "name": "stdout",
          "text": [
            "\n",
            "Hi select an option\n",
            "1. cms to ft\n",
            "2. km to miles\n",
            "3. USD to INR\n",
            "4. Exit\n",
            "2\n",
            "enter the km value34\n",
            "miles value is 21.08\n"
          ]
        }
      ]
    },
    {
      "cell_type": "code",
      "source": [
        "#Problem 5 - Exercise 12: Display Fibonacci series up to 10 terms.\n",
        "#Note: The Fibonacci Sequence is a series of numbers. The next number is found by adding up the two numbers before it.\n",
        "#The first two numbers are 0 and 1. For example, 0, 1, 1, 2, 3, 5, 8, 13, 21. The next number in this series above is 13+21 = 34"
      ],
      "metadata": {
        "id": "qVREJhCW--NZ"
      },
      "execution_count": null,
      "outputs": []
    },
    {
      "cell_type": "code",
      "source": [
        "# Write code here\n",
        "\n",
        "num1,num2 = 0,1\n",
        "\n",
        "for i in range(10):\n",
        "  print(num1)\n",
        "\n",
        "  next = num1 + num2\n",
        "\n",
        "  num1 = num2\n",
        "  num2 = next"
      ],
      "metadata": {
        "colab": {
          "base_uri": "https://localhost:8080/"
        },
        "id": "gUkd5Bu5--QQ",
        "outputId": "d0808a4e-3f70-41a4-d18d-236e1f443967"
      },
      "execution_count": 2,
      "outputs": [
        {
          "output_type": "stream",
          "name": "stdout",
          "text": [
            "0\n",
            "1\n",
            "1\n",
            "2\n",
            "3\n",
            "5\n",
            "8\n",
            "13\n",
            "21\n",
            "34\n"
          ]
        }
      ]
    },
    {
      "cell_type": "code",
      "source": [
        "#Problem 6 - Find the factorial of a given number.\n",
        "#Write a program to use the loop to find the factorial of a given number.\n",
        "\n",
        "#The factorial (symbol: !) means to multiply all whole numbers from the chosen number down to 1.\n",
        "\n",
        "#For example: calculate the factorial of 5"
      ],
      "metadata": {
        "id": "GRZd8wCi--TJ"
      },
      "execution_count": null,
      "outputs": []
    },
    {
      "cell_type": "code",
      "source": [
        "# Write code here\n",
        "num = int(input('enter the number'))\n",
        "\n",
        "fact = 1\n",
        "for i in range(1,num+1):\n",
        "  fact = fact*i\n",
        "\n",
        "print(fact)\n"
      ],
      "metadata": {
        "colab": {
          "base_uri": "https://localhost:8080/"
        },
        "id": "RPiHNJxr--Vg",
        "outputId": "c4a6cd21-e216-4f4b-b6d7-898cf0bde064"
      },
      "execution_count": 3,
      "outputs": [
        {
          "output_type": "stream",
          "name": "stdout",
          "text": [
            "enter the number34\n",
            "295232799039604140847618609643520000000\n"
          ]
        }
      ]
    },
    {
      "cell_type": "code",
      "source": [
        "#Problem 7 - Reverse a given integer number."
      ],
      "metadata": {
        "id": "n2_x8m7X--ZJ"
      },
      "execution_count": null,
      "outputs": []
    },
    {
      "cell_type": "code",
      "source": [
        "# Write code here\n",
        "number = int(input('enter the number'))\n",
        "\n",
        "rev = 0\n",
        "\n",
        "while number>0:\n",
        "  last = number%10 #return last value\n",
        "  rev = rev*10 + last\n",
        "  number = number//10  # remove one value from numner last value\n",
        "\n",
        "print(rev)"
      ],
      "metadata": {
        "colab": {
          "base_uri": "https://localhost:8080/"
        },
        "id": "wTxLAYPE--d0",
        "outputId": "78af0dac-1823-428a-e028-2ff3d2a74caa"
      },
      "execution_count": 5,
      "outputs": [
        {
          "output_type": "stream",
          "name": "stdout",
          "text": [
            "enter the number234455\n",
            "554432\n"
          ]
        }
      ]
    },
    {
      "cell_type": "code",
      "source": [
        "# Write code here\n",
        "number = int(input('enter the number'))\n",
        "\n",
        "rev = 0\n",
        "\n",
        "while number>0:\n",
        "  last = number%10\n",
        "  rev = rev*10 + last\n",
        "  number = number//10\n",
        "\n",
        "print(rev)"
      ],
      "metadata": {
        "colab": {
          "base_uri": "https://localhost:8080/"
        },
        "id": "-PTzmSlU--g5",
        "outputId": "13db1bc7-bae1-4447-af98-baec00a3d052"
      },
      "execution_count": 6,
      "outputs": [
        {
          "output_type": "stream",
          "name": "stdout",
          "text": [
            "enter the number232323\n",
            "323232\n"
          ]
        }
      ]
    },
    {
      "cell_type": "code",
      "source": [
        "#Problem 8: Take a user input as integer N. Find out the sum from 1 to N.\n",
        "#If any number if divisible by 5, then skip that number. And if the sum is greater than 300,\n",
        "#don't need to calculate the sum further more. Print the final result. And don't use for loop to solve this problem."
      ],
      "metadata": {
        "id": "ahlsBtPQC10Y"
      },
      "execution_count": null,
      "outputs": []
    },
    {
      "cell_type": "code",
      "source": [
        "# Write code here\n",
        "N = int(input('enter the number'))\n",
        "sum = 0\n",
        "i = 1\n",
        "\n",
        "while i < N+1:\n",
        "  if i % 5 == 0:\n",
        "    i+=1\n",
        "    continue\n",
        "\n",
        "  sum += i\n",
        "\n",
        "  if sum > 300:\n",
        "    sum = sum - i\n",
        "    break\n",
        "\n",
        "  i+=1\n",
        "\n",
        "print(sum)\n"
      ],
      "metadata": {
        "colab": {
          "base_uri": "https://localhost:8080/"
        },
        "id": "v_4p0uiwC13A",
        "outputId": "c3341967-1935-44f4-ceb4-54781dc7580a"
      },
      "execution_count": 7,
      "outputs": [
        {
          "output_type": "stream",
          "name": "stdout",
          "text": [
            "enter the number34\n",
            "276\n"
          ]
        }
      ]
    },
    {
      "cell_type": "code",
      "source": [
        "#Problem 9: Write a program that keeps on accepting a number from the user until the user enters Zero.\n",
        "#Display the sum and average of all the numbers."
      ],
      "metadata": {
        "id": "cX0qJ7QTC15P"
      },
      "execution_count": null,
      "outputs": []
    },
    {
      "cell_type": "code",
      "source": [
        "3# Write code here\n",
        "sum = 0\n",
        "count = 0\n",
        "\n",
        "while True:\n",
        "  num = int(input('enter number'))\n",
        "  if num == 0:\n",
        "    break\n",
        "  sum = sum + num\n",
        "  count = count + 1\n",
        "\n",
        "print('sum',sum)\n",
        "print('avg',sum/count)"
      ],
      "metadata": {
        "colab": {
          "base_uri": "https://localhost:8080/"
        },
        "id": "I_Lm9yMSC1-x",
        "outputId": "ad32fd8c-f435-403d-d14a-9789e5d1ae63"
      },
      "execution_count": 9,
      "outputs": [
        {
          "output_type": "stream",
          "name": "stdout",
          "text": [
            "enter number345\n",
            "enter number43\n",
            "enter number6543\n",
            "enter number43\n",
            "enter number43\n",
            "enter number0\n",
            "sum 7017\n",
            "avg 1403.4\n"
          ]
        }
      ]
    },
    {
      "cell_type": "code",
      "source": [
        "#Problem 9: Write a program which will find all such numbers which are divisible by 7 but are not a multiple of 5,\n",
        "#between 2000 and 3200 (both included). The numbers obtained should be printed in a comma-separated sequence on a single lin"
      ],
      "metadata": {
        "id": "ZqTXsOq5C2EC"
      },
      "execution_count": null,
      "outputs": []
    },
    {
      "cell_type": "code",
      "source": [
        "# Write code here\n",
        "L = []\n",
        "for i in range(2000,3201):\n",
        "  if i % 7 == 0 and i % 5 != 0:\n",
        "    L.append(str(i))\n",
        "\n",
        "print(\",\".join(L))\n"
      ],
      "metadata": {
        "colab": {
          "base_uri": "https://localhost:8080/"
        },
        "id": "kkJWMOaAC2Go",
        "outputId": "dd77d360-f1f3-402e-8917-b40f8685bc8d"
      },
      "execution_count": 10,
      "outputs": [
        {
          "output_type": "stream",
          "name": "stdout",
          "text": [
            "2002,2009,2016,2023,2037,2044,2051,2058,2072,2079,2086,2093,2107,2114,2121,2128,2142,2149,2156,2163,2177,2184,2191,2198,2212,2219,2226,2233,2247,2254,2261,2268,2282,2289,2296,2303,2317,2324,2331,2338,2352,2359,2366,2373,2387,2394,2401,2408,2422,2429,2436,2443,2457,2464,2471,2478,2492,2499,2506,2513,2527,2534,2541,2548,2562,2569,2576,2583,2597,2604,2611,2618,2632,2639,2646,2653,2667,2674,2681,2688,2702,2709,2716,2723,2737,2744,2751,2758,2772,2779,2786,2793,2807,2814,2821,2828,2842,2849,2856,2863,2877,2884,2891,2898,2912,2919,2926,2933,2947,2954,2961,2968,2982,2989,2996,3003,3017,3024,3031,3038,3052,3059,3066,3073,3087,3094,3101,3108,3122,3129,3136,3143,3157,3164,3171,3178,3192,3199\n"
          ]
        }
      ]
    },
    {
      "cell_type": "code",
      "source": [
        "#Problem 10: Write a program, which will find all such numbers between 1000 and 3000 (both included) such that each digit of the\n",
        "#number is an even number. The numbers obtained should be printed in a space-separated sequence on a single line."
      ],
      "metadata": {
        "id": "9j2IjI4FDG7n"
      },
      "execution_count": null,
      "outputs": []
    },
    {
      "cell_type": "code",
      "source": [
        "# Write code here\n",
        "L = []\n",
        "for i in range(1000,3001):\n",
        "  flag = True\n",
        "\n",
        "  curr = i\n",
        "\n",
        "  while curr > 0:\n",
        "    last = curr%10\n",
        "    if last % 2 != 0:\n",
        "      flag = False\n",
        "      break\n",
        "    curr = curr//10\n",
        "\n",
        "  if flag == True:\n",
        "    L.append(str(i))\n",
        "\n",
        "print(\",\".join(L))"
      ],
      "metadata": {
        "colab": {
          "base_uri": "https://localhost:8080/"
        },
        "id": "hhqKOaTsDG-n",
        "outputId": "9718fd47-1b0a-4d2e-f027-3338791911b5"
      },
      "execution_count": 11,
      "outputs": [
        {
          "output_type": "stream",
          "name": "stdout",
          "text": [
            "2000,2002,2004,2006,2008,2020,2022,2024,2026,2028,2040,2042,2044,2046,2048,2060,2062,2064,2066,2068,2080,2082,2084,2086,2088,2200,2202,2204,2206,2208,2220,2222,2224,2226,2228,2240,2242,2244,2246,2248,2260,2262,2264,2266,2268,2280,2282,2284,2286,2288,2400,2402,2404,2406,2408,2420,2422,2424,2426,2428,2440,2442,2444,2446,2448,2460,2462,2464,2466,2468,2480,2482,2484,2486,2488,2600,2602,2604,2606,2608,2620,2622,2624,2626,2628,2640,2642,2644,2646,2648,2660,2662,2664,2666,2668,2680,2682,2684,2686,2688,2800,2802,2804,2806,2808,2820,2822,2824,2826,2828,2840,2842,2844,2846,2848,2860,2862,2864,2866,2868,2880,2882,2884,2886,2888\n"
          ]
        }
      ]
    },
    {
      "cell_type": "code",
      "source": [
        "#roblem 11: A robot moves in a plane starting from the original point (0,0). The robot can move toward UP, DOWN, LEFT and RIGHT with a given steps.\n",
        "#The trace of robot movement is shown as the following:"
      ],
      "metadata": {
        "id": "LNIgjvioDHBJ"
      },
      "execution_count": null,
      "outputs": []
    },
    {
      "cell_type": "code",
      "source": [
        "# Write code here\n",
        "pos = [0,0]\n",
        "while True:\n",
        "  s = input('Enter the robot path')\n",
        "  if s == '!':\n",
        "    break\n",
        "  direction = s.split()[0]\n",
        "  steps = int(s.split()[1])\n",
        "\n",
        "  if direction == 'UP':\n",
        "    pos[1] = pos[1] + steps\n",
        "  elif direction == 'DOWN':\n",
        "    pos[1] = pos[1] - steps\n",
        "  elif direction == 'LEFT':\n",
        "    pos[0] = pos[0] - steps\n",
        "  elif direction == 'RIGHT':\n",
        "    pos[0] = pos[0] + steps\n",
        "  else:\n",
        "    pass\n",
        "\n",
        "print('new pos',pos)\n",
        "print((pos[0]**2 + pos[1]**2)**0.5)\n",
        "\n",
        "\n",
        "\n",
        "\n"
      ],
      "metadata": {
        "colab": {
          "base_uri": "https://localhost:8080/",
          "height": 228
        },
        "id": "kQlWYZldDHD_",
        "outputId": "e129bc28-6ad8-4d16-f300-75d72a7319e3"
      },
      "execution_count": 15,
      "outputs": [
        {
          "name": "stdout",
          "output_type": "stream",
          "text": [
            "Enter the robot path12\n"
          ]
        },
        {
          "output_type": "error",
          "ename": "IndexError",
          "evalue": "list index out of range",
          "traceback": [
            "\u001b[0;31m---------------------------------------------------------------------------\u001b[0m",
            "\u001b[0;31mIndexError\u001b[0m                                Traceback (most recent call last)",
            "\u001b[0;32m<ipython-input-15-dadb64fc4c3f>\u001b[0m in \u001b[0;36m<cell line: 0>\u001b[0;34m()\u001b[0m\n\u001b[1;32m      6\u001b[0m     \u001b[0;32mbreak\u001b[0m\u001b[0;34m\u001b[0m\u001b[0;34m\u001b[0m\u001b[0m\n\u001b[1;32m      7\u001b[0m   \u001b[0mdirection\u001b[0m \u001b[0;34m=\u001b[0m \u001b[0ms\u001b[0m\u001b[0;34m.\u001b[0m\u001b[0msplit\u001b[0m\u001b[0;34m(\u001b[0m\u001b[0;34m)\u001b[0m\u001b[0;34m[\u001b[0m\u001b[0;36m0\u001b[0m\u001b[0;34m]\u001b[0m\u001b[0;34m\u001b[0m\u001b[0;34m\u001b[0m\u001b[0m\n\u001b[0;32m----> 8\u001b[0;31m   \u001b[0msteps\u001b[0m \u001b[0;34m=\u001b[0m \u001b[0mint\u001b[0m\u001b[0;34m(\u001b[0m\u001b[0ms\u001b[0m\u001b[0;34m.\u001b[0m\u001b[0msplit\u001b[0m\u001b[0;34m(\u001b[0m\u001b[0;34m)\u001b[0m\u001b[0;34m[\u001b[0m\u001b[0;36m1\u001b[0m\u001b[0;34m]\u001b[0m\u001b[0;34m)\u001b[0m\u001b[0;34m\u001b[0m\u001b[0;34m\u001b[0m\u001b[0m\n\u001b[0m\u001b[1;32m      9\u001b[0m \u001b[0;34m\u001b[0m\u001b[0m\n\u001b[1;32m     10\u001b[0m   \u001b[0;32mif\u001b[0m \u001b[0mdirection\u001b[0m \u001b[0;34m==\u001b[0m \u001b[0;34m'UP'\u001b[0m\u001b[0;34m:\u001b[0m\u001b[0;34m\u001b[0m\u001b[0;34m\u001b[0m\u001b[0m\n",
            "\u001b[0;31mIndexError\u001b[0m: list index out of range"
          ]
        }
      ]
    },
    {
      "cell_type": "code",
      "source": [
        "#Problem 12:Write a program to print whether a given number is a prime number or not"
      ],
      "metadata": {
        "id": "DkzKdxevDHGk"
      },
      "execution_count": null,
      "outputs": []
    },
    {
      "cell_type": "code",
      "source": [
        "# Write code here\n",
        "num = int(input('enter the num'))\n",
        "\n",
        "flag = True\n",
        "for i in range(2,num):\n",
        "  if num%i == 0:\n",
        "    flag = False\n",
        "    break\n",
        "\n",
        "if flag == True:\n",
        "  print('Prime')\n",
        "else:\n",
        "  print('Not Prime')\n",
        "\n",
        "\n"
      ],
      "metadata": {
        "colab": {
          "base_uri": "https://localhost:8080/"
        },
        "id": "7uiXMKRuDHIo",
        "outputId": "d237dcd1-708c-49c5-8b39-24ff66f8a37d"
      },
      "execution_count": 16,
      "outputs": [
        {
          "output_type": "stream",
          "name": "stdout",
          "text": [
            "enter the num43\n",
            "Prime\n"
          ]
        }
      ]
    },
    {
      "cell_type": "code",
      "source": [
        "#Problem 13:Print all the Armstrong numbers in a given range.\n",
        "##Armstrong number is a number that is equal to the sum of cubes of its digits. For example 0, 1, 153, 370, 371 and 407 are the Armstrong numbers."
      ],
      "metadata": {
        "id": "XRbQpExFDHLY"
      },
      "execution_count": null,
      "outputs": []
    },
    {
      "cell_type": "code",
      "source": [
        "# Write code here\n",
        "start = int(input(\"Enter the start of the range: \"))\n",
        "end = int(input(\"Enter the end of the range: \"))\n",
        "\n",
        "for num in range(start, end+1):\n",
        "    temp = num\n",
        "    sum = 0\n",
        "    order = len(str(num))\n",
        "    while temp > 0:\n",
        "        digit = temp % 10\n",
        "        sum += digit ** order\n",
        "        temp //= 10\n",
        "    if num == sum:\n",
        "        print(num)\n",
        "\n"
      ],
      "metadata": {
        "colab": {
          "base_uri": "https://localhost:8080/"
        },
        "id": "cURODGVkDV4w",
        "outputId": "d3026326-efe0-4e5b-af29-ee4ac488a88d"
      },
      "execution_count": 17,
      "outputs": [
        {
          "name": "stdout",
          "output_type": "stream",
          "text": [
            "Enter the start of the range: 432\n",
            "Enter the end of the range: 234\n"
          ]
        }
      ]
    },
    {
      "cell_type": "code",
      "source": [
        "##Calculate the angle between the hour hand and minute hand.\n",
        "#Note: There can be two angles between hands; we need to print a minimum of two. Also, we need to print the floor of the\n",
        "#final result angle. For example, if the final angle is 10.61, we need to print 10.\n",
        "\n",
        "#Input:\n",
        "#Output:\n",
        "#90\n",
        "#Explanation:\n",
        "##The minimum angle between hour and minute hand when the time is 9 is 90 degress."
      ],
      "metadata": {
        "id": "dNFjnl3NDV7f"
      },
      "execution_count": null,
      "outputs": []
    },
    {
      "cell_type": "code",
      "source": [
        "# Write code here\n",
        "\n",
        "# Write code here\n",
        "h = int(input('Enter hours hand-'))\n",
        "m = int(input('Enter minute hand-'))\n",
        "\n",
        "# validate the input\n",
        "if (h < 0 or m < 0 or h > 12 or m > 60):\n",
        "    print('Wrong input')\n",
        "\n",
        "# Idea is to minute angle - hour agnle from clockwise from 12 hour point\n",
        "\n",
        "# 1 minute in minute angle manke 6 degree. (60 minute -> 360 degree)\n",
        "m_angle = m*6\n",
        "\n",
        "# every hour point yeilds to 30degree-- 12 hours-360degree plus if minute hand moves hour hands move too\n",
        "# Every minute after hour hand take 0.5 degree movement. clockwise\n",
        "h_angle = h*30 + m*0.5\n",
        "\n",
        "# Take abs difference b/w them\n",
        "angle = abs(h_angle - m_angle)\n",
        "\n",
        "\n",
        "if angle>180:\n",
        "    print(360-angle)\n",
        "else:\n",
        "    print(angle)"
      ],
      "metadata": {
        "colab": {
          "base_uri": "https://localhost:8080/"
        },
        "id": "s5cHYrk0DWAW",
        "outputId": "dea2c0c7-8387-4073-996f-12ef8021fe6e"
      },
      "execution_count": 18,
      "outputs": [
        {
          "output_type": "stream",
          "name": "stdout",
          "text": [
            "Enter hours hand-432\n",
            "Enter minute hand-234\n",
            "Wrong input\n",
            "-11313.0\n"
          ]
        }
      ]
    },
    {
      "cell_type": "code",
      "source": [
        "#Given two rectangles, find if the given two rectangles overlap or not. A rectangle is denoted by providing the x and y\n",
        " #coordinates of two points: the left top corner and the right bottom corner of the rectangle. Two rectangles sharing a side are considered overlapping.\n",
        " # (L1 and R1 are the extreme points of the first rectangle and L2 and R2 are the extreme points of the second rectangle).\n",
        "#Note: It may be assumed that the rectangles are parallel to the coordinate axis#"
      ],
      "metadata": {
        "id": "_q5pJuPZDWDL"
      },
      "execution_count": null,
      "outputs": []
    },
    {
      "cell_type": "code",
      "source": [],
      "metadata": {
        "id": "Knu6C8vCDWFk"
      },
      "execution_count": 19,
      "outputs": []
    },
    {
      "cell_type": "code",
      "source": [],
      "metadata": {
        "id": "R23t3LdhDWIJ"
      },
      "execution_count": null,
      "outputs": []
    }
  ]
}