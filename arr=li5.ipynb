{
  "nbformat": 4,
  "nbformat_minor": 0,
  "metadata": {
    "colab": {
      "provenance": [],
      "authorship_tag": "ABX9TyOgEL640NORwSqG7ym+jzOL",
      "include_colab_link": true
    },
    "kernelspec": {
      "name": "python3",
      "display_name": "Python 3"
    },
    "language_info": {
      "name": "python"
    }
  },
  "cells": [
    {
      "cell_type": "markdown",
      "metadata": {
        "id": "view-in-github",
        "colab_type": "text"
      },
      "source": [
        "<a href=\"https://colab.research.google.com/github/Dakshak-Data/python_p/blob/main/arr%3Dli5.ipynb\" target=\"_parent\"><img src=\"https://colab.research.google.com/assets/colab-badge.svg\" alt=\"Open In Colab\"/></a>"
      ]
    },
    {
      "cell_type": "code",
      "execution_count": null,
      "metadata": {
        "id": "IgUMbsMASSGw"
      },
      "outputs": [],
      "source": [
        "#Array Vs Lists\n",
        "#Fixed Vs Dynamic Size\n",
        "#Convenience -> Hetrogeneous\n",
        "#Speed of Execution\n",
        "#Memory"
      ]
    },
    {
      "cell_type": "code",
      "source": [
        "L = [1,2,3]\n",
        "\n",
        "print(id(L))\n",
        "print(id(L[0]))\n",
        "print(id(L[1]))\n",
        "print(id(L[2]))\n",
        "print(id(1))\n",
        "print(id(2))\n",
        "print(id(3))"
      ],
      "metadata": {
        "id": "_LVdhwQkSfjf",
        "colab": {
          "base_uri": "https://localhost:8080/"
        },
        "outputId": "02a7d011-e654-4f28-ebeb-2022150c972e"
      },
      "execution_count": 1,
      "outputs": [
        {
          "output_type": "stream",
          "name": "stdout",
          "text": [
            "136406182242496\n",
            "10750856\n",
            "10750888\n",
            "10750920\n",
            "10750856\n",
            "10750888\n",
            "10750920\n"
          ]
        }
      ]
    },
    {
      "cell_type": "code",
      "source": [
        "#How lists are stored in memory\n",
        "#Characterstics of a List\n",
        "# Ordered\n",
        "#Changeble/Mutable\n",
        "#Hetrogeneous\n",
        "#Can have duplicates\n",
        "#are dynamic\n",
        "#can be nested\n",
        "#items can be accessed\n",
        "#can contain any kind of objects in python"
      ],
      "metadata": {
        "id": "jfHuBz1-SfnP"
      },
      "execution_count": null,
      "outputs": []
    },
    {
      "cell_type": "code",
      "source": [
        "L = [1,2,3,1]\n",
        "L1 = [3,2,1]\n",
        "\n",
        "L == L1"
      ],
      "metadata": {
        "id": "0jUdmGErSfrE",
        "colab": {
          "base_uri": "https://localhost:8080/"
        },
        "outputId": "76d00ca0-06c4-42b1-ea76-03cc764d84af"
      },
      "execution_count": 2,
      "outputs": [
        {
          "output_type": "execute_result",
          "data": {
            "text/plain": [
              "False"
            ]
          },
          "metadata": {},
          "execution_count": 2
        }
      ]
    },
    {
      "cell_type": "code",
      "source": [
        "#Creating a List"
      ],
      "metadata": {
        "id": "drmgIySPSfuv"
      },
      "execution_count": null,
      "outputs": []
    },
    {
      "cell_type": "code",
      "source": [
        "# Empty\n",
        "print([])\n",
        "# 1D -> Homo\n",
        "print([1,2,3,4,5])\n",
        "# 2D\n",
        "print([1,2,3,[4,5]])\n",
        "# 3D\n",
        "print([[[1,2],[3,4]],[[5,6],[7,8]]])\n",
        "# Hetrogenous\n",
        "print([1,True,5.6,5+6j,'Hello'])\n",
        "# Using Type conversion\n",
        "print(list('hello'))"
      ],
      "metadata": {
        "id": "WhI54-V1Sfy4",
        "colab": {
          "base_uri": "https://localhost:8080/"
        },
        "outputId": "7ee79988-d72a-489d-8dca-6e41d44391a1"
      },
      "execution_count": 3,
      "outputs": [
        {
          "output_type": "stream",
          "name": "stdout",
          "text": [
            "[]\n",
            "[1, 2, 3, 4, 5]\n",
            "[1, 2, 3, [4, 5]]\n",
            "[[[1, 2], [3, 4]], [[5, 6], [7, 8]]]\n",
            "[1, True, 5.6, (5+6j), 'Hello']\n",
            "['h', 'e', 'l', 'l', 'o']\n"
          ]
        }
      ]
    },
    {
      "cell_type": "code",
      "source": [
        "#Accessing Items from a List"
      ],
      "metadata": {
        "id": "kO1t-f-CSf2a"
      },
      "execution_count": null,
      "outputs": []
    },
    {
      "cell_type": "code",
      "source": [
        "# Indexing\n",
        "L = [[[1,2],[3,4]],[[5,6],[7,8]]]\n",
        "#positive\n",
        "#print(L[0][0][1])\n",
        "\n",
        "# Slicing\n",
        "L = [1,2,3,4,5,6]\n",
        "\n",
        "print(L[::-1])"
      ],
      "metadata": {
        "id": "EiYjmYVFSf5V",
        "colab": {
          "base_uri": "https://localhost:8080/"
        },
        "outputId": "0bdb1174-e37b-42b2-a9c6-c1c329407c76"
      },
      "execution_count": 4,
      "outputs": [
        {
          "output_type": "stream",
          "name": "stdout",
          "text": [
            "[6, 5, 4, 3, 2, 1]\n"
          ]
        }
      ]
    },
    {
      "cell_type": "code",
      "source": [
        "#Adding Items to a List"
      ],
      "metadata": {
        "id": "H52FwTU3SgR2"
      },
      "execution_count": null,
      "outputs": []
    },
    {
      "cell_type": "code",
      "source": [
        "# append\n",
        "L = [1,2,3,4,5]\n",
        "L.append(True)\n",
        "print(L)"
      ],
      "metadata": {
        "id": "4tDWYlgrSgaN",
        "colab": {
          "base_uri": "https://localhost:8080/"
        },
        "outputId": "9391493f-20e5-4e00-eae6-9338d57f21e2"
      },
      "execution_count": 5,
      "outputs": [
        {
          "output_type": "stream",
          "name": "stdout",
          "text": [
            "[1, 2, 3, 4, 5, True]\n"
          ]
        }
      ]
    },
    {
      "cell_type": "code",
      "source": [
        "# extend\n",
        "L = [1,2,3,4,5]\n",
        "L.extend([6,7,8])\n",
        "print(L)"
      ],
      "metadata": {
        "id": "XdLVtZ3fSgg_",
        "colab": {
          "base_uri": "https://localhost:8080/"
        },
        "outputId": "7bd81bd7-9b9f-48b3-d58f-bd6c9ec56ac5"
      },
      "execution_count": 6,
      "outputs": [
        {
          "output_type": "stream",
          "name": "stdout",
          "text": [
            "[1, 2, 3, 4, 5, 6, 7, 8]\n"
          ]
        }
      ]
    },
    {
      "cell_type": "code",
      "source": [
        "L = [1,2,3,4,5]\n",
        "L.append([6,7,8])\n",
        "print(L)"
      ],
      "metadata": {
        "id": "oYX9lLk4Sgje",
        "colab": {
          "base_uri": "https://localhost:8080/"
        },
        "outputId": "818cae9f-340b-4a80-dc40-587afadac01f"
      },
      "execution_count": 7,
      "outputs": [
        {
          "output_type": "stream",
          "name": "stdout",
          "text": [
            "[1, 2, 3, 4, 5, [6, 7, 8]]\n"
          ]
        }
      ]
    },
    {
      "cell_type": "code",
      "source": [
        "L = [1,2,3,4,5]\n",
        "L.extend('delhi')\n",
        "print(L)"
      ],
      "metadata": {
        "id": "JrsTrPkEY21J",
        "colab": {
          "base_uri": "https://localhost:8080/"
        },
        "outputId": "7dbdb273-1386-4543-9177-f90d75410e78"
      },
      "execution_count": 8,
      "outputs": [
        {
          "output_type": "stream",
          "name": "stdout",
          "text": [
            "[1, 2, 3, 4, 5, 'd', 'e', 'l', 'h', 'i']\n"
          ]
        }
      ]
    },
    {
      "cell_type": "code",
      "source": [
        "# insert\n",
        "L = [1,2,3,4,5]\n",
        "\n",
        "L.insert(1,100)\n",
        "print(L)"
      ],
      "metadata": {
        "id": "_UiA5g27Y232",
        "colab": {
          "base_uri": "https://localhost:8080/"
        },
        "outputId": "db681165-90e5-4037-8987-c4b0d41c41d9"
      },
      "execution_count": 9,
      "outputs": [
        {
          "output_type": "stream",
          "name": "stdout",
          "text": [
            "[1, 100, 2, 3, 4, 5]\n"
          ]
        }
      ]
    },
    {
      "cell_type": "code",
      "source": [
        "#Editing items in a List"
      ],
      "metadata": {
        "id": "Nuz4S9JkY26q"
      },
      "execution_count": null,
      "outputs": []
    },
    {
      "cell_type": "code",
      "source": [
        "L = [1,2,3,4,5]\n",
        "\n",
        "# editing with indexing\n",
        "L[-1] = 500\n",
        "\n",
        "# editing with slicing\n",
        "L[1:4] = [200,300,400]\n",
        "\n",
        "print(L)"
      ],
      "metadata": {
        "id": "ebtXCmh3Y3A1",
        "colab": {
          "base_uri": "https://localhost:8080/"
        },
        "outputId": "ab649176-d187-4519-f6ba-40db06701d87"
      },
      "execution_count": 10,
      "outputs": [
        {
          "output_type": "stream",
          "name": "stdout",
          "text": [
            "[1, 200, 300, 400, 500]\n"
          ]
        }
      ]
    },
    {
      "cell_type": "code",
      "source": [
        "#Deleting items from a List"
      ],
      "metadata": {
        "id": "l09uDr8eY3Cl"
      },
      "execution_count": null,
      "outputs": []
    },
    {
      "cell_type": "code",
      "source": [
        "# del\n",
        "L = [1,2,3,4,5]\n",
        "\n",
        "# indexing\n",
        "del L[-1]\n",
        "\n",
        "# slicing\n",
        "del L[1:3]\n",
        "print(L)"
      ],
      "metadata": {
        "id": "zKawZoQeY3EW",
        "colab": {
          "base_uri": "https://localhost:8080/"
        },
        "outputId": "745bc92e-9ca8-4f22-b146-849fa93eef39"
      },
      "execution_count": 11,
      "outputs": [
        {
          "output_type": "stream",
          "name": "stdout",
          "text": [
            "[1, 4]\n"
          ]
        }
      ]
    },
    {
      "cell_type": "code",
      "source": [
        "# remove\n",
        "\n",
        "L = [1,2,3,4,5]\n",
        "\n",
        "L.remove(5)\n",
        "\n",
        "print(L)\n"
      ],
      "metadata": {
        "id": "Q0sz1S23Y3HC",
        "colab": {
          "base_uri": "https://localhost:8080/"
        },
        "outputId": "78f30bde-3d8c-47ec-86c7-ffbce0a1405b"
      },
      "execution_count": 12,
      "outputs": [
        {
          "output_type": "stream",
          "name": "stdout",
          "text": [
            "[1, 2, 3, 4]\n"
          ]
        }
      ]
    },
    {
      "cell_type": "code",
      "source": [
        "# pop\n",
        "L = [1,2,3,4,5]\n",
        "\n",
        "L.pop()\n",
        "\n",
        "print(L)"
      ],
      "metadata": {
        "id": "ule9zJQVY3Km",
        "colab": {
          "base_uri": "https://localhost:8080/"
        },
        "outputId": "f3cdddaf-552c-43fe-bef7-947ba4248ea9"
      },
      "execution_count": 13,
      "outputs": [
        {
          "output_type": "stream",
          "name": "stdout",
          "text": [
            "[1, 2, 3, 4]\n"
          ]
        }
      ]
    },
    {
      "cell_type": "code",
      "source": [
        "# clear\n",
        "L = [1,2,3,4,5]\n",
        "\n",
        "L.clear()\n",
        "\n",
        "print(L)"
      ],
      "metadata": {
        "id": "X59fbNaOZI9j",
        "colab": {
          "base_uri": "https://localhost:8080/"
        },
        "outputId": "861922af-f721-448a-b5cb-be8dae30994c"
      },
      "execution_count": 14,
      "outputs": [
        {
          "output_type": "stream",
          "name": "stdout",
          "text": [
            "[]\n"
          ]
        }
      ]
    },
    {
      "cell_type": "code",
      "source": [
        "#Operations on Lists\n",
        "#Arithmetic\n",
        "#Membership\n",
        "#Loop"
      ],
      "metadata": {
        "id": "4I_4zBvIZI_9"
      },
      "execution_count": null,
      "outputs": []
    },
    {
      "cell_type": "code",
      "source": [
        "# Arithmetic (+ ,*)\n",
        "\n",
        "L1 = [1,2,3,4]\n",
        "L2 = [5,6,7,8]\n",
        "\n",
        "# Concatenation/Merge\n",
        "print(L1 + L2)"
      ],
      "metadata": {
        "id": "_1nF7VONZJCn",
        "colab": {
          "base_uri": "https://localhost:8080/"
        },
        "outputId": "4ca9bae9-e9ef-46b7-8240-b6f928957707"
      },
      "execution_count": 15,
      "outputs": [
        {
          "output_type": "stream",
          "name": "stdout",
          "text": [
            "[1, 2, 3, 4, 5, 6, 7, 8]\n"
          ]
        }
      ]
    },
    {
      "cell_type": "code",
      "source": [
        "print(L1*3)"
      ],
      "metadata": {
        "id": "7omqrPVMZJFI",
        "colab": {
          "base_uri": "https://localhost:8080/"
        },
        "outputId": "0cd7bf03-d683-416a-c7bd-72cabcbc2c44"
      },
      "execution_count": 16,
      "outputs": [
        {
          "output_type": "stream",
          "name": "stdout",
          "text": [
            "[1, 2, 3, 4, 1, 2, 3, 4, 1, 2, 3, 4]\n"
          ]
        }
      ]
    },
    {
      "cell_type": "code",
      "source": [
        "L1 = [1,2,3,4,5]\n",
        "L2 = [1,2,3,4,[5,6]]\n",
        "\n",
        "print(5 not in L1)\n",
        "print([5,6] in L2)"
      ],
      "metadata": {
        "id": "aabj71VyZJH8",
        "colab": {
          "base_uri": "https://localhost:8080/"
        },
        "outputId": "372d6f45-5bab-43ff-b05e-ab580560c43c"
      },
      "execution_count": 17,
      "outputs": [
        {
          "output_type": "stream",
          "name": "stdout",
          "text": [
            "False\n",
            "True\n"
          ]
        }
      ]
    },
    {
      "cell_type": "code",
      "source": [
        "# Loops\n",
        "L1 = [1,2,3,4,5]\n",
        "L2 = [1,2,3,4,[5,6]]\n",
        "L3 = [[[1,2],[3,4]],[[5,6],[7,8]]]\n",
        "\n",
        "for i in L3:\n",
        "  print(i)"
      ],
      "metadata": {
        "id": "0B1bnIofZJKW",
        "colab": {
          "base_uri": "https://localhost:8080/"
        },
        "outputId": "59d9e115-59f2-40bf-eee1-8e26e56045a5"
      },
      "execution_count": 18,
      "outputs": [
        {
          "output_type": "stream",
          "name": "stdout",
          "text": [
            "[[1, 2], [3, 4]]\n",
            "[[5, 6], [7, 8]]\n"
          ]
        }
      ]
    },
    {
      "cell_type": "code",
      "source": [
        "#List Functions"
      ],
      "metadata": {
        "id": "qWz-LkH2ZJNE"
      },
      "execution_count": null,
      "outputs": []
    },
    {
      "cell_type": "code",
      "source": [
        "# len/min/max/sorted\n",
        "L = [2,1,5,7,0]\n",
        "\n",
        "print(len(L))\n",
        "print(min(L))\n",
        "print(max(L))\n",
        "print(sorted(L,reverse=True))"
      ],
      "metadata": {
        "id": "CZFL-EyLZJPo",
        "colab": {
          "base_uri": "https://localhost:8080/"
        },
        "outputId": "79cc287d-9534-4252-c696-4c69fd3ff722"
      },
      "execution_count": 19,
      "outputs": [
        {
          "output_type": "stream",
          "name": "stdout",
          "text": [
            "5\n",
            "0\n",
            "7\n",
            "[7, 5, 2, 1, 0]\n"
          ]
        }
      ]
    },
    {
      "cell_type": "code",
      "source": [
        "# count\n",
        "L = [1,2,1,3,4,1,5]\n",
        "L.count(5)"
      ],
      "metadata": {
        "id": "bcmr22m2ZJTE",
        "colab": {
          "base_uri": "https://localhost:8080/"
        },
        "outputId": "b34a9740-3038-4e31-8ad2-201296028c32"
      },
      "execution_count": 20,
      "outputs": [
        {
          "output_type": "execute_result",
          "data": {
            "text/plain": [
              "1"
            ]
          },
          "metadata": {},
          "execution_count": 20
        }
      ]
    },
    {
      "cell_type": "code",
      "source": [
        "# index\n",
        "L = [1,2,1,3,4,1,5]\n",
        "L.index(1)"
      ],
      "metadata": {
        "id": "XxnrCESvZJba",
        "colab": {
          "base_uri": "https://localhost:8080/"
        },
        "outputId": "92a336b6-d93a-4927-c296-6f85f9a340f8"
      },
      "execution_count": 21,
      "outputs": [
        {
          "output_type": "execute_result",
          "data": {
            "text/plain": [
              "0"
            ]
          },
          "metadata": {},
          "execution_count": 21
        }
      ]
    },
    {
      "cell_type": "code",
      "source": [
        "# reverse\n",
        "L = [2,1,5,7,0]\n",
        "# permanently reverses the list\n",
        "L.reverse()\n",
        "print(L)"
      ],
      "metadata": {
        "id": "t757ILeXZJe1",
        "colab": {
          "base_uri": "https://localhost:8080/"
        },
        "outputId": "e3ce6c5b-4222-4fb2-c294-6ac2220e0f28"
      },
      "execution_count": 22,
      "outputs": [
        {
          "output_type": "stream",
          "name": "stdout",
          "text": [
            "[0, 7, 5, 1, 2]\n"
          ]
        }
      ]
    },
    {
      "cell_type": "code",
      "source": [
        "# sort (vs sorted)\n",
        "L = [2,1,5,7,0]\n",
        "print(L)\n",
        "print(sorted(L))\n",
        "print(L)\n",
        "L.sort()\n",
        "print(L)"
      ],
      "metadata": {
        "id": "CDOWrLQJZm52",
        "colab": {
          "base_uri": "https://localhost:8080/"
        },
        "outputId": "728e3896-82a9-4af2-8d58-4623480e73f8"
      },
      "execution_count": 23,
      "outputs": [
        {
          "output_type": "stream",
          "name": "stdout",
          "text": [
            "[2, 1, 5, 7, 0]\n",
            "[0, 1, 2, 5, 7]\n",
            "[2, 1, 5, 7, 0]\n",
            "[0, 1, 2, 5, 7]\n"
          ]
        }
      ]
    },
    {
      "cell_type": "code",
      "source": [
        "# copy -> shallow\n",
        "L = [2,1,5,7,0]\n",
        "print(L)\n",
        "print(id(L))\n",
        "L1 = L.copy()\n",
        "print(L1)\n",
        "print(id(L1))"
      ],
      "metadata": {
        "id": "rOwi9qLMZm8H",
        "colab": {
          "base_uri": "https://localhost:8080/"
        },
        "outputId": "140dfa33-4766-4f0c-ab5f-a8f4048ad61c"
      },
      "execution_count": 24,
      "outputs": [
        {
          "output_type": "stream",
          "name": "stdout",
          "text": [
            "[2, 1, 5, 7, 0]\n",
            "136406194801728\n",
            "[2, 1, 5, 7, 0]\n",
            "136406192865600\n"
          ]
        }
      ]
    },
    {
      "cell_type": "code",
      "source": [
        "#List Comprehension\n",
        "#List Comprehension provides a concise way of creating lists.\n",
        "\n",
        "#newlist = [expression for item in iterable if condition == True]image.png\n",
        "\n",
        "#Advantages of List Comprehension\n",
        "\n",
        "#More time-efficient and space-efficient than loops.\n",
        "#Require fewer lines of code.\n",
        "#Transforms iterative statement into a formula."
      ],
      "metadata": {
        "id": "dqbtTsrPZm-a"
      },
      "execution_count": null,
      "outputs": []
    },
    {
      "cell_type": "code",
      "source": [
        "# Add 1 to 10 numbers to a list\n",
        "L = []\n",
        "\n",
        "for i in range(1,11):\n",
        "  L.append(i)\n",
        "\n",
        "print(L)"
      ],
      "metadata": {
        "id": "OOGAAzVUZnA3",
        "colab": {
          "base_uri": "https://localhost:8080/"
        },
        "outputId": "eeca296a-262a-4c39-ea75-81b495d26a96"
      },
      "execution_count": 25,
      "outputs": [
        {
          "output_type": "stream",
          "name": "stdout",
          "text": [
            "[1, 2, 3, 4, 5, 6, 7, 8, 9, 10]\n"
          ]
        }
      ]
    },
    {
      "cell_type": "code",
      "source": [
        "L = [i for i in range(1,11)]\n",
        "print(L)"
      ],
      "metadata": {
        "id": "6eKPepXFZnDV"
      },
      "execution_count": null,
      "outputs": []
    },
    {
      "cell_type": "code",
      "source": [
        "# scalar multiplication on a vector\n",
        "v = [2,3,4]\n",
        "s = -3\n",
        "# [-6,-9,-12]\n",
        "\n",
        "[s*i for i in v]"
      ],
      "metadata": {
        "id": "Trr06lTQZnFq",
        "colab": {
          "base_uri": "https://localhost:8080/"
        },
        "outputId": "e2eed148-fe8f-429c-db80-1a2ec426122f"
      },
      "execution_count": 26,
      "outputs": [
        {
          "output_type": "execute_result",
          "data": {
            "text/plain": [
              "[-6, -9, -12]"
            ]
          },
          "metadata": {},
          "execution_count": 26
        }
      ]
    },
    {
      "cell_type": "code",
      "source": [
        "# Add squares\n",
        "L = [1,2,3,4,5]\n",
        "\n",
        "[i**2 for i in L]\n"
      ],
      "metadata": {
        "id": "eINzrAt-ZnHz",
        "colab": {
          "base_uri": "https://localhost:8080/"
        },
        "outputId": "d9a3ff88-92aa-4e6b-e69c-854e41e5ebf6"
      },
      "execution_count": 27,
      "outputs": [
        {
          "output_type": "execute_result",
          "data": {
            "text/plain": [
              "[1, 4, 9, 16, 25]"
            ]
          },
          "metadata": {},
          "execution_count": 27
        }
      ]
    },
    {
      "cell_type": "code",
      "source": [
        "# Print all numbers divisible by 5 in the range of 1 to 50\n",
        "\n",
        "[i for i in range(1,51) if i%5 == 0]"
      ],
      "metadata": {
        "id": "vb6-g6B7ZnLb",
        "colab": {
          "base_uri": "https://localhost:8080/"
        },
        "outputId": "ce05eee5-c739-49c3-d730-25a9b81585ff"
      },
      "execution_count": 28,
      "outputs": [
        {
          "output_type": "execute_result",
          "data": {
            "text/plain": [
              "[5, 10, 15, 20, 25, 30, 35, 40, 45, 50]"
            ]
          },
          "metadata": {},
          "execution_count": 28
        }
      ]
    },
    {
      "cell_type": "code",
      "source": [
        "# find languages which start with letter p\n",
        "languages = ['java','python','php','c','javascript']\n",
        "\n",
        "[language for language in languages if language.startswith('p')]"
      ],
      "metadata": {
        "id": "daB2O9LaZnSV",
        "colab": {
          "base_uri": "https://localhost:8080/"
        },
        "outputId": "d2bcf61e-e4e7-47b9-e8ab-1784bd8fdb84"
      },
      "execution_count": 29,
      "outputs": [
        {
          "output_type": "execute_result",
          "data": {
            "text/plain": [
              "['python', 'php']"
            ]
          },
          "metadata": {},
          "execution_count": 29
        }
      ]
    },
    {
      "cell_type": "code",
      "source": [
        "# Nested if with List Comprehension\n",
        "basket = ['apple','guava','cherry','banana']\n",
        "my_fruits = ['apple','kiwi','grapes','banana']\n",
        "\n",
        "# add new list from my_fruits and items if the fruit exists in basket and also starts with 'a'\n",
        "\n",
        "[fruit for fruit in my_fruits if fruit in basket if fruit.startswith('a')]"
      ],
      "metadata": {
        "id": "98oHFaQLagQV",
        "colab": {
          "base_uri": "https://localhost:8080/"
        },
        "outputId": "6d932fb4-99e7-48a5-bcbb-e8fdf56bfdac"
      },
      "execution_count": 30,
      "outputs": [
        {
          "output_type": "execute_result",
          "data": {
            "text/plain": [
              "['apple']"
            ]
          },
          "metadata": {},
          "execution_count": 30
        }
      ]
    },
    {
      "cell_type": "code",
      "source": [
        "# Print a (3,3) matrix using list comprehension -> Nested List comprehension\n",
        "[[i*j for i in range(1,4)] for j in range(1,4)]"
      ],
      "metadata": {
        "id": "wuthnxncagS4",
        "colab": {
          "base_uri": "https://localhost:8080/"
        },
        "outputId": "971ca398-b131-4c81-acae-36818e5f05ca"
      },
      "execution_count": 31,
      "outputs": [
        {
          "output_type": "execute_result",
          "data": {
            "text/plain": [
              "[[1, 2, 3], [2, 4, 6], [3, 6, 9]]"
            ]
          },
          "metadata": {},
          "execution_count": 31
        }
      ]
    },
    {
      "cell_type": "code",
      "source": [
        "# cartesian products -> List comprehension on 2 lists together\n",
        "L1 = [1,2,3,4]\n",
        "L2 = [5,6,7,8]\n",
        "\n",
        "[i*j for i in L1 for j in L2]"
      ],
      "metadata": {
        "id": "aGC60LqlagVa",
        "colab": {
          "base_uri": "https://localhost:8080/"
        },
        "outputId": "7d6fef2f-557f-40fe-aac4-d5d36ea0d9e9"
      },
      "execution_count": 32,
      "outputs": [
        {
          "output_type": "execute_result",
          "data": {
            "text/plain": [
              "[5, 6, 7, 8, 10, 12, 14, 16, 15, 18, 21, 24, 20, 24, 28, 32]"
            ]
          },
          "metadata": {},
          "execution_count": 32
        }
      ]
    },
    {
      "cell_type": "code",
      "source": [
        "\n",
        "## 2 ways to traverse a list\n",
        "\n",
        "#- itemwise\n",
        "#- indexwise"
      ],
      "metadata": {
        "id": "49sLBWmkagYE"
      },
      "execution_count": null,
      "outputs": []
    },
    {
      "cell_type": "code",
      "source": [
        "# itemwise\n",
        "L = [1,2,3,4]\n",
        "\n",
        "for i in L:\n",
        "  print(i)"
      ],
      "metadata": {
        "id": "-jVRwU5cagan",
        "colab": {
          "base_uri": "https://localhost:8080/"
        },
        "outputId": "9d6c3ea9-098e-43f1-9d58-5de6ef0ab441"
      },
      "execution_count": 33,
      "outputs": [
        {
          "output_type": "stream",
          "name": "stdout",
          "text": [
            "1\n",
            "2\n",
            "3\n",
            "4\n"
          ]
        }
      ]
    },
    {
      "cell_type": "code",
      "source": [
        "# indexwise\n",
        "L = [1,2,3,4]\n",
        "\n",
        "for i in range(0,len(L)):\n",
        "  print(L[i])\n"
      ],
      "metadata": {
        "id": "T4MbTQdUagdF",
        "colab": {
          "base_uri": "https://localhost:8080/"
        },
        "outputId": "c9d1196d-edcb-4f49-88bc-b122cbeb4e6f"
      },
      "execution_count": 34,
      "outputs": [
        {
          "output_type": "stream",
          "name": "stdout",
          "text": [
            "1\n",
            "2\n",
            "3\n",
            "4\n"
          ]
        }
      ]
    },
    {
      "cell_type": "code",
      "source": [
        "#Zip\n",
        "#The zip() function returns a zip object, which is an iterator of tuples where the first item in each passed iterator is paired together, and then the second item in each passed iterator are paired together.\n",
        "\n",
        "#If the passed iterators have different lengths, the iterator with the least items decides the length of the new iterator."
      ],
      "metadata": {
        "id": "mSGy57V6agff"
      },
      "execution_count": null,
      "outputs": []
    },
    {
      "cell_type": "code",
      "source": [
        "# Write a program to add items of 2 lists indexwise\n",
        "\n",
        "L1 = [1,2,3,4]\n",
        "L2 = [-1,-2,-3,-4]\n",
        "\n",
        "list(zip(L1,L2))\n",
        "\n",
        "[i+j for i,j in zip(L1,L2)]"
      ],
      "metadata": {
        "id": "0IP9cyOBagik",
        "colab": {
          "base_uri": "https://localhost:8080/"
        },
        "outputId": "e5cfade4-bd13-4f14-c621-7af898e7c50f"
      },
      "execution_count": 35,
      "outputs": [
        {
          "output_type": "execute_result",
          "data": {
            "text/plain": [
              "[0, 0, 0, 0]"
            ]
          },
          "metadata": {},
          "execution_count": 35
        }
      ]
    },
    {
      "cell_type": "code",
      "source": [
        "L = [1,2,print,type,input]\n",
        "\n",
        "print(L)"
      ],
      "metadata": {
        "id": "49HJwk_ea8YL",
        "colab": {
          "base_uri": "https://localhost:8080/"
        },
        "outputId": "ea7b08c4-28b4-4b92-cf02-c92069386f66"
      },
      "execution_count": 36,
      "outputs": [
        {
          "output_type": "stream",
          "name": "stdout",
          "text": [
            "[1, 2, <built-in function print>, <class 'type'>, <bound method Kernel.raw_input of <google.colab._kernel.Kernel object at 0x7c0f9b627990>>]\n"
          ]
        }
      ]
    },
    {
      "cell_type": "code",
      "source": [
        "#Disadvantages of Python Lists\n",
        "#Slow\n",
        "#Risky usage\n",
        "#eats up more memory"
      ],
      "metadata": {
        "id": "8-6aF5xma8a1"
      },
      "execution_count": null,
      "outputs": []
    },
    {
      "cell_type": "code",
      "source": [
        "a = [1,2,3]\n",
        "b = a.copy()\n",
        "\n",
        "print(a)\n",
        "print(b)\n",
        "\n",
        "a.append(4)\n",
        "print(a)\n",
        "print(b)\n",
        "\n",
        "# lists are mutable"
      ],
      "metadata": {
        "id": "yBnVr3Eka8dX",
        "colab": {
          "base_uri": "https://localhost:8080/"
        },
        "outputId": "2290f092-07e2-4285-b11f-b1e80c5ccfeb"
      },
      "execution_count": 37,
      "outputs": [
        {
          "output_type": "stream",
          "name": "stdout",
          "text": [
            "[1, 2, 3]\n",
            "[1, 2, 3]\n",
            "[1, 2, 3, 4]\n",
            "[1, 2, 3]\n"
          ]
        }
      ]
    },
    {
      "cell_type": "code",
      "source": [
        "#List Programs"
      ],
      "metadata": {
        "id": "X6GZSuEMa8f8"
      },
      "execution_count": null,
      "outputs": []
    },
    {
      "cell_type": "code",
      "source": [
        "# Create 2 lists from a given list where\n",
        "# 1st list will contain all the odd numbers from the original list and\n",
        "# the 2nd one will contain all the even numbers\n",
        "\n",
        "L = [1,2,3,4,5,6]"
      ],
      "metadata": {
        "id": "55sSZ_tia8h9"
      },
      "execution_count": 38,
      "outputs": []
    },
    {
      "cell_type": "code",
      "source": [
        "# Write a program to replace an item with a different item if found in the list\n",
        "L = [1,2,3,4,5,3]\n",
        "# replace 3 with 300"
      ],
      "metadata": {
        "id": "q8d2WDlja8lf"
      },
      "execution_count": 39,
      "outputs": []
    },
    {
      "cell_type": "code",
      "source": [
        "# Write a program that can convert a 2D list to 1D list"
      ],
      "metadata": {
        "id": "pofiYUsKbQeX"
      },
      "execution_count": null,
      "outputs": []
    },
    {
      "cell_type": "code",
      "source": [
        "# Write a program to remove duplicate items from a list\n",
        "\n",
        "L = [1,2,1,2,3,4,5,3,4]"
      ],
      "metadata": {
        "id": "nMYA3Oa0bQg4"
      },
      "execution_count": 40,
      "outputs": []
    },
    {
      "cell_type": "code",
      "source": [
        "# Write a program to check if a list is in ascending order or not"
      ],
      "metadata": {
        "id": "QY99dfgCbQjN"
      },
      "execution_count": null,
      "outputs": []
    },
    {
      "cell_type": "code",
      "source": [],
      "metadata": {
        "id": "TDsoNf0RbQlj"
      },
      "execution_count": null,
      "outputs": []
    },
    {
      "cell_type": "code",
      "source": [],
      "metadata": {
        "id": "QbQH6IMobQo8"
      },
      "execution_count": null,
      "outputs": []
    }
  ]
}