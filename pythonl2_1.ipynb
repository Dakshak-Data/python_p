{
  "nbformat": 4,
  "nbformat_minor": 0,
  "metadata": {
    "colab": {
      "provenance": [],
      "authorship_tag": "ABX9TyPFvw+yctj9NiXadvivrllZ",
      "include_colab_link": true
    },
    "kernelspec": {
      "name": "python3",
      "display_name": "Python 3"
    },
    "language_info": {
      "name": "python"
    }
  },
  "cells": [
    {
      "cell_type": "markdown",
      "metadata": {
        "id": "view-in-github",
        "colab_type": "text"
      },
      "source": [
        "<a href=\"https://colab.research.google.com/github/Dakshak-Data/python_p/blob/main/pythonl2_1.ipynb\" target=\"_parent\"><img src=\"https://colab.research.google.com/assets/colab-badge.svg\" alt=\"Open In Colab\"/></a>"
      ]
    },
    {
      "cell_type": "code",
      "execution_count": null,
      "metadata": {
        "id": "Fzc5agWJ4WuU"
      },
      "outputs": [],
      "source": [
        "#1. Lists\n",
        "#What are Lists?\n",
        "#Lists Vs Arrays\n",
        "#Characterstics of a List\n",
        "#How to create a list\n",
        "#Access items from a List\n",
        "#Editing items in a List\n",
        "#Deleting items from a List\n",
        "#Operations on Lists\n",
        "#Functions on Lists\n",
        "#What are Lists\n",
        "#List is a data type where you can store multiple items under 1 name. More technically, lists act like dynamic arrays which means you can add more items on the fly.\n",
        "#Why Lists are required in programming?\n",
        "#Array Vs Lists\n",
        "#Fixed Vs Dynamic Size\n",
        "#Convenience -> Hetrogeneous\n",
        "#Speed of Execution\n",
        "#Memory"
      ]
    },
    {
      "cell_type": "code",
      "source": [
        "L = [1,2,3]\n",
        "\n",
        "print(id(L))\n",
        "print(id(L[0]))\n",
        "print(id(L[1]))\n",
        "print(id(L[2]))\n",
        "print(id(1))\n",
        "print(id(2))\n",
        "print(id(3))"
      ],
      "metadata": {
        "colab": {
          "base_uri": "https://localhost:8080/"
        },
        "id": "7EtPI96k4pA9",
        "outputId": "62248402-69e0-4ac9-d901-293141e8c766"
      },
      "execution_count": 1,
      "outputs": [
        {
          "output_type": "stream",
          "name": "stdout",
          "text": [
            "140202249237184\n",
            "10750856\n",
            "10750888\n",
            "10750920\n",
            "10750856\n",
            "10750888\n",
            "10750920\n"
          ]
        }
      ]
    },
    {
      "cell_type": "code",
      "source": [
        "#How lists are stored in memory\n",
        "#Characterstics of a List\n",
        "#Ordered\n",
        "#Changeble/Mutable\n",
        "#Hetrogeneous\n",
        "#Can have duplicates\n",
        "#are dynamic\n",
        "#can be nested\n",
        "#items can be accessed\n",
        "#can contain any kind of objects in python"
      ],
      "metadata": {
        "id": "bmZiXZz64pDj"
      },
      "execution_count": null,
      "outputs": []
    },
    {
      "cell_type": "code",
      "source": [
        "L = [1,2,3,1]\n",
        "L1 = [3,2,1]\n",
        "\n",
        "L == L1"
      ],
      "metadata": {
        "colab": {
          "base_uri": "https://localhost:8080/"
        },
        "id": "QBWAL2E24pGI",
        "outputId": "9fc08bd7-9b3a-48c3-87a5-1ee3f240256e"
      },
      "execution_count": 2,
      "outputs": [
        {
          "output_type": "execute_result",
          "data": {
            "text/plain": [
              "False"
            ]
          },
          "metadata": {},
          "execution_count": 2
        }
      ]
    },
    {
      "cell_type": "code",
      "source": [
        "#Creating a List"
      ],
      "metadata": {
        "id": "TBlqfR2s4pIz"
      },
      "execution_count": null,
      "outputs": []
    },
    {
      "cell_type": "code",
      "source": [
        "# Empty\n",
        "print([])\n",
        "# 1D -> Homo\n",
        "print([1,2,3,4,5])\n",
        "# 2D\n",
        "print([1,2,3,[4,5]])\n",
        "# 3D\n",
        "print([[[1,2],[3,4]],[[5,6],[7,8]]])\n",
        "# Hetrogenous\n",
        "print([1,True,5.6,5+6j,'Hello'])\n",
        "# Using Type conversion\n",
        "print(list('hello'))"
      ],
      "metadata": {
        "colab": {
          "base_uri": "https://localhost:8080/"
        },
        "id": "kczRcchE4pLX",
        "outputId": "a5a099f8-4d74-43c3-e961-1bfe15818b05"
      },
      "execution_count": 3,
      "outputs": [
        {
          "output_type": "stream",
          "name": "stdout",
          "text": [
            "[]\n",
            "[1, 2, 3, 4, 5]\n",
            "[1, 2, 3, [4, 5]]\n",
            "[[[1, 2], [3, 4]], [[5, 6], [7, 8]]]\n",
            "[1, True, 5.6, (5+6j), 'Hello']\n",
            "['h', 'e', 'l', 'l', 'o']\n"
          ]
        }
      ]
    },
    {
      "cell_type": "code",
      "source": [
        "#Accessing Items from a List"
      ],
      "metadata": {
        "id": "ZjzwI-U64pN2"
      },
      "execution_count": null,
      "outputs": []
    },
    {
      "cell_type": "code",
      "source": [
        "# Indexing\n",
        "L = [[[1,2],[3,4]],[[5,6],[7,8]]]\n",
        "#positive\n",
        "#print(L[0][0][1])\n",
        "\n",
        "# Slicing\n",
        "L = [1,2,3,4,5,6]\n",
        "\n",
        "print(L[::-1])"
      ],
      "metadata": {
        "colab": {
          "base_uri": "https://localhost:8080/"
        },
        "id": "r12l5L0z411V",
        "outputId": "66464960-bc51-47cd-9b1f-cc801cd0148c"
      },
      "execution_count": 4,
      "outputs": [
        {
          "output_type": "stream",
          "name": "stdout",
          "text": [
            "[6, 5, 4, 3, 2, 1]\n"
          ]
        }
      ]
    },
    {
      "cell_type": "code",
      "source": [
        "#Adding Items to a List"
      ],
      "metadata": {
        "id": "Lnimb9Jb414P"
      },
      "execution_count": null,
      "outputs": []
    },
    {
      "cell_type": "code",
      "source": [
        "# append\n",
        "L = [1,2,3,4,5]\n",
        "L.append(True)\n",
        "print(L)"
      ],
      "metadata": {
        "colab": {
          "base_uri": "https://localhost:8080/"
        },
        "id": "q6WWJx0F416o",
        "outputId": "01dccee7-1fc3-4683-c31f-6c21b790accf"
      },
      "execution_count": 5,
      "outputs": [
        {
          "output_type": "stream",
          "name": "stdout",
          "text": [
            "[1, 2, 3, 4, 5, True]\n"
          ]
        }
      ]
    },
    {
      "cell_type": "code",
      "source": [
        "# extend\n",
        "L = [1,2,3,4,5]\n",
        "L.extend([6,7,8])\n",
        "print(L)"
      ],
      "metadata": {
        "colab": {
          "base_uri": "https://localhost:8080/"
        },
        "id": "QxSu8CI5419J",
        "outputId": "859143e7-f19f-4842-c4d9-44d34b1ee017"
      },
      "execution_count": 8,
      "outputs": [
        {
          "output_type": "stream",
          "name": "stdout",
          "text": [
            "[1, 2, 3, 4, 5, 6, 7, 8]\n"
          ]
        }
      ]
    },
    {
      "cell_type": "code",
      "source": [
        "L = [1,2,3,4,5]\n",
        "L.append([6,7,8])\n",
        "print(L)"
      ],
      "metadata": {
        "colab": {
          "base_uri": "https://localhost:8080/"
        },
        "id": "7As6Is0N41_w",
        "outputId": "8119a0fe-6f8b-4074-dcb1-fa52ceb63f5e"
      },
      "execution_count": 6,
      "outputs": [
        {
          "output_type": "stream",
          "name": "stdout",
          "text": [
            "[1, 2, 3, 4, 5, [6, 7, 8]]\n"
          ]
        }
      ]
    },
    {
      "cell_type": "code",
      "source": [
        "L = [1,2,3,4,5]\n",
        "L.extend('delhi')\n",
        "print(L)"
      ],
      "metadata": {
        "colab": {
          "base_uri": "https://localhost:8080/"
        },
        "id": "_6Whl1d442CI",
        "outputId": "faddd16e-cec5-4057-8a00-9fd9358fb4e1"
      },
      "execution_count": 7,
      "outputs": [
        {
          "output_type": "stream",
          "name": "stdout",
          "text": [
            "[1, 2, 3, 4, 5, 'd', 'e', 'l', 'h', 'i']\n"
          ]
        }
      ]
    },
    {
      "cell_type": "code",
      "source": [
        "# insert\n",
        "L = [1,2,3,4,5]\n",
        "\n",
        "L.insert(1,100)\n",
        "print(L)"
      ],
      "metadata": {
        "colab": {
          "base_uri": "https://localhost:8080/"
        },
        "id": "aN5C5oJN42Ep",
        "outputId": "ecec77f5-0760-460c-8f14-b870491dfd8b"
      },
      "execution_count": 9,
      "outputs": [
        {
          "output_type": "stream",
          "name": "stdout",
          "text": [
            "[1, 100, 2, 3, 4, 5]\n"
          ]
        }
      ]
    },
    {
      "cell_type": "code",
      "source": [
        "#Editing items in a List"
      ],
      "metadata": {
        "id": "tWxTXB9f5j8A"
      },
      "execution_count": null,
      "outputs": []
    },
    {
      "cell_type": "code",
      "source": [
        "L = [1,2,3,4,5]\n",
        "\n",
        "# editing with indexing\n",
        "L[-1] = 500\n",
        "\n",
        "# editing with slicing\n",
        "L[1:4] = [200,300,400]\n",
        "\n",
        "print(L)"
      ],
      "metadata": {
        "colab": {
          "base_uri": "https://localhost:8080/"
        },
        "id": "ca1oN3dX5j-v",
        "outputId": "58da7334-4f12-4a4f-f9e2-4fab8e241017"
      },
      "execution_count": 10,
      "outputs": [
        {
          "output_type": "stream",
          "name": "stdout",
          "text": [
            "[1, 200, 300, 400, 500]\n"
          ]
        }
      ]
    },
    {
      "cell_type": "code",
      "source": [
        "#Deleting items from a List"
      ],
      "metadata": {
        "id": "8exuJhd05kBc"
      },
      "execution_count": null,
      "outputs": []
    },
    {
      "cell_type": "code",
      "source": [
        "# del\n",
        "L = [1,2,3,4,5]\n",
        "\n",
        "# indexing\n",
        "del L[-1]\n",
        "\n",
        "# slicing\n",
        "del L[1:3]\n",
        "print(L)"
      ],
      "metadata": {
        "colab": {
          "base_uri": "https://localhost:8080/"
        },
        "id": "Dm9s2RWn5kEA",
        "outputId": "9abeed7e-4df1-4266-f25e-8f51ff7c7116"
      },
      "execution_count": 11,
      "outputs": [
        {
          "output_type": "stream",
          "name": "stdout",
          "text": [
            "[1, 4]\n"
          ]
        }
      ]
    },
    {
      "cell_type": "code",
      "source": [
        "# remove\n",
        "\n",
        "L = [1,2,3,4,5]\n",
        "\n",
        "L.remove(5)\n",
        "\n",
        "print(L)\n"
      ],
      "metadata": {
        "colab": {
          "base_uri": "https://localhost:8080/"
        },
        "id": "x-tpKtdG5kGq",
        "outputId": "57cfcdf8-093b-4051-e83d-9fc51376a204"
      },
      "execution_count": 12,
      "outputs": [
        {
          "output_type": "stream",
          "name": "stdout",
          "text": [
            "[1, 2, 3, 4]\n"
          ]
        }
      ]
    },
    {
      "cell_type": "code",
      "source": [
        "# pop\n",
        "L = [1,2,3,4,5]\n",
        "\n",
        "L.pop()\n",
        "\n",
        "print(L)"
      ],
      "metadata": {
        "colab": {
          "base_uri": "https://localhost:8080/"
        },
        "id": "bRTW1U8t5kI6",
        "outputId": "077e2d85-f61f-4359-a3ce-98dacec0e0ef"
      },
      "execution_count": 13,
      "outputs": [
        {
          "output_type": "stream",
          "name": "stdout",
          "text": [
            "[1, 2, 3, 4]\n"
          ]
        }
      ]
    },
    {
      "cell_type": "code",
      "source": [
        "# clear\n",
        "L = [1,2,3,4,5]\n",
        "\n",
        "L.clear()\n",
        "\n",
        "print(L)"
      ],
      "metadata": {
        "colab": {
          "base_uri": "https://localhost:8080/"
        },
        "id": "n4JrjyPN5kLm",
        "outputId": "80537b3e-98f9-4e93-8517-2373bb86877e"
      },
      "execution_count": 14,
      "outputs": [
        {
          "output_type": "stream",
          "name": "stdout",
          "text": [
            "[]\n"
          ]
        }
      ]
    },
    {
      "cell_type": "code",
      "source": [
        "#Operations on Lists\n",
        "#Arithmetic\n",
        "#Membership\n",
        "#Loop"
      ],
      "metadata": {
        "id": "sHQbBflF5kOg"
      },
      "execution_count": null,
      "outputs": []
    },
    {
      "cell_type": "code",
      "source": [
        "# Arithmetic (+ ,*)\n",
        "\n",
        "L1 = [1,2,3,4]\n",
        "L2 = [5,6,7,8]\n",
        "\n",
        "# Concatenation/Merge\n",
        "print(L1 + L2)"
      ],
      "metadata": {
        "colab": {
          "base_uri": "https://localhost:8080/"
        },
        "id": "RMf985oH5kRU",
        "outputId": "39aeb40f-5634-441f-9000-c033b6019164"
      },
      "execution_count": 15,
      "outputs": [
        {
          "output_type": "stream",
          "name": "stdout",
          "text": [
            "[1, 2, 3, 4, 5, 6, 7, 8]\n"
          ]
        }
      ]
    },
    {
      "cell_type": "code",
      "source": [
        "print(L1*3)"
      ],
      "metadata": {
        "colab": {
          "base_uri": "https://localhost:8080/"
        },
        "id": "07_i3Png5kUD",
        "outputId": "ad57db98-d477-4f97-98ee-777919c57944"
      },
      "execution_count": 16,
      "outputs": [
        {
          "output_type": "stream",
          "name": "stdout",
          "text": [
            "[1, 2, 3, 4, 1, 2, 3, 4, 1, 2, 3, 4]\n"
          ]
        }
      ]
    },
    {
      "cell_type": "code",
      "source": [
        "L1 = [1,2,3,4,5] #membership operator\n",
        "L2 = [1,2,3,4,[5,6]]\n",
        "\n",
        "print(5 not in L1)\n",
        "print([5,6] in L2)"
      ],
      "metadata": {
        "colab": {
          "base_uri": "https://localhost:8080/"
        },
        "id": "n06m84_15kWl",
        "outputId": "35e4613c-f819-4ebb-bd06-20e306857845"
      },
      "execution_count": 17,
      "outputs": [
        {
          "output_type": "stream",
          "name": "stdout",
          "text": [
            "False\n",
            "True\n"
          ]
        }
      ]
    },
    {
      "cell_type": "code",
      "source": [
        "# Loops\n",
        "L1 = [1,2,3,4,5]\n",
        "L2 = [1,2,3,4,[5,6]]\n",
        "L3 = [[[1,2],[3,4]],[[5,6],[7,8]]]\n",
        "\n",
        "for i in L3:\n",
        "  print(i)"
      ],
      "metadata": {
        "colab": {
          "base_uri": "https://localhost:8080/"
        },
        "id": "4QmnpHMp5kZG",
        "outputId": "c0c5c6f5-19f2-4353-e31d-8efffb485561"
      },
      "execution_count": 18,
      "outputs": [
        {
          "output_type": "stream",
          "name": "stdout",
          "text": [
            "[[1, 2], [3, 4]]\n",
            "[[5, 6], [7, 8]]\n"
          ]
        }
      ]
    },
    {
      "cell_type": "code",
      "source": [
        "#List Functions"
      ],
      "metadata": {
        "id": "VrXla2Nu5kb9"
      },
      "execution_count": null,
      "outputs": []
    },
    {
      "cell_type": "code",
      "source": [
        "# len/min/max/sorted\n",
        "L = [2,1,5,7,0]\n",
        "\n",
        "print(len(L))\n",
        "print(min(L))\n",
        "print(max(L))\n",
        "print(sorted(L,reverse=True))"
      ],
      "metadata": {
        "colab": {
          "base_uri": "https://localhost:8080/"
        },
        "id": "9IiBu9Ip5ke1",
        "outputId": "17aa81c0-45ea-4422-fd99-76419c221166"
      },
      "execution_count": 19,
      "outputs": [
        {
          "output_type": "stream",
          "name": "stdout",
          "text": [
            "5\n",
            "0\n",
            "7\n",
            "[7, 5, 2, 1, 0]\n"
          ]
        }
      ]
    },
    {
      "cell_type": "code",
      "source": [
        "# count\n",
        "L = [1,2,1,3,4,1,5]\n",
        "L.count(5)"
      ],
      "metadata": {
        "colab": {
          "base_uri": "https://localhost:8080/"
        },
        "id": "l6rBUi8N5khh",
        "outputId": "03af48bf-a855-40b2-8916-fa08cbf68c4c"
      },
      "execution_count": 20,
      "outputs": [
        {
          "output_type": "execute_result",
          "data": {
            "text/plain": [
              "1"
            ]
          },
          "metadata": {},
          "execution_count": 20
        }
      ]
    },
    {
      "cell_type": "code",
      "source": [
        "# index\n",
        "L = [1,2,1,3,4,1,5]\n",
        "L.index(1)"
      ],
      "metadata": {
        "colab": {
          "base_uri": "https://localhost:8080/"
        },
        "id": "WxLeCN9o5kkB",
        "outputId": "9815d5f7-0e45-4357-ddd1-35ec561fb97b"
      },
      "execution_count": 23,
      "outputs": [
        {
          "output_type": "execute_result",
          "data": {
            "text/plain": [
              "0"
            ]
          },
          "metadata": {},
          "execution_count": 23
        }
      ]
    },
    {
      "cell_type": "code",
      "source": [
        "# reverse\n",
        "L = [2,1,5,7,0]\n",
        "# permanently reverses the list\n",
        "L.reverse()\n",
        "print(L)"
      ],
      "metadata": {
        "colab": {
          "base_uri": "https://localhost:8080/"
        },
        "id": "NGEeZC_n5kmf",
        "outputId": "f0374ffe-2a2c-4f73-9159-0ebc6c1be11e"
      },
      "execution_count": 24,
      "outputs": [
        {
          "output_type": "stream",
          "name": "stdout",
          "text": [
            "[0, 7, 5, 1, 2]\n"
          ]
        }
      ]
    },
    {
      "cell_type": "code",
      "source": [
        "# sort (vs sorted)\n",
        "L = [2,1,5,7,0]\n",
        "print(L)\n",
        "print(sorted(L))#temporarily\n",
        "print(L)\n",
        "L.sort()#permanent\n",
        "print(L)"
      ],
      "metadata": {
        "colab": {
          "base_uri": "https://localhost:8080/"
        },
        "id": "WzPU4R1b5kpN",
        "outputId": "2611457f-91fc-4b10-c742-b4038d8d8b34"
      },
      "execution_count": 22,
      "outputs": [
        {
          "output_type": "stream",
          "name": "stdout",
          "text": [
            "[2, 1, 5, 7, 0]\n",
            "[0, 1, 2, 5, 7]\n",
            "[2, 1, 5, 7, 0]\n",
            "[0, 1, 2, 5, 7]\n"
          ]
        }
      ]
    },
    {
      "cell_type": "code",
      "source": [
        "# copy -> shallow memory copy diif list adrees change\n",
        "L = [2,1,5,7,0]\n",
        "print(L)\n",
        "print(id(L))\n",
        "L1 = L.copy()\n",
        "print(L1)\n",
        "print(id(L1))"
      ],
      "metadata": {
        "colab": {
          "base_uri": "https://localhost:8080/"
        },
        "id": "vG7ff0FS5krj",
        "outputId": "48f78248-2016-4b0a-f0fd-e06a5111a49c"
      },
      "execution_count": 25,
      "outputs": [
        {
          "output_type": "stream",
          "name": "stdout",
          "text": [
            "[2, 1, 5, 7, 0]\n",
            "140202258341952\n",
            "[2, 1, 5, 7, 0]\n",
            "140202262314176\n"
          ]
        }
      ]
    },
    {
      "cell_type": "code",
      "source": [
        "#List Comprehension\n",
        "#List Comprehension provides a concise way of creating lists.\n",
        "\n",
        "#newlist = [expression for item in iterable if condition == True]image.png\n",
        "\n",
        "#Advantages of List Comprehension\n",
        "\n",
        "#More time-efficient and space-efficient than loops.\n",
        "#Require fewer lines of code.\n",
        "#Transforms iterative statement into a formula."
      ],
      "metadata": {
        "id": "h6_7AM0Q5kuD"
      },
      "execution_count": null,
      "outputs": []
    },
    {
      "cell_type": "code",
      "source": [
        "# Add 1 to 10 numbers to a list\n",
        "L = []\n",
        "\n",
        "for i in range(1,11):\n",
        "  L.append(i)\n",
        "\n",
        "print(L)"
      ],
      "metadata": {
        "colab": {
          "base_uri": "https://localhost:8080/"
        },
        "id": "6xOGKx865kwO",
        "outputId": "25491569-67cc-4184-a221-c3727397d459"
      },
      "execution_count": 26,
      "outputs": [
        {
          "output_type": "stream",
          "name": "stdout",
          "text": [
            "[1, 2, 3, 4, 5, 6, 7, 8, 9, 10]\n"
          ]
        }
      ]
    },
    {
      "cell_type": "code",
      "source": [
        "L = [i for i in range(1,11)]\n",
        "print(L)"
      ],
      "metadata": {
        "colab": {
          "base_uri": "https://localhost:8080/"
        },
        "id": "KdSV93gY5kzr",
        "outputId": "cf9a4e80-7431-4b38-b119-ab16cd3ef23d"
      },
      "execution_count": 27,
      "outputs": [
        {
          "output_type": "stream",
          "name": "stdout",
          "text": [
            "[1, 2, 3, 4, 5, 6, 7, 8, 9, 10]\n"
          ]
        }
      ]
    },
    {
      "cell_type": "code",
      "source": [
        "# scalar multiplication on a vector\n",
        "v = [2,3,4]\n",
        "s = -3\n",
        "# [-6,-9,-12]\n",
        "\n",
        "[s*i for i in v]"
      ],
      "metadata": {
        "colab": {
          "base_uri": "https://localhost:8080/"
        },
        "id": "gEq7Qx5142HB",
        "outputId": "e8c771f0-54f6-42ac-ee40-4a2fccbcb511"
      },
      "execution_count": 28,
      "outputs": [
        {
          "output_type": "execute_result",
          "data": {
            "text/plain": [
              "[-6, -9, -12]"
            ]
          },
          "metadata": {},
          "execution_count": 28
        }
      ]
    },
    {
      "cell_type": "code",
      "source": [
        "# Add squares\n",
        "L = [1,2,3,4,5]\n",
        "\n",
        "[i**2 for i in L]\n"
      ],
      "metadata": {
        "colab": {
          "base_uri": "https://localhost:8080/"
        },
        "id": "PPrbqRFJ42Jw",
        "outputId": "d51bf039-8fab-40f2-c610-0d9ebbf6bb74"
      },
      "execution_count": 29,
      "outputs": [
        {
          "output_type": "execute_result",
          "data": {
            "text/plain": [
              "[1, 4, 9, 16, 25]"
            ]
          },
          "metadata": {},
          "execution_count": 29
        }
      ]
    },
    {
      "cell_type": "code",
      "source": [
        "# Print all numbers divisible by 5 in the range of 1 to 50\n",
        "\n",
        "[i for i in range(1,51) if i%5 == 0]"
      ],
      "metadata": {
        "colab": {
          "base_uri": "https://localhost:8080/"
        },
        "id": "4JbatECV4pQa",
        "outputId": "4a05ee24-1667-4398-8293-e9f73fedcb27"
      },
      "execution_count": 31,
      "outputs": [
        {
          "output_type": "execute_result",
          "data": {
            "text/plain": [
              "[5, 10, 15, 20, 25, 30, 35, 40, 45, 50]"
            ]
          },
          "metadata": {},
          "execution_count": 31
        }
      ]
    },
    {
      "cell_type": "code",
      "source": [
        "# find languages which start with letter p\n",
        "languages = ['java','python','php','c','javascript']\n",
        "\n",
        "[language for language in languages if language.startswith('p')]"
      ],
      "metadata": {
        "colab": {
          "base_uri": "https://localhost:8080/"
        },
        "id": "HgKNzLCb4pTs",
        "outputId": "1282391c-80c8-4291-d002-3f4b3b0b77d0"
      },
      "execution_count": 30,
      "outputs": [
        {
          "output_type": "execute_result",
          "data": {
            "text/plain": [
              "['python', 'php']"
            ]
          },
          "metadata": {},
          "execution_count": 30
        }
      ]
    },
    {
      "cell_type": "code",
      "source": [
        "# Nested if with List Comprehension\n",
        "basket = ['apple','guava','cherry','banana']\n",
        "my_fruits = ['apple','kiwi','grapes','banana']\n",
        "\n",
        "# add new list from my_fruits and items if the fruit exists in basket and also starts with 'a'\n",
        "\n",
        "[fruit for fruit in my_fruits if fruit in basket if fruit.startswith('a')]"
      ],
      "metadata": {
        "colab": {
          "base_uri": "https://localhost:8080/"
        },
        "id": "sdJlGz2U6kS2",
        "outputId": "c9a608fe-5b2b-460c-9ea4-6b62fe04bad8"
      },
      "execution_count": 32,
      "outputs": [
        {
          "output_type": "execute_result",
          "data": {
            "text/plain": [
              "['apple']"
            ]
          },
          "metadata": {},
          "execution_count": 32
        }
      ]
    },
    {
      "cell_type": "code",
      "source": [
        "# Print a (3,3) matrix using list comprehension -> Nested List comprehension\n",
        "[[i*j for i in range(1,4)] for j in range(1,4)]"
      ],
      "metadata": {
        "colab": {
          "base_uri": "https://localhost:8080/"
        },
        "id": "fB6TFgpk6kVj",
        "outputId": "612e8297-1d40-404c-9ae4-666d98589e4b"
      },
      "execution_count": 33,
      "outputs": [
        {
          "output_type": "execute_result",
          "data": {
            "text/plain": [
              "[[1, 2, 3], [2, 4, 6], [3, 6, 9]]"
            ]
          },
          "metadata": {},
          "execution_count": 33
        }
      ]
    },
    {
      "cell_type": "code",
      "source": [
        "# cartesian products -> List comprehension on 2 lists together\n",
        "L1 = [1,2,3,4]\n",
        "L2 = [5,6,7,8]\n",
        "\n",
        "[i*j for i in L1 for j in L2]"
      ],
      "metadata": {
        "colab": {
          "base_uri": "https://localhost:8080/"
        },
        "id": "Z4xB3sS86kX7",
        "outputId": "43f36087-5d19-4c04-8e76-707d12e70f98"
      },
      "execution_count": 34,
      "outputs": [
        {
          "output_type": "execute_result",
          "data": {
            "text/plain": [
              "[5, 6, 7, 8, 10, 12, 14, 16, 15, 18, 21, 24, 20, 24, 28, 32]"
            ]
          },
          "metadata": {},
          "execution_count": 34
        }
      ]
    },
    {
      "cell_type": "code",
      "source": [
        "#2 ways to traverse a list\n",
        "#itemwise\n",
        "#indexwise"
      ],
      "metadata": {
        "id": "X-IgzA3n6kao"
      },
      "execution_count": null,
      "outputs": []
    },
    {
      "cell_type": "code",
      "source": [
        "# itemwise\n",
        "L = [1,2,3,4]\n",
        "\n",
        "for i in L:\n",
        "  print(i)"
      ],
      "metadata": {
        "colab": {
          "base_uri": "https://localhost:8080/"
        },
        "id": "Rw8FZ8qG6kc-",
        "outputId": "5b1409aa-80b4-4532-b3b7-d7231ee269f6"
      },
      "execution_count": 35,
      "outputs": [
        {
          "output_type": "stream",
          "name": "stdout",
          "text": [
            "1\n",
            "2\n",
            "3\n",
            "4\n"
          ]
        }
      ]
    },
    {
      "cell_type": "code",
      "source": [
        "# indexwise\n",
        "L = [1,2,3,4]\n",
        "\n",
        "for i in range(0,len(L)):\n",
        "  print(L[i])#item\n",
        "  print(i) #indesx\n"
      ],
      "metadata": {
        "colab": {
          "base_uri": "https://localhost:8080/"
        },
        "id": "kdzPNUAe6kfc",
        "outputId": "0558f33f-ed74-4e17-ade3-3c3eef91beb9"
      },
      "execution_count": 36,
      "outputs": [
        {
          "output_type": "stream",
          "name": "stdout",
          "text": [
            "1\n",
            "0\n",
            "2\n",
            "1\n",
            "3\n",
            "2\n",
            "4\n",
            "3\n"
          ]
        }
      ]
    },
    {
      "cell_type": "code",
      "source": [
        "#Zip\n",
        "#The zip() function returns a zip object, which is an iterator of tuples where the first item in each passed iterator is paired together, and then the second item in each passed iterator are paired together.\n",
        "\n",
        "#If the passed iterators have different lengths, the iterator with the least items decides the length of the new iterator."
      ],
      "metadata": {
        "id": "6rF-G7Rt6kiV"
      },
      "execution_count": null,
      "outputs": []
    },
    {
      "cell_type": "code",
      "source": [
        "# Write a program to add items of 2 lists indexwise\n",
        "\n",
        "L1 = [1,2,3,4]\n",
        "L2 = [-1,-2,-3,-4]\n",
        "zip(L1,L2)\n",
        "list(zip(L1,L2)) #list convert\n",
        "\n",
        "[i+j for i,j in zip(L1,L2)]"
      ],
      "metadata": {
        "colab": {
          "base_uri": "https://localhost:8080/"
        },
        "id": "l6o2Erdr6klN",
        "outputId": "a4a6afbc-b1ff-4ee2-9e9f-b5ae58628d73"
      },
      "execution_count": 37,
      "outputs": [
        {
          "output_type": "execute_result",
          "data": {
            "text/plain": [
              "[0, 0, 0, 0]"
            ]
          },
          "metadata": {},
          "execution_count": 37
        }
      ]
    },
    {
      "cell_type": "code",
      "source": [
        "L = [1,2,print,type,input] #every thing is object in python\n",
        "\n",
        "print(L)"
      ],
      "metadata": {
        "colab": {
          "base_uri": "https://localhost:8080/"
        },
        "id": "0QoRyn366knz",
        "outputId": "d36d978e-c647-424c-c398-726ba878aaac"
      },
      "execution_count": 38,
      "outputs": [
        {
          "output_type": "stream",
          "name": "stdout",
          "text": [
            "[1, 2, <built-in function print>, <class 'type'>, <bound method Kernel.raw_input of <google.colab._kernel.Kernel object at 0x7f8372a65f10>>]\n"
          ]
        }
      ]
    },
    {
      "cell_type": "code",
      "source": [
        "#Disadvantages of Python Lists\n",
        "#Slow\n",
        "#Risky usage\n",
        "#eats up more memory"
      ],
      "metadata": {
        "id": "BdbT7VMj6kqM"
      },
      "execution_count": null,
      "outputs": []
    },
    {
      "cell_type": "code",
      "source": [
        "a = [1,2,3]\n",
        "b = a.copy()\n",
        "\n",
        "print(a)\n",
        "print(b)\n",
        "\n",
        "a.append(4)\n",
        "print(a)\n",
        "print(b)\n",
        "\n",
        "# lists are mutable\n",
        "a = [1,2,3]\n",
        "b = a\n",
        "\n",
        "print(a)\n",
        "print(b)\n",
        "\n",
        "a.append(4)\n",
        "print(a)\n",
        "print(b)\n",
        "\n"
      ],
      "metadata": {
        "colab": {
          "base_uri": "https://localhost:8080/"
        },
        "id": "NprKvtHO6ks9",
        "outputId": "332f4a93-5f06-4e0c-e833-88d07f8635bb"
      },
      "execution_count": 39,
      "outputs": [
        {
          "output_type": "stream",
          "name": "stdout",
          "text": [
            "[1, 2, 3]\n",
            "[1, 2, 3]\n",
            "[1, 2, 3, 4]\n",
            "[1, 2, 3]\n",
            "[1, 2, 3]\n",
            "[1, 2, 3]\n",
            "[1, 2, 3, 4]\n",
            "[1, 2, 3, 4]\n"
          ]
        }
      ]
    },
    {
      "cell_type": "code",
      "source": [],
      "metadata": {
        "id": "Mb6iOytQ6kvW"
      },
      "execution_count": null,
      "outputs": []
    },
    {
      "cell_type": "code",
      "source": [],
      "metadata": {
        "id": "UsHqPdp67DSm"
      },
      "execution_count": null,
      "outputs": []
    },
    {
      "cell_type": "code",
      "source": [],
      "metadata": {
        "id": "V0VIwDWe7DVZ"
      },
      "execution_count": null,
      "outputs": []
    },
    {
      "cell_type": "code",
      "source": [],
      "metadata": {
        "id": "tqcn67AB7DYI"
      },
      "execution_count": null,
      "outputs": []
    },
    {
      "cell_type": "code",
      "source": [],
      "metadata": {
        "id": "-szFir_l7DbO"
      },
      "execution_count": null,
      "outputs": []
    },
    {
      "cell_type": "code",
      "source": [],
      "metadata": {
        "id": "1t1vAi_47Deo"
      },
      "execution_count": null,
      "outputs": []
    },
    {
      "cell_type": "code",
      "source": [],
      "metadata": {
        "id": "gz2OK5-Y6kxg"
      },
      "execution_count": null,
      "outputs": []
    },
    {
      "cell_type": "code",
      "source": [],
      "metadata": {
        "id": "r2YQyVCx6k00"
      },
      "execution_count": null,
      "outputs": []
    }
  ]
}