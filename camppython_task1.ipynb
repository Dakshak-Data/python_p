{
  "nbformat": 4,
  "nbformat_minor": 0,
  "metadata": {
    "colab": {
      "provenance": [],
      "authorship_tag": "ABX9TyMY0h8cwPK8xtLvWl+bwSvH",
      "include_colab_link": true
    },
    "kernelspec": {
      "name": "python3",
      "display_name": "Python 3"
    },
    "language_info": {
      "name": "python"
    }
  },
  "cells": [
    {
      "cell_type": "markdown",
      "metadata": {
        "id": "view-in-github",
        "colab_type": "text"
      },
      "source": [
        "<a href=\"https://colab.research.google.com/github/Dakshak-Data/python_p/blob/main/camppython_task1.ipynb\" target=\"_parent\"><img src=\"https://colab.research.google.com/assets/colab-badge.svg\" alt=\"Open In Colab\"/></a>"
      ]
    },
    {
      "cell_type": "code",
      "execution_count": null,
      "metadata": {
        "id": "fOpCtzCE8CqW"
      },
      "outputs": [],
      "source": [
        "#def: This is a Python keyword used to define a function. It signals the start of a function definition.\n",
        "#celsius_to_fahrenheit: This is the name we've given to our function. We chose a descriptive name\n",
        "# that indicates the function's purpose - to convert Celsius to Fahrenheit.\n",
        "#(celsius): This part specifies the parameter of the function. A parameter is like a placeholder\n",
        "# for a value that the function will receive when it is called."
      ]
    },
    {
      "cell_type": "code",
      "source": [
        "#Q2:- Write a program that will convert celsius value to fahrenheit."
      ],
      "metadata": {
        "id": "5kFmW1j58PPD"
      },
      "execution_count": null,
      "outputs": []
    },
    {
      "cell_type": "code",
      "source": [
        "def celsius_to_fahrenheit(celsius):\n",
        "\n",
        "    a = (celsius * 9/5) + 32\n",
        "    return a\n",
        "\n",
        "# Get Celsius input from the user\n",
        "celsius = float(input(\"Enter temperature in Celsius: \"))\n",
        "\n",
        "# Calculate Fahrenheit\n",
        "fahrenheit = celsius_to_fahrenheit(celsius)\n",
        "\n",
        "# Display the result\n",
        "print(f\"{celsius} degrees Celsius is equal to {fahrenheit} degrees Fahrenheit\")"
      ],
      "metadata": {
        "colab": {
          "base_uri": "https://localhost:8080/"
        },
        "id": "dCjN3cYO8PRz",
        "outputId": "ac0777d0-0b2a-4f5a-c889-255e38e061b1"
      },
      "execution_count": 1,
      "outputs": [
        {
          "output_type": "stream",
          "name": "stdout",
          "text": [
            "Enter temperature in Celsius: 2\n",
            "2.0 degrees Celsius is equal to 35.6 degrees Fahrenheit\n"
          ]
        }
      ]
    },
    {
      "cell_type": "code",
      "source": [
        "#Q3:- Take 2 numbers as input from the user.Write a program to swap the numbers without using any special python syntax."
      ],
      "metadata": {
        "id": "BVxuD7368PUk"
      },
      "execution_count": null,
      "outputs": []
    },
    {
      "cell_type": "code",
      "source": [
        "# Get input from the user for the two numbers\n",
        "num1 = int(input(\"Enter the first number: \"))\n",
        "num2 = int(input(\"Enter the second number: \"))\n",
        "\n",
        "# Swap the numbers using addition and subtraction\n",
        "num1 = num1 + num2\n",
        "num2 = num1 - num2\n",
        "num1 = num1 - num2\n",
        "\n",
        "# Display the swapped numbers\n",
        "print(\"Swapped numbers:\")\n",
        "print(\"First number:\", num1)\n",
        "print(\"Second number:\", num2)"
      ],
      "metadata": {
        "colab": {
          "base_uri": "https://localhost:8080/"
        },
        "id": "l-_Md9S38PXK",
        "outputId": "b6c66161-1c8c-433a-b3e5-9a8a9ad0df34"
      },
      "execution_count": 2,
      "outputs": [
        {
          "output_type": "stream",
          "name": "stdout",
          "text": [
            "Enter the first number: 3\n",
            "Enter the second number: 4\n",
            "Swapped numbers:\n",
            "First number: 4\n",
            "Second number: 3\n"
          ]
        }
      ]
    },
    {
      "cell_type": "code",
      "source": [
        "#Q4:- Write a program to find the euclidean distance between two coordinates.Take both the coordinates from the user as input."
      ],
      "metadata": {
        "id": "qpCkELss8PZ4"
      },
      "execution_count": null,
      "outputs": []
    },
    {
      "cell_type": "code",
      "source": [
        "import math\n",
        "\n",
        "# Get coordinates from the user\n",
        "x1 = float(input(\"Enter the x-coordinate of the first point: \"))\n",
        "y1 = float(input(\"Enter the y-coordinate of the first point: \"))\n",
        "x2 = float(input(\"Enter the x-coordinate of the second point: \"))\n",
        "y2 = float(input(\"Enter the y-coordinate of the second point: \"))\n",
        "\n",
        "# Calculate the Euclidean distance\n",
        "distance = math.sqrt((x2 - x1)**2 + (y2 - y1)**2)\n",
        "\n",
        "# Display the result\n",
        "print(f\"The Euclidean distance between the two points is: {distance}\")\n",
        "\n"
      ],
      "metadata": {
        "colab": {
          "base_uri": "https://localhost:8080/"
        },
        "id": "mIffZNaL8PhQ",
        "outputId": "e48319b3-0874-4eb0-80b9-77e04f081532"
      },
      "execution_count": 3,
      "outputs": [
        {
          "output_type": "stream",
          "name": "stdout",
          "text": [
            "Enter the x-coordinate of the first point: 4\n",
            "Enter the y-coordinate of the first point: 5\n",
            "Enter the x-coordinate of the second point: 4\n",
            "Enter the y-coordinate of the second point: 6\n",
            "The Euclidean distance between the two points is: 1.0\n"
          ]
        }
      ]
    },
    {
      "cell_type": "code",
      "source": [
        "#Q5:- Write a program to find the simple interest when the value of principle,rate of interest and time period is provided by the user."
      ],
      "metadata": {
        "id": "1MnVgKM38PkV"
      },
      "execution_count": null,
      "outputs": []
    },
    {
      "cell_type": "code",
      "source": [
        "# Get input from the user\n",
        "principal = float(input(\"Enter the principal amount: \"))\n",
        "rate = float(input(\"Enter the rate of interest (in percentage): \"))\n",
        "time = float(input(\"Enter the time period (in years): \"))\n",
        "\n",
        "# Calculate simple interest\n",
        "simple_interest = (principal * rate * time) / 100\n",
        "\n",
        "# Display the result\n",
        "print(f\"The simple interest is: {simple_interest}\")"
      ],
      "metadata": {
        "colab": {
          "base_uri": "https://localhost:8080/"
        },
        "id": "-hWjtcq78PnC",
        "outputId": "ab7bbf3c-3ec5-4af5-a31f-891324dd1d3d"
      },
      "execution_count": 4,
      "outputs": [
        {
          "output_type": "stream",
          "name": "stdout",
          "text": [
            "Enter the principal amount: 555\n",
            "Enter the rate of interest (in percentage): 554\n",
            "Enter the time period (in years): 543\n",
            "The simple interest is: 1669562.1\n"
          ]
        }
      ]
    },
    {
      "cell_type": "code",
      "source": [
        "#Q6:- Write a program that will tell the number of dogs and chicken are there when the user will provide the value of total heads and legs."
      ],
      "metadata": {
        "id": "YFUXxJhx8PpV"
      },
      "execution_count": null,
      "outputs": []
    },
    {
      "cell_type": "code",
      "source": [
        "# Get the total number of heads and legs from the user\n",
        "heads = int(input(\"Enter the total number of heads: \"))\n",
        "legs = int(input(\"Enter the total number of legs: \"))\n",
        "\n",
        "# Calculate the number of dogs and chickens\n",
        "# Assuming each dog has 4 legs and each chicken has 2 legs\n",
        "dogs = (legs - 2 * heads) / 2\n",
        "chickens = heads - dogs\n",
        "\n",
        "# Display the results\n",
        "print(f\"Number of dogs: {int(dogs)}\")  # Convert to int for whole numbers\n",
        "print(f\"Number of chickens: {int(chickens)}\")"
      ],
      "metadata": {
        "colab": {
          "base_uri": "https://localhost:8080/"
        },
        "id": "PeuVpEcc8Pr0",
        "outputId": "0090f652-2d53-43ab-9005-80603392f899"
      },
      "execution_count": 8,
      "outputs": [
        {
          "output_type": "stream",
          "name": "stdout",
          "text": [
            "Enter the total number of heads: 30\n",
            "Enter the total number of legs: 68\n",
            "Number of dogs: 4\n",
            "Number of chickens: 26\n"
          ]
        }
      ]
    },
    {
      "cell_type": "code",
      "source": [
        "#Q7:- Write a program to find the sum of squares of first n natural numbers where n will be provided by the user."
      ],
      "metadata": {
        "id": "wAJODHm88PuS"
      },
      "execution_count": null,
      "outputs": []
    },
    {
      "cell_type": "code",
      "source": [
        "# Get input from the user\n",
        "n = int(input(\"Enter a positive integer (n): \"))\n",
        "\n",
        "# Calculate the sum of squares using a loop\n",
        "sum_of_squares = 0\n",
        "for i in range(1, n + 1):\n",
        "    sum_of_squares += i**2\n",
        "\n",
        "# Alternatively, using a formula:\n",
        "# sum_of_squares = (n * (n + 1) * (2 * n + 1)) // 6\n",
        "\n",
        "# Display the result\n",
        "print(f\"The sum of squares of the first {n} natural numbers is: {sum_of_squares}\")"
      ],
      "metadata": {
        "colab": {
          "base_uri": "https://localhost:8080/"
        },
        "id": "9pw8t3Xv8Pw2",
        "outputId": "28f20720-c109-4a55-c716-981c9f98fc16"
      },
      "execution_count": 9,
      "outputs": [
        {
          "output_type": "stream",
          "name": "stdout",
          "text": [
            "Enter a positive integer (n): 1\n",
            "The sum of squares of the first 1 natural numbers is: 1\n"
          ]
        }
      ]
    },
    {
      "cell_type": "code",
      "source": [
        "#Given the first 2 terms of an Arithmetic Series.Find the Nth term of the series. Assume all inputs are provided by the user."
      ],
      "metadata": {
        "id": "rYWIh-0K8PzY"
      },
      "execution_count": null,
      "outputs": []
    },
    {
      "cell_type": "code",
      "source": [
        "# Get input from the user\n",
        "a = float(input(\"Enter the first term (a): \"))\n",
        "b = float(input(\"Enter the second term (b): \"))\n",
        "n = int(input(\"Enter the term number to find (n): \"))\n",
        "\n",
        "# Calculate the common difference (d)\n",
        "d = b - a\n",
        "\n",
        "# Calculate the Nth term using the formula: a + (n-1)d\n",
        "nth_term = a + (n - 1) * d\n",
        "\n",
        "# Display the result\n",
        "print(f\"The {n}th term of the arithmetic series is: {nth_term}\")"
      ],
      "metadata": {
        "colab": {
          "base_uri": "https://localhost:8080/"
        },
        "id": "sPcfyzZ48P17",
        "outputId": "4a4395fc-c396-4397-ac13-83489345056a"
      },
      "execution_count": 10,
      "outputs": [
        {
          "output_type": "stream",
          "name": "stdout",
          "text": [
            "Enter the first term (a): 4\n",
            "Enter the second term (b): 5\n",
            "Enter the term number to find (n): 5\n",
            "The 5th term of the arithmetic series is: 8.0\n"
          ]
        }
      ]
    },
    {
      "cell_type": "code",
      "source": [
        "#Q9:- Given 2 fractions, find the sum of those 2 fractions.Take the numerator and denominator values of the fractions from the user."
      ],
      "metadata": {
        "id": "dLRqKepY8P4r"
      },
      "execution_count": null,
      "outputs": []
    },
    {
      "cell_type": "code",
      "source": [
        "# Get the numerator and denominator of the first fraction\n",
        "num1 = int(input(\"Enter the numerator of the first fraction: \"))\n",
        "den1 = int(input(\"Enter the denominator of the first fraction: \"))\n",
        "\n",
        "# Get the numerator and denominator of the second fraction\n",
        "num2 = int(input(\"Enter the numerator of the second fraction: \"))\n",
        "den2 = int(input(\"Enter the denominator of the second fraction: \"))\n",
        "\n",
        "# Calculate the sum of the fractions\n",
        "# Formula: (num1 * den2 + num2 * den1) / (den1 * den2)\n",
        "numerator_sum = num1 * den2 + num2 * den1\n",
        "denominator_sum = den1 * den2\n",
        "\n",
        "# Display the result\n",
        "print(f\"The sum of the two fractions is: {numerator_sum}/{denominator_sum}\")"
      ],
      "metadata": {
        "colab": {
          "base_uri": "https://localhost:8080/"
        },
        "id": "ASmVH4D98P7S",
        "outputId": "efcbb93e-d93d-4eab-a87a-f6b5ac5609df"
      },
      "execution_count": 11,
      "outputs": [
        {
          "output_type": "stream",
          "name": "stdout",
          "text": [
            "Enter the numerator of the first fraction: 4\n",
            "Enter the denominator of the first fraction: 5\n",
            "Enter the numerator of the second fraction: 7\n",
            "Enter the denominator of the second fraction: 8\n",
            "The sum of the two fractions is: 67/40\n"
          ]
        }
      ]
    },
    {
      "cell_type": "code",
      "source": [
        "#Q10:- Given the height, width and breadth of a milk tank, you have to find out how many glasses of milk can be obtained? Assume all the inputs are provided by the user.\n",
        "#Input:\n",
        "#Dimensions of the milk tank\n",
        "#H = 20cm, L = 20cm, B = 20cm\n",
        "\n",
        "#Dimensions of the glass\n",
        "#h = 3cm, r = 1cm"
      ],
      "metadata": {
        "id": "loBPWWug8P9x"
      },
      "execution_count": null,
      "outputs": []
    },
    {
      "cell_type": "code",
      "source": [
        "import math\n",
        "\n",
        "# Get dimensions of the milk tank from the user\n",
        "tank_height = float(input(\"Enter the height of the milk tank (in cm): \"))\n",
        "tank_length = float(input(\"Enter the length of the milk tank (in cm): \"))\n",
        "tank_breadth = float(input(\"Enter the breadth of the milk tank (in cm): \"))\n",
        "\n",
        "# Get dimensions of the glass from the user\n",
        "glass_height = float(input(\"Enter the height of the glass (in cm): \"))\n",
        "glass_radius = float(input(\"Enter the radius of the glass (in cm): \"))\n",
        "\n",
        "# Calculate the volume of the milk tank\n",
        "tank_volume = tank_height * tank_length * tank_breadth\n",
        "\n",
        "# Calculate the volume of the glass\n",
        "glass_volume = math.pi * (glass_radius**2) * glass_height\n",
        "\n",
        "# Calculate the number of glasses that can be obtained\n",
        "num_glasses = int(tank_volume / glass_volume)  # Convert to int for whole glasses\n",
        "\n",
        "# Display the result\n",
        "print(f\"The number of glasses of milk that can be obtained is: {num_glasses}\")"
      ],
      "metadata": {
        "colab": {
          "base_uri": "https://localhost:8080/"
        },
        "id": "A49lMwqT8QAj",
        "outputId": "0415075f-58c2-4fab-e3d7-409fa3308577"
      },
      "execution_count": 12,
      "outputs": [
        {
          "output_type": "stream",
          "name": "stdout",
          "text": [
            "Enter the height of the milk tank (in cm): 65\n",
            "Enter the length of the milk tank (in cm): 54\n",
            "Enter the breadth of the milk tank (in cm): 76\n",
            "Enter the height of the glass (in cm): 54\n",
            "Enter the radius of the glass (in cm): 34\n",
            "The number of glasses of milk that can be obtained is: 1\n"
          ]
        }
      ]
    },
    {
      "cell_type": "code",
      "source": [],
      "metadata": {
        "id": "Ap8eK9BR8QDJ"
      },
      "execution_count": null,
      "outputs": []
    },
    {
      "cell_type": "code",
      "source": [],
      "metadata": {
        "id": "jbWPlaY28QF5"
      },
      "execution_count": null,
      "outputs": []
    },
    {
      "cell_type": "code",
      "source": [],
      "metadata": {
        "id": "R0e2GnnW8QIi"
      },
      "execution_count": null,
      "outputs": []
    },
    {
      "cell_type": "code",
      "source": [],
      "metadata": {
        "id": "K8XRm6O18QLd"
      },
      "execution_count": null,
      "outputs": []
    },
    {
      "cell_type": "code",
      "source": [],
      "metadata": {
        "id": "KWzSsQUB8QOU"
      },
      "execution_count": null,
      "outputs": []
    },
    {
      "cell_type": "code",
      "source": [],
      "metadata": {
        "id": "m-aKkRnf8QRL"
      },
      "execution_count": null,
      "outputs": []
    },
    {
      "cell_type": "code",
      "source": [],
      "metadata": {
        "id": "jff7zOxp8QUB"
      },
      "execution_count": null,
      "outputs": []
    },
    {
      "cell_type": "code",
      "source": [],
      "metadata": {
        "id": "VkXsPN3z8QWo"
      },
      "execution_count": null,
      "outputs": []
    }
  ]
}