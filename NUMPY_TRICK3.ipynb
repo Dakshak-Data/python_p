{
  "nbformat": 4,
  "nbformat_minor": 0,
  "metadata": {
    "colab": {
      "provenance": [],
      "authorship_tag": "ABX9TyOzwowyc3E5YMtFZuksJH0V",
      "include_colab_link": true
    },
    "kernelspec": {
      "name": "python3",
      "display_name": "Python 3"
    },
    "language_info": {
      "name": "python"
    }
  },
  "cells": [
    {
      "cell_type": "markdown",
      "metadata": {
        "id": "view-in-github",
        "colab_type": "text"
      },
      "source": [
        "<a href=\"https://colab.research.google.com/github/Dakshak-Data/python_p/blob/main/NUMPY_TRICK3.ipynb\" target=\"_parent\"><img src=\"https://colab.research.google.com/assets/colab-badge.svg\" alt=\"Open In Colab\"/></a>"
      ]
    },
    {
      "cell_type": "code",
      "execution_count": 1,
      "metadata": {
        "id": "QUNbV6CCuxUc"
      },
      "outputs": [],
      "source": [
        "\n",
        "#Return a sorted copy of an array.\n",
        "\n",
        "#https://numpy.org/doc/stable/reference/generated/numpy.sort.html"
      ]
    },
    {
      "cell_type": "code",
      "source": [
        "# code return numpynrray\n",
        "import numpy as np\n",
        "a = np.random.randint(1,100,15)\n",
        "a"
      ],
      "metadata": {
        "colab": {
          "base_uri": "https://localhost:8080/"
        },
        "id": "ye8lRbsBvaTb",
        "outputId": "4ce35413-4619-45e4-c31a-0ce757487571"
      },
      "execution_count": 2,
      "outputs": [
        {
          "output_type": "execute_result",
          "data": {
            "text/plain": [
              "array([53, 32, 77, 50, 72, 29, 66, 42, 92,  2, 42, 71, 45, 85, 65])"
            ]
          },
          "metadata": {},
          "execution_count": 2
        }
      ]
    },
    {
      "cell_type": "code",
      "source": [
        "b = np.random.randint(1,100,24).reshape(6,4)\n",
        "b"
      ],
      "metadata": {
        "colab": {
          "base_uri": "https://localhost:8080/"
        },
        "id": "AV9WLbSZvaWq",
        "outputId": "26df0c98-a395-48a0-dedf-c4d617f74d36"
      },
      "execution_count": 3,
      "outputs": [
        {
          "output_type": "execute_result",
          "data": {
            "text/plain": [
              "array([[71, 29, 67, 59],\n",
              "       [79, 74, 36, 14],\n",
              "       [48, 33, 37, 88],\n",
              "       [86,  9, 44, 14],\n",
              "       [78, 59, 55, 46],\n",
              "       [61, 81, 68, 19]])"
            ]
          },
          "metadata": {},
          "execution_count": 3
        }
      ]
    },
    {
      "cell_type": "code",
      "source": [
        "np.sort(a)[::-1] #desc"
      ],
      "metadata": {
        "colab": {
          "base_uri": "https://localhost:8080/"
        },
        "id": "4M0-xsoRvaZ1",
        "outputId": "fb1b0c61-bf25-4b42-9aaa-0c91d8e835b0"
      },
      "execution_count": 4,
      "outputs": [
        {
          "output_type": "execute_result",
          "data": {
            "text/plain": [
              "array([92, 85, 77, 72, 71, 66, 65, 53, 50, 45, 42, 42, 32, 29,  2])"
            ]
          },
          "metadata": {},
          "execution_count": 4
        }
      ]
    },
    {
      "cell_type": "code",
      "source": [
        "np.sort(b,axis=0)"
      ],
      "metadata": {
        "colab": {
          "base_uri": "https://localhost:8080/"
        },
        "id": "aAQGcHLSvadS",
        "outputId": "a3e07ed6-0539-4979-d53e-88b630fc1d05"
      },
      "execution_count": 5,
      "outputs": [
        {
          "output_type": "execute_result",
          "data": {
            "text/plain": [
              "array([[48,  9, 36, 14],\n",
              "       [61, 29, 37, 14],\n",
              "       [71, 33, 44, 19],\n",
              "       [78, 59, 55, 46],\n",
              "       [79, 74, 67, 59],\n",
              "       [86, 81, 68, 88]])"
            ]
          },
          "metadata": {},
          "execution_count": 5
        }
      ]
    },
    {
      "cell_type": "code",
      "source": [
        "#np.append\n",
        "#The numpy.append() appends values along the mentioned axis at the end of the array\n",
        "\n",
        "#https://numpy.org/doc/stable/reference/generated/numpy.append.html\n",
        "\n"
      ],
      "metadata": {
        "id": "gzDiq58hvagm"
      },
      "execution_count": 6,
      "outputs": []
    },
    {
      "cell_type": "code",
      "source": [
        "# code\n",
        "np.append(a,200)"
      ],
      "metadata": {
        "colab": {
          "base_uri": "https://localhost:8080/"
        },
        "id": "0orbGeOtvajp",
        "outputId": "4580ad47-e4b0-4b8d-f5cd-6cf37c947a59"
      },
      "execution_count": 7,
      "outputs": [
        {
          "output_type": "execute_result",
          "data": {
            "text/plain": [
              "array([ 53,  32,  77,  50,  72,  29,  66,  42,  92,   2,  42,  71,  45,\n",
              "        85,  65, 200])"
            ]
          },
          "metadata": {},
          "execution_count": 7
        }
      ]
    },
    {
      "cell_type": "code",
      "source": [
        "b"
      ],
      "metadata": {
        "colab": {
          "base_uri": "https://localhost:8080/"
        },
        "id": "GR722ATovan1",
        "outputId": "39172c38-1e20-4d23-9aa8-3a4f15196450"
      },
      "execution_count": 8,
      "outputs": [
        {
          "output_type": "execute_result",
          "data": {
            "text/plain": [
              "array([[71, 29, 67, 59],\n",
              "       [79, 74, 36, 14],\n",
              "       [48, 33, 37, 88],\n",
              "       [86,  9, 44, 14],\n",
              "       [78, 59, 55, 46],\n",
              "       [61, 81, 68, 19]])"
            ]
          },
          "metadata": {},
          "execution_count": 8
        }
      ]
    },
    {
      "cell_type": "code",
      "source": [
        "np.append(b,np.random.random((b.shape[0],1)),axis=1)"
      ],
      "metadata": {
        "colab": {
          "base_uri": "https://localhost:8080/"
        },
        "id": "Zw3SQF_-vaq7",
        "outputId": "226d361b-7962-462f-cc21-733f713c0ad9"
      },
      "execution_count": 9,
      "outputs": [
        {
          "output_type": "execute_result",
          "data": {
            "text/plain": [
              "array([[71.        , 29.        , 67.        , 59.        ,  0.4199415 ],\n",
              "       [79.        , 74.        , 36.        , 14.        ,  0.1911073 ],\n",
              "       [48.        , 33.        , 37.        , 88.        ,  0.28102196],\n",
              "       [86.        ,  9.        , 44.        , 14.        ,  0.5847114 ],\n",
              "       [78.        , 59.        , 55.        , 46.        ,  0.86672275],\n",
              "       [61.        , 81.        , 68.        , 19.        ,  0.77514407]])"
            ]
          },
          "metadata": {},
          "execution_count": 9
        }
      ]
    },
    {
      "cell_type": "code",
      "source": [
        "np.append(b,np.random((b.shape[0],1)),axis=1)"
      ],
      "metadata": {
        "colab": {
          "base_uri": "https://localhost:8080/",
          "height": 141
        },
        "id": "tjeWCIvSvauX",
        "outputId": "398440c7-2d4c-40b4-9298-2d6b835f235d"
      },
      "execution_count": 10,
      "outputs": [
        {
          "output_type": "error",
          "ename": "TypeError",
          "evalue": "'module' object is not callable",
          "traceback": [
            "\u001b[0;31m---------------------------------------------------------------------------\u001b[0m",
            "\u001b[0;31mTypeError\u001b[0m                                 Traceback (most recent call last)",
            "\u001b[0;32m<ipython-input-10-2cc05794ea8b>\u001b[0m in \u001b[0;36m<cell line: 0>\u001b[0;34m()\u001b[0m\n\u001b[0;32m----> 1\u001b[0;31m \u001b[0mnp\u001b[0m\u001b[0;34m.\u001b[0m\u001b[0mappend\u001b[0m\u001b[0;34m(\u001b[0m\u001b[0mb\u001b[0m\u001b[0;34m,\u001b[0m\u001b[0mnp\u001b[0m\u001b[0;34m.\u001b[0m\u001b[0mrandom\u001b[0m\u001b[0;34m(\u001b[0m\u001b[0;34m(\u001b[0m\u001b[0mb\u001b[0m\u001b[0;34m.\u001b[0m\u001b[0mshape\u001b[0m\u001b[0;34m[\u001b[0m\u001b[0;36m0\u001b[0m\u001b[0;34m]\u001b[0m\u001b[0;34m,\u001b[0m\u001b[0;36m1\u001b[0m\u001b[0;34m)\u001b[0m\u001b[0;34m)\u001b[0m\u001b[0;34m,\u001b[0m\u001b[0maxis\u001b[0m\u001b[0;34m=\u001b[0m\u001b[0;36m1\u001b[0m\u001b[0;34m)\u001b[0m\u001b[0;34m\u001b[0m\u001b[0;34m\u001b[0m\u001b[0m\n\u001b[0m",
            "\u001b[0;31mTypeError\u001b[0m: 'module' object is not callable"
          ]
        }
      ]
    },
    {
      "cell_type": "code",
      "source": [
        "#np.concatenate\n",
        "#numpy.concatenate() function concatenate a sequence of arrays along an existing axis.\n",
        "\n",
        "#https://numpy.org/doc/stable/reference/generated/numpy.concatenate.html"
      ],
      "metadata": {
        "id": "zHupqRUuvcgS"
      },
      "execution_count": null,
      "outputs": []
    },
    {
      "cell_type": "code",
      "source": [
        "# code\n",
        "c = np.arange(6).reshape(2,3)\n",
        "d = np.arange(6,12).reshape(2,3)\n",
        "\n",
        "print(c)\n",
        "print(d)"
      ],
      "metadata": {
        "id": "V6IdvRxbvcjH"
      },
      "execution_count": null,
      "outputs": []
    },
    {
      "cell_type": "code",
      "source": [
        "np.concatenate((c,d),axis=0) #row concanate replacement of vstsck h stack"
      ],
      "metadata": {
        "id": "Ysdspw7AvcmE"
      },
      "execution_count": null,
      "outputs": []
    },
    {
      "cell_type": "code",
      "source": [
        "np.concatenate((c,d),axis=1)"
      ],
      "metadata": {
        "id": "CDyIduszvcov"
      },
      "execution_count": null,
      "outputs": []
    },
    {
      "cell_type": "code",
      "source": [
        "#np.unique\n",
        "#With the help of np.unique() method, we can get the unique values from an array given as parameter in np.unique() method.\n",
        "\n",
        "#https://numpy.org/doc/stable/reference/generated/numpy.unique.html/\n"
      ],
      "metadata": {
        "id": "DTFdcrdGvcrg"
      },
      "execution_count": null,
      "outputs": []
    },
    {
      "cell_type": "code",
      "source": [
        "# code\n",
        "e = np.array([1,1,2,2,3,3,4,4,5,5,6,6])"
      ],
      "metadata": {
        "id": "xjalNq5XvcwJ"
      },
      "execution_count": null,
      "outputs": []
    },
    {
      "cell_type": "code",
      "source": [
        "np.unique(e)"
      ],
      "metadata": {
        "id": "yL4Rihu7vcyM"
      },
      "execution_count": null,
      "outputs": []
    },
    {
      "cell_type": "code",
      "source": [
        "#np.expand_dims\n",
        "#With the help of Numpy.expand_dims() method, we can get the expanded dimensions of an array\n",
        "\n",
        "#https://numpy.org/doc/stable/reference/generated/numpy.expand_dims.html"
      ],
      "metadata": {
        "id": "NGWEuxZ5vdH3"
      },
      "execution_count": null,
      "outputs": []
    },
    {
      "cell_type": "code",
      "source": [
        "# code  #we can convert 1d tp 2d\n",
        "a.shape"
      ],
      "metadata": {
        "id": "Kjrlks45vdKs"
      },
      "execution_count": null,
      "outputs": []
    },
    {
      "cell_type": "code",
      "source": [
        "np.expand_dims(a,axis=0).shape  #machine learning cnn image classification"
      ],
      "metadata": {
        "colab": {
          "base_uri": "https://localhost:8080/"
        },
        "id": "z7HUF3rhvdMl",
        "outputId": "37f48009-1242-440e-9966-9fc580b2e14b"
      },
      "execution_count": 11,
      "outputs": [
        {
          "output_type": "execute_result",
          "data": {
            "text/plain": [
              "(1, 15)"
            ]
          },
          "metadata": {},
          "execution_count": 11
        }
      ]
    },
    {
      "cell_type": "code",
      "source": [
        "np.expand_dims(a,axis=1)"
      ],
      "metadata": {
        "colab": {
          "base_uri": "https://localhost:8080/"
        },
        "id": "zODOeTbVvdVM",
        "outputId": "61dab3b3-5653-4a8a-a298-0cedb5c02c23"
      },
      "execution_count": 12,
      "outputs": [
        {
          "output_type": "execute_result",
          "data": {
            "text/plain": [
              "array([[53],\n",
              "       [32],\n",
              "       [77],\n",
              "       [50],\n",
              "       [72],\n",
              "       [29],\n",
              "       [66],\n",
              "       [42],\n",
              "       [92],\n",
              "       [ 2],\n",
              "       [42],\n",
              "       [71],\n",
              "       [45],\n",
              "       [85],\n",
              "       [65]])"
            ]
          },
          "metadata": {},
          "execution_count": 12
        }
      ]
    },
    {
      "cell_type": "code",
      "source": [
        "#np.where\n",
        "#The numpy.where() function returns the indices of elements in an input array where the given condition is satisfied.\n",
        "\n",
        "#https://numpy.org/doc/stable/reference/generated/numpy.where.html"
      ],
      "metadata": {
        "id": "1BTjRIVOvdtv"
      },
      "execution_count": 13,
      "outputs": []
    },
    {
      "cell_type": "code",
      "source": [
        "a"
      ],
      "metadata": {
        "colab": {
          "base_uri": "https://localhost:8080/"
        },
        "id": "YZTdp25ovdxA",
        "outputId": "f1f17532-761e-43e4-a97d-62fba5f99821"
      },
      "execution_count": 16,
      "outputs": [
        {
          "output_type": "execute_result",
          "data": {
            "text/plain": [
              "array([53, 32, 77, 50, 72, 29, 66, 42, 92,  2, 42, 71, 45, 85, 65])"
            ]
          },
          "metadata": {},
          "execution_count": 16
        }
      ]
    },
    {
      "cell_type": "code",
      "source": [
        "# find all indices with value greater than 50 filter the array wiyh o\\0\n",
        "np.where(a>50)"
      ],
      "metadata": {
        "colab": {
          "base_uri": "https://localhost:8080/"
        },
        "id": "9v1GmJe7vd0b",
        "outputId": "78a20801-4365-45da-9612-1914941b202d"
      },
      "execution_count": 17,
      "outputs": [
        {
          "output_type": "execute_result",
          "data": {
            "text/plain": [
              "(array([ 0,  2,  4,  6,  8, 11, 13, 14]),)"
            ]
          },
          "metadata": {},
          "execution_count": 17
        }
      ]
    },
    {
      "cell_type": "code",
      "source": [
        "# replace all values > 50 with 0\n",
        "np.where(a>50,0,a)"
      ],
      "metadata": {
        "colab": {
          "base_uri": "https://localhost:8080/"
        },
        "id": "OXUkPQSdvd3a",
        "outputId": "503bd248-e418-419b-9b3c-1cf7d058b927"
      },
      "execution_count": 14,
      "outputs": [
        {
          "output_type": "execute_result",
          "data": {
            "text/plain": [
              "array([ 0, 32,  0, 50,  0, 29,  0, 42,  0,  2, 42,  0, 45,  0,  0])"
            ]
          },
          "metadata": {},
          "execution_count": 14
        }
      ]
    },
    {
      "cell_type": "code",
      "source": [
        "np.where(a%2 == 0,0,a)"
      ],
      "metadata": {
        "colab": {
          "base_uri": "https://localhost:8080/"
        },
        "id": "nPrzkMxMvd62",
        "outputId": "cadfcbc8-51af-43dc-b277-e917507d968b"
      },
      "execution_count": 15,
      "outputs": [
        {
          "output_type": "execute_result",
          "data": {
            "text/plain": [
              "array([53,  0, 77,  0,  0, 29,  0,  0,  0,  0,  0, 71, 45, 85, 65])"
            ]
          },
          "metadata": {},
          "execution_count": 15
        }
      ]
    },
    {
      "cell_type": "code",
      "source": [
        "#he numpy.argmax() function returns indices of the max element of the array in a particular axis.\n",
        "\n",
        "#https://numpy.org/doc/stable/reference/generated/numpy.argmax.html"
      ],
      "metadata": {
        "id": "JWtPSRZjwnOr"
      },
      "execution_count": 18,
      "outputs": []
    },
    {
      "cell_type": "code",
      "source": [
        "# code\n",
        "a"
      ],
      "metadata": {
        "colab": {
          "base_uri": "https://localhost:8080/"
        },
        "id": "q0Z8IefrwnRp",
        "outputId": "9e84dae0-722f-4d86-8443-4cacacf3892d"
      },
      "execution_count": 19,
      "outputs": [
        {
          "output_type": "execute_result",
          "data": {
            "text/plain": [
              "array([53, 32, 77, 50, 72, 29, 66, 42, 92,  2, 42, 71, 45, 85, 65])"
            ]
          },
          "metadata": {},
          "execution_count": 19
        }
      ]
    },
    {
      "cell_type": "code",
      "source": [
        "np.argmax(a)"
      ],
      "metadata": {
        "colab": {
          "base_uri": "https://localhost:8080/"
        },
        "id": "uyLklyP5wnUC",
        "outputId": "db749f6e-c3b6-4b84-bafb-a514bcfeeaa8"
      },
      "execution_count": 20,
      "outputs": [
        {
          "output_type": "execute_result",
          "data": {
            "text/plain": [
              "np.int64(8)"
            ]
          },
          "metadata": {},
          "execution_count": 20
        }
      ]
    },
    {
      "cell_type": "code",
      "source": [
        "b"
      ],
      "metadata": {
        "colab": {
          "base_uri": "https://localhost:8080/"
        },
        "id": "9pi0Ujv-wnW6",
        "outputId": "9f106345-d316-4c0d-8acd-514cb3d1e24d"
      },
      "execution_count": 21,
      "outputs": [
        {
          "output_type": "execute_result",
          "data": {
            "text/plain": [
              "array([[71, 29, 67, 59],\n",
              "       [79, 74, 36, 14],\n",
              "       [48, 33, 37, 88],\n",
              "       [86,  9, 44, 14],\n",
              "       [78, 59, 55, 46],\n",
              "       [61, 81, 68, 19]])"
            ]
          },
          "metadata": {},
          "execution_count": 21
        }
      ]
    },
    {
      "cell_type": "code",
      "source": [
        "np.argmax(b,axis=0)"
      ],
      "metadata": {
        "colab": {
          "base_uri": "https://localhost:8080/"
        },
        "id": "aJR1jD5dwnZg",
        "outputId": "ab285bc3-7f62-4a6d-ad8c-fb54ee1ca43b"
      },
      "execution_count": 22,
      "outputs": [
        {
          "output_type": "execute_result",
          "data": {
            "text/plain": [
              "array([3, 5, 5, 2])"
            ]
          },
          "metadata": {},
          "execution_count": 22
        }
      ]
    },
    {
      "cell_type": "code",
      "source": [
        "np.argmax(b,axis=1)"
      ],
      "metadata": {
        "colab": {
          "base_uri": "https://localhost:8080/"
        },
        "id": "t5OnFeoVwncD",
        "outputId": "81f66fb7-3ecf-46f3-a93d-21e3bb98d93b"
      },
      "execution_count": 24,
      "outputs": [
        {
          "output_type": "execute_result",
          "data": {
            "text/plain": [
              "array([0, 0, 3, 0, 0, 1])"
            ]
          },
          "metadata": {},
          "execution_count": 24
        }
      ]
    },
    {
      "cell_type": "code",
      "source": [
        "# np.argmin\n",
        "np.argmin(a)"
      ],
      "metadata": {
        "colab": {
          "base_uri": "https://localhost:8080/"
        },
        "id": "RvSo9zbMwne1",
        "outputId": "501bca88-5952-40e2-9bee-65abbca623aa"
      },
      "execution_count": 23,
      "outputs": [
        {
          "output_type": "execute_result",
          "data": {
            "text/plain": [
              "np.int64(9)"
            ]
          },
          "metadata": {},
          "execution_count": 23
        }
      ]
    },
    {
      "cell_type": "code",
      "source": [
        "#np.cumsum\n",
        "#numpy.cumsum() function is used when we want to compute the cumulative sum of array elements over a given axis.\n",
        "\n",
        "#https://numpy.org/doc/stable/reference/generated/numpy.cumsum.html"
      ],
      "metadata": {
        "id": "2x-q8k3cwnih"
      },
      "execution_count": 25,
      "outputs": []
    },
    {
      "cell_type": "code",
      "source": [
        "a  #virat kholi  12+34+2+12+32+1+3+2 build in func"
      ],
      "metadata": {
        "colab": {
          "base_uri": "https://localhost:8080/"
        },
        "id": "mAl_zOI5w7vd",
        "outputId": "913975da-59c1-4aa9-806d-dacc03661a18"
      },
      "execution_count": 26,
      "outputs": [
        {
          "output_type": "execute_result",
          "data": {
            "text/plain": [
              "array([53, 32, 77, 50, 72, 29, 66, 42, 92,  2, 42, 71, 45, 85, 65])"
            ]
          },
          "metadata": {},
          "execution_count": 26
        }
      ]
    },
    {
      "cell_type": "code",
      "source": [
        "np.cumsum(a)"
      ],
      "metadata": {
        "colab": {
          "base_uri": "https://localhost:8080/"
        },
        "id": "scdh79Bzw7yS",
        "outputId": "e5f33a01-b8e7-4235-cc23-cf1043df73d1"
      },
      "execution_count": 27,
      "outputs": [
        {
          "output_type": "execute_result",
          "data": {
            "text/plain": [
              "array([ 53,  85, 162, 212, 284, 313, 379, 421, 513, 515, 557, 628, 673,\n",
              "       758, 823])"
            ]
          },
          "metadata": {},
          "execution_count": 27
        }
      ]
    },
    {
      "cell_type": "code",
      "source": [
        "b"
      ],
      "metadata": {
        "colab": {
          "base_uri": "https://localhost:8080/"
        },
        "id": "fMDv5C1Aw71A",
        "outputId": "ed47539e-520f-49a1-8f18-dddcde567514"
      },
      "execution_count": 28,
      "outputs": [
        {
          "output_type": "execute_result",
          "data": {
            "text/plain": [
              "array([[71, 29, 67, 59],\n",
              "       [79, 74, 36, 14],\n",
              "       [48, 33, 37, 88],\n",
              "       [86,  9, 44, 14],\n",
              "       [78, 59, 55, 46],\n",
              "       [61, 81, 68, 19]])"
            ]
          },
          "metadata": {},
          "execution_count": 28
        }
      ]
    },
    {
      "cell_type": "code",
      "source": [
        "np.cumsum(b,axis=1)"
      ],
      "metadata": {
        "id": "Y64uNfJrw73v"
      },
      "execution_count": null,
      "outputs": []
    },
    {
      "cell_type": "code",
      "source": [
        "np.cumsum(b)"
      ],
      "metadata": {
        "colab": {
          "base_uri": "https://localhost:8080/"
        },
        "id": "VXqb4sfSw76q",
        "outputId": "15bd38b9-b7f1-414c-a5cb-6b0c224da648"
      },
      "execution_count": 29,
      "outputs": [
        {
          "output_type": "execute_result",
          "data": {
            "text/plain": [
              "array([  71,  100,  167,  226,  305,  379,  415,  429,  477,  510,  547,\n",
              "        635,  721,  730,  774,  788,  866,  925,  980, 1026, 1087, 1168,\n",
              "       1236, 1255])"
            ]
          },
          "metadata": {},
          "execution_count": 29
        }
      ]
    },
    {
      "cell_type": "code",
      "source": [
        "# np.cumprod  virat 5*7*6*9*0*\n",
        "np.cumprod(a)"
      ],
      "metadata": {
        "colab": {
          "base_uri": "https://localhost:8080/"
        },
        "id": "TH505EpVw79b",
        "outputId": "ebff5c5b-e67c-4a89-f160-0d75e7b142ec"
      },
      "execution_count": 30,
      "outputs": [
        {
          "output_type": "execute_result",
          "data": {
            "text/plain": [
              "array([                  53,                 1696,               130592,\n",
              "                    6529600,            470131200,          13633804800,\n",
              "               899831116800,       37792906905600,     3476947435315200,\n",
              "           6953894870630400,   292063584566476800,  2289770430510301184,\n",
              "       -7640795069293756416, -3831538310134988800,  9204426873159450624])"
            ]
          },
          "metadata": {},
          "execution_count": 30
        }
      ]
    },
    {
      "cell_type": "code",
      "source": [
        "a"
      ],
      "metadata": {
        "colab": {
          "base_uri": "https://localhost:8080/"
        },
        "id": "AnzWN4Hvw8AX",
        "outputId": "39ed622b-8121-4221-f9d8-12906038bf64"
      },
      "execution_count": 31,
      "outputs": [
        {
          "output_type": "execute_result",
          "data": {
            "text/plain": [
              "array([53, 32, 77, 50, 72, 29, 66, 42, 92,  2, 42, 71, 45, 85, 65])"
            ]
          },
          "metadata": {},
          "execution_count": 31
        }
      ]
    },
    {
      "cell_type": "code",
      "source": [
        "#np.percentile\n",
        "#numpy.percentile()function used to compute the nth percentile of the given data (array elements) along the specified axis.\n",
        "\n",
        "#https://numpy.org/doc/stable/reference/generated/numpy.percentile.html"
      ],
      "metadata": {
        "id": "05YAlyDiw8DU"
      },
      "execution_count": 32,
      "outputs": []
    },
    {
      "cell_type": "code",
      "source": [
        "a"
      ],
      "metadata": {
        "colab": {
          "base_uri": "https://localhost:8080/"
        },
        "id": "pVH0rGWcxQcT",
        "outputId": "b8b76a9f-9df9-42a6-8ba7-bfb506e4f7cb"
      },
      "execution_count": 33,
      "outputs": [
        {
          "output_type": "execute_result",
          "data": {
            "text/plain": [
              "array([53, 32, 77, 50, 72, 29, 66, 42, 92,  2, 42, 71, 45, 85, 65])"
            ]
          },
          "metadata": {},
          "execution_count": 33
        }
      ]
    },
    {
      "cell_type": "code",
      "source": [
        "np.percentile(a,50)"
      ],
      "metadata": {
        "colab": {
          "base_uri": "https://localhost:8080/"
        },
        "id": "BnwTeWZtxQfC",
        "outputId": "4fca1b3d-9c1d-48aa-b00e-6f491dc48f28"
      },
      "execution_count": 34,
      "outputs": [
        {
          "output_type": "execute_result",
          "data": {
            "text/plain": [
              "np.float64(53.0)"
            ]
          },
          "metadata": {},
          "execution_count": 34
        }
      ]
    },
    {
      "cell_type": "code",
      "source": [
        "np.median(a)"
      ],
      "metadata": {
        "colab": {
          "base_uri": "https://localhost:8080/"
        },
        "id": "avBPRjIMxQhm",
        "outputId": "e99983f3-f1dd-4c24-90e3-83e0264c1976"
      },
      "execution_count": 36,
      "outputs": [
        {
          "output_type": "execute_result",
          "data": {
            "text/plain": [
              "np.float64(53.0)"
            ]
          },
          "metadata": {},
          "execution_count": 36
        }
      ]
    },
    {
      "cell_type": "code",
      "source": [
        "#np.histogram\n",
        "#Numpy has a built-in numpy.histogram() function which represents the frequency of data distribution in the graphical form.\n",
        "\n",
        "#https://numpy.org/doc/stable/reference/generated/numpy.histogram.html"
      ],
      "metadata": {
        "id": "NbSb79WnxQkT"
      },
      "execution_count": 35,
      "outputs": []
    },
    {
      "cell_type": "code",
      "source": [
        "# code\n",
        "a"
      ],
      "metadata": {
        "colab": {
          "base_uri": "https://localhost:8080/"
        },
        "id": "hJWTTJOexQm3",
        "outputId": "11a78bf4-29b3-4898-c28d-248769d6440b"
      },
      "execution_count": 37,
      "outputs": [
        {
          "output_type": "execute_result",
          "data": {
            "text/plain": [
              "array([53, 32, 77, 50, 72, 29, 66, 42, 92,  2, 42, 71, 45, 85, 65])"
            ]
          },
          "metadata": {},
          "execution_count": 37
        }
      ]
    },
    {
      "cell_type": "code",
      "source": [
        "np.histogram(a,bins=[0,50,100])"
      ],
      "metadata": {
        "colab": {
          "base_uri": "https://localhost:8080/"
        },
        "id": "8cf2KPwXxQpV",
        "outputId": "6a15a189-3ece-47cf-cb9f-3c69b3326aed"
      },
      "execution_count": 38,
      "outputs": [
        {
          "output_type": "execute_result",
          "data": {
            "text/plain": [
              "(array([6, 9]), array([  0,  50, 100]))"
            ]
          },
          "metadata": {},
          "execution_count": 38
        }
      ]
    },
    {
      "cell_type": "code",
      "source": [
        "#np.corrcoef\n",
        "#Return Pearson product-moment correlation coefficients.\n",
        "\n",
        "#https://numpy.org/doc/stable/reference/generated/numpy.corrcoef.html\n",
        "\n"
      ],
      "metadata": {
        "id": "Jv3otyeFxQr9"
      },
      "execution_count": 39,
      "outputs": []
    },
    {
      "cell_type": "code",
      "source": [
        "salary = np.array([20000,40000,25000,35000,60000])  #shows the coreltion 1 salary and expereine increase\n",
        "experience = np.array([1,3,2,4,2])                       #shows the coreltion 1 experience increase -1salary decrese\n",
        "np.corrcoef(salary,experience)"
      ],
      "metadata": {
        "colab": {
          "base_uri": "https://localhost:8080/"
        },
        "id": "atXkLfrxxQu1",
        "outputId": "7f0a8ce7-ac46-4d34-bd6e-51ae42d9a8d6"
      },
      "execution_count": 40,
      "outputs": [
        {
          "output_type": "execute_result",
          "data": {
            "text/plain": [
              "array([[1.        , 0.25344572],\n",
              "       [0.25344572, 1.        ]])"
            ]
          },
          "metadata": {},
          "execution_count": 40
        }
      ]
    },
    {
      "cell_type": "code",
      "source": [
        "#np.isin\n",
        "#With the help of numpy.isin() method, we can see that one array having values are checked in a different numpy array having different elements with different sizes.\n",
        "\n",
        "#https://numpy.org/doc/stable/reference/generated/numpy.isin.html"
      ],
      "metadata": {
        "id": "cbjT5JEQxiil"
      },
      "execution_count": 41,
      "outputs": []
    },
    {
      "cell_type": "code",
      "source": [
        "# code\n",
        "a\n"
      ],
      "metadata": {
        "colab": {
          "base_uri": "https://localhost:8080/"
        },
        "id": "HkWV0m0cxik9",
        "outputId": "b7d81f7d-dfe4-49f3-d677-049b658120db"
      },
      "execution_count": 42,
      "outputs": [
        {
          "output_type": "execute_result",
          "data": {
            "text/plain": [
              "array([53, 32, 77, 50, 72, 29, 66, 42, 92,  2, 42, 71, 45, 85, 65])"
            ]
          },
          "metadata": {},
          "execution_count": 42
        }
      ]
    },
    {
      "cell_type": "code",
      "source": [
        "items = [10,20,30,40,50,60,70,80,90,100]\n",
        "\n",
        "a[np.isin(a,items)]"
      ],
      "metadata": {
        "colab": {
          "base_uri": "https://localhost:8080/"
        },
        "id": "JuFDWZ8Bxin7",
        "outputId": "23b28ac1-62e5-4d4e-e1f6-14a296cc4fd0"
      },
      "execution_count": 43,
      "outputs": [
        {
          "output_type": "execute_result",
          "data": {
            "text/plain": [
              "array([50])"
            ]
          },
          "metadata": {},
          "execution_count": 43
        }
      ]
    },
    {
      "cell_type": "code",
      "source": [
        "#np.flip\n",
        "#The numpy.flip() function reverses the order of array elements along the specified axis, preserving the shape of the array.\n",
        "\n",
        "#https://numpy.org/doc/stable/reference/generated/numpy.flip.html\n",
        "\n"
      ],
      "metadata": {
        "id": "FeMWhjr7xiqi"
      },
      "execution_count": 44,
      "outputs": []
    },
    {
      "cell_type": "code",
      "source": [
        "# code\n",
        "a"
      ],
      "metadata": {
        "colab": {
          "base_uri": "https://localhost:8080/"
        },
        "id": "Dag0Wvrhxit4",
        "outputId": "5c17ffff-1b0a-4f74-fa39-1cb48a8733c2"
      },
      "execution_count": 45,
      "outputs": [
        {
          "output_type": "execute_result",
          "data": {
            "text/plain": [
              "array([53, 32, 77, 50, 72, 29, 66, 42, 92,  2, 42, 71, 45, 85, 65])"
            ]
          },
          "metadata": {},
          "execution_count": 45
        }
      ]
    },
    {
      "cell_type": "code",
      "source": [
        "np.flip(a)"
      ],
      "metadata": {
        "id": "Qc__nSiFxtl7"
      },
      "execution_count": null,
      "outputs": []
    },
    {
      "cell_type": "code",
      "source": [
        "b"
      ],
      "metadata": {
        "colab": {
          "base_uri": "https://localhost:8080/"
        },
        "id": "I71F-Q7pxtoo",
        "outputId": "f6aa9895-2002-43a3-d31b-a70f7cb52808"
      },
      "execution_count": 46,
      "outputs": [
        {
          "output_type": "execute_result",
          "data": {
            "text/plain": [
              "array([[71, 29, 67, 59],\n",
              "       [79, 74, 36, 14],\n",
              "       [48, 33, 37, 88],\n",
              "       [86,  9, 44, 14],\n",
              "       [78, 59, 55, 46],\n",
              "       [61, 81, 68, 19]])"
            ]
          },
          "metadata": {},
          "execution_count": 46
        }
      ]
    },
    {
      "cell_type": "code",
      "source": [
        "np.flip(b,axis=1)"
      ],
      "metadata": {
        "colab": {
          "base_uri": "https://localhost:8080/"
        },
        "id": "c_CJOC6BxtrG",
        "outputId": "3cbdeb79-0cfc-40ec-bb27-b7c26e4bf9d8"
      },
      "execution_count": 47,
      "outputs": [
        {
          "output_type": "execute_result",
          "data": {
            "text/plain": [
              "array([[59, 67, 29, 71],\n",
              "       [14, 36, 74, 79],\n",
              "       [88, 37, 33, 48],\n",
              "       [14, 44,  9, 86],\n",
              "       [46, 55, 59, 78],\n",
              "       [19, 68, 81, 61]])"
            ]
          },
          "metadata": {},
          "execution_count": 47
        }
      ]
    },
    {
      "cell_type": "code",
      "source": [
        "#np.put\n",
        "#The numpy.put() function replaces specific elements of an array with given values of p_array. Array indexed works on flattened array.\n",
        "\n",
        "#https://numpy.org/doc/stable/reference/generated/numpy.put.html"
      ],
      "metadata": {
        "id": "elvdEo1Uxttj"
      },
      "execution_count": 50,
      "outputs": []
    },
    {
      "cell_type": "code",
      "source": [
        "# code\n",
        "a"
      ],
      "metadata": {
        "colab": {
          "base_uri": "https://localhost:8080/"
        },
        "id": "gERCS2_OxtwK",
        "outputId": "abb1f83f-e484-4f95-b438-945c96ef3852"
      },
      "execution_count": 48,
      "outputs": [
        {
          "output_type": "execute_result",
          "data": {
            "text/plain": [
              "array([53, 32, 77, 50, 72, 29, 66, 42, 92,  2, 42, 71, 45, 85, 65])"
            ]
          },
          "metadata": {},
          "execution_count": 48
        }
      ]
    },
    {
      "cell_type": "code",
      "source": [
        "np.put(a,[0,1],[110,530]) #multiple new item change on exiting places perment change"
      ],
      "metadata": {
        "id": "tSNE2zHGxty6"
      },
      "execution_count": 49,
      "outputs": []
    },
    {
      "cell_type": "code",
      "source": [
        "#np.delete\n",
        "#The numpy.delete() function returns a new array with the deletion of sub-arrays along with the mentioned axis.\n",
        "\n",
        "#https://numpy.org/doc/stable/reference/generated/numpy.delete.html"
      ],
      "metadata": {
        "id": "ogtn0WV2xt2x"
      },
      "execution_count": 51,
      "outputs": []
    },
    {
      "cell_type": "code",
      "source": [
        "# code\n",
        "a"
      ],
      "metadata": {
        "colab": {
          "base_uri": "https://localhost:8080/"
        },
        "id": "Y7REXrykxt49",
        "outputId": "4dbe18f4-2d95-4a3e-bac7-253120b69679"
      },
      "execution_count": 53,
      "outputs": [
        {
          "output_type": "execute_result",
          "data": {
            "text/plain": [
              "array([110, 530,  77,  50,  72,  29,  66,  42,  92,   2,  42,  71,  45,\n",
              "        85,  65])"
            ]
          },
          "metadata": {},
          "execution_count": 53
        }
      ]
    },
    {
      "cell_type": "code",
      "source": [
        "#Set functions\n",
        "#np.union1d\n",
        "#np.intersect1d\n",
        "#np.setdiff1d\n",
        "#np.setxor1d\n",
        "#np.in1d"
      ],
      "metadata": {
        "id": "GVjxlmx9xt7c"
      },
      "execution_count": 52,
      "outputs": []
    },
    {
      "cell_type": "code",
      "source": [
        "m = np.array([1,2,3,4,5]) ###best part is array me he result milega u getbresult in array onlg\n",
        "n = np.array([3,4,5,6,7])\n",
        "\n",
        "np.union1d(m,n)"
      ],
      "metadata": {
        "colab": {
          "base_uri": "https://localhost:8080/"
        },
        "id": "HrJ698lQxwD-",
        "outputId": "02eb2b56-7f44-4dcd-d06f-c06fe25e2b34"
      },
      "execution_count": 54,
      "outputs": [
        {
          "output_type": "execute_result",
          "data": {
            "text/plain": [
              "array([1, 2, 3, 4, 5, 6, 7])"
            ]
          },
          "metadata": {},
          "execution_count": 54
        }
      ]
    },
    {
      "cell_type": "code",
      "source": [
        "np.intersect1d(m,n)"
      ],
      "metadata": {
        "colab": {
          "base_uri": "https://localhost:8080/"
        },
        "id": "jhQ6hfhExwGR",
        "outputId": "fb42fda2-d935-4991-b49e-5c103ba11600"
      },
      "execution_count": 55,
      "outputs": [
        {
          "output_type": "execute_result",
          "data": {
            "text/plain": [
              "array([3, 4, 5])"
            ]
          },
          "metadata": {},
          "execution_count": 55
        }
      ]
    },
    {
      "cell_type": "code",
      "source": [
        "np.setdiff1d(n,m)"
      ],
      "metadata": {
        "colab": {
          "base_uri": "https://localhost:8080/"
        },
        "id": "10sfgNoCxwIy",
        "outputId": "de406318-c196-4cb4-dbcd-e8920a376bae"
      },
      "execution_count": 56,
      "outputs": [
        {
          "output_type": "execute_result",
          "data": {
            "text/plain": [
              "array([6, 7])"
            ]
          },
          "metadata": {},
          "execution_count": 56
        }
      ]
    },
    {
      "cell_type": "code",
      "source": [
        "np.setxor1d(m,n)  ##common remove"
      ],
      "metadata": {
        "colab": {
          "base_uri": "https://localhost:8080/"
        },
        "id": "m6fEZTRCyKXg",
        "outputId": "1163d8ce-b25b-4b6b-ca21-3ed2c66052b0"
      },
      "execution_count": 58,
      "outputs": [
        {
          "output_type": "execute_result",
          "data": {
            "text/plain": [
              "array([1, 2, 6, 7])"
            ]
          },
          "metadata": {},
          "execution_count": 58
        }
      ]
    },
    {
      "cell_type": "code",
      "source": [
        "m[np.in1d(m,1)]"
      ],
      "metadata": {
        "colab": {
          "base_uri": "https://localhost:8080/"
        },
        "id": "nEF_YgHYyKaH",
        "outputId": "77beb75a-755b-4fb2-8896-dc185b733257"
      },
      "execution_count": 57,
      "outputs": [
        {
          "output_type": "stream",
          "name": "stderr",
          "text": [
            "<ipython-input-57-3d5a78555eb5>:1: DeprecationWarning: `in1d` is deprecated. Use `np.isin` instead.\n",
            "  m[np.in1d(m,1)]\n"
          ]
        },
        {
          "output_type": "execute_result",
          "data": {
            "text/plain": [
              "array([1])"
            ]
          },
          "metadata": {},
          "execution_count": 57
        }
      ]
    },
    {
      "cell_type": "code",
      "source": [
        "#np.clip\n",
        "#numpy.clip() function is used to Clip (limit) the values in an array.\n",
        "\n",
        "#https://numpy.org/doc/stable/reference/generated/numpy.clip.html"
      ],
      "metadata": {
        "id": "eIjKOg9WyKcV"
      },
      "execution_count": 59,
      "outputs": []
    },
    {
      "cell_type": "code",
      "source": [
        "# code\n",
        "a"
      ],
      "metadata": {
        "colab": {
          "base_uri": "https://localhost:8080/"
        },
        "id": "rUrtkG_hyKfJ",
        "outputId": "87129b85-46a6-44a4-cf1e-e618cd935031"
      },
      "execution_count": 60,
      "outputs": [
        {
          "output_type": "execute_result",
          "data": {
            "text/plain": [
              "array([110, 530,  77,  50,  72,  29,  66,  42,  92,   2,  42,  71,  45,\n",
              "        85,  65])"
            ]
          },
          "metadata": {},
          "execution_count": 60
        }
      ]
    },
    {
      "cell_type": "code",
      "source": [
        "np.clip(a,a_min=25,a_max=75)"
      ],
      "metadata": {
        "colab": {
          "base_uri": "https://localhost:8080/"
        },
        "id": "fiOy55FjyKho",
        "outputId": "3fd3959e-7d9b-47b1-ca6e-c512a772ff1b"
      },
      "execution_count": 61,
      "outputs": [
        {
          "output_type": "execute_result",
          "data": {
            "text/plain": [
              "array([75, 75, 75, 50, 72, 29, 66, 42, 75, 25, 42, 71, 45, 75, 65])"
            ]
          },
          "metadata": {},
          "execution_count": 61
        }
      ]
    },
    {
      "cell_type": "code",
      "source": [],
      "metadata": {
        "id": "26xHuG2zyKkg"
      },
      "execution_count": null,
      "outputs": []
    }
  ]
}