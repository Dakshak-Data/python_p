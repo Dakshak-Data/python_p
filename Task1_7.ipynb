{
  "nbformat": 4,
  "nbformat_minor": 0,
  "metadata": {
    "colab": {
      "provenance": [],
      "authorship_tag": "ABX9TyN7WL4mjyBi3muDKi0V0h0j",
      "include_colab_link": true
    },
    "kernelspec": {
      "name": "python3",
      "display_name": "Python 3"
    },
    "language_info": {
      "name": "python"
    }
  },
  "cells": [
    {
      "cell_type": "markdown",
      "metadata": {
        "id": "view-in-github",
        "colab_type": "text"
      },
      "source": [
        "<a href=\"https://colab.research.google.com/github/Dakshak-Data/python_p/blob/main/Task1_7.ipynb\" target=\"_parent\"><img src=\"https://colab.research.google.com/assets/colab-badge.svg\" alt=\"Open In Colab\"/></a>"
      ]
    },
    {
      "cell_type": "code",
      "execution_count": null,
      "metadata": {
        "id": "X2e9moZzH-u4"
      },
      "outputs": [],
      "source": [
        "#Problem 1 - Print the following pattern. Write a program to use for loop to print the following reverse number pattern."
      ]
    },
    {
      "cell_type": "code",
      "source": [
        "# Code here\n",
        "\n",
        "rows = int(input('enter the rows'))\n",
        "\n",
        "for i in range(0,rows):\n",
        "  for j in range(rows-i,0,-1):\n",
        "    print(j,end=' ')\n",
        "  print()"
      ],
      "metadata": {
        "colab": {
          "base_uri": "https://localhost:8080/"
        },
        "id": "2xZjkZWiIcFA",
        "outputId": "98fcf53d-f4ed-424c-9409-692915f20a45"
      },
      "execution_count": 1,
      "outputs": [
        {
          "output_type": "stream",
          "name": "stdout",
          "text": [
            "enter the rows12\n",
            "12 11 10 9 8 7 6 5 4 3 2 1 \n",
            "11 10 9 8 7 6 5 4 3 2 1 \n",
            "10 9 8 7 6 5 4 3 2 1 \n",
            "9 8 7 6 5 4 3 2 1 \n",
            "8 7 6 5 4 3 2 1 \n",
            "7 6 5 4 3 2 1 \n",
            "6 5 4 3 2 1 \n",
            "5 4 3 2 1 \n",
            "4 3 2 1 \n",
            "3 2 1 \n",
            "2 1 \n",
            "1 \n"
          ]
        }
      ]
    },
    {
      "cell_type": "code",
      "source": [
        "#Problem 2: Print the following pattern."
      ],
      "metadata": {
        "id": "fCaPpJqpIcHt"
      },
      "execution_count": null,
      "outputs": []
    },
    {
      "cell_type": "code",
      "source": [
        "# Code here\n",
        "rows = int(input('enter the rows'))\n",
        "\n",
        "for i in range(1,rows+1):\n",
        "  for j in range(0,i):\n",
        "    print('*',end=' ')\n",
        "  print()\n",
        "\n",
        "for i in range(1,rows):\n",
        "  for j in range(rows-i,0,-1):\n",
        "    print('*',end=' ')\n",
        "  print()\n",
        "\n",
        "#  i\trows - i\tInner loop: range(rows - i, 1, -1)\tj values printed\tNumber of iterations\n",
        "#1   \t  6\t           range(6, 1, -1)\t                6, 5, 4, 3, 2       \t5\n",
        "#2\t    5\t           range(5, 1, -1)\t                5, 4, 3, 2           \t4\n",
        "#3\t    4\t           range(4, 1, -1)                  4, 3, 2\t              3\n",
        "#4\t    3\t           range(3, 1, -1)\t                3, 2\t                2\n",
        "#5\t    2\t           range(2, 1, -1)\t                2\t                    1\n",
        "#6\t    1\t           range(1, 1, -1)\t                (empty)             \t0"
      ],
      "metadata": {
        "colab": {
          "base_uri": "https://localhost:8080/"
        },
        "id": "CYm9xotUIcM0",
        "outputId": "104a8bc8-ed0d-45c2-a0bd-94265a177c5b"
      },
      "execution_count": 3,
      "outputs": [
        {
          "output_type": "stream",
          "name": "stdout",
          "text": [
            "enter the rows5\n",
            "* \n",
            "* * \n",
            "* * * \n",
            "* * * * \n",
            "* * * * * \n",
            "* * * * \n",
            "* * * \n",
            "* * \n",
            "* \n"
          ]
        }
      ]
    },
    {
      "cell_type": "code",
      "source": [
        "Problem 3:Write a program to pring the following pattern\n",
        "    *"
      ],
      "metadata": {
        "id": "ld_dQ8KQIcP3"
      },
      "execution_count": null,
      "outputs": []
    },
    {
      "cell_type": "code",
      "source": [
        "# Code here\n",
        "rows = 6\n",
        "for i in range(1,rows+1):\n",
        "  print(' '*rows,end='-')\n",
        "  print('* '*i)\n",
        "  rows = rows - 1\n",
        "\n"
      ],
      "metadata": {
        "id": "hLoNbgPnIcU4"
      },
      "execution_count": null,
      "outputs": []
    },
    {
      "cell_type": "code",
      "source": [
        "#Problem 4:Write a program to print the following pattern"
      ],
      "metadata": {
        "id": "j0dDvedYIcXE"
      },
      "execution_count": null,
      "outputs": []
    },
    {
      "cell_type": "code",
      "source": [
        "# Code here\n",
        "rows = 5\n",
        "\n",
        "for i in range(1,rows+1):\n",
        "  for j in range(i,0,-1):\n",
        "    print(j,end=' ')\n",
        "  print()"
      ],
      "metadata": {
        "colab": {
          "base_uri": "https://localhost:8080/"
        },
        "id": "0bZSQuMfIcZf",
        "outputId": "5def2453-48d2-417a-af1e-519c8603ac83"
      },
      "execution_count": 4,
      "outputs": [
        {
          "output_type": "stream",
          "name": "stdout",
          "text": [
            "1 \n",
            "2 1 \n",
            "3 2 1 \n",
            "4 3 2 1 \n",
            "5 4 3 2 1 \n"
          ]
        }
      ]
    },
    {
      "cell_type": "code",
      "source": [
        "#Problem 5: Write a Python Program to Find the Sum of the Series till the nth term:\n",
        "#1 + x^2/2 + x^3/3 + … x^n/n\n",
        "#n will be provided by the user"
      ],
      "metadata": {
        "id": "NRg2KKxAIcbs"
      },
      "execution_count": null,
      "outputs": []
    },
    {
      "cell_type": "code",
      "source": [
        "# Code here\n",
        "x = 10\n",
        "n = 5\n",
        "\n",
        "sum = 1\n",
        "s = ''\n",
        "print('1 + ',end='')\n",
        "for i in range(2,n+1):\n",
        "  sum = sum + x**i/i\n",
        "  s = s + 'x^{}/{} +'.format(i,i)\n",
        "print(s[:-1])\n",
        "print(sum)"
      ],
      "metadata": {
        "colab": {
          "base_uri": "https://localhost:8080/"
        },
        "id": "0L2OnbLPIcd-",
        "outputId": "3cb20be8-58e3-4eaf-d62c-db6e226c8f1d"
      },
      "execution_count": 5,
      "outputs": [
        {
          "output_type": "stream",
          "name": "stdout",
          "text": [
            "1 + x^2/2 +x^3/3 +x^4/4 +x^5/5 \n",
            "22884.333333333332\n"
          ]
        }
      ]
    },
    {
      "cell_type": "code",
      "source": [
        "#Problem 6: The natural logarithm can be approximated by the following series."
      ],
      "metadata": {
        "id": "rmKp3gj_IcgH"
      },
      "execution_count": null,
      "outputs": []
    },
    {
      "cell_type": "code",
      "source": [
        "# Code here\n",
        "x = 10\n",
        "n = 5\n",
        "\n",
        "sum = 0\n",
        "s = ''\n",
        "for i in range(1,n+1):\n",
        "  sum = sum + (1/i)*((x-1)/x)**i\n",
        "  s = s + '(1/{})*((x-1)/x)^{} +'.format(i,i)\n",
        "print(s[:-1])\n",
        "print(sum)"
      ],
      "metadata": {
        "colab": {
          "base_uri": "https://localhost:8080/"
        },
        "id": "XvIo4m32IciW",
        "outputId": "c57ee691-dac7-426b-9406-e6f021e6905a"
      },
      "execution_count": 6,
      "outputs": [
        {
          "output_type": "stream",
          "name": "stdout",
          "text": [
            "(1/1)*((x-1)/x)^1 +(1/2)*((x-1)/x)^2 +(1/3)*((x-1)/x)^3 +(1/4)*((x-1)/x)^4 +(1/5)*((x-1)/x)^5 \n",
            "1.8301230000000004\n"
          ]
        }
      ]
    },
    {
      "cell_type": "code",
      "source": [
        "#Problem 7 - Find the sum of the series upto n terms.\n",
        "#Write a program to calculate the sum of series up to n term. For example, if n =5 the series will become 2 + 22 + 222 + 2222 + 22222 = 24690. Take the user input and then calculate. And the output style should match which is given in the example."
      ],
      "metadata": {
        "id": "y6w46InVIckf"
      },
      "execution_count": null,
      "outputs": []
    },
    {
      "cell_type": "code",
      "source": [
        "# Code here\n",
        "n = int(input('enter the number of terms'))\n",
        "\n",
        "start = 2\n",
        "sum = 0\n",
        "\n",
        "for i in range(0,n):\n",
        "  if i < n-1:\n",
        "    print(start,end='+')\n",
        "  else:\n",
        "    print(start)\n",
        "\n",
        "  sum = sum + start\n",
        "  start = start*10 + 2\n",
        "\n",
        "print(sum)"
      ],
      "metadata": {
        "colab": {
          "base_uri": "https://localhost:8080/"
        },
        "id": "1EXXdFSdIcm5",
        "outputId": "ea6379ca-c38f-4154-c73d-c4aa9c924e52"
      },
      "execution_count": 7,
      "outputs": [
        {
          "output_type": "stream",
          "name": "stdout",
          "text": [
            "enter the number of terms34\n",
            "2+22+222+2222+22222+222222+2222222+22222222+222222222+2222222222+22222222222+222222222222+2222222222222+22222222222222+222222222222222+2222222222222222+22222222222222222+222222222222222222+2222222222222222222+22222222222222222222+222222222222222222222+2222222222222222222222+22222222222222222222222+222222222222222222222222+2222222222222222222222222+22222222222222222222222222+222222222222222222222222222+2222222222222222222222222222+22222222222222222222222222222+222222222222222222222222222222+2222222222222222222222222222222+22222222222222222222222222222222+222222222222222222222222222222222+2222222222222222222222222222222222\n",
            "2469135802469135802469135802469128\n"
          ]
        }
      ]
    },
    {
      "cell_type": "code",
      "source": [
        "#Problem 8: Write a program to print all the unique combinations of 1,2,3 and 4"
      ],
      "metadata": {
        "id": "uu3fJGS1IcpN"
      },
      "execution_count": null,
      "outputs": []
    },
    {
      "cell_type": "code",
      "source": [
        "# Code here\n",
        "for i in range(1,5):\n",
        "  for j in range(1,5):\n",
        "    for k in range(1,5):\n",
        "      for m in range(1,5):\n",
        "        print(i,j,k,m)"
      ],
      "metadata": {
        "colab": {
          "base_uri": "https://localhost:8080/"
        },
        "id": "N68eGyLZIcrf",
        "outputId": "9816513b-24be-4523-dea3-286b5810560a"
      },
      "execution_count": 8,
      "outputs": [
        {
          "output_type": "stream",
          "name": "stdout",
          "text": [
            "1 1 1 1\n",
            "1 1 1 2\n",
            "1 1 1 3\n",
            "1 1 1 4\n",
            "1 1 2 1\n",
            "1 1 2 2\n",
            "1 1 2 3\n",
            "1 1 2 4\n",
            "1 1 3 1\n",
            "1 1 3 2\n",
            "1 1 3 3\n",
            "1 1 3 4\n",
            "1 1 4 1\n",
            "1 1 4 2\n",
            "1 1 4 3\n",
            "1 1 4 4\n",
            "1 2 1 1\n",
            "1 2 1 2\n",
            "1 2 1 3\n",
            "1 2 1 4\n",
            "1 2 2 1\n",
            "1 2 2 2\n",
            "1 2 2 3\n",
            "1 2 2 4\n",
            "1 2 3 1\n",
            "1 2 3 2\n",
            "1 2 3 3\n",
            "1 2 3 4\n",
            "1 2 4 1\n",
            "1 2 4 2\n",
            "1 2 4 3\n",
            "1 2 4 4\n",
            "1 3 1 1\n",
            "1 3 1 2\n",
            "1 3 1 3\n",
            "1 3 1 4\n",
            "1 3 2 1\n",
            "1 3 2 2\n",
            "1 3 2 3\n",
            "1 3 2 4\n",
            "1 3 3 1\n",
            "1 3 3 2\n",
            "1 3 3 3\n",
            "1 3 3 4\n",
            "1 3 4 1\n",
            "1 3 4 2\n",
            "1 3 4 3\n",
            "1 3 4 4\n",
            "1 4 1 1\n",
            "1 4 1 2\n",
            "1 4 1 3\n",
            "1 4 1 4\n",
            "1 4 2 1\n",
            "1 4 2 2\n",
            "1 4 2 3\n",
            "1 4 2 4\n",
            "1 4 3 1\n",
            "1 4 3 2\n",
            "1 4 3 3\n",
            "1 4 3 4\n",
            "1 4 4 1\n",
            "1 4 4 2\n",
            "1 4 4 3\n",
            "1 4 4 4\n",
            "2 1 1 1\n",
            "2 1 1 2\n",
            "2 1 1 3\n",
            "2 1 1 4\n",
            "2 1 2 1\n",
            "2 1 2 2\n",
            "2 1 2 3\n",
            "2 1 2 4\n",
            "2 1 3 1\n",
            "2 1 3 2\n",
            "2 1 3 3\n",
            "2 1 3 4\n",
            "2 1 4 1\n",
            "2 1 4 2\n",
            "2 1 4 3\n",
            "2 1 4 4\n",
            "2 2 1 1\n",
            "2 2 1 2\n",
            "2 2 1 3\n",
            "2 2 1 4\n",
            "2 2 2 1\n",
            "2 2 2 2\n",
            "2 2 2 3\n",
            "2 2 2 4\n",
            "2 2 3 1\n",
            "2 2 3 2\n",
            "2 2 3 3\n",
            "2 2 3 4\n",
            "2 2 4 1\n",
            "2 2 4 2\n",
            "2 2 4 3\n",
            "2 2 4 4\n",
            "2 3 1 1\n",
            "2 3 1 2\n",
            "2 3 1 3\n",
            "2 3 1 4\n",
            "2 3 2 1\n",
            "2 3 2 2\n",
            "2 3 2 3\n",
            "2 3 2 4\n",
            "2 3 3 1\n",
            "2 3 3 2\n",
            "2 3 3 3\n",
            "2 3 3 4\n",
            "2 3 4 1\n",
            "2 3 4 2\n",
            "2 3 4 3\n",
            "2 3 4 4\n",
            "2 4 1 1\n",
            "2 4 1 2\n",
            "2 4 1 3\n",
            "2 4 1 4\n",
            "2 4 2 1\n",
            "2 4 2 2\n",
            "2 4 2 3\n",
            "2 4 2 4\n",
            "2 4 3 1\n",
            "2 4 3 2\n",
            "2 4 3 3\n",
            "2 4 3 4\n",
            "2 4 4 1\n",
            "2 4 4 2\n",
            "2 4 4 3\n",
            "2 4 4 4\n",
            "3 1 1 1\n",
            "3 1 1 2\n",
            "3 1 1 3\n",
            "3 1 1 4\n",
            "3 1 2 1\n",
            "3 1 2 2\n",
            "3 1 2 3\n",
            "3 1 2 4\n",
            "3 1 3 1\n",
            "3 1 3 2\n",
            "3 1 3 3\n",
            "3 1 3 4\n",
            "3 1 4 1\n",
            "3 1 4 2\n",
            "3 1 4 3\n",
            "3 1 4 4\n",
            "3 2 1 1\n",
            "3 2 1 2\n",
            "3 2 1 3\n",
            "3 2 1 4\n",
            "3 2 2 1\n",
            "3 2 2 2\n",
            "3 2 2 3\n",
            "3 2 2 4\n",
            "3 2 3 1\n",
            "3 2 3 2\n",
            "3 2 3 3\n",
            "3 2 3 4\n",
            "3 2 4 1\n",
            "3 2 4 2\n",
            "3 2 4 3\n",
            "3 2 4 4\n",
            "3 3 1 1\n",
            "3 3 1 2\n",
            "3 3 1 3\n",
            "3 3 1 4\n",
            "3 3 2 1\n",
            "3 3 2 2\n",
            "3 3 2 3\n",
            "3 3 2 4\n",
            "3 3 3 1\n",
            "3 3 3 2\n",
            "3 3 3 3\n",
            "3 3 3 4\n",
            "3 3 4 1\n",
            "3 3 4 2\n",
            "3 3 4 3\n",
            "3 3 4 4\n",
            "3 4 1 1\n",
            "3 4 1 2\n",
            "3 4 1 3\n",
            "3 4 1 4\n",
            "3 4 2 1\n",
            "3 4 2 2\n",
            "3 4 2 3\n",
            "3 4 2 4\n",
            "3 4 3 1\n",
            "3 4 3 2\n",
            "3 4 3 3\n",
            "3 4 3 4\n",
            "3 4 4 1\n",
            "3 4 4 2\n",
            "3 4 4 3\n",
            "3 4 4 4\n",
            "4 1 1 1\n",
            "4 1 1 2\n",
            "4 1 1 3\n",
            "4 1 1 4\n",
            "4 1 2 1\n",
            "4 1 2 2\n",
            "4 1 2 3\n",
            "4 1 2 4\n",
            "4 1 3 1\n",
            "4 1 3 2\n",
            "4 1 3 3\n",
            "4 1 3 4\n",
            "4 1 4 1\n",
            "4 1 4 2\n",
            "4 1 4 3\n",
            "4 1 4 4\n",
            "4 2 1 1\n",
            "4 2 1 2\n",
            "4 2 1 3\n",
            "4 2 1 4\n",
            "4 2 2 1\n",
            "4 2 2 2\n",
            "4 2 2 3\n",
            "4 2 2 4\n",
            "4 2 3 1\n",
            "4 2 3 2\n",
            "4 2 3 3\n",
            "4 2 3 4\n",
            "4 2 4 1\n",
            "4 2 4 2\n",
            "4 2 4 3\n",
            "4 2 4 4\n",
            "4 3 1 1\n",
            "4 3 1 2\n",
            "4 3 1 3\n",
            "4 3 1 4\n",
            "4 3 2 1\n",
            "4 3 2 2\n",
            "4 3 2 3\n",
            "4 3 2 4\n",
            "4 3 3 1\n",
            "4 3 3 2\n",
            "4 3 3 3\n",
            "4 3 3 4\n",
            "4 3 4 1\n",
            "4 3 4 2\n",
            "4 3 4 3\n",
            "4 3 4 4\n",
            "4 4 1 1\n",
            "4 4 1 2\n",
            "4 4 1 3\n",
            "4 4 1 4\n",
            "4 4 2 1\n",
            "4 4 2 2\n",
            "4 4 2 3\n",
            "4 4 2 4\n",
            "4 4 3 1\n",
            "4 4 3 2\n",
            "4 4 3 3\n",
            "4 4 3 4\n",
            "4 4 4 1\n",
            "4 4 4 2\n",
            "4 4 4 3\n",
            "4 4 4 4\n"
          ]
        }
      ]
    },
    {
      "cell_type": "code",
      "source": [
        "#Problem 9: Write a program that will take a decimal number as input and prints out the binary equivalent of the number"
      ],
      "metadata": {
        "id": "N-oA7dTXIct4"
      },
      "execution_count": null,
      "outputs": []
    },
    {
      "cell_type": "code",
      "source": [
        "# Code here\n",
        "\n",
        "n = int(input('enter the number'))\n",
        "binary = []\n",
        "while n > 0:\n",
        "\n",
        "  binary.append(n%2)\n",
        "  n = n//2\n",
        "\n",
        "for i in binary[::-1]:\n",
        "  print(i,end='')\n"
      ],
      "metadata": {
        "colab": {
          "base_uri": "https://localhost:8080/"
        },
        "id": "a42oo5g3IcwE",
        "outputId": "71f39df1-1ae1-4a32-a357-1989374714a0"
      },
      "execution_count": 9,
      "outputs": [
        {
          "output_type": "stream",
          "name": "stdout",
          "text": [
            "enter the number32\n",
            "100000"
          ]
        }
      ]
    },
    {
      "cell_type": "code",
      "source": [
        "#Problem 10: Write a program that will take 2 numbers as input and prints the LCM and HCF of those 2 numbers"
      ],
      "metadata": {
        "id": "6NEphZg5IcyV"
      },
      "execution_count": null,
      "outputs": []
    },
    {
      "cell_type": "code",
      "source": [
        "# Code here\n",
        "x = int(input('enter 1st number'))\n",
        "y = int(input('enter 2nd number'))\n",
        "\n",
        "if x>y:\n",
        "  greater = x\n",
        "else:\n",
        "  greater = y\n",
        "\n",
        "while True:\n",
        "  if (greater % x == 0) and (greater % y == 0):\n",
        "    lcm = greater\n",
        "    break\n",
        "\n",
        "  greater = greater + 1\n",
        "\n",
        "print(lcm)"
      ],
      "metadata": {
        "colab": {
          "base_uri": "https://localhost:8080/"
        },
        "id": "ih_YqzUYIc0d",
        "outputId": "e9a2d4dc-646b-454d-ca17-cf93015ad1d7"
      },
      "execution_count": 10,
      "outputs": [
        {
          "output_type": "stream",
          "name": "stdout",
          "text": [
            "enter 1st number56\n",
            "enter 2nd number34\n",
            "952\n"
          ]
        }
      ]
    },
    {
      "cell_type": "code",
      "source": [
        "# Code here\n",
        "x = int(input('enter 1st number'))\n",
        "y = int(input('enter 2nd number'))\n",
        "\n",
        "if x<y:\n",
        "  smaller = x\n",
        "else:\n",
        "  smaller = y\n",
        "\n",
        "for i in range(1,smaller+1):\n",
        "  if (x % i == 0) and (y % i == 0):\n",
        "    hcf = i\n",
        "\n",
        "print(hcf)"
      ],
      "metadata": {
        "colab": {
          "base_uri": "https://localhost:8080/"
        },
        "id": "oMuB53oDIc2l",
        "outputId": "151d27ef-3c01-41d9-df71-67dc66f32e48"
      },
      "execution_count": 11,
      "outputs": [
        {
          "output_type": "stream",
          "name": "stdout",
          "text": [
            "enter 1st number12\n",
            "enter 2nd number133\n",
            "1\n"
          ]
        }
      ]
    },
    {
      "cell_type": "code",
      "source": [
        "#Problem 11: Create Short Form from initial character\n",
        "#Given a string create short form ofthe string from Initial character. Short form should be capitalised."
      ],
      "metadata": {
        "id": "8rC3BHzTIc46"
      },
      "execution_count": null,
      "outputs": []
    },
    {
      "cell_type": "code",
      "source": [
        "# Code here\n",
        "\n",
        "inp = 'Data science Mentorship Program'\n",
        "\n",
        "res = ''\n",
        "\n",
        "for i in inp.split():\n",
        "  res = res + i[0].upper()\n",
        "\n",
        "print(res)"
      ],
      "metadata": {
        "colab": {
          "base_uri": "https://localhost:8080/"
        },
        "id": "CET5Ev0kIc69",
        "outputId": "097de7fc-ab63-4968-eb93-4302ead62c5e"
      },
      "execution_count": 12,
      "outputs": [
        {
          "output_type": "stream",
          "name": "stdout",
          "text": [
            "DSMP\n"
          ]
        }
      ]
    },
    {
      "cell_type": "code",
      "source": [
        "#Problem 12: Append second string in the middle of first string"
      ],
      "metadata": {
        "id": "G-HVIp3HIc8_"
      },
      "execution_count": null,
      "outputs": []
    },
    {
      "cell_type": "code",
      "source": [
        "# Code here\n",
        "\n",
        "s1 = input('enter the 1st string')\n",
        "s2 = input('enter the 2nd string')\n",
        "\n",
        "print(s1[0:int(len(s1)/2)] + s2 + s1[int(len(s1)/2):])"
      ],
      "metadata": {
        "colab": {
          "base_uri": "https://localhost:8080/"
        },
        "id": "xcYopQESIc_A",
        "outputId": "56ba233e-10b8-4885-ab41-efd7e1c21e09"
      },
      "execution_count": 13,
      "outputs": [
        {
          "output_type": "stream",
          "name": "stdout",
          "text": [
            "enter the 1st stringhi\n",
            "enter the 2nd stringbye\n",
            "hbyei\n"
          ]
        }
      ]
    },
    {
      "cell_type": "code",
      "source": [
        "#Problem 13:Given string contains a combination of the lower and upper case letters. Write a program to arrange the\n",
        "# characters of a string so that all lowercase letters should come first."
      ],
      "metadata": {
        "id": "CHz9oHkoIdA_"
      },
      "execution_count": null,
      "outputs": []
    },
    {
      "cell_type": "code",
      "source": [
        "# Code here\n",
        "\n",
        "s = 'PyNaTive'\n",
        "\n",
        "upper = ''\n",
        "lower = ''\n",
        "\n",
        "for i in s:\n",
        "  if i.islower():\n",
        "    lower = lower + i\n",
        "  else:\n",
        "    upper = upper + i\n",
        "\n",
        "print(lower + upper)"
      ],
      "metadata": {
        "id": "v3qZpzzDRdNL"
      },
      "execution_count": null,
      "outputs": []
    },
    {
      "cell_type": "code",
      "source": [
        "#Problem 14:Take a alphanumeric string input and print the sum and average of the digits that appear in the string, ignoring all other characters."
      ],
      "metadata": {
        "id": "QWUdzW_PRdPh"
      },
      "execution_count": null,
      "outputs": []
    },
    {
      "cell_type": "code",
      "source": [
        "# Code here\n",
        "s = 'hel123O4every093'\n",
        "\n",
        "sum = 0\n",
        "count = 0\n",
        "\n",
        "for i in s:\n",
        "  if i.isdigit():\n",
        "    sum = sum + int(i)\n",
        "    count += 1\n",
        "\n",
        "print(sum)\n",
        "print(sum/count)\n",
        "print(count)"
      ],
      "metadata": {
        "colab": {
          "base_uri": "https://localhost:8080/"
        },
        "id": "8QaJd0rERdSG",
        "outputId": "214d2b83-c9a8-4cbc-f3e2-b77e8f288ad5"
      },
      "execution_count": 14,
      "outputs": [
        {
          "output_type": "stream",
          "name": "stdout",
          "text": [
            "22\n",
            "3.142857142857143\n",
            "7\n"
          ]
        }
      ]
    },
    {
      "cell_type": "code",
      "source": [
        "#Problem 15: Removal of all characters from a string except integers"
      ],
      "metadata": {
        "id": "zcW7YlMkRdXO"
      },
      "execution_count": null,
      "outputs": []
    },
    {
      "cell_type": "code",
      "source": [
        "# Code here\n",
        "s = 'I am 25 years and 10 months old'\n",
        "\n",
        "res = ''\n",
        "\n",
        "for i in s:\n",
        "  if i.isdigit():\n",
        "    res = res + i\n",
        "\n",
        "print(res)"
      ],
      "metadata": {
        "colab": {
          "base_uri": "https://localhost:8080/"
        },
        "id": "xWbJm2CTRdaV",
        "outputId": "618abb21-92df-410f-c0d2-12dba4034767"
      },
      "execution_count": 15,
      "outputs": [
        {
          "output_type": "stream",
          "name": "stdout",
          "text": [
            "2510\n"
          ]
        }
      ]
    },
    {
      "cell_type": "code",
      "source": [],
      "metadata": {
        "id": "WDXK6msyR0DU"
      },
      "execution_count": null,
      "outputs": []
    },
    {
      "cell_type": "code",
      "source": [
        "#Problem 16: Check whether the string is Symmetrical.\n",
        "#Statement: Given a string. the task is to check if the string is symmetrical or not. A string is said to be symmetrical if both the halves of the string are the same."
      ],
      "metadata": {
        "id": "5WTazAblR0HV"
      },
      "execution_count": null,
      "outputs": []
    },
    {
      "cell_type": "code",
      "source": [
        "# Code here\n",
        "s = input('enter the string')\n",
        "\n",
        "if len(s)%2 == 0:\n",
        "  s1 = s[0:len(s)//2]\n",
        "  s2 = s[len(s)//2:]\n",
        "else:\n",
        "  s1 = s[0:len(s)//2]\n",
        "  s2 = s[len(s)//2 + 1:]\n",
        "\n",
        "if s1 == s2:\n",
        "  print('symmetrical')\n",
        "else:\n",
        "  print('not symmetrical')\n"
      ],
      "metadata": {
        "colab": {
          "base_uri": "https://localhost:8080/"
        },
        "id": "WVXceuIMRddR",
        "outputId": "48a094eb-16a6-4bab-f56d-05e02e66642d"
      },
      "execution_count": 16,
      "outputs": [
        {
          "output_type": "stream",
          "name": "stdout",
          "text": [
            "enter the stringhii\n",
            "not symmetrical\n"
          ]
        }
      ]
    },
    {
      "cell_type": "code",
      "source": [
        "#Problem 17: Reverse words in a given String\n",
        "#Statement: We are given a string and we need to reverse words of a given string."
      ],
      "metadata": {
        "id": "ZoZ1ka3fR8oz"
      },
      "execution_count": null,
      "outputs": []
    },
    {
      "cell_type": "code",
      "source": [
        "# Code here\n",
        "s = 'code practice quiz geeks'\n",
        "\n",
        "L = []\n",
        "\n",
        "for i in s.split():\n",
        "  L.append(i)\n",
        "\n",
        "L = L[::-1]\n",
        "print(\" \".join(L))"
      ],
      "metadata": {
        "colab": {
          "base_uri": "https://localhost:8080/"
        },
        "id": "XQOTYHidR8ss",
        "outputId": "c1c3275c-18f1-4552-f341-094c0d32918b"
      },
      "execution_count": 17,
      "outputs": [
        {
          "output_type": "stream",
          "name": "stdout",
          "text": [
            "geeks quiz practice code\n"
          ]
        }
      ]
    },
    {
      "cell_type": "code",
      "source": [
        "#problem 18: Find uncommon words from two Strings.\n",
        "#Statement: Given two sentences as strings A and B. The task is to return a list of all uncommon words. A word is uncommon if it appears exactly once in any one of the sentences, and does not appear in the other sentence. Note: A sentence is a string of space-separated words. Each word consists only of lowercase letters"
      ],
      "metadata": {
        "id": "Moy4MnQfR8yO"
      },
      "execution_count": null,
      "outputs": []
    },
    {
      "cell_type": "code",
      "source": [
        "# Code here\n",
        "A = \"apple banana mango\"\n",
        "B = \"banana fruits mango\"\n",
        "\n",
        "L = []\n",
        "\n",
        "for i in A.split():\n",
        "  if i not in B and i not in L:\n",
        "    L.append(i)\n",
        "\n",
        "for j in B.split():\n",
        "  if j not in A and j not in L:\n",
        "    L.append(j)\n",
        "\n",
        "print(L)"
      ],
      "metadata": {
        "colab": {
          "base_uri": "https://localhost:8080/"
        },
        "id": "wRm4653GR80d",
        "outputId": "c37b259f-0627-40c9-8f33-2439aeb9e724"
      },
      "execution_count": 18,
      "outputs": [
        {
          "output_type": "stream",
          "name": "stdout",
          "text": [
            "['apple', 'fruits']\n"
          ]
        }
      ]
    },
    {
      "cell_type": "code",
      "source": [
        "#problem 19: Word location in String.\n",
        "#Statement: Find a location of a word in a given sentence."
      ],
      "metadata": {
        "id": "Lu6aPA_SSNjC"
      },
      "execution_count": null,
      "outputs": []
    },
    {
      "cell_type": "code",
      "source": [
        "# Code here\n",
        "s = 'We can learn data science through campusx mentorship program.'\n",
        "word = 'campusx'\n",
        "\n",
        "pos = 0\n",
        "\n",
        "for i in s.split():\n",
        "  pos += 1\n",
        "  if i == word:\n",
        "    break\n",
        "\n",
        "print(pos)\n",
        "\n"
      ],
      "metadata": {
        "colab": {
          "base_uri": "https://localhost:8080/"
        },
        "id": "PTBbWi6JSNox",
        "outputId": "1661e787-164f-47cc-f107-9d3bc72aa6ee"
      },
      "execution_count": 19,
      "outputs": [
        {
          "output_type": "stream",
          "name": "stdout",
          "text": [
            "7\n"
          ]
        }
      ]
    },
    {
      "cell_type": "code",
      "source": [
        "#Problem 20: Write a program that can remove all the duplicate characters from a string. User will provide the input."
      ],
      "metadata": {
        "id": "Hc9da05dR822"
      },
      "execution_count": null,
      "outputs": []
    },
    {
      "cell_type": "code",
      "source": [
        "# Code here\n",
        "s = 'aaaabbbbbccccdddeeeeffff'\n",
        "\n",
        "res = ''\n",
        "\n",
        "for i in s:\n",
        "  if i not in res:\n",
        "    res = res + i\n",
        "\n",
        "print(res)"
      ],
      "metadata": {
        "colab": {
          "base_uri": "https://localhost:8080/"
        },
        "id": "IdlGDPqISTEC",
        "outputId": "a32734b3-2b28-4b9c-fdd6-4c47f8807e5b"
      },
      "execution_count": 20,
      "outputs": [
        {
          "output_type": "stream",
          "name": "stdout",
          "text": [
            "abcdef\n"
          ]
        }
      ]
    },
    {
      "cell_type": "code",
      "source": [],
      "metadata": {
        "id": "cxaqV09-STIF"
      },
      "execution_count": null,
      "outputs": []
    }
  ]
}