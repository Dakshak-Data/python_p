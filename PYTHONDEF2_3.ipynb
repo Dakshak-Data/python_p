{
  "nbformat": 4,
  "nbformat_minor": 0,
  "metadata": {
    "colab": {
      "provenance": [],
      "authorship_tag": "ABX9TyMa1TdinXt91K43qOhfG4qd",
      "include_colab_link": true
    },
    "kernelspec": {
      "name": "python3",
      "display_name": "Python 3"
    },
    "language_info": {
      "name": "python"
    }
  },
  "cells": [
    {
      "cell_type": "markdown",
      "metadata": {
        "id": "view-in-github",
        "colab_type": "text"
      },
      "source": [
        "<a href=\"https://colab.research.google.com/github/Dakshak-Data/python_p/blob/main/PYTHONDEF2_3.ipynb\" target=\"_parent\"><img src=\"https://colab.research.google.com/assets/colab-badge.svg\" alt=\"Open In Colab\"/></a>"
      ]
    },
    {
      "cell_type": "code",
      "execution_count": null,
      "metadata": {
        "id": "p2nUgiEU_jGl"
      },
      "outputs": [],
      "source": [
        "#Let's create a function(with docstring)\n"
      ]
    },
    {
      "cell_type": "code",
      "source": [
        "def is_even(num):#PARAMETER num OR BODY EVEEN\n",
        "  \"\"\"\n",
        "  This function returns if a given number is odd or even\n",
        "  input - any valid integer\n",
        "  output - odd/even\n",
        "  created on - 16th Nov 2022\n",
        "  \"\"\"\n",
        "  if type(num) == int:\n",
        "    if num % 2 == 0:\n",
        "      return 'even'\n",
        "    else:\n",
        "      return 'odd'\n",
        "  else:\n",
        "      return 'please enter an integer'\n",
        "\n",
        "\n",
        ""
      ],
      "metadata": {
        "id": "VpEUt_4pATlH"
      },
      "execution_count": 54,
      "outputs": []
    },
    {
      "cell_type": "code",
      "source": [
        "  for i in range(1,11):\n",
        "       x = is_even(i) #what i pass is caleed arguments i remote volume\n",
        "       print(x)\n",
        "\n",
        "  #or i in range(1,11):\n",
        "    ##   print(x)"
      ],
      "metadata": {
        "colab": {
          "base_uri": "https://localhost:8080/"
        },
        "id": "03bVlMJKDmb0",
        "outputId": "31cf909a-f405-4176-d123-388aacb81401"
      },
      "execution_count": 55,
      "outputs": [
        {
          "output_type": "stream",
          "name": "stdout",
          "text": [
            "odd\n",
            "even\n",
            "odd\n",
            "even\n",
            "odd\n",
            "even\n",
            "odd\n",
            "even\n",
            "odd\n",
            "even\n"
          ]
        }
      ]
    },
    {
      "cell_type": "code",
      "source": [
        "print(type.__doc__) #documenation"
      ],
      "metadata": {
        "colab": {
          "base_uri": "https://localhost:8080/"
        },
        "id": "97WSKFh5HB9W",
        "outputId": "9b32779a-e553-4c51-ccee-efcbafd5391d"
      },
      "execution_count": 17,
      "outputs": [
        {
          "output_type": "stream",
          "name": "stdout",
          "text": [
            "type(object) -> the object's type\n",
            "type(name, bases, dict, **kwds) -> a new type\n"
          ]
        }
      ]
    },
    {
      "cell_type": "code",
      "source": [
        "#2 Point of views"
      ],
      "metadata": {
        "id": "7jE_oaZKHCAB"
      },
      "execution_count": null,
      "outputs": []
    },
    {
      "cell_type": "code",
      "source": [
        "is_even('hello')"
      ],
      "metadata": {
        "colab": {
          "base_uri": "https://localhost:8080/",
          "height": 36
        },
        "id": "h0nKVArRHCCR",
        "outputId": "8ab30e4c-633f-4ec7-970c-61b278f1f7cd"
      },
      "execution_count": 56,
      "outputs": [
        {
          "output_type": "execute_result",
          "data": {
            "text/plain": [
              "'please enter an integer'"
            ],
            "application/vnd.google.colaboratory.intrinsic+json": {
              "type": "string"
            }
          },
          "metadata": {},
          "execution_count": 56
        }
      ]
    },
    {
      "cell_type": "code",
      "source": [
        "#Parameters Vs Arguments\n",
        "#Types of Arguments\n",
        "#Default Argument\n",
        "#Positional Argument\n",
        "#Keyword Argument"
      ],
      "metadata": {
        "id": "2hwnj8ccHCHS"
      },
      "execution_count": 19,
      "outputs": []
    },
    {
      "cell_type": "code",
      "source": [
        "def power(a=1,b=2):#whe parameter has value it be argument in this case\n",
        "    return a**2 #default argument 1 for no error when call it can change after"
      ],
      "metadata": {
        "id": "HIM2UVdcHCJn"
      },
      "execution_count": 57,
      "outputs": []
    },
    {
      "cell_type": "code",
      "source": [
        "power()\n",
        "power(1)"
      ],
      "metadata": {
        "colab": {
          "base_uri": "https://localhost:8080/"
        },
        "id": "1valX88kIfBJ",
        "outputId": "e80ef487-88b8-4624-9e6d-5b2936dc06c6"
      },
      "execution_count": 58,
      "outputs": [
        {
          "output_type": "execute_result",
          "data": {
            "text/plain": [
              "1"
            ]
          },
          "metadata": {},
          "execution_count": 58
        }
      ]
    },
    {
      "cell_type": "code",
      "source": [
        "# positional argument\n",
        "power(2,3) #follow sequence first paarameter position argument"
      ],
      "metadata": {
        "colab": {
          "base_uri": "https://localhost:8080/"
        },
        "id": "i1AuX9R7IfDl",
        "outputId": "6e7ee2a8-0575-4e4f-c825-9dea31d0f59b"
      },
      "execution_count": 59,
      "outputs": [
        {
          "output_type": "execute_result",
          "data": {
            "text/plain": [
              "4"
            ]
          },
          "metadata": {},
          "execution_count": 59
        }
      ]
    },
    {
      "cell_type": "code",
      "source": [
        "# keyword argument\n",
        "power(b=3,a=2)"
      ],
      "metadata": {
        "colab": {
          "base_uri": "https://localhost:8080/"
        },
        "id": "aiz1JEIEIfF_",
        "outputId": "b00bb8c2-8bc0-45f7-e87b-ef09bb756976"
      },
      "execution_count": 60,
      "outputs": [
        {
          "output_type": "execute_result",
          "data": {
            "text/plain": [
              "4"
            ]
          },
          "metadata": {},
          "execution_count": 60
        }
      ]
    },
    {
      "cell_type": "code",
      "source": [
        "#*args and **kwargs\n",
        "#*args and **kwargs are special Python keywords\n",
        "# that are used to pass the variable length of arguments to a function"
      ],
      "metadata": {
        "id": "Vs2yc5F_IfIq"
      },
      "execution_count": null,
      "outputs": []
    },
    {
      "cell_type": "code",
      "source": [
        "# *args\n",
        "# allows us to pass a variable number of non-keyword arguments to a function.\n",
        "def multiply(a,b,c): #ok for function single or some parameter or argument\n",
        "   return a*b*c\n"
      ],
      "metadata": {
        "id": "VJHRwyQoIfLU"
      },
      "execution_count": 61,
      "outputs": []
    },
    {
      "cell_type": "code",
      "source": [
        "multiply(2,3,4)"
      ],
      "metadata": {
        "colab": {
          "base_uri": "https://localhost:8080/"
        },
        "id": "Dyg7qBWPHCMA",
        "outputId": "64248311-d5d0-48c0-edcf-1e218aa2ff87"
      },
      "execution_count": 62,
      "outputs": [
        {
          "output_type": "execute_result",
          "data": {
            "text/plain": [
              "24"
            ]
          },
          "metadata": {},
          "execution_count": 62
        }
      ]
    },
    {
      "cell_type": "code",
      "source": [
        "#n nymber of input then use args (variable argyments) salman\n",
        "def multiply(*args):\n",
        "   product = 1  #product is variable value is 1\n",
        "   for i in args:\n",
        "      product = product * i\n",
        "   print(args)\n",
        "   return product\n",
        "\n"
      ],
      "metadata": {
        "id": "MJzNVS56L7Vm"
      },
      "execution_count": 63,
      "outputs": []
    },
    {
      "cell_type": "code",
      "source": [
        "multiply(1,2,3,33,2)"
      ],
      "metadata": {
        "colab": {
          "base_uri": "https://localhost:8080/"
        },
        "id": "iv-CHVUyL7YH",
        "outputId": "ad02e826-e6f4-4c9a-8a5a-c4fb9ba1988a"
      },
      "execution_count": 64,
      "outputs": [
        {
          "output_type": "stream",
          "name": "stdout",
          "text": [
            "(1, 2, 3, 33, 2)\n"
          ]
        },
        {
          "output_type": "execute_result",
          "data": {
            "text/plain": [
              "396"
            ]
          },
          "metadata": {},
          "execution_count": 64
        }
      ]
    },
    {
      "cell_type": "code",
      "source": [
        "# **kwargs\n",
        "# **kwargs allows us to pass any number of keyword arguments.\n",
        "# Keyword arguments mean that they contain a key-value pair, like a Python dictionary.\n",
        "\n",
        "def dispaly(**kwargs):#** it will become dictionary key value pair\n",
        "    for (key,value) in kwargs.items():\n",
        "      print(key,'->',value)\n",
        "\n"
      ],
      "metadata": {
        "id": "sKSj6ml20JAo"
      },
      "execution_count": 65,
      "outputs": []
    },
    {
      "cell_type": "code",
      "source": [
        "display(india='delhi',srilanka='colombo',nepal='kathmandu',pakistan='islamabad')"
      ],
      "metadata": {
        "id": "m_c8t44a0JDp"
      },
      "execution_count": 66,
      "outputs": []
    },
    {
      "cell_type": "code",
      "source": [
        "#Points to #remember while using *args and **kwargs\n",
        "#order of the arguments matter(normal -> *args -> **kwargs)\n",
        "#The words “args” and “kwargs” are only a convention, you can use any name of your choice"
      ],
      "metadata": {
        "id": "-LTa4giR0JGg"
      },
      "execution_count": 67,
      "outputs": []
    },
    {
      "cell_type": "code",
      "source": [
        "#How Functions are executed in memory? call and return exection of function"
      ],
      "metadata": {
        "id": "F59n0K-n0JK8"
      },
      "execution_count": null,
      "outputs": []
    },
    {
      "cell_type": "code",
      "source": [
        "#Without return statement"
      ],
      "metadata": {
        "id": "B4F-4z_u0JN1"
      },
      "execution_count": null,
      "outputs": []
    },
    {
      "cell_type": "code",
      "source": [
        "L = [1,2,3]\n",
        "print(L.append(4))# no return default return get print\n",
        "print(L)\n",
        "\n",
        "L = [1,2,3]\n",
        "print(L.append(4))#none\n",
        "\n",
        "\n",
        "\n"
      ],
      "metadata": {
        "colab": {
          "base_uri": "https://localhost:8080/"
        },
        "id": "rFz-ZaNd0JQv",
        "outputId": "ae495972-951a-46f5-a41f-2da17a960316"
      },
      "execution_count": 68,
      "outputs": [
        {
          "output_type": "stream",
          "name": "stdout",
          "text": [
            "None\n",
            "[1, 2, 3, 4]\n",
            "None\n"
          ]
        }
      ]
    },
    {
      "cell_type": "code",
      "source": [
        "def is_even(num):\n",
        "    if num % 2 == 0:\n",
        "       print('even')\n",
        "    else:\n",
        "       print('even')\n",
        "print(is_even(2))"
      ],
      "metadata": {
        "colab": {
          "base_uri": "https://localhost:8080/"
        },
        "id": "1DtEFY7e8Wy5",
        "outputId": "a630ea48-47eb-4899-e121-77b27cb60258"
      },
      "execution_count": 69,
      "outputs": [
        {
          "output_type": "stream",
          "name": "stdout",
          "text": [
            "even\n",
            "None\n"
          ]
        }
      ]
    },
    {
      "cell_type": "code",
      "source": [
        "#Variable Scope"
      ],
      "metadata": {
        "id": "IVUtYPef0JTi"
      },
      "execution_count": null,
      "outputs": []
    },
    {
      "cell_type": "code",
      "source": [
        "def g(y): #fun ction kocalvariable\n",
        "    print(x)\n",
        "    print(x+1)\n",
        "x = 5#global variable\n",
        "g(x)\n",
        "print(x)"
      ],
      "metadata": {
        "colab": {
          "base_uri": "https://localhost:8080/"
        },
        "id": "OsIN05X_0JWQ",
        "outputId": "1ad4b0a0-9e02-4e7e-def4-fde4c5c05f1b"
      },
      "execution_count": 70,
      "outputs": [
        {
          "output_type": "stream",
          "name": "stdout",
          "text": [
            "5\n",
            "6\n",
            "5\n"
          ]
        }
      ]
    },
    {
      "cell_type": "code",
      "source": [
        "def f(y):\n",
        "    x = 1\n",
        "    x += 1\n",
        "    print(x)\n",
        "x = 5\n",
        "f(x)\n",
        "print(x)"
      ],
      "metadata": {
        "colab": {
          "base_uri": "https://localhost:8080/"
        },
        "id": "4PpelpHo0JZE",
        "outputId": "dd038472-75af-43b9-94e5-4010303adcb4"
      },
      "execution_count": 71,
      "outputs": [
        {
          "output_type": "stream",
          "name": "stdout",
          "text": [
            "2\n",
            "5\n"
          ]
        }
      ]
    },
    {
      "cell_type": "code",
      "source": [
        "def h(y):\n",
        "    x += 1  #use global nottt\n",
        "x = 5\n",
        "h(x)\n",
        "print(x)\n"
      ],
      "metadata": {
        "colab": {
          "base_uri": "https://localhost:8080/",
          "height": 332
        },
        "id": "0YvQoMFu0Jbu",
        "outputId": "2d9289f7-ca8f-46ab-aa21-467f0e9e8d9d"
      },
      "execution_count": 72,
      "outputs": [
        {
          "output_type": "error",
          "ename": "UnboundLocalError",
          "evalue": "cannot access local variable 'x' where it is not associated with a value",
          "traceback": [
            "\u001b[0;31m---------------------------------------------------------------------------\u001b[0m",
            "\u001b[0;31mUnboundLocalError\u001b[0m                         Traceback (most recent call last)",
            "\u001b[0;32m<ipython-input-72-4e4d382c1a0f>\u001b[0m in \u001b[0;36m<cell line: 0>\u001b[0;34m()\u001b[0m\n\u001b[1;32m      2\u001b[0m     \u001b[0mx\u001b[0m \u001b[0;34m+=\u001b[0m \u001b[0;36m1\u001b[0m  \u001b[0;31m#use global nottt\u001b[0m\u001b[0;34m\u001b[0m\u001b[0;34m\u001b[0m\u001b[0m\n\u001b[1;32m      3\u001b[0m \u001b[0mx\u001b[0m \u001b[0;34m=\u001b[0m \u001b[0;36m5\u001b[0m\u001b[0;34m\u001b[0m\u001b[0;34m\u001b[0m\u001b[0m\n\u001b[0;32m----> 4\u001b[0;31m \u001b[0mh\u001b[0m\u001b[0;34m(\u001b[0m\u001b[0mx\u001b[0m\u001b[0;34m)\u001b[0m\u001b[0;34m\u001b[0m\u001b[0;34m\u001b[0m\u001b[0m\n\u001b[0m\u001b[1;32m      5\u001b[0m \u001b[0mprint\u001b[0m\u001b[0;34m(\u001b[0m\u001b[0mx\u001b[0m\u001b[0;34m)\u001b[0m\u001b[0;34m\u001b[0m\u001b[0;34m\u001b[0m\u001b[0m\n",
            "\u001b[0;32m<ipython-input-72-4e4d382c1a0f>\u001b[0m in \u001b[0;36mh\u001b[0;34m(y)\u001b[0m\n\u001b[1;32m      1\u001b[0m \u001b[0;32mdef\u001b[0m \u001b[0mh\u001b[0m\u001b[0;34m(\u001b[0m\u001b[0my\u001b[0m\u001b[0;34m)\u001b[0m\u001b[0;34m:\u001b[0m\u001b[0;34m\u001b[0m\u001b[0;34m\u001b[0m\u001b[0m\n\u001b[0;32m----> 2\u001b[0;31m     \u001b[0mx\u001b[0m \u001b[0;34m+=\u001b[0m \u001b[0;36m1\u001b[0m  \u001b[0;31m#use global nottt\u001b[0m\u001b[0;34m\u001b[0m\u001b[0;34m\u001b[0m\u001b[0m\n\u001b[0m\u001b[1;32m      3\u001b[0m \u001b[0mx\u001b[0m \u001b[0;34m=\u001b[0m \u001b[0;36m5\u001b[0m\u001b[0;34m\u001b[0m\u001b[0;34m\u001b[0m\u001b[0m\n\u001b[1;32m      4\u001b[0m \u001b[0mh\u001b[0m\u001b[0;34m(\u001b[0m\u001b[0mx\u001b[0m\u001b[0;34m)\u001b[0m\u001b[0;34m\u001b[0m\u001b[0;34m\u001b[0m\u001b[0m\n\u001b[1;32m      5\u001b[0m \u001b[0mprint\u001b[0m\u001b[0;34m(\u001b[0m\u001b[0mx\u001b[0m\u001b[0;34m)\u001b[0m\u001b[0;34m\u001b[0m\u001b[0;34m\u001b[0m\u001b[0m\n",
            "\u001b[0;31mUnboundLocalError\u001b[0m: cannot access local variable 'x' where it is not associated with a value"
          ]
        }
      ]
    },
    {
      "cell_type": "code",
      "source": [
        "def f(x):\n",
        "   x = x + 1\n",
        "   print('in f(x): x =', x)\n",
        "   return x\n",
        "\n",
        "x = 3\n",
        "z = f(x)\n",
        "print('in main program scope: z =', z)\n",
        "print('in main program scope: x =', x)"
      ],
      "metadata": {
        "colab": {
          "base_uri": "https://localhost:8080/"
        },
        "id": "OeiDpH860Jey",
        "outputId": "b4a733f5-5fa7-4376-84bd-2f7305c69bb7"
      },
      "execution_count": 73,
      "outputs": [
        {
          "output_type": "stream",
          "name": "stdout",
          "text": [
            "in f(x): x = 4\n",
            "in main program scope: z = 4\n",
            "in main program scope: x = 3\n"
          ]
        }
      ]
    },
    {
      "cell_type": "code",
      "source": [
        "#Nested Functions"
      ],
      "metadata": {
        "id": "b_BVCnM-0Jhd"
      },
      "execution_count": null,
      "outputs": []
    },
    {
      "cell_type": "code",
      "source": [
        "def f():\n",
        "  def g():\n",
        "    print('inside function g')\n",
        "    g()\n",
        "\n",
        "  print('inside function f')"
      ],
      "metadata": {
        "id": "cghCHmNX0Jke"
      },
      "execution_count": 74,
      "outputs": []
    },
    {
      "cell_type": "code",
      "source": [
        "f() #inner function hidden inner function acces not by main program  call only outter functioon"
      ],
      "metadata": {
        "colab": {
          "base_uri": "https://localhost:8080/"
        },
        "id": "p3o_7i9T0JnR",
        "outputId": "619e1cc1-8e11-4ac3-db6f-5b30691c9559"
      },
      "execution_count": 75,
      "outputs": [
        {
          "output_type": "stream",
          "name": "stdout",
          "text": [
            "inside function f\n"
          ]
        }
      ]
    },
    {
      "cell_type": "code",
      "source": [
        "def f():\n",
        "  def g():\n",
        "    print('inside function g')\n",
        "    f()\n",
        "  g()\n",
        "  print('inside function f')"
      ],
      "metadata": {
        "id": "Qzym_83p0JqV"
      },
      "execution_count": 76,
      "outputs": []
    },
    {
      "cell_type": "code",
      "source": [
        "f()"
      ],
      "metadata": {
        "colab": {
          "base_uri": "https://localhost:8080/",
          "height": 1000
        },
        "id": "mvSfjxmk0JwA",
        "outputId": "f329eace-eef8-4b83-c85d-8232939a3dec"
      },
      "execution_count": 77,
      "outputs": [
        {
          "output_type": "stream",
          "name": "stdout",
          "text": [
            "inside function g\n",
            "inside function g\n",
            "inside function g\n",
            "inside function g\n",
            "inside function g\n",
            "inside function g\n",
            "inside function g\n",
            "inside function g\n",
            "inside function g\n",
            "inside function g\n",
            "inside function g\n",
            "inside function g\n",
            "inside function g\n",
            "inside function g\n",
            "inside function g\n",
            "inside function g\n",
            "inside function g\n",
            "inside function g\n",
            "inside function g\n",
            "inside function g\n",
            "inside function g\n",
            "inside function g\n",
            "inside function g\n",
            "inside function g\n",
            "inside function g\n",
            "inside function g\n",
            "inside function g\n",
            "inside function g\n",
            "inside function g\n",
            "inside function g\n",
            "inside function g\n",
            "inside function g\n",
            "inside function g\n",
            "inside function g\n",
            "inside function g\n",
            "inside function g\n",
            "inside function g\n",
            "inside function g\n",
            "inside function g\n",
            "inside function g\n",
            "inside function g\n",
            "inside function g\n",
            "inside function g\n",
            "inside function g\n",
            "inside function g\n",
            "inside function g\n",
            "inside function g\n",
            "inside function g\n",
            "inside function g\n",
            "inside function g\n",
            "inside function g\n",
            "inside function g\n",
            "inside function g\n",
            "inside function g\n",
            "inside function g\n",
            "inside function g\n",
            "inside function g\n",
            "inside function g\n",
            "inside function g\n",
            "inside function g\n",
            "inside function g\n",
            "inside function g\n",
            "inside function g\n",
            "inside function g\n",
            "inside function g\n",
            "inside function g\n",
            "inside function g\n",
            "inside function g\n",
            "inside function g\n",
            "inside function g\n",
            "inside function g\n",
            "inside function g\n",
            "inside function g\n",
            "inside function g\n",
            "inside function g\n",
            "inside function g\n",
            "inside function g\n",
            "inside function g\n",
            "inside function g\n",
            "inside function g\n",
            "inside function g\n",
            "inside function g\n",
            "inside function g\n",
            "inside function g\n",
            "inside function g\n",
            "inside function g\n",
            "inside function g\n",
            "inside function g\n",
            "inside function g\n",
            "inside function g\n",
            "inside function g\n",
            "inside function g\n",
            "inside function g\n",
            "inside function g\n",
            "inside function g\n",
            "inside function g\n",
            "inside function g\n",
            "inside function g\n",
            "inside function g\n",
            "inside function g\n",
            "inside function g\n",
            "inside function g\n",
            "inside function g\n",
            "inside function g\n",
            "inside function g\n",
            "inside function g\n",
            "inside function g\n",
            "inside function g\n",
            "inside function g\n",
            "inside function g\n",
            "inside function g\n",
            "inside function g\n",
            "inside function g\n",
            "inside function g\n",
            "inside function g\n",
            "inside function g\n",
            "inside function g\n",
            "inside function g\n",
            "inside function g\n",
            "inside function g\n",
            "inside function g\n",
            "inside function g\n",
            "inside function g\n",
            "inside function g\n",
            "inside function g\n",
            "inside function g\n",
            "inside function g\n",
            "inside function g\n",
            "inside function g\n",
            "inside function g\n",
            "inside function g\n",
            "inside function g\n",
            "inside function g\n",
            "inside function g\n",
            "inside function g\n",
            "inside function g\n",
            "inside function g\n",
            "inside function g\n",
            "inside function g\n",
            "inside function g\n",
            "inside function g\n",
            "inside function g\n",
            "inside function g\n",
            "inside function g\n",
            "inside function g\n",
            "inside function g\n",
            "inside function g\n",
            "inside function g\n",
            "inside function g\n",
            "inside function g\n",
            "inside function g\n",
            "inside function g\n",
            "inside function g\n",
            "inside function g\n",
            "inside function g\n",
            "inside function g\n",
            "inside function g\n",
            "inside function g\n",
            "inside function g\n",
            "inside function g\n",
            "inside function g\n",
            "inside function g\n",
            "inside function g\n",
            "inside function g\n",
            "inside function g\n",
            "inside function g\n",
            "inside function g\n",
            "inside function g\n",
            "inside function g\n",
            "inside function g\n",
            "inside function g\n",
            "inside function g\n",
            "inside function g\n",
            "inside function g\n",
            "inside function g\n",
            "inside function g\n",
            "inside function g\n",
            "inside function g\n",
            "inside function g\n",
            "inside function g\n",
            "inside function g\n",
            "inside function g\n",
            "inside function g\n",
            "inside function g\n",
            "inside function g\n",
            "inside function g\n",
            "inside function g\n",
            "inside function g\n",
            "inside function g\n",
            "inside function g\n",
            "inside function g\n",
            "inside function g\n",
            "inside function g\n",
            "inside function g\n",
            "inside function g\n",
            "inside function g\n",
            "inside function g\n",
            "inside function g\n",
            "inside function g\n",
            "inside function g\n",
            "inside function g\n",
            "inside function g\n",
            "inside function g\n",
            "inside function g\n",
            "inside function g\n",
            "inside function g\n",
            "inside function g\n",
            "inside function g\n",
            "inside function g\n",
            "inside function g\n",
            "inside function g\n",
            "inside function g\n",
            "inside function g\n",
            "inside function g\n",
            "inside function g\n",
            "inside function g\n",
            "inside function g\n",
            "inside function g\n",
            "inside function g\n",
            "inside function g\n",
            "inside function g\n",
            "inside function g\n",
            "inside function g\n",
            "inside function g\n",
            "inside function g\n",
            "inside function g\n",
            "inside function g\n",
            "inside function g\n",
            "inside function g\n",
            "inside function g\n",
            "inside function g\n",
            "inside function g\n",
            "inside function g\n",
            "inside function g\n",
            "inside function g\n",
            "inside function g\n",
            "inside function g\n",
            "inside function g\n",
            "inside function g\n",
            "inside function g\n",
            "inside function g\n",
            "inside function g\n",
            "inside function g\n",
            "inside function g\n",
            "inside function g\n",
            "inside function g\n",
            "inside function g\n",
            "inside function g\n",
            "inside function g\n",
            "inside function g\n",
            "inside function g\n",
            "inside function g\n",
            "inside function g\n",
            "inside function g\n",
            "inside function g\n",
            "inside function g\n",
            "inside function g\n",
            "inside function g\n",
            "inside function g\n",
            "inside function g\n",
            "inside function g\n",
            "inside function g\n",
            "inside function g\n",
            "inside function g\n",
            "inside function g\n",
            "inside function g\n",
            "inside function g\n",
            "inside function g\n",
            "inside function g\n",
            "inside function g\n",
            "inside function g\n",
            "inside function g\n",
            "inside function g\n",
            "inside function g\n",
            "inside function g\n",
            "inside function g\n",
            "inside function g\n",
            "inside function g\n",
            "inside function g\n",
            "inside function g\n",
            "inside function g\n",
            "inside function g\n",
            "inside function g\n",
            "inside function g\n",
            "inside function g\n",
            "inside function g\n",
            "inside function g\n",
            "inside function g\n",
            "inside function g\n",
            "inside function g\n",
            "inside function g\n",
            "inside function g\n",
            "inside function g\n",
            "inside function g\n",
            "inside function g\n",
            "inside function g\n",
            "inside function g\n",
            "inside function g\n",
            "inside function g\n",
            "inside function g\n",
            "inside function g\n",
            "inside function g\n",
            "inside function g\n",
            "inside function g\n",
            "inside function g\n",
            "inside function g\n",
            "inside function g\n",
            "inside function g\n",
            "inside function g\n",
            "inside function g\n",
            "inside function g\n",
            "inside function g\n",
            "inside function g\n",
            "inside function g\n",
            "inside function g\n",
            "inside function g\n",
            "inside function g\n",
            "inside function g\n",
            "inside function g\n",
            "inside function g\n",
            "inside function g\n",
            "inside function g\n",
            "inside function g\n",
            "inside function g\n",
            "inside function g\n",
            "inside function g\n",
            "inside function g\n",
            "inside function g\n",
            "inside function g\n",
            "inside function g\n",
            "inside function g\n",
            "inside function g\n",
            "inside function g\n",
            "inside function g\n",
            "inside function g\n",
            "inside function g\n",
            "inside function g\n",
            "inside function g\n",
            "inside function g\n",
            "inside function g\n",
            "inside function g\n",
            "inside function g\n",
            "inside function g\n",
            "inside function g\n",
            "inside function g\n",
            "inside function g\n",
            "inside function g\n",
            "inside function g\n",
            "inside function g\n",
            "inside function g\n",
            "inside function g\n",
            "inside function g\n",
            "inside function g\n",
            "inside function g\n",
            "inside function g\n",
            "inside function g\n",
            "inside function g\n",
            "inside function g\n",
            "inside function g\n",
            "inside function g\n",
            "inside function g\n",
            "inside function g\n",
            "inside function g\n",
            "inside function g\n",
            "inside function g\n",
            "inside function g\n",
            "inside function g\n",
            "inside function g\n",
            "inside function g\n",
            "inside function g\n",
            "inside function g\n",
            "inside function g\n",
            "inside function g\n",
            "inside function g\n",
            "inside function g\n",
            "inside function g\n",
            "inside function g\n",
            "inside function g\n",
            "inside function g\n",
            "inside function g\n",
            "inside function g\n",
            "inside function g\n",
            "inside function g\n",
            "inside function g\n",
            "inside function g\n",
            "inside function g\n",
            "inside function g\n",
            "inside function g\n",
            "inside function g\n",
            "inside function g\n",
            "inside function g\n",
            "inside function g\n",
            "inside function g\n",
            "inside function g\n",
            "inside function g\n",
            "inside function g\n",
            "inside function g\n",
            "inside function g\n",
            "inside function g\n",
            "inside function g\n",
            "inside function g\n",
            "inside function g\n",
            "inside function g\n",
            "inside function g\n",
            "inside function g\n",
            "inside function g\n",
            "inside function g\n",
            "inside function g\n",
            "inside function g\n",
            "inside function g\n",
            "inside function g\n",
            "inside function g\n",
            "inside function g\n",
            "inside function g\n",
            "inside function g\n",
            "inside function g\n",
            "inside function g\n",
            "inside function g\n",
            "inside function g\n",
            "inside function g\n",
            "inside function g\n",
            "inside function g\n",
            "inside function g\n",
            "inside function g\n",
            "inside function g\n",
            "inside function g\n",
            "inside function g\n",
            "inside function g\n",
            "inside function g\n",
            "inside function g\n",
            "inside function g\n",
            "inside function g\n",
            "inside function g\n",
            "inside function g\n",
            "inside function g\n",
            "inside function g\n",
            "inside function g\n",
            "inside function g\n",
            "inside function g\n",
            "inside function g\n",
            "inside function g\n",
            "inside function g\n",
            "inside function g\n",
            "inside function g\n",
            "inside function g\n",
            "inside function g\n",
            "inside function g\n",
            "inside function g\n",
            "inside function g\n",
            "inside function g\n",
            "inside function g\n",
            "inside function g\n",
            "inside function g\n",
            "inside function g\n",
            "inside function g\n",
            "inside function g\n",
            "inside function g\n",
            "inside function g\n",
            "inside function g\n",
            "inside function g\n",
            "inside function g\n",
            "inside function g\n",
            "inside function g\n",
            "inside function g\n",
            "inside function g\n",
            "inside function g\n",
            "inside function g\n",
            "inside function g\n",
            "inside function g\n",
            "inside function g\n",
            "inside function g\n",
            "inside function g\n",
            "inside function g\n",
            "inside function g\n",
            "inside function g\n",
            "inside function g\n",
            "inside function g\n",
            "inside function g\n",
            "inside function g\n",
            "inside function g\n",
            "inside function g\n",
            "inside function g\n",
            "inside function g\n",
            "inside function g\n",
            "inside function g\n"
          ]
        },
        {
          "output_type": "error",
          "ename": "RecursionError",
          "evalue": "maximum recursion depth exceeded while calling a Python object",
          "traceback": [
            "\u001b[0;31m---------------------------------------------------------------------------\u001b[0m",
            "\u001b[0;31mRecursionError\u001b[0m                            Traceback (most recent call last)",
            "\u001b[0;32m<ipython-input-77-c43e34e6d405>\u001b[0m in \u001b[0;36m<cell line: 0>\u001b[0;34m()\u001b[0m\n\u001b[0;32m----> 1\u001b[0;31m \u001b[0mf\u001b[0m\u001b[0;34m(\u001b[0m\u001b[0;34m)\u001b[0m\u001b[0;34m\u001b[0m\u001b[0;34m\u001b[0m\u001b[0m\n\u001b[0m",
            "\u001b[0;32m<ipython-input-76-374a68ddd49e>\u001b[0m in \u001b[0;36mf\u001b[0;34m()\u001b[0m\n\u001b[1;32m      3\u001b[0m     \u001b[0mprint\u001b[0m\u001b[0;34m(\u001b[0m\u001b[0;34m'inside function g'\u001b[0m\u001b[0;34m)\u001b[0m\u001b[0;34m\u001b[0m\u001b[0;34m\u001b[0m\u001b[0m\n\u001b[1;32m      4\u001b[0m     \u001b[0mf\u001b[0m\u001b[0;34m(\u001b[0m\u001b[0;34m)\u001b[0m\u001b[0;34m\u001b[0m\u001b[0;34m\u001b[0m\u001b[0m\n\u001b[0;32m----> 5\u001b[0;31m   \u001b[0mg\u001b[0m\u001b[0;34m(\u001b[0m\u001b[0;34m)\u001b[0m\u001b[0;34m\u001b[0m\u001b[0;34m\u001b[0m\u001b[0m\n\u001b[0m\u001b[1;32m      6\u001b[0m   \u001b[0mprint\u001b[0m\u001b[0;34m(\u001b[0m\u001b[0;34m'inside function f'\u001b[0m\u001b[0;34m)\u001b[0m\u001b[0;34m\u001b[0m\u001b[0;34m\u001b[0m\u001b[0m\n",
            "\u001b[0;32m<ipython-input-76-374a68ddd49e>\u001b[0m in \u001b[0;36mg\u001b[0;34m()\u001b[0m\n\u001b[1;32m      2\u001b[0m   \u001b[0;32mdef\u001b[0m \u001b[0mg\u001b[0m\u001b[0;34m(\u001b[0m\u001b[0;34m)\u001b[0m\u001b[0;34m:\u001b[0m\u001b[0;34m\u001b[0m\u001b[0;34m\u001b[0m\u001b[0m\n\u001b[1;32m      3\u001b[0m     \u001b[0mprint\u001b[0m\u001b[0;34m(\u001b[0m\u001b[0;34m'inside function g'\u001b[0m\u001b[0;34m)\u001b[0m\u001b[0;34m\u001b[0m\u001b[0;34m\u001b[0m\u001b[0m\n\u001b[0;32m----> 4\u001b[0;31m     \u001b[0mf\u001b[0m\u001b[0;34m(\u001b[0m\u001b[0;34m)\u001b[0m\u001b[0;34m\u001b[0m\u001b[0;34m\u001b[0m\u001b[0m\n\u001b[0m\u001b[1;32m      5\u001b[0m   \u001b[0mg\u001b[0m\u001b[0;34m(\u001b[0m\u001b[0;34m)\u001b[0m\u001b[0;34m\u001b[0m\u001b[0;34m\u001b[0m\u001b[0m\n\u001b[1;32m      6\u001b[0m   \u001b[0mprint\u001b[0m\u001b[0;34m(\u001b[0m\u001b[0;34m'inside function f'\u001b[0m\u001b[0;34m)\u001b[0m\u001b[0;34m\u001b[0m\u001b[0;34m\u001b[0m\u001b[0m\n",
            "... last 2 frames repeated, from the frame below ...\n",
            "\u001b[0;32m<ipython-input-76-374a68ddd49e>\u001b[0m in \u001b[0;36mf\u001b[0;34m()\u001b[0m\n\u001b[1;32m      3\u001b[0m     \u001b[0mprint\u001b[0m\u001b[0;34m(\u001b[0m\u001b[0;34m'inside function g'\u001b[0m\u001b[0;34m)\u001b[0m\u001b[0;34m\u001b[0m\u001b[0;34m\u001b[0m\u001b[0m\n\u001b[1;32m      4\u001b[0m     \u001b[0mf\u001b[0m\u001b[0;34m(\u001b[0m\u001b[0;34m)\u001b[0m\u001b[0;34m\u001b[0m\u001b[0;34m\u001b[0m\u001b[0m\n\u001b[0;32m----> 5\u001b[0;31m   \u001b[0mg\u001b[0m\u001b[0;34m(\u001b[0m\u001b[0;34m)\u001b[0m\u001b[0;34m\u001b[0m\u001b[0;34m\u001b[0m\u001b[0m\n\u001b[0m\u001b[1;32m      6\u001b[0m   \u001b[0mprint\u001b[0m\u001b[0;34m(\u001b[0m\u001b[0;34m'inside function f'\u001b[0m\u001b[0;34m)\u001b[0m\u001b[0;34m\u001b[0m\u001b[0;34m\u001b[0m\u001b[0m\n",
            "\u001b[0;31mRecursionError\u001b[0m: maximum recursion depth exceeded while calling a Python object"
          ]
        }
      ]
    },
    {
      "cell_type": "code",
      "source": [
        "def g(x):\n",
        "    def h():\n",
        "        x = 'abc'\n",
        "    x = x + 1\n",
        "    print('in g(x): x =', x)\n",
        "    h()\n",
        "    return x\n",
        "\n",
        "x = 3\n",
        "z = g(x)"
      ],
      "metadata": {
        "colab": {
          "base_uri": "https://localhost:8080/"
        },
        "id": "R-zfsFde0J4c",
        "outputId": "c8f9ac93-8b42-478b-fab4-0aaf2b36cc7a"
      },
      "execution_count": 78,
      "outputs": [
        {
          "output_type": "stream",
          "name": "stdout",
          "text": [
            "in g(x): x = 4\n"
          ]
        }
      ]
    },
    {
      "cell_type": "code",
      "source": [
        "def g(x):\n",
        "    def h(x):\n",
        "        x = x+1\n",
        "        print(\"in h(x): x = \", x)\n",
        "    x = x + 1\n",
        "    print('in g(x): x = ', x)\n",
        "    h(x)\n",
        "    return x\n",
        "\n",
        "x = 3\n",
        "z = g(x)\n",
        "print('in main program scope: x = ', x)\n",
        "print('in main program scope: z = ', z)"
      ],
      "metadata": {
        "colab": {
          "base_uri": "https://localhost:8080/"
        },
        "id": "lif50WC20J60",
        "outputId": "3cb40324-0a18-4b5d-c23a-9341cbc94d6b"
      },
      "execution_count": 79,
      "outputs": [
        {
          "output_type": "stream",
          "name": "stdout",
          "text": [
            "in g(x): x =  4\n",
            "in h(x): x =  5\n",
            "in main program scope: x =  3\n",
            "in main program scope: z =  4\n"
          ]
        }
      ]
    },
    {
      "cell_type": "code",
      "source": [
        "#Functions are 1st class citizens"
      ],
      "metadata": {
        "id": "D9T0gpPb0J9T"
      },
      "execution_count": null,
      "outputs": []
    },
    {
      "cell_type": "code",
      "source": [
        "# type and id\n",
        "def square(num):\n",
        "  return num**2\n",
        "\n",
        "type(square)\n",
        "\n",
        "id(square)"
      ],
      "metadata": {
        "colab": {
          "base_uri": "https://localhost:8080/"
        },
        "id": "6OmAn6-MDUlq",
        "outputId": "71b4492e-155e-4628-bf6d-5f000005d203"
      },
      "execution_count": 86,
      "outputs": [
        {
          "output_type": "execute_result",
          "data": {
            "text/plain": [
              "132743536728384"
            ]
          },
          "metadata": {},
          "execution_count": 86
        }
      ]
    },
    {
      "cell_type": "code",
      "source": [
        "# reassign\n",
        "x = square\n",
        "id(x)\n",
        "x(3)"
      ],
      "metadata": {
        "colab": {
          "base_uri": "https://localhost:8080/"
        },
        "id": "-gb85YwpDUoy",
        "outputId": "e628b014-b688-4f2b-df1a-40f8ed5fa63f"
      },
      "execution_count": 87,
      "outputs": [
        {
          "output_type": "execute_result",
          "data": {
            "text/plain": [
              "9"
            ]
          },
          "metadata": {},
          "execution_count": 87
        }
      ]
    },
    {
      "cell_type": "code",
      "source": [
        "a = 2\n",
        "b = a\n",
        "b"
      ],
      "metadata": {
        "colab": {
          "base_uri": "https://localhost:8080/"
        },
        "id": "fTnzZYx9DUq3",
        "outputId": "d4d0bb59-1c9f-4c0d-aa0c-e2407507433f"
      },
      "execution_count": 82,
      "outputs": [
        {
          "output_type": "execute_result",
          "data": {
            "text/plain": [
              "2"
            ]
          },
          "metadata": {},
          "execution_count": 82
        }
      ]
    },
    {
      "cell_type": "code",
      "source": [
        "# deleting a function\n",
        "del square"
      ],
      "metadata": {
        "id": "UUvSI9wSDUwa"
      },
      "execution_count": 83,
      "outputs": []
    },
    {
      "cell_type": "code",
      "source": [
        "square(3)"
      ],
      "metadata": {
        "colab": {
          "base_uri": "https://localhost:8080/",
          "height": 141
        },
        "id": "TOClTnNJDUzm",
        "outputId": "37750247-ac56-43b4-c881-eeeaa9cbe190"
      },
      "execution_count": 45,
      "outputs": [
        {
          "output_type": "error",
          "ename": "NameError",
          "evalue": "name 'square' is not defined",
          "traceback": [
            "\u001b[0;31m---------------------------------------------------------------------------\u001b[0m",
            "\u001b[0;31mNameError\u001b[0m                                 Traceback (most recent call last)",
            "\u001b[0;32m<ipython-input-45-2cfd8bba3a88>\u001b[0m in \u001b[0;36m<cell line: 0>\u001b[0;34m()\u001b[0m\n\u001b[0;32m----> 1\u001b[0;31m \u001b[0msquare\u001b[0m\u001b[0;34m(\u001b[0m\u001b[0;36m3\u001b[0m\u001b[0;34m)\u001b[0m\u001b[0;34m\u001b[0m\u001b[0;34m\u001b[0m\u001b[0m\n\u001b[0m",
            "\u001b[0;31mNameError\u001b[0m: name 'square' is not defined"
          ]
        }
      ]
    },
    {
      "cell_type": "code",
      "source": [
        "# storing\n",
        "L = [1,2,3,4,square]\n",
        "L[-1](3)"
      ],
      "metadata": {
        "colab": {
          "base_uri": "https://localhost:8080/"
        },
        "id": "VIa1VU8hDU14",
        "outputId": "b4d2a11a-82bf-4c1c-a5e6-3d1956353e4c"
      },
      "execution_count": 88,
      "outputs": [
        {
          "output_type": "execute_result",
          "data": {
            "text/plain": [
              "9"
            ]
          },
          "metadata": {},
          "execution_count": 88
        }
      ]
    },
    {
      "cell_type": "code",
      "source": [
        "s = {square}\n",
        "s"
      ],
      "metadata": {
        "colab": {
          "base_uri": "https://localhost:8080/"
        },
        "id": "1mC0luVBDU4F",
        "outputId": "78b5cc5b-b7b1-4163-d7e6-977a746f2e0f"
      },
      "execution_count": 89,
      "outputs": [
        {
          "output_type": "execute_result",
          "data": {
            "text/plain": [
              "{<function __main__.square(num)>}"
            ]
          },
          "metadata": {},
          "execution_count": 89
        }
      ]
    },
    {
      "cell_type": "code",
      "source": [
        "# returning a function\n"
      ],
      "metadata": {
        "id": "K5Z7gwZe0KAB"
      },
      "execution_count": null,
      "outputs": []
    },
    {
      "cell_type": "code",
      "source": [
        "def f():\n",
        "    def x(a, b):\n",
        "        return a+b\n",
        "    return x\n",
        "\n",
        "val = f()(3,4)\n",
        "print(val)"
      ],
      "metadata": {
        "colab": {
          "base_uri": "https://localhost:8080/"
        },
        "id": "qgwTPLC_Ew4f",
        "outputId": "731e9c0d-f6d2-4012-bc6b-82248756ca37"
      },
      "execution_count": 90,
      "outputs": [
        {
          "output_type": "stream",
          "name": "stdout",
          "text": [
            "7\n"
          ]
        }
      ]
    },
    {
      "cell_type": "code",
      "source": [
        "# function as argument"
      ],
      "metadata": {
        "id": "-cTOq76lEw7w"
      },
      "execution_count": null,
      "outputs": []
    },
    {
      "cell_type": "code",
      "source": [
        "def func_a():\n",
        "    print('inside func_a')\n",
        "\n",
        "def func_b(z):\n",
        "    print('inside func_c')\n",
        "    return z()\n",
        "\n",
        "print(func_b(func_a))"
      ],
      "metadata": {
        "colab": {
          "base_uri": "https://localhost:8080/"
        },
        "id": "kCtFJxGZExDd",
        "outputId": "5c0650d6-bf8a-4b0c-92bc-07b02bc4c89f"
      },
      "execution_count": 91,
      "outputs": [
        {
          "output_type": "stream",
          "name": "stdout",
          "text": [
            "inside func_c\n",
            "inside func_a\n",
            "None\n"
          ]
        }
      ]
    },
    {
      "cell_type": "code",
      "source": [
        "#Benefits of using a Function function action act as datatype\n",
        "#Code Modularity login\n",
        "#Code Readibility coder login sign up write code\n",
        "#Code Reusability\n",
        "#Lambda Function\n",
        "#A lambda function is a small anonymous function. a+b is expression\n",
        "\n",
        "#A lambda function can take any number of arguments, but can only have one expression.\n",
        "\n"
      ],
      "metadata": {
        "id": "cVv4agL3ExLi"
      },
      "execution_count": null,
      "outputs": []
    },
    {
      "cell_type": "code",
      "source": [
        "# x -> x^2\n",
        "lambda x:x**2"
      ],
      "metadata": {
        "colab": {
          "base_uri": "https://localhost:8080/"
        },
        "id": "mHQLnKc8ExNt",
        "outputId": "abc93f11-4378-417f-d67d-ee86c0916b94"
      },
      "execution_count": 92,
      "outputs": [
        {
          "output_type": "execute_result",
          "data": {
            "text/plain": [
              "<function __main__.<lambda>(x)>"
            ]
          },
          "metadata": {},
          "execution_count": 92
        }
      ]
    },
    {
      "cell_type": "code",
      "source": [
        "# x,y -> x+y\n",
        "a = lambda x,y:x+y\n",
        "a(5,2)"
      ],
      "metadata": {
        "colab": {
          "base_uri": "https://localhost:8080/"
        },
        "id": "Q8MBqH9mExQf",
        "outputId": "f7bf4552-790b-44f2-f66c-f46672597154"
      },
      "execution_count": 93,
      "outputs": [
        {
          "output_type": "execute_result",
          "data": {
            "text/plain": [
              "7"
            ]
          },
          "metadata": {},
          "execution_count": 93
        }
      ]
    },
    {
      "cell_type": "code",
      "source": [
        "#Diff between lambda vs Normal Function\n",
        "#No name\n",
        "#lambda has no return value(infact,returns a function)\n",
        "#lambda is written in 1 line\n",
        "#not reusable\n",
        "#3Then why use lambda functions? higher order functions\n",
        "#3They are used with HOF"
      ],
      "metadata": {
        "id": "80po7453ExS9"
      },
      "execution_count": null,
      "outputs": []
    },
    {
      "cell_type": "code",
      "source": [
        "# check if a string has 'a'\n",
        "a = lambda s:'a' in s\n",
        "a('hello')"
      ],
      "metadata": {
        "colab": {
          "base_uri": "https://localhost:8080/"
        },
        "id": "B2VHi8QkExVi",
        "outputId": "438cef76-61a8-4993-85dc-e554a02a9103"
      },
      "execution_count": 94,
      "outputs": [
        {
          "output_type": "execute_result",
          "data": {
            "text/plain": [
              "False"
            ]
          },
          "metadata": {},
          "execution_count": 94
        }
      ]
    },
    {
      "cell_type": "code",
      "source": [
        "# odd or even\n",
        "a = lambda x:'even' if x%2 == 0 else 'odd'\n",
        "a(6)"
      ],
      "metadata": {
        "colab": {
          "base_uri": "https://localhost:8080/",
          "height": 36
        },
        "id": "TbzfCgZnExYD",
        "outputId": "6a1a6508-3a16-4ca3-99dd-b255bc5852f9"
      },
      "execution_count": 95,
      "outputs": [
        {
          "output_type": "execute_result",
          "data": {
            "text/plain": [
              "'even'"
            ],
            "application/vnd.google.colaboratory.intrinsic+json": {
              "type": "string"
            }
          },
          "metadata": {},
          "execution_count": 95
        }
      ]
    },
    {
      "cell_type": "code",
      "source": [
        "#Higher Order Functions khud ek function ko return kre useful function"
      ],
      "metadata": {
        "id": "qceGj05kExap"
      },
      "execution_count": null,
      "outputs": []
    },
    {
      "cell_type": "code",
      "source": [
        "# Example\n",
        "\n",
        "def square(x):\n",
        "  return x**2\n",
        "\n",
        "def cube(x):\n",
        "  return x**3\n",
        "\n",
        "# HOF\n",
        "def transform(f,L):\n",
        "  output = []\n",
        "  for i in L:\n",
        "    output.append(f(i))\n",
        "\n",
        "  print(output)\n",
        "\n",
        "L = [1,2,3,4,5]\n",
        "\n",
        "transform(lambda x:x**3,L)"
      ],
      "metadata": {
        "colab": {
          "base_uri": "https://localhost:8080/"
        },
        "id": "PPfv6Mt2ExdW",
        "outputId": "583d265c-cfff-4f15-f766-f874eebf6322"
      },
      "execution_count": 96,
      "outputs": [
        {
          "output_type": "stream",
          "name": "stdout",
          "text": [
            "[1, 8, 27, 64, 125]\n"
          ]
        }
      ]
    },
    {
      "cell_type": "code",
      "source": [
        "#Map"
      ],
      "metadata": {
        "id": "WeT92-SSExf6"
      },
      "execution_count": null,
      "outputs": []
    },
    {
      "cell_type": "code",
      "source": [
        "# square the items of a list\n",
        "list(map(lambda x:x**2,[1,2,3,4,5]))"
      ],
      "metadata": {
        "colab": {
          "base_uri": "https://localhost:8080/"
        },
        "id": "_wKl1i6eExio",
        "outputId": "0736d1b8-dabc-4d2f-c0ad-b50408de8fbb"
      },
      "execution_count": 97,
      "outputs": [
        {
          "output_type": "execute_result",
          "data": {
            "text/plain": [
              "[1, 4, 9, 16, 25]"
            ]
          },
          "metadata": {},
          "execution_count": 97
        }
      ]
    },
    {
      "cell_type": "code",
      "source": [
        "# odd/even labelling of list items\n",
        "L = [1,2,3,4,5]\n",
        "list(map(lambda x:'even' if x%2 == 0 else 'odd',L))"
      ],
      "metadata": {
        "colab": {
          "base_uri": "https://localhost:8080/"
        },
        "id": "UPM7NRd3Exlv",
        "outputId": "b2aceed0-25a5-4429-ebb6-51eb888dcd66"
      },
      "execution_count": 98,
      "outputs": [
        {
          "output_type": "execute_result",
          "data": {
            "text/plain": [
              "['odd', 'even', 'odd', 'even', 'odd']"
            ]
          },
          "metadata": {},
          "execution_count": 98
        }
      ]
    },
    {
      "cell_type": "code",
      "source": [
        "# fetch names from a list of dict\n",
        "\n",
        "users = [\n",
        "    {\n",
        "        'name':'Rahul',\n",
        "        'age':45,\n",
        "        'gender':'male'\n",
        "    },\n",
        "    {\n",
        "        'name':'Nitish',\n",
        "        'age':33,\n",
        "        'gender':'male'\n",
        "    },\n",
        "    {\n",
        "        'name':'Ankita',\n",
        "        'age':50,\n",
        "        'gender':'female'\n",
        "    }\n",
        "]\n",
        "\n",
        "list(map(lambda users:users['gender'],users)) #map need input another function"
      ],
      "metadata": {
        "colab": {
          "base_uri": "https://localhost:8080/"
        },
        "id": "RTsM3AsUHakR",
        "outputId": "cccbe64c-79e6-4efc-acdf-7016d69a6cb2"
      },
      "execution_count": 99,
      "outputs": [
        {
          "output_type": "execute_result",
          "data": {
            "text/plain": [
              "['male', 'male', 'female']"
            ]
          },
          "metadata": {},
          "execution_count": 99
        }
      ]
    },
    {
      "cell_type": "code",
      "source": [
        "#Filter"
      ],
      "metadata": {
        "id": "TuXryYHjHask"
      },
      "execution_count": null,
      "outputs": []
    },
    {
      "cell_type": "code",
      "source": [
        "# numbers greater than 5\n",
        "L = [3,4,5,6,7]\n",
        "\n",
        "list(filter(lambda x:x>5,L))"
      ],
      "metadata": {
        "colab": {
          "base_uri": "https://localhost:8080/"
        },
        "id": "YkQDmRkGHauw",
        "outputId": "493cc282-53b8-438c-b4dd-e6096aa8e1d9"
      },
      "execution_count": 48,
      "outputs": [
        {
          "output_type": "execute_result",
          "data": {
            "text/plain": [
              "[6, 7]"
            ]
          },
          "metadata": {},
          "execution_count": 48
        }
      ]
    },
    {
      "cell_type": "code",
      "source": [
        "# fetch fruits starting with 'a'\n",
        "fruits = ['apple','guava','cherry'] #filter all remove others values keep extracted value\n",
        "\n",
        "list(filter(lambda x:x.startswith('a'),fruits))"
      ],
      "metadata": {
        "colab": {
          "base_uri": "https://localhost:8080/"
        },
        "id": "I-3hOCatHaws",
        "outputId": "4ac39a96-6a69-4f6d-ad24-fa6cb210c4d7"
      },
      "execution_count": 100,
      "outputs": [
        {
          "output_type": "execute_result",
          "data": {
            "text/plain": [
              "['apple']"
            ]
          },
          "metadata": {},
          "execution_count": 100
        }
      ]
    },
    {
      "cell_type": "code",
      "source": [
        "#Reduce not default functions"
      ],
      "metadata": {
        "id": "k2pE4WcEHazH"
      },
      "execution_count": null,
      "outputs": []
    },
    {
      "cell_type": "code",
      "source": [
        "# sum of all item\n",
        "import functools\n",
        "\n",
        "functools.reduce(lambda x,y:x+y,[1,2,3,4,5])"
      ],
      "metadata": {
        "colab": {
          "base_uri": "https://localhost:8080/"
        },
        "id": "IfVG2N2eHa1h",
        "outputId": "9bf8f5fa-0377-4d2a-cf91-db0ff8ac5418"
      },
      "execution_count": 101,
      "outputs": [
        {
          "output_type": "execute_result",
          "data": {
            "text/plain": [
              "15"
            ]
          },
          "metadata": {},
          "execution_count": 101
        }
      ]
    },
    {
      "cell_type": "code",
      "source": [
        "# find min\n",
        "functools.reduce(lambda x,y:x if x<y else y,[23,11,45,10,1])"
      ],
      "metadata": {
        "colab": {
          "base_uri": "https://localhost:8080/"
        },
        "id": "61th4FCsHa4c",
        "outputId": "c5f0e3b6-ddfd-4846-b918-c0eb9fe148b5"
      },
      "execution_count": 102,
      "outputs": [
        {
          "output_type": "execute_result",
          "data": {
            "text/plain": [
              "1"
            ]
          },
          "metadata": {},
          "execution_count": 102
        }
      ]
    }
  ]
}