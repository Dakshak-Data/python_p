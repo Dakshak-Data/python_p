{
  "nbformat": 4,
  "nbformat_minor": 0,
  "metadata": {
    "colab": {
      "provenance": [],
      "authorship_tag": "ABX9TyPMfRSRk65B8JleIequcgbv",
      "include_colab_link": true
    },
    "kernelspec": {
      "name": "python3",
      "display_name": "Python 3"
    },
    "language_info": {
      "name": "python"
    }
  },
  "cells": [
    {
      "cell_type": "markdown",
      "metadata": {
        "id": "view-in-github",
        "colab_type": "text"
      },
      "source": [
        "<a href=\"https://colab.research.google.com/github/Dakshak-Data/python_p/blob/main/python_oop_3_1.ipynb\" target=\"_parent\"><img src=\"https://colab.research.google.com/assets/colab-badge.svg\" alt=\"Open In Colab\"/></a>"
      ]
    },
    {
      "cell_type": "code",
      "execution_count": 1,
      "metadata": {
        "colab": {
          "base_uri": "https://localhost:8080/",
          "height": 176
        },
        "id": "V8--7JKIBOCu",
        "outputId": "56b2d7c7-5313-41c4-8757-d32ee455be35"
      },
      "outputs": [
        {
          "output_type": "error",
          "ename": "AttributeError",
          "evalue": "'list' object has no attribute 'upper'",
          "traceback": [
            "\u001b[0;31m---------------------------------------------------------------------------\u001b[0m",
            "\u001b[0;31mAttributeError\u001b[0m                            Traceback (most recent call last)",
            "\u001b[0;32m<ipython-input-1-af1f83522ab7>\u001b[0m in \u001b[0;36m<cell line: 0>\u001b[0;34m()\u001b[0m\n\u001b[1;32m      1\u001b[0m \u001b[0mL\u001b[0m \u001b[0;34m=\u001b[0m \u001b[0;34m[\u001b[0m\u001b[0;36m1\u001b[0m\u001b[0;34m,\u001b[0m\u001b[0;36m2\u001b[0m\u001b[0;34m,\u001b[0m\u001b[0;36m3\u001b[0m\u001b[0;34m]\u001b[0m\u001b[0;34m\u001b[0m\u001b[0;34m\u001b[0m\u001b[0m\n\u001b[1;32m      2\u001b[0m \u001b[0;34m\u001b[0m\u001b[0m\n\u001b[0;32m----> 3\u001b[0;31m \u001b[0mL\u001b[0m\u001b[0;34m.\u001b[0m\u001b[0mupper\u001b[0m\u001b[0;34m(\u001b[0m\u001b[0;34m)\u001b[0m\u001b[0;34m\u001b[0m\u001b[0;34m\u001b[0m\u001b[0m\n\u001b[0m",
            "\u001b[0;31mAttributeError\u001b[0m: 'list' object has no attribute 'upper'"
          ]
        }
      ],
      "source": [
        "L = [1,2,3]\n",
        "\n",
        "L.upper() #there is no upper in list"
      ]
    },
    {
      "cell_type": "code",
      "source": [
        "s = 'hello'\n",
        "s.append('x')L = [1,2,3]\n",
        "print(type(L))"
      ],
      "metadata": {
        "colab": {
          "base_uri": "https://localhost:8080/",
          "height": 106
        },
        "id": "mMv8CDiRBRM7",
        "outputId": "63b6f82f-41cf-48cb-89a8-846bb0a70ea6"
      },
      "execution_count": 2,
      "outputs": [
        {
          "output_type": "error",
          "ename": "SyntaxError",
          "evalue": "invalid syntax (<ipython-input-2-78731c4b0476>, line 2)",
          "traceback": [
            "\u001b[0;36m  File \u001b[0;32m\"<ipython-input-2-78731c4b0476>\"\u001b[0;36m, line \u001b[0;32m2\u001b[0m\n\u001b[0;31m    s.append('x')L = [1,2,3]\u001b[0m\n\u001b[0m                 ^\u001b[0m\n\u001b[0;31mSyntaxError\u001b[0m\u001b[0;31m:\u001b[0m invalid syntax\n"
          ]
        }
      ]
    },
    {
      "cell_type": "code",
      "source": [
        "s = [1,2,3]"
      ],
      "metadata": {
        "id": "XTrIbHLxBRPu"
      },
      "execution_count": 3,
      "outputs": []
    },
    {
      "cell_type": "code",
      "source": [
        "# syntax to create an object\n",
        "\n",
        "#objectname = classname()"
      ],
      "metadata": {
        "id": "1IO-uZqwBRSQ"
      },
      "execution_count": 4,
      "outputs": []
    },
    {
      "cell_type": "code",
      "source": [
        "# object literal\n",
        "L = [1,2,3]"
      ],
      "metadata": {
        "id": "SX7r1IaKBRU5"
      },
      "execution_count": 5,
      "outputs": []
    },
    {
      "cell_type": "code",
      "source": [
        "L = list()\n",
        "L"
      ],
      "metadata": {
        "colab": {
          "base_uri": "https://localhost:8080/"
        },
        "id": "-mzXpNgLBRXf",
        "outputId": "dac1c967-d99a-4d60-9f28-3673e7424272"
      },
      "execution_count": 6,
      "outputs": [
        {
          "output_type": "execute_result",
          "data": {
            "text/plain": [
              "[]"
            ]
          },
          "metadata": {},
          "execution_count": 6
        }
      ]
    },
    {
      "cell_type": "code",
      "source": [
        "s = str()\n",
        "s"
      ],
      "metadata": {
        "colab": {
          "base_uri": "https://localhost:8080/",
          "height": 36
        },
        "id": "K1xvZhCVBRZ9",
        "outputId": "cfca9e60-a22a-4a98-c393-b321973d44b4"
      },
      "execution_count": 7,
      "outputs": [
        {
          "output_type": "execute_result",
          "data": {
            "text/plain": [
              "''"
            ],
            "application/vnd.google.colaboratory.intrinsic+json": {
              "type": "string"
            }
          },
          "metadata": {},
          "execution_count": 7
        }
      ]
    },
    {
      "cell_type": "code",
      "source": [
        "# Pascal Case\n",
        "\n",
        "HelloWorld"
      ],
      "metadata": {
        "colab": {
          "base_uri": "https://localhost:8080/",
          "height": 176
        },
        "id": "-znUGAGMBRcZ",
        "outputId": "e107706c-e410-4e18-ef0f-90ad332e9381"
      },
      "execution_count": 8,
      "outputs": [
        {
          "output_type": "error",
          "ename": "NameError",
          "evalue": "name 'HelloWorld' is not defined",
          "traceback": [
            "\u001b[0;31m---------------------------------------------------------------------------\u001b[0m",
            "\u001b[0;31mNameError\u001b[0m                                 Traceback (most recent call last)",
            "\u001b[0;32m<ipython-input-8-f7dc3b5e4b44>\u001b[0m in \u001b[0;36m<cell line: 0>\u001b[0;34m()\u001b[0m\n\u001b[1;32m      1\u001b[0m \u001b[0;31m# Pascal Case\u001b[0m\u001b[0;34m\u001b[0m\u001b[0;34m\u001b[0m\u001b[0m\n\u001b[1;32m      2\u001b[0m \u001b[0;34m\u001b[0m\u001b[0m\n\u001b[0;32m----> 3\u001b[0;31m \u001b[0mHelloWorld\u001b[0m\u001b[0;34m\u001b[0m\u001b[0;34m\u001b[0m\u001b[0m\n\u001b[0m",
            "\u001b[0;31mNameError\u001b[0m: name 'HelloWorld' is not defined"
          ]
        }
      ]
    },
    {
      "cell_type": "code",
      "source": [
        "class Atm:\n",
        "\n",
        "  # constructor(special function)->superpower ->\n",
        "  def __init__(self):\n",
        "    print(id(self))\n",
        "    self.pin = ''\n",
        "    self.balance = 0\n",
        "    self.menu()\n",
        "\n",
        "  def menu(self):\n",
        "    user_input = input(\"\"\"\n",
        "    Hi how can I help you?\n",
        "    1. Press 1 to create pin\n",
        "    2. Press 2 to change pin\n",
        "    3. Press 3 to check balance\n",
        "    4. Press 4 to withdraw\n",
        "    5. Anything else to exit\n",
        "    \"\"\")\n",
        "\n",
        "    if user_input == '1':\n",
        "      self.create_pin()\n",
        "    elif user_input == '2':\n",
        "      self.change_pin()\n",
        "    elif user_input == '3':\n",
        "      self.check_balance()\n",
        "    elif user_input == '4':\n",
        "      self.withdraw()\n",
        "    else:\n",
        "      exit()\n",
        "\n",
        "  def create_pin(self):\n",
        "    user_pin = input('enter your pin')\n",
        "    self.pin = user_pin\n",
        "\n",
        "    user_balance = int(input('enter balance'))\n",
        "    self.balance = user_balance\n",
        "\n",
        "    print('pin created successfully')\n",
        "    self.menu()\n",
        "\n",
        "  def change_pin():\n",
        "    old_pin = input('enter old pin')\n",
        "\n",
        "    if old_pin == self.pin:\n",
        "      # let him change the pin\n",
        "      new_pin = input('enter new pin')\n",
        "      self.pin = new_pin\n",
        "      print('pin change successful')\n",
        "      self.menu()\n",
        "    else:\n",
        "      print('nai karne de sakta re baba')\n",
        "      self.menu()\n",
        "\n",
        "  def check_balance(self):\n",
        "    user_pin = input('enter your pin')\n",
        "    if user_pin == self.pin:\n",
        "      print('your balance is ',self.balance)\n",
        "    else:\n",
        "      print('chal nikal yahan se')\n",
        "\n",
        "  def withdraw(self):\n",
        "    user_pin = input('enter the pin')\n",
        "    if user_pin == self.pin:\n",
        "      # allow to withdraw\n",
        "      amount = int(input('enter the amount'))\n",
        "      if amount <= self.balance:\n",
        "        self.balance = self.balance - amount\n",
        "        print('withdrawl successful.balance is',self.balance)\n",
        "      else:\n",
        "        print('abe garib')\n",
        "    else:\n",
        "      print('sale chor')\n",
        "    self.menu()\n",
        "\n",
        "\n"
      ],
      "metadata": {
        "id": "PWjTgLJuBRfG"
      },
      "execution_count": 3,
      "outputs": []
    },
    {
      "cell_type": "code",
      "source": [
        "obj1 = Atm()"
      ],
      "metadata": {
        "colab": {
          "base_uri": "https://localhost:8080/"
        },
        "id": "AzXD1bbSBRhr",
        "outputId": "b06cd789-fad5-49f8-e327-5043ef5b28f0"
      },
      "execution_count": 4,
      "outputs": [
        {
          "output_type": "stream",
          "name": "stdout",
          "text": [
            "136552769977296\n",
            "\n",
            "    Hi how can I help you?\n",
            "    1. Press 1 to create pin\n",
            "    2. Press 2 to change pin\n",
            "    3. Press 3 to check balance\n",
            "    4. Press 4 to withdraw\n",
            "    5. Anything else to exit\n",
            "    1\n",
            "enter your pin234\n",
            "enter balance10000\n",
            "pin created successfully\n",
            "\n",
            "    Hi how can I help you?\n",
            "    1. Press 1 to create pin\n",
            "    2. Press 2 to change pin\n",
            "    3. Press 3 to check balance\n",
            "    4. Press 4 to withdraw\n",
            "    5. Anything else to exit\n",
            "    3\n",
            "enter your pin234\n",
            "your balance is  10000\n"
          ]
        }
      ]
    },
    {
      "cell_type": "code",
      "source": [
        "id(obj1)"
      ],
      "metadata": {
        "colab": {
          "base_uri": "https://localhost:8080/"
        },
        "id": "z2aEObHqBRk0",
        "outputId": "d1a1d2a8-d7fd-476f-ea64-9619f1f34dda"
      },
      "execution_count": 11,
      "outputs": [
        {
          "output_type": "execute_result",
          "data": {
            "text/plain": [
              "137826435720016"
            ]
          },
          "metadata": {},
          "execution_count": 11
        }
      ]
    },
    {
      "cell_type": "code",
      "source": [
        "obj2 = Atm()"
      ],
      "metadata": {
        "colab": {
          "base_uri": "https://localhost:8080/"
        },
        "id": "fODGQ2UrBRn6",
        "outputId": "45690a57-f46d-4f74-909b-1df685fd29a9"
      },
      "execution_count": 12,
      "outputs": [
        {
          "output_type": "stream",
          "name": "stdout",
          "text": [
            "137826422018256\n"
          ]
        }
      ]
    },
    {
      "cell_type": "code",
      "source": [
        "id(obj2)"
      ],
      "metadata": {
        "colab": {
          "base_uri": "https://localhost:8080/"
        },
        "id": "jo2DGJ1SBRrD",
        "outputId": "a23ba8ba-2908-48a2-f9bf-982ec7d27b35"
      },
      "execution_count": 13,
      "outputs": [
        {
          "output_type": "execute_result",
          "data": {
            "text/plain": [
              "137826422018256"
            ]
          },
          "metadata": {},
          "execution_count": 13
        }
      ]
    },
    {
      "cell_type": "code",
      "source": [
        "class Temp:\n",
        "\n",
        "  def __init__(self):\n",
        "    print('hello')\n",
        "\n",
        "obj = Temp()"
      ],
      "metadata": {
        "colab": {
          "base_uri": "https://localhost:8080/"
        },
        "id": "CbdBqowwBRw0",
        "outputId": "30500d97-aa5d-4495-98d1-ba60fbcff718"
      },
      "execution_count": 14,
      "outputs": [
        {
          "output_type": "stream",
          "name": "stdout",
          "text": [
            "hello\n"
          ]
        }
      ]
    },
    {
      "cell_type": "code",
      "source": [
        "3/4*1/2"
      ],
      "metadata": {
        "colab": {
          "base_uri": "https://localhost:8080/"
        },
        "id": "_dAlb1zeBR0b",
        "outputId": "b5163bf9-6f17-4aa0-a3a6-95a42de078cd"
      },
      "execution_count": 15,
      "outputs": [
        {
          "output_type": "execute_result",
          "data": {
            "text/plain": [
              "0.375"
            ]
          },
          "metadata": {},
          "execution_count": 15
        }
      ]
    },
    {
      "cell_type": "code",
      "source": [
        " class Fraction:\n",
        "\n",
        "  # parameterized constructor\n",
        "  def __init__(self,x,y):\n",
        "    self.num = x\n",
        "    self.den = y\n",
        "\n",
        "  def __str__(self):\n",
        "    return '{}/{}'.format(self.num,self.den)\n",
        "\n",
        "  def __add__(self,other):\n",
        "    new_num = self.num*other.den + other.num*self.den\n",
        "    new_den = self.den*other.den\n",
        "\n",
        "    return '{}/{}'.format(new_num,new_den)\n",
        "\n",
        "  def __sub__(self,other):\n",
        "    new_num = self.num*other.den - other.num*self.den\n",
        "    new_den = self.den*other.den\n",
        "\n",
        "    return '{}/{}'.format(new_num,new_den)\n",
        "\n",
        "  def __mul__(self,other):\n",
        "    new_num = self.num*other.num\n",
        "    new_den = self.den*other.den\n",
        "\n",
        "    return '{}/{}'.format(new_num,new_den)\n",
        "\n",
        "  def __truediv__(self,other):\n",
        "    new_num = self.num*other.den\n",
        "    new_den = self.den*other.num\n",
        "\n",
        "    return '{}/{}'.format(new_num,new_den)\n",
        "\n",
        "  def convert_to_decimal(self):\n",
        "    return self.num/self.den\n",
        "\n",
        "\n",
        "\n",
        "\n"
      ],
      "metadata": {
        "id": "7ShkwrM0Bu36"
      },
      "execution_count": 16,
      "outputs": []
    },
    {
      "cell_type": "code",
      "source": [
        "fr1 = Fraction(3,4)\n",
        "fr2 = Fraction(1,2)"
      ],
      "metadata": {
        "id": "bQAIh_ULBu6i"
      },
      "execution_count": 17,
      "outputs": []
    },
    {
      "cell_type": "code",
      "source": [
        "fr1.convert_to_decimal()\n",
        "# 3/4"
      ],
      "metadata": {
        "colab": {
          "base_uri": "https://localhost:8080/"
        },
        "id": "MS6nRU-JBu9T",
        "outputId": "36f68a4a-7fe2-462f-8267-d918bf5787fc"
      },
      "execution_count": 18,
      "outputs": [
        {
          "output_type": "execute_result",
          "data": {
            "text/plain": [
              "0.75"
            ]
          },
          "metadata": {},
          "execution_count": 18
        }
      ]
    },
    {
      "cell_type": "code",
      "source": [
        "print(fr1 + fr2)\n",
        "print(fr1 - fr2)\n",
        "print(fr1 * fr2)\n",
        "print(fr1 / fr2)"
      ],
      "metadata": {
        "colab": {
          "base_uri": "https://localhost:8080/"
        },
        "id": "gwSNthGWBvAE",
        "outputId": "b70c07ba-4947-4231-efac-89bf0be08fca"
      },
      "execution_count": 19,
      "outputs": [
        {
          "output_type": "stream",
          "name": "stdout",
          "text": [
            "10/8\n",
            "2/8\n",
            "3/8\n",
            "6/4\n"
          ]
        }
      ]
    },
    {
      "cell_type": "code",
      "source": [
        "s1={1,2,3}\n",
        "s2={3,4,5}\n",
        "\n",
        "s1 + s2"
      ],
      "metadata": {
        "colab": {
          "base_uri": "https://localhost:8080/",
          "height": 176
        },
        "id": "Osjt1HyDBvC2",
        "outputId": "76564ada-8173-4b9a-853b-3f0e622c71e1"
      },
      "execution_count": 20,
      "outputs": [
        {
          "output_type": "error",
          "ename": "TypeError",
          "evalue": "unsupported operand type(s) for +: 'set' and 'set'",
          "traceback": [
            "\u001b[0;31m---------------------------------------------------------------------------\u001b[0m",
            "\u001b[0;31mTypeError\u001b[0m                                 Traceback (most recent call last)",
            "\u001b[0;32m<ipython-input-20-3a417afc75fb>\u001b[0m in \u001b[0;36m<cell line: 0>\u001b[0;34m()\u001b[0m\n\u001b[1;32m      2\u001b[0m \u001b[0ms2\u001b[0m\u001b[0;34m=\u001b[0m\u001b[0;34m{\u001b[0m\u001b[0;36m3\u001b[0m\u001b[0;34m,\u001b[0m\u001b[0;36m4\u001b[0m\u001b[0;34m,\u001b[0m\u001b[0;36m5\u001b[0m\u001b[0;34m}\u001b[0m\u001b[0;34m\u001b[0m\u001b[0;34m\u001b[0m\u001b[0m\n\u001b[1;32m      3\u001b[0m \u001b[0;34m\u001b[0m\u001b[0m\n\u001b[0;32m----> 4\u001b[0;31m \u001b[0ms1\u001b[0m \u001b[0;34m+\u001b[0m \u001b[0ms2\u001b[0m\u001b[0;34m\u001b[0m\u001b[0;34m\u001b[0m\u001b[0m\n\u001b[0m",
            "\u001b[0;31mTypeError\u001b[0m: unsupported operand type(s) for +: 'set' and 'set'"
          ]
        }
      ]
    },
    {
      "cell_type": "code",
      "source": [
        "print(fr1 - fr2)"
      ],
      "metadata": {
        "colab": {
          "base_uri": "https://localhost:8080/"
        },
        "id": "RsZLKlVyBvFt",
        "outputId": "d727c307-f1ac-42a4-a03d-1e2a44a76cde"
      },
      "execution_count": 21,
      "outputs": [
        {
          "output_type": "stream",
          "name": "stdout",
          "text": [
            "2/8\n"
          ]
        }
      ]
    },
    {
      "cell_type": "code",
      "source": [],
      "metadata": {
        "id": "MhIKlOSzBvIT"
      },
      "execution_count": null,
      "outputs": []
    },
    {
      "cell_type": "code",
      "source": [],
      "metadata": {
        "id": "gWyJ6fsqBvLU"
      },
      "execution_count": null,
      "outputs": []
    },
    {
      "cell_type": "code",
      "source": [],
      "metadata": {
        "id": "9mS37emeBvOG"
      },
      "execution_count": null,
      "outputs": []
    }
  ]
}